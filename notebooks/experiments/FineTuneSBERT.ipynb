{
 "cells": [
  {
   "cell_type": "code",
   "execution_count": 5,
   "metadata": {},
   "outputs": [
    {
     "name": "stderr",
     "output_type": "stream",
     "text": [
      "/Users/tomasztkaczyk/Desktop/axel/ci-topic-thunder/code/utils.py:62: DeprecationWarning: invalid escape sequence \\]\n",
      "  news = re.sub('[%s]' % re.escape(\"\"\"!\"#$%&'()*+,-./:;<=>?@[\\]^_`{|}~\"\"\"), '', news)\n",
      "/Users/tomasztkaczyk/Desktop/axel/ci-topic-thunder/code/utils.py:64: DeprecationWarning: invalid escape sequence \\d\n",
      "  news = re.sub(\"^\\d+\\s|\\s\\d+\\s|\\s\\d+$\", \" \", news)\n",
      "/Users/tomasztkaczyk/Desktop/axel/ci-topic-thunder/code/utils.py:65: DeprecationWarning: invalid escape sequence \\S\n",
      "  news = re.sub('http\\S+\\s*', '', news)  # remove URLs\n",
      "/Users/tomasztkaczyk/Desktop/axel/ci-topic-thunder/code/utils.py:83: DeprecationWarning: invalid escape sequence \\]\n",
      "  news = re.sub('[{}]'.format(re.escape(\"\"\"▶︎►…!\"#$%&'(!)*+,/:;<=>?@[\\]^_`‚‘{|}~\"\"\")), '', news)\n",
      "/Users/tomasztkaczyk/Desktop/axel/ci-topic-thunder/code/utils.py:84: DeprecationWarning: invalid escape sequence \\d\n",
      "  news = re.sub(\"\\d.\",\"\",news)\n",
      "/Users/tomasztkaczyk/Desktop/axel/ci-topic-thunder/code/utils.py:91: DeprecationWarning: invalid escape sequence \\s\n",
      "  news = re.sub(\"\\s–\\s\",\" \",news)\n",
      "/Users/tomasztkaczyk/Desktop/axel/ci-topic-thunder/code/utils.py:92: DeprecationWarning: invalid escape sequence \\d\n",
      "  news = re.sub(\"\\d\",\"\",news)\n",
      "/Users/tomasztkaczyk/Desktop/axel/ci-topic-thunder/code/utils.py:93: DeprecationWarning: invalid escape sequence \\.\n",
      "  news = re.sub(\"\\.\\.\\.\",\".\",news)\n",
      "/Users/tomasztkaczyk/Desktop/axel/ci-topic-thunder/code/utils.py:94: DeprecationWarning: invalid escape sequence \\s\n",
      "  news = re.sub(\"(?:\\s+)(-)\",\"\",news)#nextline moving\n",
      "/Users/tomasztkaczyk/Desktop/axel/ci-topic-thunder/code/utils.py:96: DeprecationWarning: invalid escape sequence \\s\n",
      "  news = re.sub(\"\\s([A-Za-z])?\\.\",\"\",news)\n",
      "/Users/tomasztkaczyk/Desktop/axel/ci-topic-thunder/code/utils.py:98: DeprecationWarning: invalid escape sequence \\S\n",
      "  news = re.sub('http\\S+\\s*', '', news)  # remove URLs\n"
     ]
    },
    {
     "name": "stdout",
     "output_type": "stream",
     "text": [
      "Number of stopwords 607\n"
     ]
    },
    {
     "data": {
      "text/plain": [
       "(99, 8)"
      ]
     },
     "execution_count": 5,
     "metadata": {},
     "output_type": "execute_result"
    }
   ],
   "source": [
    "import os,sys,mlflow\n",
    "sys.path.append(os.path.abspath(\"..\"))\n",
    "\n",
    "from sentence_transformers import SentenceTransformer, SentencesDataset, InputExample,models,losses\n",
    "from sentence_transformers.evaluation import EmbeddingSimilarityEvaluator,BinaryClassificationEvaluator\n",
    "from sentence_transformers.readers import STSBenchmarkDataReader\n",
    "\n",
    "from sklearn.model_selection import train_test_split\n",
    "\n",
    "from  mlflow.tracking import MlflowClient\n",
    "from torch.utils.data import DataLoader\n",
    "from modules import utils\n",
    "import torch\n",
    "import torch.nn as nn\n",
    "from torch.autograd import Variable\n",
    "\n",
    "import torch,re,time,math,logging,os,mlflow\n",
    "import pandas as pd\n",
    "import numpy as np\n",
    "\n",
    "#logger = utils.init_logger(__name__) # setup logger\n",
    "\n",
    "%reload_ext utils\n",
    "\n",
    "TOP_N = 12000\n",
    "TRAIN_N = 100\n",
    "\n",
    "\n",
    "df = utils.load_text_data().head(TRAIN_N).drop_duplicates(subset=[\"text\"])\n",
    "df.shape"
   ]
  },
  {
   "cell_type": "code",
   "execution_count": null,
   "metadata": {},
   "outputs": [],
   "source": []
  },
  {
   "cell_type": "code",
   "execution_count": 6,
   "metadata": {},
   "outputs": [
    {
     "name": "stdout",
     "output_type": "stream",
     "text": [
      "INFO: 'Fine Tuning SBERT - 15.10' does not exist. Creating a new experiment\n"
     ]
    }
   ],
   "source": [
    "\n",
    "\n",
    "remote_server=\"http://ec2-18-192-179-113.eu-central-1.compute.amazonaws.com\"\n",
    "os.environ[\"MLFLOW_S3_ENDPOINT_URL\"]=\"http://s3.eu-central-1.amazonaws.com\"\n",
    "mlflow.set_experiment(\"Fine Tuning SBERT - 15.10\")\n"
   ]
  },
  {
   "cell_type": "markdown",
   "metadata": {},
   "source": [
    "### Load data and prepapre the input for the model"
   ]
  },
  {
   "cell_type": "code",
   "execution_count": 7,
   "metadata": {},
   "outputs": [],
   "source": [
    "headlines=utils.preprocess_text(df,col=\"headline\")\n",
    "seo_titles=utils.preprocess_text(df,col=\"seo_title\")\n",
    "\n",
    "pairs = [[a,b] for (a,b) in zip(headlines,seo_titles) if len(a)>3 and len(b)> 3 ]\n",
    "\n",
    "headlines_train, headlines_test, seo_titles_train, seo_titles_test \\\n",
    "    = train_test_split(np.array(pairs)[:,0], np.array(pairs)[:,1], test_size=0.2, random_state=1)"
   ]
  },
  {
   "cell_type": "code",
   "execution_count": 13,
   "metadata": {},
   "outputs": [],
   "source": [
    "def train_config(examples_a,examples_b, model, batch_size):\n",
    "    '''train dataloader and model.'''\n",
    "    print(f\"Read  train dataset\")\n",
    "    train_examples = [InputExample(texts=[a,b],label=float(1)) for (a,b) in zip(examples_a,examples_b)]\n",
    "\n",
    "    train_data = SentencesDataset(train_examples, model)\n",
    "    train_dataloader = DataLoader(train_data, shuffle=True, batch_size=batch_size)\n",
    "    train_loss = losses.CosineSimilarityLoss(model=model)\n",
    "    train_evaluator =  BinaryClassificationEvaluator.from_input_examples(train_examples)\n",
    "    return train_data, train_loss, train_dataloader, train_evaluator\n",
    "\n",
    "def dev_config(examples_a,examples_b, model, batch_size):\n",
    "    '''dev dataloader and model'''\n",
    "    print(f\"Read dev dataset\")\n",
    "    dev_examples = [InputExample(texts=[a,b],label=1) for (a,b) in zip(examples_a,examples_b)]\n",
    "\n",
    "    dev_data = SentencesDataset(dev_examples, model=model)\n",
    "    dev_dataloader = DataLoader(dev_data, shuffle=False, batch_size=batch_size)\n",
    "    dev_loss = losses.CosineSimilarityLoss(model=model)\n",
    "    dev_evaluator = BinaryClassificationEvaluator.from_input_examples(dev_examples)\n",
    "    return dev_loss, dev_dataloader, dev_evaluator"
   ]
  },
  {
   "cell_type": "markdown",
   "metadata": {},
   "source": [
    "# Initialize model"
   ]
  },
  {
   "cell_type": "code",
   "execution_count": 14,
   "metadata": {},
   "outputs": [],
   "source": [
    "# load BERT model from Hugging Face\n",
    "word_embedding_model = models.Transformer(\n",
    "    'T-Systems-onsite/bert-german-dbmdz-uncased-sentence-stsb')\n",
    "\n",
    "# Apply mean pooling to get one fixed sized sentence vector\n",
    "pooling_model = models.Pooling(word_embedding_model.get_word_embedding_dimension(),\n",
    "                               pooling_mode_mean_tokens=True)\n",
    "\n",
    "model = SentenceTransformer(modules=[word_embedding_model, pooling_model])"
   ]
  },
  {
   "cell_type": "code",
   "execution_count": 15,
   "metadata": {},
   "outputs": [
    {
     "name": "stdout",
     "output_type": "stream",
     "text": [
      "Read  train dataset\n",
      "Read dev dataset\n"
     ]
    }
   ],
   "source": [
    "batch_size =32\n",
    "\n",
    "\n",
    "train_data, train_loss, train_dataloader, train_evaluator = train_config(headlines_train,seo_titles_train,model,batch_size)\n",
    "dev_loss, dev_dataloader, dev_evaluator = dev_config(headlines_test,seo_titles_test,model,batch_size)"
   ]
  },
  {
   "cell_type": "code",
   "execution_count": 16,
   "metadata": {},
   "outputs": [
    {
     "data": {
      "application/vnd.jupyter.widget-view+json": {
       "model_id": "5d9e4da36d3f4d338e20fd5350cbe545",
       "version_major": 2,
       "version_minor": 0
      },
      "text/plain": [
       "HBox(children=(FloatProgress(value=0.0, description='Epoch', max=4.0, style=ProgressStyle(description_width='i…"
      ]
     },
     "metadata": {},
     "output_type": "display_data"
    },
    {
     "data": {
      "application/vnd.jupyter.widget-view+json": {
       "model_id": "83e940ad9b0d47c99e8b479010bfc82a",
       "version_major": 2,
       "version_minor": 0
      },
      "text/plain": [
       "HBox(children=(FloatProgress(value=0.0, description='Iteration', max=3.0, style=ProgressStyle(description_widt…"
      ]
     },
     "metadata": {},
     "output_type": "display_data"
    },
    {
     "name": "stdout",
     "output_type": "stream",
     "text": [
      "\n"
     ]
    },
    {
     "data": {
      "application/vnd.jupyter.widget-view+json": {
       "model_id": "7d363cf7a2674f0793fd7d2e5b2e1da4",
       "version_major": 2,
       "version_minor": 0
      },
      "text/plain": [
       "HBox(children=(FloatProgress(value=0.0, description='Iteration', max=3.0, style=ProgressStyle(description_widt…"
      ]
     },
     "metadata": {},
     "output_type": "display_data"
    },
    {
     "name": "stderr",
     "output_type": "stream",
     "text": [
      "/Users/tomasztkaczyk/opt/anaconda3/envs/py38/lib/python3.8/site-packages/torch/cuda/amp/autocast_mode.py:114: UserWarning: torch.cuda.amp.autocast only affects CUDA ops, but CUDA is not available.  Disabling.\n",
      "  warnings.warn(\"torch.cuda.amp.autocast only affects CUDA ops, but CUDA is not available.  Disabling.\")\n"
     ]
    },
    {
     "name": "stdout",
     "output_type": "stream",
     "text": [
      "\n"
     ]
    },
    {
     "data": {
      "application/vnd.jupyter.widget-view+json": {
       "model_id": "79473a1b959444269b2462b31e1c2ea2",
       "version_major": 2,
       "version_minor": 0
      },
      "text/plain": [
       "HBox(children=(FloatProgress(value=0.0, description='Iteration', max=3.0, style=ProgressStyle(description_widt…"
      ]
     },
     "metadata": {},
     "output_type": "display_data"
    },
    {
     "name": "stderr",
     "output_type": "stream",
     "text": [
      "/Users/tomasztkaczyk/opt/anaconda3/envs/py38/lib/python3.8/site-packages/torch/cuda/amp/autocast_mode.py:114: UserWarning: torch.cuda.amp.autocast only affects CUDA ops, but CUDA is not available.  Disabling.\n",
      "  warnings.warn(\"torch.cuda.amp.autocast only affects CUDA ops, but CUDA is not available.  Disabling.\")\n"
     ]
    },
    {
     "name": "stdout",
     "output_type": "stream",
     "text": [
      "\n"
     ]
    },
    {
     "data": {
      "application/vnd.jupyter.widget-view+json": {
       "model_id": "5df29483a76f4ce09a5c7952928e11e6",
       "version_major": 2,
       "version_minor": 0
      },
      "text/plain": [
       "HBox(children=(FloatProgress(value=0.0, description='Iteration', max=3.0, style=ProgressStyle(description_widt…"
      ]
     },
     "metadata": {},
     "output_type": "display_data"
    },
    {
     "name": "stderr",
     "output_type": "stream",
     "text": [
      "/Users/tomasztkaczyk/opt/anaconda3/envs/py38/lib/python3.8/site-packages/torch/cuda/amp/autocast_mode.py:114: UserWarning: torch.cuda.amp.autocast only affects CUDA ops, but CUDA is not available.  Disabling.\n",
      "  warnings.warn(\"torch.cuda.amp.autocast only affects CUDA ops, but CUDA is not available.  Disabling.\")\n"
     ]
    },
    {
     "name": "stdout",
     "output_type": "stream",
     "text": [
      "\n",
      "\n"
     ]
    }
   ],
   "source": [
    "num_epochs=4\n",
    "warmup_steps = math.ceil(len(headlines_train) * num_epochs / batch_size * 0.1) #10% of train data for warm-up\n",
    "\n",
    "model.fit(train_objectives=[(train_dataloader, train_loss)],\n",
    "            evaluator=train_evaluator,\n",
    "          epochs=num_epochs,use_amp=True,\n",
    "          evaluation_steps=100,\n",
    "          warmup_steps=warmup_steps,\n",
    "          output_path=\"./_fine-tune-bert-german-dbmdz-uncased-sentence-BILD-100k\",\n",
    "         #callback= callback_fn \n",
    "         )\n",
    "\n",
    "with mlflow.start_run():\n",
    "    mlflow.log_param(\"num_epochs\",num_epochs)\n",
    "    mlflow.log_param(\"warmup_steps\",warmup_steps)\n",
    "    mlflow.log_param(\"batch_size\",warmup_steps)\n",
    "    mlflow.log_param(\"train_size\",len(headlines_train))\n",
    "    mlflow.log_param(\"eval_size\",len(headlines_test))\n",
    "    \n",
    "    def callback_fn(s,epoch,steps):\n",
    "        print(\"callback\")\n",
    "        mlflow.log_metric(\"score\",s,steps)\n",
    "        mlflow.log_metric(\"score_epoch\",s,epoch)\n",
    "        \n",
    "\n",
    "    "
   ]
  },
  {
   "cell_type": "code",
   "execution_count": 13,
   "metadata": {},
   "outputs": [
    {
     "data": {
      "text/plain": [
       "<torch.utils.data.dataloader.DataLoader at 0x7ff5cc1827b8>"
      ]
     },
     "execution_count": 13,
     "metadata": {},
     "output_type": "execute_result"
    }
   ],
   "source": []
  },
  {
   "cell_type": "code",
   "execution_count": null,
   "metadata": {},
   "outputs": [],
   "source": []
  }
 ],
 "metadata": {
  "kernelspec": {
   "display_name": "3.7",
   "language": "python",
   "name": "py37"
  },
  "language_info": {
   "codemirror_mode": {
    "name": "ipython",
    "version": 3
   },
   "file_extension": ".py",
   "mimetype": "text/x-python",
   "name": "python",
   "nbconvert_exporter": "python",
   "pygments_lexer": "ipython3",
   "version": "3.7.7"
  },
  "pycharm": {
   "stem_cell": {
    "cell_type": "raw",
    "metadata": {
     "collapsed": false
    },
    "source": []
   }
  }
 },
 "nbformat": 4,
 "nbformat_minor": 4
}
