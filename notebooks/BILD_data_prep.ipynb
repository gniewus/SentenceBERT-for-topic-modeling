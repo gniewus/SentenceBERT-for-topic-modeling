{
 "cells": [
  {
   "cell_type": "code",
   "execution_count": 11,
   "metadata": {},
   "outputs": [
    {
     "name": "stderr",
     "output_type": "stream",
     "text": [
      "/Users/ttkaczyk/opt/anaconda3/envs/py37/lib/python3.7/site-packages/sklearn/feature_extraction/image.py:172: DeprecationWarning: `np.int` is a deprecated alias for the builtin `int`. To silence this warning, use `int` by itself. Doing this will not modify any behavior and is safe. When replacing `np.int`, you may wish to use e.g. `np.int64` or `np.int32` to specify the precision. If you wish to review your current use, check the release note link for additional information.\n",
      "Deprecated in NumPy 1.20; for more details and guidance: https://numpy.org/devdocs/release/1.20.0-notes.html#deprecations\n",
      "  dtype=np.int):\n",
      "/Users/ttkaczyk/opt/anaconda3/envs/py37/lib/python3.7/site-packages/sklearn/linear_model/_least_angle.py:34: DeprecationWarning: `np.float` is a deprecated alias for the builtin `float`. To silence this warning, use `float` by itself. Doing this will not modify any behavior and is safe. If you specifically wanted the numpy scalar type, use `np.float64` here.\n",
      "Deprecated in NumPy 1.20; for more details and guidance: https://numpy.org/devdocs/release/1.20.0-notes.html#deprecations\n",
      "  method='lar', copy_X=True, eps=np.finfo(np.float).eps,\n",
      "/Users/ttkaczyk/opt/anaconda3/envs/py37/lib/python3.7/site-packages/sklearn/decomposition/_lda.py:28: DeprecationWarning: `np.float` is a deprecated alias for the builtin `float`. To silence this warning, use `float` by itself. Doing this will not modify any behavior and is safe. If you specifically wanted the numpy scalar type, use `np.float64` here.\n",
      "Deprecated in NumPy 1.20; for more details and guidance: https://numpy.org/devdocs/release/1.20.0-notes.html#deprecations\n",
      "  EPS = np.finfo(np.float).eps\n",
      "/Users/ttkaczyk/opt/anaconda3/envs/py37/lib/python3.7/site-packages/numba/core/types/__init__.py:108: DeprecationWarning: `np.long` is a deprecated alias for `np.compat.long`. To silence this warning, use `np.compat.long` by itself. In the likely event your code does not need to work on Python 2 you can use the builtin `int` for which `np.compat.long` is itself an alias. Doing this will not modify any behaviour and is safe. When replacing `np.long`, you may wish to use e.g. `np.int64` or `np.int32` to specify the precision. If you wish to review your current use, check the release note link for additional information.\n",
      "Deprecated in NumPy 1.20; for more details and guidance: https://numpy.org/devdocs/release/1.20.0-notes.html#deprecations\n",
      "  long_ = _make_signed(np.long)\n"
     ]
    },
    {
     "name": "stdout",
     "output_type": "stream",
     "text": [
      "Number of stopwords 607\n"
     ]
    }
   ],
   "source": [
    "import pandas as pd \n",
    "import nltk,re,time,umap,collections,os,string,sys,mlflow,glob\n",
    "sys.path.append(os.path.abspath(\"..\"))\n",
    "from modules import utils,modeling\n",
    "\n",
    "from sentence_transformers import SentenceTransformer,util\n",
    "import plotly.express as px\n",
    "import pandas as pd\n",
    "from ipywidgets import interact, interactive, fixed, interact_manual\n",
    "\n",
    "from sklearn.metrics.pairwise import cosine_distances\n",
    "\n",
    "from sklearn.metrics import completeness_score,homogeneity_score, v_measure_score,normalized_mutual_info_score,adjusted_mutual_info_score,silhouette_score\n",
    "from sklearn.feature_extraction.text import CountVectorizer\n",
    "import numpy as np\n",
    "from summa.summarizer import summarize\n",
    "from summa.keywords import keywords\n",
    "from hdbscan import HDBSCAN\n",
    "from sentence_transformers import models\n",
    "from sklearn.preprocessing import normalize\n",
    "from torch import nn\n",
    "import mlflow.sklearn\n",
    "from  mlflow.tracking import MlflowClient\n",
    "from sklearn.preprocessing import StandardScaler\n",
    "import seaborn as sns\n",
    "import matplotlib.pyplot as plt\n",
    "import ipywidgets as widgets\n",
    "from ipywidgets import interact\n",
    "from textwrap import wrap\n",
    "stopwords = utils.load_stopwords()\n",
    "\n",
    "\n",
    "remote_server=\"http://ec2-18-193-70-141.eu-central-1.compute.amazonaws.com\"\n",
    "client = MlflowClient(remote_server)\n",
    "mlflow.set_tracking_uri(remote_server)\n",
    "\n",
    "\n",
    "%matplotlib inline\n",
    "%load_ext autoreload\n",
    "%autoreload 2\n",
    "\n",
    "%reload_ext utils\n",
    "%reload_ext modeling\n",
    "os.environ[\"MLFLOW_S3_ENDPOINT_URL\"]=\"http://s3.eu-central-1.amazonaws.com\"\n",
    "os.environ[\"MLFLOW_TRACKING_USERNAME\"]=\"mlflow\"\n",
    "os.environ[\"MLFLOW_TRACKING_PASSWORD\"]=\"mlflow\""
   ]
  },
  {
   "cell_type": "code",
   "execution_count": 12,
   "metadata": {},
   "outputs": [
    {
     "name": "stderr",
     "output_type": "stream",
     "text": [
      "Skipping line 11: field larger than field limit (131072)\n",
      "Skipping line 51: field larger than field limit (131072)\n",
      "Skipping line 152: field larger than field limit (131072)\n",
      "Skipping line 2166: field larger than field limit (131072)\n",
      "Skipping line 3135: field larger than field limit (131072)\n",
      "Skipping line 4783: field larger than field limit (131072)\n",
      "Skipping line 5784: field larger than field limit (131072)\n",
      "Skipping line 7560: field larger than field limit (131072)\n",
      "Skipping line 9623: field larger than field limit (131072)\n",
      "Skipping line 11467: field larger than field limit (131072)\n",
      "Skipping line 13015: field larger than field limit (131072)\n",
      "Skipping line 13508: field larger than field limit (131072)\n",
      "Skipping line 13973: field larger than field limit (131072)\n",
      "Skipping line 14316: field larger than field limit (131072)\n",
      "Skipping line 14796: field larger than field limit (131072)\n",
      "Skipping line 15211: field larger than field limit (131072)\n",
      "Skipping line 16213: field larger than field limit (131072)\n",
      "Skipping line 16516: field larger than field limit (131072)\n",
      "Skipping line 20560: field larger than field limit (131072)\n",
      "Skipping line 23689: field larger than field limit (131072)\n",
      "Skipping line 27297: field larger than field limit (131072)\n"
     ]
    }
   ],
   "source": [
    "d=pd.read_csv('~/Desktop/input_bild_OCT_DEC_SAFE.csv',engine='python',sep=';',error_bad_lines=False)"
   ]
  },
  {
   "cell_type": "code",
   "execution_count": 13,
   "metadata": {},
   "outputs": [],
   "source": [
    "d.created_at =pd.to_datetime(d.created_at)"
   ]
  },
  {
   "cell_type": "code",
   "execution_count": 14,
   "metadata": {},
   "outputs": [
    {
     "data": {
      "text/plain": [
       "(Timestamp('2020-07-01 00:01:08'), Timestamp('2020-12-31 21:54:16'))"
      ]
     },
     "execution_count": 14,
     "metadata": {},
     "output_type": "execute_result"
    }
   ],
   "source": [
    "d.created_at.min(),d.created_at.max()"
   ]
  },
  {
   "cell_type": "code",
   "execution_count": 15,
   "metadata": {},
   "outputs": [
    {
     "data": {
      "text/plain": [
       "(32882, 9)"
      ]
     },
     "execution_count": 15,
     "metadata": {},
     "output_type": "execute_result"
    }
   ],
   "source": [
    "d = d.set_index('article_uid')\n",
    "d.shape"
   ]
  },
  {
   "cell_type": "code",
   "execution_count": 16,
   "metadata": {},
   "outputs": [
    {
     "data": {
      "text/plain": [
       "(32814, 9)"
      ]
     },
     "execution_count": 16,
     "metadata": {},
     "output_type": "execute_result"
    }
   ],
   "source": [
    "d =d.drop_duplicates(subset=['cms_id'])\n",
    "d.shape"
   ]
  },
  {
   "cell_type": "code",
   "execution_count": 17,
   "metadata": {},
   "outputs": [
    {
     "data": {
      "text/plain": [
       "(25414, 9)"
      ]
     },
     "execution_count": 17,
     "metadata": {},
     "output_type": "execute_result"
    }
   ],
   "source": [
    "d = d[(d.department != 'ratgeber') & (d.created_at > '2020-08-01')]\n",
    "d.shape"
   ]
  },
  {
   "cell_type": "code",
   "execution_count": 56,
   "metadata": {},
   "outputs": [
    {
     "data": {
      "text/plain": [
       "<AxesSubplot:>"
      ]
     },
     "execution_count": 56,
     "metadata": {},
     "output_type": "execute_result"
    },
    {
     "data": {
      "image/png": "[encoded data removed]",
      "text/plain": [
       "<Figure size 864x432 with 1 Axes>"
      ]
     },
     "metadata": {
      "needs_background": "light"
     },
     "output_type": "display_data"
    }
   ],
   "source": [
    "d.department.hist(figsize=(12,6),xrot=60,legend=True)"
   ]
  },
  {
   "cell_type": "code",
   "execution_count": 79,
   "metadata": {},
   "outputs": [
    {
     "data": {
      "image/png": "[encoded data removed]",
      "text/plain": [
       "<Figure size 864x432 with 1 Axes>"
      ]
     },
     "metadata": {
      "needs_background": "light"
     },
     "output_type": "display_data"
    }
   ],
   "source": [
    "ax= d.groupby('department')[\"text\"].count().sort_values().plot(kind='bar',figsize=(12,6),legend=True,grid=True).set_yscale('linear')"
   ]
  },
  {
   "cell_type": "code",
   "execution_count": 1,
   "metadata": {},
   "outputs": [
    {
     "name": "stderr",
     "output_type": "stream",
     "text": [
      "Downloading: 100%|██████████| 391/391 [00:00<00:00, 72.9kB/s]\n",
      "Downloading: 100%|██████████| 1.10k/1.10k [00:00<00:00, 493kB/s]\n",
      "Downloading: 100%|██████████| 7.88k/7.88k [00:00<00:00, 3.01MB/s]\n",
      "Downloading: 100%|██████████| 541/541 [00:00<00:00, 177kB/s]\n",
      "Downloading: 100%|██████████| 1.11G/1.11G [06:01<00:00, 3.08MB/s]  \n",
      "Downloading: 100%|██████████| 27.0/27.0 [00:00<00:00, 12.7kB/s]\n",
      "Downloading: 100%|██████████| 5.07M/5.07M [00:07<00:00, 723kB/s] \n",
      "Downloading: 100%|██████████| 150/150 [00:00<00:00, 68.7kB/s]\n",
      "Downloading: 100%|██████████| 188/188 [00:00<00:00, 104kB/s]\n",
      "WARNING:root:No sentence-transformers model found with name /Users/tomasztkaczyk/.cache/torch/sentence_transformers/T-Systems-onsite_cross-en-de-roberta-sentence-transformer. Creating a new one with MEAN pooling.\n"
     ]
    },
    {
     "data": {
      "text/plain": [
       "['▁Ich', '▁bin', '▁Tom', 'ek']"
      ]
     },
     "execution_count": 1,
     "metadata": {},
     "output_type": "execute_result"
    }
   ],
   "source": [
    "from sentence_transformers import SentenceTransformer\n",
    "from nltk import word_tokenize,sent_tokenize\n",
    "\n",
    "model = SentenceTransformer('T-Systems-onsite/cross-en-de-roberta-sentence-transformer')\n",
    "model.tokenizer.tokenize(\"Ich bin Tomek\")"
   ]
  },
  {
   "cell_type": "code",
   "execution_count": 26,
   "metadata": {},
   "outputs": [],
   "source": [
    "w=d.text.apply(lambda x: len(word_tokenize(x))).describe()\n",
    "sen=d.text.apply(lambda x: len(sent_tokenize(x))).describe()\n",
    "s=d.text.apply(lambda x: len(model.tokenizer.tokenize(x))).describe()\n",
    "## Merge and change columns\n",
    "ditr = pd.concat([s,sen,w],axis=1).drop(\"count\")\n",
    "ditr.columns= [\"#Tokens\",\"#Sentences\",\"#Words\"]\n",
    "\n",
    "#Print table"
   ]
  },
  {
   "cell_type": "code",
   "execution_count": 146,
   "metadata": {},
   "outputs": [
    {
     "data": {
      "image/png": "[encoded data removed]",
      "text/plain": [
       "<Figure size 720x288 with 1 Axes>"
      ]
     },
     "metadata": {
      "needs_background": "light"
     },
     "output_type": "display_data"
    }
   ],
   "source": [
    "d['date']=d.created_at.dt.date\n",
    "\n",
    "ax=d[[\"cms_id\",\"date\"]].groupby(\"date\").count().plot(figsize=(10,4),legend=False)\n",
    "\n",
    "ax.hlines(d[[\"cms_id\",\"date\"]].groupby(\"date\").count().values.reshape(1,-1).mean(), d.date.min(), d.date.max(), linestyles='dashed',color='grey',label=\"Mean\")\n",
    "plt.show()"
   ]
  },
  {
   "cell_type": "code",
   "execution_count": 145,
   "metadata": {},
   "outputs": [
    {
     "data": {
      "text/html": [
       "<div>\n",
       "<style scoped>\n",
       "    .dataframe tbody tr th:only-of-type {\n",
       "        vertical-align: middle;\n",
       "    }\n",
       "\n",
       "    .dataframe tbody tr th {\n",
       "        vertical-align: top;\n",
       "    }\n",
       "\n",
       "    .dataframe thead th {\n",
       "        text-align: right;\n",
       "    }\n",
       "</style>\n",
       "<table border=\"1\" class=\"dataframe\">\n",
       "  <thead>\n",
       "    <tr style=\"text-align: right;\">\n",
       "      <th></th>\n",
       "      <th>cms_id</th>\n",
       "      <th>text</th>\n",
       "      <th>headline</th>\n",
       "      <th>seo_title</th>\n",
       "      <th>created_at</th>\n",
       "      <th>kicker_headline_NER</th>\n",
       "      <th>seo_title_NER</th>\n",
       "      <th>text_NER</th>\n",
       "      <th>department</th>\n",
       "      <th>date</th>\n",
       "    </tr>\n",
       "    <tr>\n",
       "      <th>article_uid</th>\n",
       "      <th></th>\n",
       "      <th></th>\n",
       "      <th></th>\n",
       "      <th></th>\n",
       "      <th></th>\n",
       "      <th></th>\n",
       "      <th></th>\n",
       "      <th></th>\n",
       "      <th></th>\n",
       "      <th></th>\n",
       "    </tr>\n",
       "  </thead>\n",
       "  <tbody>\n",
       "    <tr>\n",
       "      <th>de85c32c6a967eefb65f8227e327e483ae5e67e5108316e4b4e091114df7e7ae</th>\n",
       "      <td>74696338</td>\n",
       "      <td>Er predigte Wasser und trank Wein – jetzt ist ...</td>\n",
       "      <td>Kanada-Minister stolpert über dreistes Fake-Foto</td>\n",
       "      <td>Kanada: Politiker urlaubt in der Karibik – und...</td>\n",
       "      <td>2020-12-31 21:54:16</td>\n",
       "      <td>[{\"entities\":[{\"mentions\":[{\"text\":{\"content\":...</td>\n",
       "      <td>[{\"entities\":[{\"mentions\":[{\"text\":{\"content\":...</td>\n",
       "      <td>[{\"entities\":[{\"mentions\":[{\"text\":{\"content\":...</td>\n",
       "      <td>politik</td>\n",
       "      <td>2020-12-31</td>\n",
       "    </tr>\n",
       "    <tr>\n",
       "      <th>907f599c809035ae95bdcfa112fc9dd1e3ddd4abafcb7c731a0823d0460b7ae5</th>\n",
       "      <td>74635114</td>\n",
       "      <td>Ein neues Jahr steht vor der Tür und damit auc...</td>\n",
       "      <td>Die besten Sex-Vorsätze fürs neue Jahr</td>\n",
       "      <td>Mehr, länger, besser!: Die besten Sex-Vorsätze...</td>\n",
       "      <td>2020-12-31 21:40:16</td>\n",
       "      <td>[{\"entities\":[{\"mentions\":[{\"text\":{\"content\":...</td>\n",
       "      <td>[{\"entities\":[{\"mentions\":[{\"text\":{\"content\":...</td>\n",
       "      <td>[{\"entities\":[{\"mentions\":[{\"text\":{\"content\":...</td>\n",
       "      <td>unterhaltung</td>\n",
       "      <td>2020-12-31</td>\n",
       "    </tr>\n",
       "    <tr>\n",
       "      <th>fb9c6f64e2100f8dea898a1426f67c461bd5b0a78c9eec31d8f51b875e21169c</th>\n",
       "      <td>74693642</td>\n",
       "      <td>Die Vierschanzentournee gehört zu den größten ...</td>\n",
       "      <td>Das verdient man bei der Vierschanzentournee</td>\n",
       "      <td>Vierschanzentournee: Das verdient man beim Ski...</td>\n",
       "      <td>2020-12-31 21:24:15</td>\n",
       "      <td>[{\"entities\":[{\"mentions\":[{\"text\":{\"content\":...</td>\n",
       "      <td>[{\"entities\":[{\"mentions\":[{\"text\":{\"content\":...</td>\n",
       "      <td>[{\"entities\":[{\"mentions\":[{\"text\":{\"content\":...</td>\n",
       "      <td>sport</td>\n",
       "      <td>2020-12-31</td>\n",
       "    </tr>\n",
       "    <tr>\n",
       "      <th>2de14c75f7c8f82b04e507f02bcfdb5ce2f02aa39cc61b72f1d156820055b949</th>\n",
       "      <td>74695088</td>\n",
       "      <td>Zum Abschluss des Jahres liefert die Formel 1 ...</td>\n",
       "      <td>Weniger Trainingfür Mick</td>\n",
       "      <td>Formel 1: Freies Training für Mick Schumacher ...</td>\n",
       "      <td>2020-12-31 21:15:15</td>\n",
       "      <td>[{\"entities\":[{\"mentions\":[{\"text\":{\"content\":...</td>\n",
       "      <td>[{\"entities\":[{\"mentions\":[{\"text\":{\"content\":...</td>\n",
       "      <td>[{\"entities\":[{\"mentions\":[{\"text\":{\"content\":...</td>\n",
       "      <td>sport</td>\n",
       "      <td>2020-12-31</td>\n",
       "    </tr>\n",
       "    <tr>\n",
       "      <th>58a58c173b4b6ec885b1a9baf306dd3a65a278788664f44348689f9a80f0c132</th>\n",
       "      <td>74687684</td>\n",
       "      <td>Miau!? Die hinreißende Stieftochter von Uschi ...</td>\n",
       "      <td>Sophie Hermann erklärtihr Nackt-Posting</td>\n",
       "      <td>Sophie Hermann: Stieftochter von Uschi Glas er...</td>\n",
       "      <td>2020-12-31 20:04:15</td>\n",
       "      <td>[{\"entities\":[{\"mentions\":[{\"text\":{\"content\":...</td>\n",
       "      <td>[{\"entities\":[{\"mentions\":[{\"text\":{\"content\":...</td>\n",
       "      <td>[{\"entities\":[{\"mentions\":[{\"text\":{\"content\":...</td>\n",
       "      <td>unterhaltung</td>\n",
       "      <td>2020-12-31</td>\n",
       "    </tr>\n",
       "    <tr>\n",
       "      <th>...</th>\n",
       "      <td>...</td>\n",
       "      <td>...</td>\n",
       "      <td>...</td>\n",
       "      <td>...</td>\n",
       "      <td>...</td>\n",
       "      <td>...</td>\n",
       "      <td>...</td>\n",
       "      <td>...</td>\n",
       "      <td>...</td>\n",
       "      <td>...</td>\n",
       "    </tr>\n",
       "    <tr>\n",
       "      <th>d3e66eb4ecb1c6484459eda3a22543f9463fe7a758ff0c7a30ffe67bf460062a</th>\n",
       "      <td>72167618</td>\n",
       "      <td>Er tötete drei Menschen, mehr als 260 wurden s...</td>\n",
       "      <td>Todesstrafe für Boston-Bomber aufgehoben</td>\n",
       "      <td>Terroranschlag auf Boston Marathon: Todesurtei...</td>\n",
       "      <td>2020-08-01 07:56:09</td>\n",
       "      <td>[{\"entities\":[{\"mentions\":[{\"text\":{\"content\":...</td>\n",
       "      <td>[{\"entities\":[{\"mentions\":[{\"text\":{\"content\":...</td>\n",
       "      <td>[{\"entities\":[{\"mentions\":[{\"text\":{\"content\":...</td>\n",
       "      <td>news</td>\n",
       "      <td>2020-08-01</td>\n",
       "    </tr>\n",
       "    <tr>\n",
       "      <th>0c6df23deb1483f617ac939a13822ec781d5500f941df71e74e143f0cdd2bd1a</th>\n",
       "      <td>72163508</td>\n",
       "      <td>Der Vertrag mit Ersatz-Torwart Korbinian Mülle...</td>\n",
       "      <td>Smarsch kommt von Hertha</td>\n",
       "      <td>FC St. Pauli: Neuer Torwart - Dennis Smarsch k...</td>\n",
       "      <td>2020-08-01 07:11:08</td>\n",
       "      <td>[{\"entities\":[{\"mentions\":[{\"text\":{\"content\":...</td>\n",
       "      <td>[{\"entities\":[{\"mentions\":[{\"text\":{\"content\":...</td>\n",
       "      <td>[{\"entities\":[{\"mentions\":[{\"text\":{\"content\":...</td>\n",
       "      <td>sport</td>\n",
       "      <td>2020-08-01</td>\n",
       "    </tr>\n",
       "    <tr>\n",
       "      <th>8d4f7fc2aaf62468474546919faeac57215e64608369febae60c7b3db127e4c5</th>\n",
       "      <td>72167556</td>\n",
       "      <td>Neue Kampfansage von Donald Trump an Peking. U...</td>\n",
       "      <td>Trump will heute TikTok in den USA verbieten</td>\n",
       "      <td>Millionen Teenies sauer - Trump will heute Tik...</td>\n",
       "      <td>2020-08-01 06:18:09</td>\n",
       "      <td>[{\"entities\":[{\"mentions\":[{\"text\":{\"content\":...</td>\n",
       "      <td>[{\"entities\":[{\"mentions\":[{\"text\":{\"content\":...</td>\n",
       "      <td>[{\"entities\":[{\"mentions\":[{\"text\":{\"content\":...</td>\n",
       "      <td>politik</td>\n",
       "      <td>2020-08-01</td>\n",
       "    </tr>\n",
       "    <tr>\n",
       "      <th>b50ab27832d2457526c505fe199f7763aba1b175dd5117faf0e994d9a1d282c3</th>\n",
       "      <td>72167472</td>\n",
       "      <td>Die US-Medien geben Donald Trump (74) immer wi...</td>\n",
       "      <td>„Trumps Politik hat Leben gerettet“</td>\n",
       "      <td>Der Lieblings-Virologe der US-Liberalen - „Tru...</td>\n",
       "      <td>2020-08-01 03:34:09</td>\n",
       "      <td>[{\"entities\":[{\"mentions\":[{\"text\":{\"content\":...</td>\n",
       "      <td>[{\"entities\":[{\"mentions\":[{\"text\":{\"content\":...</td>\n",
       "      <td>[{\"entities\":[{\"mentions\":[{\"text\":{\"content\":...</td>\n",
       "      <td>politik</td>\n",
       "      <td>2020-08-01</td>\n",
       "    </tr>\n",
       "    <tr>\n",
       "      <th>c27315d350cb05273186df60324988af12642847a0c72e2e0e6a423305167846</th>\n",
       "      <td>72166712</td>\n",
       "      <td>Thomas Tuchel (46) und Paris St. Germain holte...</td>\n",
       "      <td>Triple-Tuchel feiert Ligapokal-Sieg</td>\n",
       "      <td>6:5 im Finale gegen Lyon  - Triple-Tuchel feie...</td>\n",
       "      <td>2020-08-01 02:12:09</td>\n",
       "      <td>[{\"entities\":[{\"mentions\":[{\"text\":{\"content\":...</td>\n",
       "      <td>[{\"entities\":[{\"mentions\":[{\"text\":{\"content\":...</td>\n",
       "      <td>[{\"entities\":[{\"mentions\":[{\"text\":{\"content\":...</td>\n",
       "      <td>sport</td>\n",
       "      <td>2020-08-01</td>\n",
       "    </tr>\n",
       "  </tbody>\n",
       "</table>\n",
       "<p>25414 rows × 10 columns</p>\n",
       "</div>"
      ],
      "text/plain": [
       "                                                      cms_id  \\\n",
       "article_uid                                                    \n",
       "de85c32c6a967eefb65f8227e327e483ae5e67e5108316e...  74696338   \n",
       "907f599c809035ae95bdcfa112fc9dd1e3ddd4abafcb7c7...  74635114   \n",
       "fb9c6f64e2100f8dea898a1426f67c461bd5b0a78c9eec3...  74693642   \n",
       "2de14c75f7c8f82b04e507f02bcfdb5ce2f02aa39cc61b7...  74695088   \n",
       "58a58c173b4b6ec885b1a9baf306dd3a65a278788664f44...  74687684   \n",
       "...                                                      ...   \n",
       "d3e66eb4ecb1c6484459eda3a22543f9463fe7a758ff0c7...  72167618   \n",
       "0c6df23deb1483f617ac939a13822ec781d5500f941df71...  72163508   \n",
       "8d4f7fc2aaf62468474546919faeac57215e64608369feb...  72167556   \n",
       "b50ab27832d2457526c505fe199f7763aba1b175dd5117f...  72167472   \n",
       "c27315d350cb05273186df60324988af12642847a0c72e2...  72166712   \n",
       "\n",
       "                                                                                                 text  \\\n",
       "article_uid                                                                                             \n",
       "de85c32c6a967eefb65f8227e327e483ae5e67e5108316e...  Er predigte Wasser und trank Wein – jetzt ist ...   \n",
       "907f599c809035ae95bdcfa112fc9dd1e3ddd4abafcb7c7...  Ein neues Jahr steht vor der Tür und damit auc...   \n",
       "fb9c6f64e2100f8dea898a1426f67c461bd5b0a78c9eec3...  Die Vierschanzentournee gehört zu den größten ...   \n",
       "2de14c75f7c8f82b04e507f02bcfdb5ce2f02aa39cc61b7...  Zum Abschluss des Jahres liefert die Formel 1 ...   \n",
       "58a58c173b4b6ec885b1a9baf306dd3a65a278788664f44...  Miau!? Die hinreißende Stieftochter von Uschi ...   \n",
       "...                                                                                               ...   \n",
       "d3e66eb4ecb1c6484459eda3a22543f9463fe7a758ff0c7...  Er tötete drei Menschen, mehr als 260 wurden s...   \n",
       "0c6df23deb1483f617ac939a13822ec781d5500f941df71...  Der Vertrag mit Ersatz-Torwart Korbinian Mülle...   \n",
       "8d4f7fc2aaf62468474546919faeac57215e64608369feb...  Neue Kampfansage von Donald Trump an Peking. U...   \n",
       "b50ab27832d2457526c505fe199f7763aba1b175dd5117f...  Die US-Medien geben Donald Trump (74) immer wi...   \n",
       "c27315d350cb05273186df60324988af12642847a0c72e2...  Thomas Tuchel (46) und Paris St. Germain holte...   \n",
       "\n",
       "                                                                                            headline  \\\n",
       "article_uid                                                                                            \n",
       "de85c32c6a967eefb65f8227e327e483ae5e67e5108316e...  Kanada-Minister stolpert über dreistes Fake-Foto   \n",
       "907f599c809035ae95bdcfa112fc9dd1e3ddd4abafcb7c7...            Die besten Sex-Vorsätze fürs neue Jahr   \n",
       "fb9c6f64e2100f8dea898a1426f67c461bd5b0a78c9eec3...      Das verdient man bei der Vierschanzentournee   \n",
       "2de14c75f7c8f82b04e507f02bcfdb5ce2f02aa39cc61b7...                          Weniger Trainingfür Mick   \n",
       "58a58c173b4b6ec885b1a9baf306dd3a65a278788664f44...           Sophie Hermann erklärtihr Nackt-Posting   \n",
       "...                                                                                              ...   \n",
       "d3e66eb4ecb1c6484459eda3a22543f9463fe7a758ff0c7...          Todesstrafe für Boston-Bomber aufgehoben   \n",
       "0c6df23deb1483f617ac939a13822ec781d5500f941df71...                          Smarsch kommt von Hertha   \n",
       "8d4f7fc2aaf62468474546919faeac57215e64608369feb...      Trump will heute TikTok in den USA verbieten   \n",
       "b50ab27832d2457526c505fe199f7763aba1b175dd5117f...               „Trumps Politik hat Leben gerettet“   \n",
       "c27315d350cb05273186df60324988af12642847a0c72e2...               Triple-Tuchel feiert Ligapokal-Sieg   \n",
       "\n",
       "                                                                                            seo_title  \\\n",
       "article_uid                                                                                             \n",
       "de85c32c6a967eefb65f8227e327e483ae5e67e5108316e...  Kanada: Politiker urlaubt in der Karibik – und...   \n",
       "907f599c809035ae95bdcfa112fc9dd1e3ddd4abafcb7c7...  Mehr, länger, besser!: Die besten Sex-Vorsätze...   \n",
       "fb9c6f64e2100f8dea898a1426f67c461bd5b0a78c9eec3...  Vierschanzentournee: Das verdient man beim Ski...   \n",
       "2de14c75f7c8f82b04e507f02bcfdb5ce2f02aa39cc61b7...  Formel 1: Freies Training für Mick Schumacher ...   \n",
       "58a58c173b4b6ec885b1a9baf306dd3a65a278788664f44...  Sophie Hermann: Stieftochter von Uschi Glas er...   \n",
       "...                                                                                               ...   \n",
       "d3e66eb4ecb1c6484459eda3a22543f9463fe7a758ff0c7...  Terroranschlag auf Boston Marathon: Todesurtei...   \n",
       "0c6df23deb1483f617ac939a13822ec781d5500f941df71...  FC St. Pauli: Neuer Torwart - Dennis Smarsch k...   \n",
       "8d4f7fc2aaf62468474546919faeac57215e64608369feb...  Millionen Teenies sauer - Trump will heute Tik...   \n",
       "b50ab27832d2457526c505fe199f7763aba1b175dd5117f...  Der Lieblings-Virologe der US-Liberalen - „Tru...   \n",
       "c27315d350cb05273186df60324988af12642847a0c72e2...  6:5 im Finale gegen Lyon  - Triple-Tuchel feie...   \n",
       "\n",
       "                                                            created_at  \\\n",
       "article_uid                                                              \n",
       "de85c32c6a967eefb65f8227e327e483ae5e67e5108316e... 2020-12-31 21:54:16   \n",
       "907f599c809035ae95bdcfa112fc9dd1e3ddd4abafcb7c7... 2020-12-31 21:40:16   \n",
       "fb9c6f64e2100f8dea898a1426f67c461bd5b0a78c9eec3... 2020-12-31 21:24:15   \n",
       "2de14c75f7c8f82b04e507f02bcfdb5ce2f02aa39cc61b7... 2020-12-31 21:15:15   \n",
       "58a58c173b4b6ec885b1a9baf306dd3a65a278788664f44... 2020-12-31 20:04:15   \n",
       "...                                                                ...   \n",
       "d3e66eb4ecb1c6484459eda3a22543f9463fe7a758ff0c7... 2020-08-01 07:56:09   \n",
       "0c6df23deb1483f617ac939a13822ec781d5500f941df71... 2020-08-01 07:11:08   \n",
       "8d4f7fc2aaf62468474546919faeac57215e64608369feb... 2020-08-01 06:18:09   \n",
       "b50ab27832d2457526c505fe199f7763aba1b175dd5117f... 2020-08-01 03:34:09   \n",
       "c27315d350cb05273186df60324988af12642847a0c72e2... 2020-08-01 02:12:09   \n",
       "\n",
       "                                                                                  kicker_headline_NER  \\\n",
       "article_uid                                                                                             \n",
       "de85c32c6a967eefb65f8227e327e483ae5e67e5108316e...  [{\"entities\":[{\"mentions\":[{\"text\":{\"content\":...   \n",
       "907f599c809035ae95bdcfa112fc9dd1e3ddd4abafcb7c7...  [{\"entities\":[{\"mentions\":[{\"text\":{\"content\":...   \n",
       "fb9c6f64e2100f8dea898a1426f67c461bd5b0a78c9eec3...  [{\"entities\":[{\"mentions\":[{\"text\":{\"content\":...   \n",
       "2de14c75f7c8f82b04e507f02bcfdb5ce2f02aa39cc61b7...  [{\"entities\":[{\"mentions\":[{\"text\":{\"content\":...   \n",
       "58a58c173b4b6ec885b1a9baf306dd3a65a278788664f44...  [{\"entities\":[{\"mentions\":[{\"text\":{\"content\":...   \n",
       "...                                                                                               ...   \n",
       "d3e66eb4ecb1c6484459eda3a22543f9463fe7a758ff0c7...  [{\"entities\":[{\"mentions\":[{\"text\":{\"content\":...   \n",
       "0c6df23deb1483f617ac939a13822ec781d5500f941df71...  [{\"entities\":[{\"mentions\":[{\"text\":{\"content\":...   \n",
       "8d4f7fc2aaf62468474546919faeac57215e64608369feb...  [{\"entities\":[{\"mentions\":[{\"text\":{\"content\":...   \n",
       "b50ab27832d2457526c505fe199f7763aba1b175dd5117f...  [{\"entities\":[{\"mentions\":[{\"text\":{\"content\":...   \n",
       "c27315d350cb05273186df60324988af12642847a0c72e2...  [{\"entities\":[{\"mentions\":[{\"text\":{\"content\":...   \n",
       "\n",
       "                                                                                        seo_title_NER  \\\n",
       "article_uid                                                                                             \n",
       "de85c32c6a967eefb65f8227e327e483ae5e67e5108316e...  [{\"entities\":[{\"mentions\":[{\"text\":{\"content\":...   \n",
       "907f599c809035ae95bdcfa112fc9dd1e3ddd4abafcb7c7...  [{\"entities\":[{\"mentions\":[{\"text\":{\"content\":...   \n",
       "fb9c6f64e2100f8dea898a1426f67c461bd5b0a78c9eec3...  [{\"entities\":[{\"mentions\":[{\"text\":{\"content\":...   \n",
       "2de14c75f7c8f82b04e507f02bcfdb5ce2f02aa39cc61b7...  [{\"entities\":[{\"mentions\":[{\"text\":{\"content\":...   \n",
       "58a58c173b4b6ec885b1a9baf306dd3a65a278788664f44...  [{\"entities\":[{\"mentions\":[{\"text\":{\"content\":...   \n",
       "...                                                                                               ...   \n",
       "d3e66eb4ecb1c6484459eda3a22543f9463fe7a758ff0c7...  [{\"entities\":[{\"mentions\":[{\"text\":{\"content\":...   \n",
       "0c6df23deb1483f617ac939a13822ec781d5500f941df71...  [{\"entities\":[{\"mentions\":[{\"text\":{\"content\":...   \n",
       "8d4f7fc2aaf62468474546919faeac57215e64608369feb...  [{\"entities\":[{\"mentions\":[{\"text\":{\"content\":...   \n",
       "b50ab27832d2457526c505fe199f7763aba1b175dd5117f...  [{\"entities\":[{\"mentions\":[{\"text\":{\"content\":...   \n",
       "c27315d350cb05273186df60324988af12642847a0c72e2...  [{\"entities\":[{\"mentions\":[{\"text\":{\"content\":...   \n",
       "\n",
       "                                                                                             text_NER  \\\n",
       "article_uid                                                                                             \n",
       "de85c32c6a967eefb65f8227e327e483ae5e67e5108316e...  [{\"entities\":[{\"mentions\":[{\"text\":{\"content\":...   \n",
       "907f599c809035ae95bdcfa112fc9dd1e3ddd4abafcb7c7...  [{\"entities\":[{\"mentions\":[{\"text\":{\"content\":...   \n",
       "fb9c6f64e2100f8dea898a1426f67c461bd5b0a78c9eec3...  [{\"entities\":[{\"mentions\":[{\"text\":{\"content\":...   \n",
       "2de14c75f7c8f82b04e507f02bcfdb5ce2f02aa39cc61b7...  [{\"entities\":[{\"mentions\":[{\"text\":{\"content\":...   \n",
       "58a58c173b4b6ec885b1a9baf306dd3a65a278788664f44...  [{\"entities\":[{\"mentions\":[{\"text\":{\"content\":...   \n",
       "...                                                                                               ...   \n",
       "d3e66eb4ecb1c6484459eda3a22543f9463fe7a758ff0c7...  [{\"entities\":[{\"mentions\":[{\"text\":{\"content\":...   \n",
       "0c6df23deb1483f617ac939a13822ec781d5500f941df71...  [{\"entities\":[{\"mentions\":[{\"text\":{\"content\":...   \n",
       "8d4f7fc2aaf62468474546919faeac57215e64608369feb...  [{\"entities\":[{\"mentions\":[{\"text\":{\"content\":...   \n",
       "b50ab27832d2457526c505fe199f7763aba1b175dd5117f...  [{\"entities\":[{\"mentions\":[{\"text\":{\"content\":...   \n",
       "c27315d350cb05273186df60324988af12642847a0c72e2...  [{\"entities\":[{\"mentions\":[{\"text\":{\"content\":...   \n",
       "\n",
       "                                                      department        date  \n",
       "article_uid                                                                   \n",
       "de85c32c6a967eefb65f8227e327e483ae5e67e5108316e...       politik  2020-12-31  \n",
       "907f599c809035ae95bdcfa112fc9dd1e3ddd4abafcb7c7...  unterhaltung  2020-12-31  \n",
       "fb9c6f64e2100f8dea898a1426f67c461bd5b0a78c9eec3...         sport  2020-12-31  \n",
       "2de14c75f7c8f82b04e507f02bcfdb5ce2f02aa39cc61b7...         sport  2020-12-31  \n",
       "58a58c173b4b6ec885b1a9baf306dd3a65a278788664f44...  unterhaltung  2020-12-31  \n",
       "...                                                          ...         ...  \n",
       "d3e66eb4ecb1c6484459eda3a22543f9463fe7a758ff0c7...          news  2020-08-01  \n",
       "0c6df23deb1483f617ac939a13822ec781d5500f941df71...         sport  2020-08-01  \n",
       "8d4f7fc2aaf62468474546919faeac57215e64608369feb...       politik  2020-08-01  \n",
       "b50ab27832d2457526c505fe199f7763aba1b175dd5117f...       politik  2020-08-01  \n",
       "c27315d350cb05273186df60324988af12642847a0c72e2...         sport  2020-08-01  \n",
       "\n",
       "[25414 rows x 10 columns]"
      ]
     },
     "execution_count": 145,
     "metadata": {},
     "output_type": "execute_result"
    }
   ],
   "source": [
    "d"
   ]
  },
  {
   "cell_type": "code",
   "execution_count": 101,
   "metadata": {},
   "outputs": [
    {
     "data": {
      "text/plain": [
       "166.1045751633987"
      ]
     },
     "execution_count": 101,
     "metadata": {},
     "output_type": "execute_result"
    }
   ],
   "source": []
  },
  {
   "cell_type": "code",
   "execution_count": 43,
   "metadata": {},
   "outputs": [],
   "source": [
    "# Avarege daily dispatched orders\n",
    "mean = d[[\"cms_id\",\"date\"]].groupby(\"date\").count().values.reshape(1,-1).mean()\n",
    "# Average daily \n",
    "count_daily = df_date.count()['PH_SORDER']\n",
    "# define figure\n",
    "fig, ax = plt.subplots(1, figsize=(12,6))\n",
    "# plot\n",
    "plt.scatter(count_daily.index, count_daily.values, alpha=0.6)\n",
    "plt.plot(count_daily.index, [mean]*len(count_daily), \n",
    "         color='black', linewidth=2, linestyle='--')\n",
    "plt.show()"
   ]
  },
  {
   "cell_type": "code",
   "execution_count": 124,
   "metadata": {},
   "outputs": [
    {
     "data": {
      "image/png": "[encoded data removed]",
      "text/plain": [
       "<Figure size 432x288 with 1 Axes>"
      ]
     },
     "metadata": {
      "needs_background": "light"
     },
     "output_type": "display_data"
    }
   ],
   "source": []
  },
  {
   "cell_type": "code",
   "execution_count": 120,
   "metadata": {},
   "outputs": [
    {
     "data": {
      "text/plain": [
       "array([[117, 161, 209, 228, 215, 234, 208, 134, 163, 226, 218, 228, 221,\n",
       "        207, 142, 187, 214, 218, 254, 243, 224, 144, 172, 219, 219, 232,\n",
       "        232, 214, 118, 160, 224, 235, 270, 241, 201, 155, 176, 223, 239,\n",
       "        230, 224, 176, 120, 154, 173, 191, 186, 196, 181, 115, 179, 181,\n",
       "        193, 196, 196, 184, 117, 153, 182, 178, 189, 205, 138, 110, 150,\n",
       "        180, 171, 203, 185, 184, 104, 142, 161, 202, 175, 175, 170, 122,\n",
       "        158, 173, 189, 193, 180, 137, 111, 137, 158, 162, 165, 175, 137,\n",
       "        104, 132, 138, 139, 145, 145, 147, 113, 135, 142, 151, 143, 148,\n",
       "        141,  97, 136, 145, 141, 167, 147, 148,  98, 161, 136, 155, 180,\n",
       "        163, 151, 105, 144, 154, 187, 161, 155, 156, 110, 133, 162, 152,\n",
       "        174, 147, 160, 123, 148, 160, 165, 171, 154, 180, 106, 149, 151,\n",
       "        159, 159,  74,  69,  84, 104, 146, 147, 161,  85]])"
      ]
     },
     "execution_count": 120,
     "metadata": {},
     "output_type": "execute_result"
    }
   ],
   "source": [
    "d[[\"cms_id\",\"date\"]].groupby(\"date\").count().values.reshape(1,-1)"
   ]
  },
  {
   "cell_type": "code",
   "execution_count": null,
   "metadata": {},
   "outputs": [],
   "source": []
  },
  {
   "cell_type": "code",
   "execution_count": null,
   "metadata": {},
   "outputs": [],
   "source": []
  }
 ],
 "metadata": {
  "interpreter": {
   "hash": "03b5b069d0ec35ce6c808095515ae1dedd6d790e74531a35afe95a65a1509054"
  },
  "kernelspec": {
   "display_name": "Python 3 (ipykernel)",
   "language": "python",
   "name": "python3"
  },
  "language_info": {
   "codemirror_mode": {
    "name": "ipython",
    "version": 3
   },
   "file_extension": ".py",
   "mimetype": "text/x-python",
   "name": "python",
   "nbconvert_exporter": "python",
   "pygments_lexer": "ipython3",
   "version": "3.9.7"
  }
 },
 "nbformat": 4,
 "nbformat_minor": 4
}
