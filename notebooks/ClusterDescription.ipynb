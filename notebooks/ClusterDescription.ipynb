{
 "cells": [
  {
   "cell_type": "code",
   "execution_count": 1,
   "metadata": {},
   "outputs": [],
   "source": [
    "import nltk,re,time,umap,collections,wordcloud,sys,os\n",
    "sys.path.append('../')\n",
    "from sentence_transformers import SentenceTransformer,models\n",
    "import plotly.express as px\n",
    "import pandas as pd\n",
    "import mlflow\n",
    "from sklearn.feature_extraction.text import CountVectorizer\n",
    "import numpy as np\n",
    "from modules import utils\n",
    "from modules import modeling\n",
    "\n",
    "from hdbscan import HDBSCAN\n",
    "from sklearn.preprocessing import normalize\n",
    "from transformers import AutoModel, AutoTokenizer\n",
    "from torch import nn\n",
    "#tokenizer = AutoTokenizer.from_pretrained(\"dbmdz/bert-base-german-cased\")\n",
    "%reload_ext utils\n",
    "%matplotlib inline\n",
    "%load_ext autoreload\n",
    "%autoreload 2\n",
    "import json \n",
    "\n",
    "from scipy.spatial.distance import pdist, squareform\n",
    "\n",
    "\n",
    "TOP_N = 100\n"
   ]
  },
  {
   "cell_type": "code",
   "execution_count": 3,
   "metadata": {},
   "outputs": [
    {
     "data": {
      "text/plain": [
       "(25414, 768)"
      ]
     },
     "execution_count": 3,
     "metadata": {},
     "output_type": "execute_result"
    }
   ],
   "source": [
    "x =np.load('bild-emb.npy')\n",
    "x.shape"
   ]
  },
  {
   "cell_type": "markdown",
   "metadata": {},
   "source": [
    "#### Load Flair-based NER "
   ]
  },
  {
   "cell_type": "code",
   "execution_count": 2,
   "metadata": {},
   "outputs": [
    {
     "name": "stdout",
     "output_type": "stream",
     "text": [
      "2020-11-03 16:13:06,185 loading file /Users/tomasztkaczyk/.flair/models/de-ner-germeval-0.4.1.pt\n"
     ]
    }
   ],
   "source": [
    "tagger = SequenceTagger.load('de-ner-germeval')\n",
    "sentence = Sentence('George Washington ging nach Washington.')\n",
    "tagger.predict(sentence)"
   ]
  },
  {
   "cell_type": "markdown",
   "metadata": {},
   "source": [
    "## Load the Google's NER Tags for the labeled articles "
   ]
  },
  {
   "cell_type": "code",
   "execution_count": 2,
   "metadata": {},
   "outputs": [
    {
     "name": "stdout",
     "output_type": "stream",
     "text": [
      "(240, 4)\n"
     ]
    },
    {
     "data": {
      "text/html": [
       "<div>\n",
       "<style scoped>\n",
       "    .dataframe tbody tr th:only-of-type {\n",
       "        vertical-align: middle;\n",
       "    }\n",
       "\n",
       "    .dataframe tbody tr th {\n",
       "        vertical-align: top;\n",
       "    }\n",
       "\n",
       "    .dataframe thead th {\n",
       "        text-align: right;\n",
       "    }\n",
       "</style>\n",
       "<table border=\"1\" class=\"dataframe\">\n",
       "  <thead>\n",
       "    <tr style=\"text-align: right;\">\n",
       "      <th></th>\n",
       "      <th>kicker_headline</th>\n",
       "      <th>text_ne</th>\n",
       "      <th>seo_title_ne</th>\n",
       "      <th>created_at_ne</th>\n",
       "    </tr>\n",
       "    <tr>\n",
       "      <th>article_id</th>\n",
       "      <th></th>\n",
       "      <th></th>\n",
       "      <th></th>\n",
       "      <th></th>\n",
       "    </tr>\n",
       "  </thead>\n",
       "  <tbody>\n",
       "    <tr>\n",
       "      <th>080f9e0033f23540881fd07ecbf503e9066c5151ddb82287852b1badfcad4e7d</th>\n",
       "      <td>[{\"entities\":[{\"mentions\":[{\"text\":{\"content\":...</td>\n",
       "      <td>[{\"entities\":[{\"mentions\":[{\"text\":{\"content\":...</td>\n",
       "      <td>[{\"entities\":[{\"mentions\":[{\"text\":{\"content\":...</td>\n",
       "      <td>2020-09-09 15:52:04</td>\n",
       "    </tr>\n",
       "  </tbody>\n",
       "</table>\n",
       "</div>"
      ],
      "text/plain": [
       "                                                                                      kicker_headline  \\\n",
       "article_id                                                                                              \n",
       "080f9e0033f23540881fd07ecbf503e9066c5151ddb8228...  [{\"entities\":[{\"mentions\":[{\"text\":{\"content\":...   \n",
       "\n",
       "                                                                                              text_ne  \\\n",
       "article_id                                                                                              \n",
       "080f9e0033f23540881fd07ecbf503e9066c5151ddb8228...  [{\"entities\":[{\"mentions\":[{\"text\":{\"content\":...   \n",
       "\n",
       "                                                                                         seo_title_ne  \\\n",
       "article_id                                                                                              \n",
       "080f9e0033f23540881fd07ecbf503e9066c5151ddb8228...  [{\"entities\":[{\"mentions\":[{\"text\":{\"content\":...   \n",
       "\n",
       "                                                          created_at_ne  \n",
       "article_id                                                               \n",
       "080f9e0033f23540881fd07ecbf503e9066c5151ddb8228...  2020-09-09 15:52:04  "
      ]
     },
     "execution_count": 2,
     "metadata": {},
     "output_type": "execute_result"
    }
   ],
   "source": [
    "labeled = pd.read_csv(\"../data/raw_article_entities.csv\",header=None,names=[\"_id\",\"article_id\",\"kicker_headline\",\"text_ne\",\"seo_title_ne\",\"created_at_ne\",\"updated_at\",\"parset\"])\n",
    "\n",
    "labeled.drop([\"parset\",\"updated_at\",\"_id\"],axis=1,inplace=True)\n",
    "labeled = labeled.set_index(\"article_id\")\n",
    "print(labeled.shape)\n",
    "labeled.head(1)"
   ]
  },
  {
   "cell_type": "markdown",
   "metadata": {},
   "source": [
    "# Load the labeled Clusters and join them with NER from HUD DB"
   ]
  },
  {
   "cell_type": "code",
   "execution_count": null,
   "metadata": {},
   "outputs": [],
   "source": []
  },
  {
   "cell_type": "code",
   "execution_count": 5,
   "metadata": {},
   "outputs": [
    {
     "data": {
      "text/html": [
       "<div>\n",
       "<style scoped>\n",
       "    .dataframe tbody tr th:only-of-type {\n",
       "        vertical-align: middle;\n",
       "    }\n",
       "\n",
       "    .dataframe tbody tr th {\n",
       "        vertical-align: top;\n",
       "    }\n",
       "\n",
       "    .dataframe thead th {\n",
       "        text-align: right;\n",
       "    }\n",
       "</style>\n",
       "<table border=\"1\" class=\"dataframe\">\n",
       "  <thead>\n",
       "    <tr style=\"text-align: right;\">\n",
       "      <th></th>\n",
       "      <th>labels</th>\n",
       "      <th>headline</th>\n",
       "      <th>seo_title</th>\n",
       "      <th>text</th>\n",
       "      <th>created_at_date</th>\n",
       "      <th>created_at</th>\n",
       "      <th>mix</th>\n",
       "      <th>kicker_headline</th>\n",
       "      <th>text_ne</th>\n",
       "      <th>seo_title_ne</th>\n",
       "      <th>created_at_ne</th>\n",
       "    </tr>\n",
       "  </thead>\n",
       "  <tbody>\n",
       "    <tr>\n",
       "      <th>faae5f2ef63c63baae47bc98fb1cb2a40274156a3508a9b2b6f702e0d1ba40f1</th>\n",
       "      <td>22</td>\n",
       "      <td>Finanzielle Engpässe: Wie stark belastet Coron...</td>\n",
       "      <td>Wie stark belastet Corona unseren Geldbeutel?</td>\n",
       "      <td>Die Corona-Pandemie macht sich seit Monaten im...</td>\n",
       "      <td>9/13/20</td>\n",
       "      <td>2020-09-13 21:55:15</td>\n",
       "      <td>Finanzielle Engpässe: Wie stark belastet Coron...</td>\n",
       "      <td>[{\"entities\":[{\"mentions\":[{\"text\":{\"content\":...</td>\n",
       "      <td>[{\"entities\":[{\"mentions\":[{\"text\":{\"content\":...</td>\n",
       "      <td>[{\"entities\":[{\"mentions\":[{\"text\":{\"content\":...</td>\n",
       "      <td>2020-09-13 21:56:04</td>\n",
       "    </tr>\n",
       "    <tr>\n",
       "      <th>fab9f708d9ba4e68959eea74ace58df6fee0449bdb6e713897db3eb14e1206b5</th>\n",
       "      <td>29</td>\n",
       "      <td>Corona in Garmisch-Partenkirchen | Pub-Bertrei...</td>\n",
       "      <td>Pub-Betreiber total fertig: „Das ist eine Kata...</td>\n",
       "      <td>Eine 26-jährige Super-Spreaderin verursachte a...</td>\n",
       "      <td>9/13/20</td>\n",
       "      <td>2020-09-13 17:07:16</td>\n",
       "      <td>Corona in Garmisch-Partenkirchen | Pub-Bertrei...</td>\n",
       "      <td>[{\"entities\":[{\"mentions\":[{\"text\":{\"content\":...</td>\n",
       "      <td>[{\"entities\":[{\"mentions\":[{\"text\":{\"content\":...</td>\n",
       "      <td>[{\"entities\":[{\"mentions\":[{\"text\":{\"content\":...</td>\n",
       "      <td>2020-09-13 17:08:04</td>\n",
       "    </tr>\n",
       "    <tr>\n",
       "      <th>fd3215b0fc56e66a2ffd49b7976413dc5ef1aae4cbc1fd86523eee3aeae82223</th>\n",
       "      <td>18</td>\n",
       "      <td>Nawalny: War das Nowitschok-Gift auf seiner Un...</td>\n",
       "      <td>War das Gift auf der Unterwäsche Nawalnys?</td>\n",
       "      <td>War es doch nicht der Tee am Flughafen?  Der N...</td>\n",
       "      <td>9/11/20</td>\n",
       "      <td>2020-09-11 17:01:15</td>\n",
       "      <td>Nawalny: War das Nowitschok-Gift auf seiner Un...</td>\n",
       "      <td>[{\"entities\":[{\"mentions\":[{\"text\":{\"content\":...</td>\n",
       "      <td>[{\"entities\":[{\"mentions\":[{\"text\":{\"content\":...</td>\n",
       "      <td>[{\"entities\":[{\"mentions\":[{\"text\":{\"content\":...</td>\n",
       "      <td>2020-09-11 17:02:05</td>\n",
       "    </tr>\n",
       "    <tr>\n",
       "      <th>fdbd80734a8be7d3cab1c0a450442219166af24e9c2a92f75d3b47f5c8bca23e</th>\n",
       "      <td>1</td>\n",
       "      <td>Dutzende werden vermisst - 35 Tote durch Kalif...</td>\n",
       "      <td>35 Tote durch Kalifornien-Brände</td>\n",
       "      <td>Das Flammen-Inferno in Kalifornien fordert imm...</td>\n",
       "      <td>9/14/20</td>\n",
       "      <td>2020-09-14 11:15:15</td>\n",
       "      <td>Dutzende werden vermisst - 35 Tote durch Kalif...</td>\n",
       "      <td>[{\"entities\":[{\"mentions\":[{\"text\":{\"content\":...</td>\n",
       "      <td>[{\"entities\":[{\"mentions\":[{\"text\":{\"content\":...</td>\n",
       "      <td>[{\"entities\":[{\"mentions\":[{\"text\":{\"content\":...</td>\n",
       "      <td>2020-09-14 11:16:06</td>\n",
       "    </tr>\n",
       "    <tr>\n",
       "      <th>fde4b3c95901643bf957060e97458af3c3a5cb77979d6b1cab666bd11a343918</th>\n",
       "      <td>44</td>\n",
       "      <td>„FameMaker“: Wie Stefan Raab die Fäden weiter ...</td>\n",
       "      <td>Wie Raab hinter der Kamera die Fäden zieht</td>\n",
       "      <td>Bühne frei für ein neues bisschen Raab ... Am ...</td>\n",
       "      <td>9/14/20</td>\n",
       "      <td>2020-09-14 18:27:15</td>\n",
       "      <td>„FameMaker“: Wie Stefan Raab die Fäden weiter ...</td>\n",
       "      <td>[{\"entities\":[{\"mentions\":[{\"text\":{\"content\":...</td>\n",
       "      <td>[{\"entities\":[{\"mentions\":[{\"text\":{\"content\":...</td>\n",
       "      <td>[{\"entities\":[{\"mentions\":[{\"text\":{\"content\":...</td>\n",
       "      <td>2020-09-14 18:28:06</td>\n",
       "    </tr>\n",
       "  </tbody>\n",
       "</table>\n",
       "</div>"
      ],
      "text/plain": [
       "                                                    labels  \\\n",
       "faae5f2ef63c63baae47bc98fb1cb2a40274156a3508a9b...      22   \n",
       "fab9f708d9ba4e68959eea74ace58df6fee0449bdb6e713...      29   \n",
       "fd3215b0fc56e66a2ffd49b7976413dc5ef1aae4cbc1fd8...      18   \n",
       "fdbd80734a8be7d3cab1c0a450442219166af24e9c2a92f...       1   \n",
       "fde4b3c95901643bf957060e97458af3c3a5cb77979d6b1...      44   \n",
       "\n",
       "                                                                                             headline  \\\n",
       "faae5f2ef63c63baae47bc98fb1cb2a40274156a3508a9b...  Finanzielle Engpässe: Wie stark belastet Coron...   \n",
       "fab9f708d9ba4e68959eea74ace58df6fee0449bdb6e713...  Corona in Garmisch-Partenkirchen | Pub-Bertrei...   \n",
       "fd3215b0fc56e66a2ffd49b7976413dc5ef1aae4cbc1fd8...  Nawalny: War das Nowitschok-Gift auf seiner Un...   \n",
       "fdbd80734a8be7d3cab1c0a450442219166af24e9c2a92f...  Dutzende werden vermisst - 35 Tote durch Kalif...   \n",
       "fde4b3c95901643bf957060e97458af3c3a5cb77979d6b1...  „FameMaker“: Wie Stefan Raab die Fäden weiter ...   \n",
       "\n",
       "                                                                                            seo_title  \\\n",
       "faae5f2ef63c63baae47bc98fb1cb2a40274156a3508a9b...      Wie stark belastet Corona unseren Geldbeutel?   \n",
       "fab9f708d9ba4e68959eea74ace58df6fee0449bdb6e713...  Pub-Betreiber total fertig: „Das ist eine Kata...   \n",
       "fd3215b0fc56e66a2ffd49b7976413dc5ef1aae4cbc1fd8...         War das Gift auf der Unterwäsche Nawalnys?   \n",
       "fdbd80734a8be7d3cab1c0a450442219166af24e9c2a92f...                   35 Tote durch Kalifornien-Brände   \n",
       "fde4b3c95901643bf957060e97458af3c3a5cb77979d6b1...         Wie Raab hinter der Kamera die Fäden zieht   \n",
       "\n",
       "                                                                                                 text  \\\n",
       "faae5f2ef63c63baae47bc98fb1cb2a40274156a3508a9b...  Die Corona-Pandemie macht sich seit Monaten im...   \n",
       "fab9f708d9ba4e68959eea74ace58df6fee0449bdb6e713...  Eine 26-jährige Super-Spreaderin verursachte a...   \n",
       "fd3215b0fc56e66a2ffd49b7976413dc5ef1aae4cbc1fd8...  War es doch nicht der Tee am Flughafen?  Der N...   \n",
       "fdbd80734a8be7d3cab1c0a450442219166af24e9c2a92f...  Das Flammen-Inferno in Kalifornien fordert imm...   \n",
       "fde4b3c95901643bf957060e97458af3c3a5cb77979d6b1...  Bühne frei für ein neues bisschen Raab ... Am ...   \n",
       "\n",
       "                                                   created_at_date  \\\n",
       "faae5f2ef63c63baae47bc98fb1cb2a40274156a3508a9b...         9/13/20   \n",
       "fab9f708d9ba4e68959eea74ace58df6fee0449bdb6e713...         9/13/20   \n",
       "fd3215b0fc56e66a2ffd49b7976413dc5ef1aae4cbc1fd8...         9/11/20   \n",
       "fdbd80734a8be7d3cab1c0a450442219166af24e9c2a92f...         9/14/20   \n",
       "fde4b3c95901643bf957060e97458af3c3a5cb77979d6b1...         9/14/20   \n",
       "\n",
       "                                                            created_at  \\\n",
       "faae5f2ef63c63baae47bc98fb1cb2a40274156a3508a9b... 2020-09-13 21:55:15   \n",
       "fab9f708d9ba4e68959eea74ace58df6fee0449bdb6e713... 2020-09-13 17:07:16   \n",
       "fd3215b0fc56e66a2ffd49b7976413dc5ef1aae4cbc1fd8... 2020-09-11 17:01:15   \n",
       "fdbd80734a8be7d3cab1c0a450442219166af24e9c2a92f... 2020-09-14 11:15:15   \n",
       "fde4b3c95901643bf957060e97458af3c3a5cb77979d6b1... 2020-09-14 18:27:15   \n",
       "\n",
       "                                                                                                  mix  \\\n",
       "faae5f2ef63c63baae47bc98fb1cb2a40274156a3508a9b...  Finanzielle Engpässe: Wie stark belastet Coron...   \n",
       "fab9f708d9ba4e68959eea74ace58df6fee0449bdb6e713...  Corona in Garmisch-Partenkirchen | Pub-Bertrei...   \n",
       "fd3215b0fc56e66a2ffd49b7976413dc5ef1aae4cbc1fd8...  Nawalny: War das Nowitschok-Gift auf seiner Un...   \n",
       "fdbd80734a8be7d3cab1c0a450442219166af24e9c2a92f...  Dutzende werden vermisst - 35 Tote durch Kalif...   \n",
       "fde4b3c95901643bf957060e97458af3c3a5cb77979d6b1...  „FameMaker“: Wie Stefan Raab die Fäden weiter ...   \n",
       "\n",
       "                                                                                      kicker_headline  \\\n",
       "faae5f2ef63c63baae47bc98fb1cb2a40274156a3508a9b...  [{\"entities\":[{\"mentions\":[{\"text\":{\"content\":...   \n",
       "fab9f708d9ba4e68959eea74ace58df6fee0449bdb6e713...  [{\"entities\":[{\"mentions\":[{\"text\":{\"content\":...   \n",
       "fd3215b0fc56e66a2ffd49b7976413dc5ef1aae4cbc1fd8...  [{\"entities\":[{\"mentions\":[{\"text\":{\"content\":...   \n",
       "fdbd80734a8be7d3cab1c0a450442219166af24e9c2a92f...  [{\"entities\":[{\"mentions\":[{\"text\":{\"content\":...   \n",
       "fde4b3c95901643bf957060e97458af3c3a5cb77979d6b1...  [{\"entities\":[{\"mentions\":[{\"text\":{\"content\":...   \n",
       "\n",
       "                                                                                              text_ne  \\\n",
       "faae5f2ef63c63baae47bc98fb1cb2a40274156a3508a9b...  [{\"entities\":[{\"mentions\":[{\"text\":{\"content\":...   \n",
       "fab9f708d9ba4e68959eea74ace58df6fee0449bdb6e713...  [{\"entities\":[{\"mentions\":[{\"text\":{\"content\":...   \n",
       "fd3215b0fc56e66a2ffd49b7976413dc5ef1aae4cbc1fd8...  [{\"entities\":[{\"mentions\":[{\"text\":{\"content\":...   \n",
       "fdbd80734a8be7d3cab1c0a450442219166af24e9c2a92f...  [{\"entities\":[{\"mentions\":[{\"text\":{\"content\":...   \n",
       "fde4b3c95901643bf957060e97458af3c3a5cb77979d6b1...  [{\"entities\":[{\"mentions\":[{\"text\":{\"content\":...   \n",
       "\n",
       "                                                                                         seo_title_ne  \\\n",
       "faae5f2ef63c63baae47bc98fb1cb2a40274156a3508a9b...  [{\"entities\":[{\"mentions\":[{\"text\":{\"content\":...   \n",
       "fab9f708d9ba4e68959eea74ace58df6fee0449bdb6e713...  [{\"entities\":[{\"mentions\":[{\"text\":{\"content\":...   \n",
       "fd3215b0fc56e66a2ffd49b7976413dc5ef1aae4cbc1fd8...  [{\"entities\":[{\"mentions\":[{\"text\":{\"content\":...   \n",
       "fdbd80734a8be7d3cab1c0a450442219166af24e9c2a92f...  [{\"entities\":[{\"mentions\":[{\"text\":{\"content\":...   \n",
       "fde4b3c95901643bf957060e97458af3c3a5cb77979d6b1...  [{\"entities\":[{\"mentions\":[{\"text\":{\"content\":...   \n",
       "\n",
       "                                                          created_at_ne  \n",
       "faae5f2ef63c63baae47bc98fb1cb2a40274156a3508a9b...  2020-09-13 21:56:04  \n",
       "fab9f708d9ba4e68959eea74ace58df6fee0449bdb6e713...  2020-09-13 17:08:04  \n",
       "fd3215b0fc56e66a2ffd49b7976413dc5ef1aae4cbc1fd8...  2020-09-11 17:02:05  \n",
       "fdbd80734a8be7d3cab1c0a450442219166af24e9c2a92f...  2020-09-14 11:16:06  \n",
       "fde4b3c95901643bf957060e97458af3c3a5cb77979d6b1...  2020-09-14 18:28:06  "
      ]
     },
     "execution_count": 5,
     "metadata": {},
     "output_type": "execute_result"
    }
   ],
   "source": [
    "X = utils.load_labeled_data()\n",
    "X.drop([\"site\",\"entities_analyzed\",\"updated_at\"],inplace=True,axis=\"columns\")\n",
    "\n",
    "X['mix'] =  X['headline'] +\" \" +X[\"text\"].apply(lambda x: \" \".join(x.split(\" \")[:150]))# + X[\"seo_title\"].apply(utils.remove_seo_title_marker) #+\n",
    "#pdf_mix = utils.preprocess_text(X,col=\"mix\")\n",
    "pdf_mix = X[\"mix\"].values\n",
    "X = X.join(labeled,how='right')\n",
    "X.drop_duplicates(subset='headline',inplace=True)\n",
    "pdf= utils.preprocess_text(X,\"text\")\n",
    "\n",
    "X.tail(5)"
   ]
  },
  {
   "cell_type": "code",
   "execution_count": 6,
   "metadata": {},
   "outputs": [],
   "source": [
    "y = X[\"labels\"]\n",
    "y_summarized_clusters = dict(collections.Counter(y))\n",
    "\n",
    "X.drop(\"labels\",axis=1,inplace=True)\n"
   ]
  },
  {
   "cell_type": "code",
   "execution_count": 6,
   "metadata": {},
   "outputs": [
    {
     "name": "stdout",
     "output_type": "stream",
     "text": [
      "[('Waghäusel', 2), ('Karlsruhe', 1), ('A5', 1), ('Landau', 1), ('Autobahn 5', 1), ('Kronau', 1), ('Reptilienzoo Landau', 1)]\n"
     ]
    }
   ],
   "source": [
    "def ner_article(text,threshold = 0.70,log_spans=False,*kwargs):\n",
    "    sentence = Sentence(text)\n",
    "    tagger.predict(sentence,mini_batch_size=60,*kwargs)\n",
    "    if log_spans:\n",
    "        ctr = collections.Counter([ x.to_dict()[\"text\"] for x in sentence.get_spans('ner')])\n",
    "        print(ctr.most_common())\n",
    "        #\n",
    "        \n",
    "    return [ x.to_dict() for x in sentence.get_spans('ner') if x.score > threshold]\n",
    "\n",
    "\n",
    "ner_labels =ner_article(X[\"text\"].iloc[26])\n",
    "ctr = collections.Counter([x[\"text\"] for x in ner_labels])\n",
    "print(ctr.most_common())"
   ]
  },
  {
   "cell_type": "code",
   "execution_count": 7,
   "metadata": {},
   "outputs": [],
   "source": [
    "## Parsing utilities\n",
    "\n",
    "flatten = lambda t: [item for sublist in t for item in sublist] #Flatten list of lists\n",
    "dedupe = lambda list_of_objects :[i for n, i in enumerate(list_of_objects) if i not in list_of_objects[n + 1:]] # Deduplicated list of objects"
   ]
  },
  {
   "cell_type": "code",
   "execution_count": 31,
   "metadata": {},
   "outputs": [],
   "source": [
    "#json.loads(X.loc[\"fd3215b0fc56e66a2ffd49b7976413dc5ef1aae4cbc1fd86523eee3aeae82223\"].text_ne)\n",
    "\n"
   ]
  },
  {
   "cell_type": "markdown",
   "metadata": {},
   "source": [
    "### Cluster desc evaluation "
   ]
  },
  {
   "cell_type": "code",
   "execution_count": 36,
   "metadata": {},
   "outputs": [],
   "source": [
    "\n",
    "docs_df = pd.DataFrame(pdf, columns=[\"Doc\"])\n",
    "docs_df['Topic'] = y.values\n",
    "docs_df['Doc_ID'] = X.index.values #df[\"article_uid\"]#range(len(docs_df))\n",
    "docs_df[\"Raw_Doc\"] =  X[\"text\"].values\n",
    "docs_df[\"mix\"] = X[\"mix\"].values\n",
    "docs_df[\"kicker_headline_ne\"] = X.kicker_headline.values\n",
    "docs_df[\"text_ne\"] = X.text_ne.values\n",
    "docs_df[\"seo_title_ne\"] = X.seo_title_ne.values\n",
    "\n",
    "\n",
    "# For every topic collect all the article and join their texts (preprocessed) , raw texts, \n",
    "docs_per_topic = docs_df.groupby(['Topic'], as_index = False).agg({'Doc': ' '.join,\n",
    "                                                                   'Raw_Doc': ' '.join,\n",
    "                                                                   'mix': ' '.join,\n",
    "                                                                   \"seo_title_ne\":lambda x: (utils.flatten([utils.parse_google_named_entities(el) for el in x ])),\n",
    "                                                                    \"kicker_headline_ne\":lambda x: (utils.flatten([utils.parse_google_named_entities(el) for el in x ])),\n",
    "                                                                      \"text_ne\":lambda x: (utils.flatten([utils.parse_google_named_entities(el) for el in x ])),\n",
    "                                                                       #\"text_ne\": lambda x: \", \".join([ent[\"text\"] for ent in (utils.flatten([utils.parse_google_named_entities(el) for el in x ]))])\n",
    "                                                                  })\n",
    "\n",
    "\n",
    "docs_per_topic=docs_per_topic.set_index(\"Topic\")#.kicker_headline[0]"
   ]
  },
  {
   "cell_type": "code",
   "execution_count": 37,
   "metadata": {},
   "outputs": [
    {
     "data": {
      "text/plain": [
       "<matplotlib.axes._subplots.AxesSubplot at 0x7fc54428fe80>"
      ]
     },
     "execution_count": 37,
     "metadata": {},
     "output_type": "execute_result"
    },
    {
     "data": {
      "image/png": "[encoded data removed]",
      "text/plain": [
       "<Figure size 576x288 with 1 Axes>"
      ]
     },
     "metadata": {
      "needs_background": "light"
     },
     "output_type": "display_data"
    }
   ],
   "source": [
    "topic_sizes = utils.extract_topic_sizes(docs_df)\n",
    "topic_sizes.set_index(\"Topic\").plot(kind=\"bar\",figsize=(8,4))"
   ]
  },
  {
   "cell_type": "code",
   "execution_count": 38,
   "metadata": {},
   "outputs": [
    {
     "data": {
      "text/html": [
       "<div>\n",
       "<style scoped>\n",
       "    .dataframe tbody tr th:only-of-type {\n",
       "        vertical-align: middle;\n",
       "    }\n",
       "\n",
       "    .dataframe tbody tr th {\n",
       "        vertical-align: top;\n",
       "    }\n",
       "\n",
       "    .dataframe thead th {\n",
       "        text-align: right;\n",
       "    }\n",
       "</style>\n",
       "<table border=\"1\" class=\"dataframe\">\n",
       "  <thead>\n",
       "    <tr style=\"text-align: right;\">\n",
       "      <th></th>\n",
       "      <th>Doc</th>\n",
       "      <th>Raw_Doc</th>\n",
       "      <th>mix</th>\n",
       "      <th>seo_title_ne</th>\n",
       "      <th>kicker_headline_ne</th>\n",
       "      <th>text_ne</th>\n",
       "    </tr>\n",
       "    <tr>\n",
       "      <th>Topic</th>\n",
       "      <th></th>\n",
       "      <th></th>\n",
       "      <th></th>\n",
       "      <th></th>\n",
       "      <th></th>\n",
       "      <th></th>\n",
       "    </tr>\n",
       "  </thead>\n",
       "  <tbody>\n",
       "    <tr>\n",
       "      <th>0</th>\n",
       "      <td>jagd auf die titelpremiere wenn alexander sascha zverev heute abend uhr eurosport und bildliveticker im finale der us open auf dominic thiem trifft dann wird einer von beiden am ende seinen ersten grandslamtitel feiern es ist für beide tennisstars mehr als einfach nur ein endspiel der österreicher ich freue mich extrem wir haben eine langjährige freundschaft eine packende rivalität es ist geil dass sich unsere wege in einem grandslamendspiel kreuzen und zverev sagt es ist nur noch ein schritt aber es wird extrem schwer für mich wir haben ein episches duell in australien gespielt das halbfinale der australian open   für thiem im januar war das bisher letzte duell der beiden es kann nur einen geben heute abend uhr eurosport und im bildliveticker kämpfen alexander zverev und dominic thiem zverev gegen thiem die nummer sieben der welt gegen die nummer drei der endspieldebütant gegen den vierfachen finalisten bei einem grand slam bild erklärt was die beiden vereint und was sie untersche...</td>\n",
       "      <td>Jagd auf die Titel-Premiere! Wenn Alexander „Sascha“ Zverev (23) heute Abend (22 Uhr Eurosport und BILD-Liveticker) im Finale der US Open auf Dominic Thiem (27) trifft, dann wird einer von beiden am Ende seinen ersten Grand-Slam-Titel feiern. Es ist für beide Tennis-Stars mehr als einfach nur ein Endspiel. Der Österreicher: „Ich freue mich extrem. Wir haben eine langjährige Freundschaft, eine packende Rivalität. Es ist geil, dass sich unsere Wege in einem Grand-Slam-Endspiel kreuzen.“ Und Zverev sagt: „Es ist nur noch ein Schritt, aber es wird extrem schwer für mich. Wir haben ein episches Duell in Australien gespielt.“ Das Halbfinale der Australian Open (3:6, 6:4, 7:6, 7:6  für Thiem) im Januar war das bisher letzte Duell der beiden. \\n                                    Es kann nur einen geben! Heute Abend (22 Uhr, Eurosport und im BILD-Live-Ticker) kämpfen Alexander Zverev (23) und Dominic Thiem (27... Zverev gegen Thiem, die Nummer sieben der Welt gegen die Nummer drei, der End...</td>\n",
       "      <td>US Open: Alex Zverev gegen Dominic Thiem – Freundschaft! Stärken! Bilanz!   -Sport-Mix -Bild.de Jagd auf die Titel-Premiere! Wenn Alexander „Sascha“ Zverev (23) heute Abend (22 Uhr Eurosport und BILD-Liveticker) im Finale der US Open auf Dominic Thiem (27) trifft, dann wird einer von beiden am Ende seinen ersten Grand-Slam-Titel feiern. Es ist für beide Tennis-Stars mehr als einfach nur ein Endspiel. Der Österreicher: „Ich freue mich extrem. Wir haben eine langjährige Freundschaft, eine packende Rivalität. Es ist geil, dass sich unsere Wege in einem Grand-Slam-Endspiel kreuzen.“ Und Zverev sagt: „Es ist nur noch ein Schritt, aber es wird extrem schwer für mich. Wir haben ein episches Duell in Australien gespielt.“ Das Halbfinale der Australian Open (3:6, 6:4, 7:6, 7:6  für Thiem) im Januar war das bisher letzte Duell der beiden. \\n                                US Open: Dominic Thiem zittert vor Anruf bei Andy Murray  -Sport-Mix -Bild.de Es kann nur einen geben! Heute Abend (22 Uh...</td>\n",
       "      <td>[{'text': 'US Open', 'type': 'ORGANIZATION'}, {'text': 'Freundschaft', 'type': 'OTHER'}, {'text': 'Alex Zverev', 'type': 'PERSON'}, {'text': 'Stärken', 'type': 'OTHER'}, {'text': 'Dominic Thiem', 'type': 'PERSON'}, {'text': 'Bilanz', 'type': 'OTHER'}, {'text': 'US Open', 'type': 'ORGANIZATION'}, {'text': 'Anruf', 'type': 'EVENT'}, {'text': 'Dominic Thiem', 'type': 'PERSON'}, {'text': 'Andy Murray', 'type': 'PERSON'}, {'text': 'Rekord', 'type': 'OTHER'}, {'text': 'Serena Williams', 'type': 'PERSON'}, {'text': 'Halbfinal', 'type': 'EVENT'}, {'text': 'Grand-Slam', 'type': 'ORGANIZATION'}, {'text': 'US Open', 'type': 'ORGANIZATION'}, {'text': 'Open-Halbfinale', 'type': 'EVENT'}, {'text': 'US', 'type': 'LOCATION'}, {'text': 'Alex Zverev', 'type': 'PERSON'}, {'text': 'Titeltraum', 'type': 'OTHER'}, {'text': 'Alexander Zverev', 'type': 'PERSON'}, {'text': 'Finale', 'type': 'EVENT'}, {'text': 'US Open', 'type': 'ORGANIZATION'}, {'text': 'Dominic Thiem', 'type': 'PERSON'}, {'text': 'Eltern'...</td>\n",
       "      <td>[{'text': 'Freundschaft', 'type': 'OTHER'}, {'text': 'Stärken', 'type': 'OTHER'}, {'text': 'Kumpel-Duell', 'type': 'CONSUMER_GOOD'}, {'text': 'Bilanz', 'type': 'OTHER'}, {'text': 'Zverev', 'type': 'PERSON'}, {'text': 'Thiem', 'type': 'PERSON'}, {'text': 'Anrufbei', 'type': 'PERSON'}, {'text': 'Zverevs', 'type': 'PERSON'}, {'text': 'Finalgegner Thiem', 'type': 'PERSON'}, {'text': 'Andy Murray', 'type': 'PERSON'}, {'text': 'Grand-Slam-Rekord', 'type': 'OTHER'}, {'text': 'fürSerena', 'type': 'ORGANIZATION'}, {'text': 'Williams', 'type': 'PERSON'}, {'text': 'Halbfinal', 'type': 'EVENT'}, {'text': 'Kracher-Aufschlag', 'type': 'OTHER'}, {'text': 'US-Open', 'type': 'EVENT'}, {'text': 'Halbfinale', 'type': 'EVENT'}, {'text': 'Zverev', 'type': 'PERSON'}, {'text': 'Sieger', 'type': 'ORGANIZATION'}, {'text': 'Titel-Traum', 'type': 'LOCATION'}, {'text': 'Zverevs', 'type': 'ORGANIZATION'}, {'text': 'Rede', 'type': 'OTHER'}, {'text': 'Tränen', 'type': 'OTHER'}, {'text': 'Zverev', 'type': 'PERSON...</td>\n",
       "      <td>[{'text': 'Jagd', 'type': 'OTHER'}, {'text': 'Titel-Premiere', 'type': 'EVENT'}, {'text': 'Grand-Slam-Titel', 'type': 'EVENT'}, {'text': 'Dominic Thiem', 'type': 'PERSON'}, {'text': 'Tennis-Stars', 'type': 'PERSON'}, {'text': 'Endspiel', 'type': 'EVENT'}, {'text': 'US Open', 'type': 'ORGANIZATION'}, {'text': 'Eurosport', 'type': 'ORGANIZATION'}, {'text': 'Schritt', 'type': 'OTHER'}, {'text': 'Alexander ``Sascha', 'type': 'PERSON'}, {'text': 'Wege', 'type': 'OTHER'}, {'text': 'Zverev', 'type': 'PERSON'}, {'text': 'Duell', 'type': 'EVENT'}, {'text': 'Finalisten', 'type': 'PERSON'}, {'text': 'Live-Ticker', 'type': 'OTHER'}, {'text': 'Australian Open', 'type': 'ORGANIZATION'}, {'text': 'Nummer', 'type': 'OTHER'}, {'text': 'Freundschaft', 'type': 'OTHER'}, {'text': 'Mentalität', 'type': 'OTHER'}, {'text': 'Zverev', 'type': 'ORGANIZATION'}, {'text': 'Welt', 'type': 'LOCATION'}, {'text': 'Nummer sieben', 'type': 'PERSON'}, {'text': 'Endspiel-Debütant', 'type': 'PERSON'}, {'text': 'Grand-S...</td>\n",
       "    </tr>\n",
       "  </tbody>\n",
       "</table>\n",
       "</div>"
      ],
      "text/plain": [
       "                                                                                                                                                                                                                                                                                                                                                                                                                                                                                                                                                                                                                                                                                                                                                                                                                                                                                                                                                                                                                                           Doc  \\\n",
       "Topic                                                                                                                                                                                                                                                                                                                                                                                                                                                                                                                                                                                                                                                                                                                                                                                                                                                                                                                                                                                                                                            \n",
       "0      jagd auf die titelpremiere wenn alexander sascha zverev heute abend uhr eurosport und bildliveticker im finale der us open auf dominic thiem trifft dann wird einer von beiden am ende seinen ersten grandslamtitel feiern es ist für beide tennisstars mehr als einfach nur ein endspiel der österreicher ich freue mich extrem wir haben eine langjährige freundschaft eine packende rivalität es ist geil dass sich unsere wege in einem grandslamendspiel kreuzen und zverev sagt es ist nur noch ein schritt aber es wird extrem schwer für mich wir haben ein episches duell in australien gespielt das halbfinale der australian open   für thiem im januar war das bisher letzte duell der beiden es kann nur einen geben heute abend uhr eurosport und im bildliveticker kämpfen alexander zverev und dominic thiem zverev gegen thiem die nummer sieben der welt gegen die nummer drei der endspieldebütant gegen den vierfachen finalisten bei einem grand slam bild erklärt was die beiden vereint und was sie untersche...   \n",
       "\n",
       "                                                                                                                                                                                                                                                                                                                                                                                                                                                                                                                                                                                                                                                                                                                                                                                                                                                                                                                                                                                                                                       Raw_Doc  \\\n",
       "Topic                                                                                                                                                                                                                                                                                                                                                                                                                                                                                                                                                                                                                                                                                                                                                                                                                                                                                                                                                                                                                                            \n",
       "0      Jagd auf die Titel-Premiere! Wenn Alexander „Sascha“ Zverev (23) heute Abend (22 Uhr Eurosport und BILD-Liveticker) im Finale der US Open auf Dominic Thiem (27) trifft, dann wird einer von beiden am Ende seinen ersten Grand-Slam-Titel feiern. Es ist für beide Tennis-Stars mehr als einfach nur ein Endspiel. Der Österreicher: „Ich freue mich extrem. Wir haben eine langjährige Freundschaft, eine packende Rivalität. Es ist geil, dass sich unsere Wege in einem Grand-Slam-Endspiel kreuzen.“ Und Zverev sagt: „Es ist nur noch ein Schritt, aber es wird extrem schwer für mich. Wir haben ein episches Duell in Australien gespielt.“ Das Halbfinale der Australian Open (3:6, 6:4, 7:6, 7:6  für Thiem) im Januar war das bisher letzte Duell der beiden. \\n                                    Es kann nur einen geben! Heute Abend (22 Uhr, Eurosport und im BILD-Live-Ticker) kämpfen Alexander Zverev (23) und Dominic Thiem (27... Zverev gegen Thiem, die Nummer sieben der Welt gegen die Nummer drei, der End...   \n",
       "\n",
       "                                                                                                                                                                                                                                                                                                                                                                                                                                                                                                                                                                                                                                                                                                                                                                                                                                                                                                                                                                                                                                           mix  \\\n",
       "Topic                                                                                                                                                                                                                                                                                                                                                                                                                                                                                                                                                                                                                                                                                                                                                                                                                                                                                                                                                                                                                                            \n",
       "0      US Open: Alex Zverev gegen Dominic Thiem – Freundschaft! Stärken! Bilanz!   -Sport-Mix -Bild.de Jagd auf die Titel-Premiere! Wenn Alexander „Sascha“ Zverev (23) heute Abend (22 Uhr Eurosport und BILD-Liveticker) im Finale der US Open auf Dominic Thiem (27) trifft, dann wird einer von beiden am Ende seinen ersten Grand-Slam-Titel feiern. Es ist für beide Tennis-Stars mehr als einfach nur ein Endspiel. Der Österreicher: „Ich freue mich extrem. Wir haben eine langjährige Freundschaft, eine packende Rivalität. Es ist geil, dass sich unsere Wege in einem Grand-Slam-Endspiel kreuzen.“ Und Zverev sagt: „Es ist nur noch ein Schritt, aber es wird extrem schwer für mich. Wir haben ein episches Duell in Australien gespielt.“ Das Halbfinale der Australian Open (3:6, 6:4, 7:6, 7:6  für Thiem) im Januar war das bisher letzte Duell der beiden. \\n                                US Open: Dominic Thiem zittert vor Anruf bei Andy Murray  -Sport-Mix -Bild.de Es kann nur einen geben! Heute Abend (22 Uh...   \n",
       "\n",
       "                                                                                                                                                                                                                                                                                                                                                                                                                                                                                                                                                                                                                                                                                                                                                                                                                                                                                                                                                                                                                                  seo_title_ne  \\\n",
       "Topic                                                                                                                                                                                                                                                                                                                                                                                                                                                                                                                                                                                                                                                                                                                                                                                                                                                                                                                                                                                                                                            \n",
       "0      [{'text': 'US Open', 'type': 'ORGANIZATION'}, {'text': 'Freundschaft', 'type': 'OTHER'}, {'text': 'Alex Zverev', 'type': 'PERSON'}, {'text': 'Stärken', 'type': 'OTHER'}, {'text': 'Dominic Thiem', 'type': 'PERSON'}, {'text': 'Bilanz', 'type': 'OTHER'}, {'text': 'US Open', 'type': 'ORGANIZATION'}, {'text': 'Anruf', 'type': 'EVENT'}, {'text': 'Dominic Thiem', 'type': 'PERSON'}, {'text': 'Andy Murray', 'type': 'PERSON'}, {'text': 'Rekord', 'type': 'OTHER'}, {'text': 'Serena Williams', 'type': 'PERSON'}, {'text': 'Halbfinal', 'type': 'EVENT'}, {'text': 'Grand-Slam', 'type': 'ORGANIZATION'}, {'text': 'US Open', 'type': 'ORGANIZATION'}, {'text': 'Open-Halbfinale', 'type': 'EVENT'}, {'text': 'US', 'type': 'LOCATION'}, {'text': 'Alex Zverev', 'type': 'PERSON'}, {'text': 'Titeltraum', 'type': 'OTHER'}, {'text': 'Alexander Zverev', 'type': 'PERSON'}, {'text': 'Finale', 'type': 'EVENT'}, {'text': 'US Open', 'type': 'ORGANIZATION'}, {'text': 'Dominic Thiem', 'type': 'PERSON'}, {'text': 'Eltern'...   \n",
       "\n",
       "                                                                                                                                                                                                                                                                                                                                                                                                                                                                                                                                                                                                                                                                                                                                                                                                                                                                                                                                                                                                                            kicker_headline_ne  \\\n",
       "Topic                                                                                                                                                                                                                                                                                                                                                                                                                                                                                                                                                                                                                                                                                                                                                                                                                                                                                                                                                                                                                                            \n",
       "0      [{'text': 'Freundschaft', 'type': 'OTHER'}, {'text': 'Stärken', 'type': 'OTHER'}, {'text': 'Kumpel-Duell', 'type': 'CONSUMER_GOOD'}, {'text': 'Bilanz', 'type': 'OTHER'}, {'text': 'Zverev', 'type': 'PERSON'}, {'text': 'Thiem', 'type': 'PERSON'}, {'text': 'Anrufbei', 'type': 'PERSON'}, {'text': 'Zverevs', 'type': 'PERSON'}, {'text': 'Finalgegner Thiem', 'type': 'PERSON'}, {'text': 'Andy Murray', 'type': 'PERSON'}, {'text': 'Grand-Slam-Rekord', 'type': 'OTHER'}, {'text': 'fürSerena', 'type': 'ORGANIZATION'}, {'text': 'Williams', 'type': 'PERSON'}, {'text': 'Halbfinal', 'type': 'EVENT'}, {'text': 'Kracher-Aufschlag', 'type': 'OTHER'}, {'text': 'US-Open', 'type': 'EVENT'}, {'text': 'Halbfinale', 'type': 'EVENT'}, {'text': 'Zverev', 'type': 'PERSON'}, {'text': 'Sieger', 'type': 'ORGANIZATION'}, {'text': 'Titel-Traum', 'type': 'LOCATION'}, {'text': 'Zverevs', 'type': 'ORGANIZATION'}, {'text': 'Rede', 'type': 'OTHER'}, {'text': 'Tränen', 'type': 'OTHER'}, {'text': 'Zverev', 'type': 'PERSON...   \n",
       "\n",
       "                                                                                                                                                                                                                                                                                                                                                                                                                                                                                                                                                                                                                                                                                                                                                                                                                                                                                                                                                                                                                                       text_ne  \n",
       "Topic                                                                                                                                                                                                                                                                                                                                                                                                                                                                                                                                                                                                                                                                                                                                                                                                                                                                                                                                                                                                                                           \n",
       "0      [{'text': 'Jagd', 'type': 'OTHER'}, {'text': 'Titel-Premiere', 'type': 'EVENT'}, {'text': 'Grand-Slam-Titel', 'type': 'EVENT'}, {'text': 'Dominic Thiem', 'type': 'PERSON'}, {'text': 'Tennis-Stars', 'type': 'PERSON'}, {'text': 'Endspiel', 'type': 'EVENT'}, {'text': 'US Open', 'type': 'ORGANIZATION'}, {'text': 'Eurosport', 'type': 'ORGANIZATION'}, {'text': 'Schritt', 'type': 'OTHER'}, {'text': 'Alexander ``Sascha', 'type': 'PERSON'}, {'text': 'Wege', 'type': 'OTHER'}, {'text': 'Zverev', 'type': 'PERSON'}, {'text': 'Duell', 'type': 'EVENT'}, {'text': 'Finalisten', 'type': 'PERSON'}, {'text': 'Live-Ticker', 'type': 'OTHER'}, {'text': 'Australian Open', 'type': 'ORGANIZATION'}, {'text': 'Nummer', 'type': 'OTHER'}, {'text': 'Freundschaft', 'type': 'OTHER'}, {'text': 'Mentalität', 'type': 'OTHER'}, {'text': 'Zverev', 'type': 'ORGANIZATION'}, {'text': 'Welt', 'type': 'LOCATION'}, {'text': 'Nummer sieben', 'type': 'PERSON'}, {'text': 'Endspiel-Debütant', 'type': 'PERSON'}, {'text': 'Grand-S...  "
      ]
     },
     "execution_count": 38,
     "metadata": {},
     "output_type": "execute_result"
    }
   ],
   "source": [
    "docs_per_topic.head(1)"
   ]
  },
  {
   "cell_type": "markdown",
   "metadata": {},
   "source": [
    "### Let's see how cluster-based TF-IDF selects words describing clusters\n",
    "\n",
    "# TFIDF on Text\n",
    "\n"
   ]
  },
  {
   "cell_type": "code",
   "execution_count": 16,
   "metadata": {},
   "outputs": [
    {
     "name": "stdout",
     "output_type": "stream",
     "text": [
      "Number of stopwords 607\n"
     ]
    },
    {
     "data": {
      "text/html": [
       "<div>\n",
       "<style scoped>\n",
       "    .dataframe tbody tr th:only-of-type {\n",
       "        vertical-align: middle;\n",
       "    }\n",
       "\n",
       "    .dataframe tbody tr th {\n",
       "        vertical-align: top;\n",
       "    }\n",
       "\n",
       "    .dataframe thead th {\n",
       "        text-align: right;\n",
       "    }\n",
       "</style>\n",
       "<table border=\"1\" class=\"dataframe\">\n",
       "  <thead>\n",
       "    <tr style=\"text-align: right;\">\n",
       "      <th></th>\n",
       "      <th>top_n_words</th>\n",
       "    </tr>\n",
       "    <tr>\n",
       "      <th>Topic</th>\n",
       "      <th></th>\n",
       "    </tr>\n",
       "  </thead>\n",
       "  <tbody>\n",
       "    <tr>\n",
       "      <th>0</th>\n",
       "      <td>grand slam | slam | open | grand | tennis | zverev | finale</td>\n",
       "    </tr>\n",
       "    <tr>\n",
       "      <th>1</th>\n",
       "      <td>brände | flammen | feuer | kalifornien | bundesstaaten | waldbrände | westküste</td>\n",
       "    </tr>\n",
       "    <tr>\n",
       "      <th>2</th>\n",
       "      <td>moria | lesbos | flüchtlinge | flüchtlingslager | merkel | 2015 | insel</td>\n",
       "    </tr>\n",
       "    <tr>\n",
       "      <th>4</th>\n",
       "      <td>football | nfl | quarterback | patriots | super bowl | bowl | new</td>\n",
       "    </tr>\n",
       "    <tr>\n",
       "      <th>9</th>\n",
       "      <td>fahrer | polizei | verletzungen | krankenhaus | auto | landkreis | ursache</td>\n",
       "    </tr>\n",
       "    <tr>\n",
       "      <th>10</th>\n",
       "      <td>formel | vettel | rennen | ferrari | mugello | strecke | sebastian vettel</td>\n",
       "    </tr>\n",
       "    <tr>\n",
       "      <th>14</th>\n",
       "      <td>urlaub | reisen | 49 171 | 171 | 171 9592211 | infektionszahlen | 2021 2021</td>\n",
       "    </tr>\n",
       "    <tr>\n",
       "      <th>16</th>\n",
       "      <td>krokodil | unstrut | schulz | wendt | reptil | gero wendt | gero</td>\n",
       "    </tr>\n",
       "    <tr>\n",
       "      <th>17</th>\n",
       "      <td>hunde | lotta | franziska | hündin | tiere | tier | facebook</td>\n",
       "    </tr>\n",
       "    <tr>\n",
       "      <th>18</th>\n",
       "      <td>kreml | nawalny | russische | nowitschok | alexej nawalny | alexej | kritiker</td>\n",
       "    </tr>\n",
       "    <tr>\n",
       "      <th>22</th>\n",
       "      <td>milliarden | milliarden euro | euro | krise | steuerschätzung | schulden | 2022</td>\n",
       "    </tr>\n",
       "    <tr>\n",
       "      <th>23</th>\n",
       "      <td>fortuna | rösler | ingolstadt | kownacki | pokal | uwe | dawid kownacki</td>\n",
       "    </tr>\n",
       "    <tr>\n",
       "      <th>29</th>\n",
       "      <td>garmisch partenkirchen | garmisch | partenkirchen | bars | neuinfektionen | 751 | 08821</td>\n",
       "    </tr>\n",
       "    <tr>\n",
       "      <th>30</th>\n",
       "      <td>schweinepest | wildschwein | afrikanischen | schweine | brandenburg | schweinefleisch | spree</td>\n",
       "    </tr>\n",
       "    <tr>\n",
       "      <th>44</th>\n",
       "      <td>millionen | tv | dollar | star | instagram | show | millionen dollar</td>\n",
       "    </tr>\n",
       "    <tr>\n",
       "      <th>45</th>\n",
       "      <td>island | love island | love | henrik | enkel | aurelia | couple</td>\n",
       "    </tr>\n",
       "    <tr>\n",
       "      <th>50</th>\n",
       "      <td>fifa | bewertung | esport | ea | ratings | release | ea sports</td>\n",
       "    </tr>\n",
       "    <tr>\n",
       "      <th>51</th>\n",
       "      <td>dtm | rast | nico | pilot | müller | 28 29 | frijns</td>\n",
       "    </tr>\n",
       "    <tr>\n",
       "      <th>53</th>\n",
       "      <td>lukaschenko | kolesnikowa | minsk | macht | diktator | maria | sicherheitskräfte</td>\n",
       "    </tr>\n",
       "  </tbody>\n",
       "</table>\n",
       "</div>"
      ],
      "text/plain": [
       "                                                                                         top_n_words\n",
       "Topic                                                                                               \n",
       "0                                        grand slam | slam | open | grand | tennis | zverev | finale\n",
       "1                    brände | flammen | feuer | kalifornien | bundesstaaten | waldbrände | westküste\n",
       "2                            moria | lesbos | flüchtlinge | flüchtlingslager | merkel | 2015 | insel\n",
       "4                                  football | nfl | quarterback | patriots | super bowl | bowl | new\n",
       "9                         fahrer | polizei | verletzungen | krankenhaus | auto | landkreis | ursache\n",
       "10                         formel | vettel | rennen | ferrari | mugello | strecke | sebastian vettel\n",
       "14                       urlaub | reisen | 49 171 | 171 | 171 9592211 | infektionszahlen | 2021 2021\n",
       "16                                  krokodil | unstrut | schulz | wendt | reptil | gero wendt | gero\n",
       "17                                      hunde | lotta | franziska | hündin | tiere | tier | facebook\n",
       "18                     kreml | nawalny | russische | nowitschok | alexej nawalny | alexej | kritiker\n",
       "22                   milliarden | milliarden euro | euro | krise | steuerschätzung | schulden | 2022\n",
       "23                           fortuna | rösler | ingolstadt | kownacki | pokal | uwe | dawid kownacki\n",
       "29           garmisch partenkirchen | garmisch | partenkirchen | bars | neuinfektionen | 751 | 08821\n",
       "30     schweinepest | wildschwein | afrikanischen | schweine | brandenburg | schweinefleisch | spree\n",
       "44                              millionen | tv | dollar | star | instagram | show | millionen dollar\n",
       "45                                   island | love island | love | henrik | enkel | aurelia | couple\n",
       "50                                    fifa | bewertung | esport | ea | ratings | release | ea sports\n",
       "51                                               dtm | rast | nico | pilot | müller | 28 29 | frijns\n",
       "53                  lukaschenko | kolesnikowa | minsk | macht | diktator | maria | sicherheitskräfte"
      ]
     },
     "execution_count": 16,
     "metadata": {},
     "output_type": "execute_result"
    }
   ],
   "source": [
    "tf_idf, count = utils.c_tf_idf(docs_per_topic.text_ne.values, m=len(pdf),ngram_range=(1,2),remove_stop_words=True)\n",
    "top_n_words = utils.extract_top_n_words_per_topic(tf_idf, count, docs_per_topic.reset_index(), n=20)\n",
    "top_6_words_per_topic = pd.DataFrame([(k,\" | \".join([e[0] for e in v][:7]))  for (k,v) in top_n_words.items()],columns=[\"Topic\",\"top_n_words\"])\n",
    "top_6_words_per_topic[\"Topic\"]=top_6_words_per_topic[\"Topic\"].apply(int)\n",
    "topic_sizes = utils.extract_topic_sizes(docs_df)\n",
    "top_6_words_per_topic=top_6_words_per_topic.set_index(\"Topic\")\n",
    "pd.set_option('display.max_colwidth', 1000)\n",
    "\n",
    "top_6_words_per_topic\n"
   ]
  },
  {
   "cell_type": "code",
   "execution_count": 33,
   "metadata": {},
   "outputs": [
    {
     "name": "stderr",
     "output_type": "stream",
     "text": [
      "/Users/tomasztkaczyk/opt/anaconda3/envs/py38/lib/python3.8/site-packages/sklearn/utils/validation.py:68: FutureWarning: Pass input=['a', 'b'] as keyword args. From version 0.25 passing these as positional arguments will result in an error\n",
      "  warnings.warn(\"Pass {} as keyword args. From version 0.25 \"\n"
     ]
    },
    {
     "data": {
      "text/plain": [
       "CountVectorizer(input=['a', 'b'])"
      ]
     },
     "execution_count": 33,
     "metadata": {},
     "output_type": "execute_result"
    }
   ],
   "source": []
  },
  {
   "cell_type": "markdown",
   "metadata": {},
   "source": [
    "## Let's apply FLAIR-based NER on:\n",
    "- Raw documents joined together\n",
    "- Headline + SEO title joined together "
   ]
  },
  {
   "cell_type": "code",
   "execution_count": 65,
   "metadata": {},
   "outputs": [
    {
     "name": "stdout",
     "output_type": "stream",
     "text": [
      "[('Zverev', 66), ('US Open', 51), ('Alexander Zverev', 36), ('Thiem', 24), ('New York', 22), ('Boris Becker', 16)]\n"
     ]
    }
   ],
   "source": [
    "\"\"\" On Raw text\"\"\"\n",
    "ner_labels = ner_article(docs_per_topic[\"Raw_Doc\"].loc[0])\n",
    "print(collections.Counter([x[\"text\"] for x in ner_labels if \"bild\" not in x[\"text\"].lower()]).most_common()[:6])\n",
    "\n"
   ]
  },
  {
   "cell_type": "code",
   "execution_count": 13,
   "metadata": {},
   "outputs": [
    {
     "name": "stdout",
     "output_type": "stream",
     "text": [
      "[('US Open', 12), ('Alexander Zverev', 7), ('Dominic Thiem', 5), ('Zverev', 3), ('Alex Zverev', 2), ('Mischa', 2)]\n"
     ]
    }
   ],
   "source": [
    "ner_labels = ner_article(docs_per_topic[\"mix\"].loc[0])\n",
    "print(collections.Counter([x[\"text\"] for x in ner_labels if \"bild\" not in x[\"text\"].lower()]).most_common()[:6])"
   ]
  },
  {
   "cell_type": "code",
   "execution_count": null,
   "metadata": {},
   "outputs": [],
   "source": []
  },
  {
   "cell_type": "code",
   "execution_count": null,
   "metadata": {},
   "outputs": [],
   "source": [
    "ctrs=[]\n",
    "start_time = time.time()\n",
    "\n",
    "for topic in docs_per_topic.index.values:\n",
    "    ner_labels = ner_article(docs_per_topic[\"Raw_Doc\"].loc[topic])\n",
    "    ctrs.append(collections.Counter([x[\"text\"] for x in ner_labels if \"bild\" not in x[\"text\"].lower() ]).most_common()[:10])\n",
    "print(\"--- Documnets NER encoded %s seconds ---\" % (time.time() - start_time))"
   ]
  },
  {
   "cell_type": "code",
   "execution_count": null,
   "metadata": {},
   "outputs": [],
   "source": [
    "dict_with_top_words = {k:v  for k,v in  zip(docs_per_topic.index.values,ctrs)}    \n",
    "dict_with_top_words[6]"
   ]
  },
  {
   "cell_type": "code",
   "execution_count": null,
   "metadata": {},
   "outputs": [],
   "source": [
    "ctrs=[]\n",
    "\n",
    "start_time = time.time()\n",
    "\n",
    "for topic in docs_per_topic.index.values: # Go over topic labels \n",
    "    ner_labels = ner_article(docs_per_topic[\"mix\"].loc[topic])\n",
    "    counted_word_occurances = collections.Counter([x[\"text\"] for x in ner_labels if \"bild\" not in x[\"text\"].lower() ]).most_common()[:10]\n",
    "    ctrs.append(counted_word_occurances)\n",
    "print(\"--- Titles NER encoded in %s seconds ---\" % (time.time() - start_time))\n",
    "    "
   ]
  },
  {
   "cell_type": "code",
   "execution_count": null,
   "metadata": {},
   "outputs": [],
   "source": [
    "dict_with_top_words = {k:v  for k,v in  zip(topic_sizes[\"Topic\"].values,ctrs)}    \n",
    "\n",
    "\n",
    "pd.DataFrame(zip(topic_sizes[\"Topic\"].values,[\" | \".join([word[0] for word in word_score]) for word_score in ctrs]),columns=[\"Topic\",\"TopWords\"]).sort_values(by=\"Topic\").set_index(\"Topic\")"
   ]
  },
  {
   "cell_type": "markdown",
   "metadata": {},
   "source": [
    "# Using NER from Google API \n",
    "\n",
    "Now for every article let's load list of entities from Google NLP"
   ]
  },
  {
   "cell_type": "code",
   "execution_count": 10,
   "metadata": {},
   "outputs": [],
   "source": [
    "\n",
    "def parse_google_named_entities(json_obj,deduplicate=False):\n",
    "    #Parse objets and deduplicate list of them \n",
    "    parse_named_entity = lambda ne: {\"text\":ne[\"name\"],\"type\":ne[\"type\"]}\n",
    "    list_of_objects = [parse_named_entity(ne) for ne in json.loads(json_obj)[0][\"entities\"] if \"bild\" not in ne[\"name\"].lower() ]\n",
    "    if not deduplicate:\n",
    "        return dedupe(list_of_objects)\n",
    "    else:\n",
    "        return list_of_objects\n",
    "    "
   ]
  },
  {
   "cell_type": "code",
   "execution_count": 14,
   "metadata": {},
   "outputs": [
    {
     "data": {
      "text/plain": [
       "([{'text': 'Fahrer', 'type': 'PERSON'},\n",
       "  {'text': 'Führerschein', 'type': 'OTHER'},\n",
       "  {'text': '510-PS-Flitzerkracht', 'type': 'EVENT'},\n",
       "  {'text': 'Baum', 'type': 'OTHER'},\n",
       "  {'text': '510', 'type': 'NUMBER'}],\n",
       " [{'text': 'Unfall', 'type': 'EVENT'},\n",
       "  {'text': 'Hilden', 'type': 'LOCATION'},\n",
       "  {'text': '510-PS-Flitzer', 'type': 'CONSUMER_GOOD'},\n",
       "  {'text': '510', 'type': 'NUMBER'}])"
      ]
     },
     "execution_count": 14,
     "metadata": {},
     "output_type": "execute_result"
    }
   ],
   "source": [
    "article_id = 2\n",
    "utils.parse_google_named_entities(labeled.kicker_headline[article_id]),utils.parse_google_named_entities(labeled.seo_title_ne[article_id])\n"
   ]
  },
  {
   "cell_type": "code",
   "execution_count": 40,
   "metadata": {},
   "outputs": [],
   "source": [
    "ctrs=[]\n",
    "for topic in docs_per_topic.index.values: # Go over topic labels \n",
    "    text_entities = [elem['text'] for \n",
    "                         elem in docs_per_topic.loc[topic][\"text_ne\"] \n",
    "                             if not elem['type'] ==\"NUMBER\" and not elem['type'] ==\"COMMON\" ]\n",
    "    seo_title_entities = [elem[\"text\"] \n",
    "                          for elem in docs_per_topic.loc[topic][\"seo_title_ne\"] \n",
    "                              if not elem['type'] ==\"NUMBER\" and not elem['type'] ==\"COMMON\" ] * 2\n",
    "    kicker_headline_entities = [elem[\"text\"] \n",
    "                                for elem in docs_per_topic.loc[topic][\"kicker_headline_ne\"] \n",
    "                                    if not elem['type'] ==\"NUMBER\" and not elem['type'] ==\"COMMON\" ] * 3\n",
    "    \n",
    "    counted_word_occurances = collections.Counter(text_entities+seo_title_entities+kicker_headline_entities).most_common()[:8]\n",
    "\n",
    "    #counted_word_occurances = collections.Counter([elem[\"text\"] for elem in docs_per_topic.set_index(\"Topic\").loc[topic][\"text_ne\"] if not elem['type'] ==\"NUMBER\" and not elem['type'] ==\"COMMON\"]).most_common()[:10]\n",
    "    ctrs.append(counted_word_occurances)\n",
    "dict_with_top_words = {k:v  for k,v in  zip(docs_per_topic.index.values,ctrs)}    \n",
    "\n",
    "\n",
    "cluster_labels_google = pd.DataFrame(zip(docs_per_topic.index.values,[\" | \".join([word[0] for word in word_score]) for word_score in ctrs]),columns=[\"Topic\",\"TopWords\"]).sort_values(by=\"Topic\").set_index(\"Topic\")"
   ]
  },
  {
   "cell_type": "code",
   "execution_count": 30,
   "metadata": {},
   "outputs": [
    {
     "data": {
      "application/vnd.jupyter.widget-view+json": {
       "model_id": "bcc935de25ae4fb5b750e93276b723d2",
       "version_major": 2,
       "version_minor": 0
      },
      "text/plain": [
       "HBox(children=(FloatProgress(value=0.0, description='Batches', max=8.0, style=ProgressStyle(description_width=…"
      ]
     },
     "metadata": {},
     "output_type": "display_data"
    },
    {
     "name": "stdout",
     "output_type": "stream",
     "text": [
      "\n",
      "--- Embedding dimension 768\n",
      "--- 239 Documnets encoded 23.387112855911255 seconds ---\n",
      ">> Silhouette Coefficient: 0.10162369161844254\r"
     ]
    }
   ],
   "source": [
    "\n",
    "word_embedding_model = models.Transformer(\n",
    "        'T-Systems-onsite/bert-german-dbmdz-uncased-sentence-stsb')\n",
    "\n",
    "\n",
    "max_pooling = False\n",
    "\n",
    "embeddings = modeling.get_sentence_embeddings(X.text.values,word_embedding_model,max_pooling)\n",
    "\n",
    "N_COMPONENTS=256\n",
    "alpha=1.0\n",
    "min_cluster_size=3\n",
    "min_samples=5\n",
    "n_neighbors=20\n",
    "\n",
    "results,cluster_labels = modeling.cluster_and_reduce(embeddings,n_components_clustering=N_COMPONENTS,\n",
    "                                                                             min_cluster_size=min_cluster_size,n_neighbors=n_neighbors, \n",
    "                                                                             min_samples= min_samples,alpha=alpha)"
   ]
  },
  {
   "cell_type": "code",
   "execution_count": 70,
   "metadata": {},
   "outputs": [
    {
     "name": "stdout",
     "output_type": "stream",
     "text": [
      "Outliers: 0 | Clustered: 239 | 1.0 \n",
      " Cluster count: 19 \n"
     ]
    },
    {
     "data": {
      "application/vnd.plotly.v1+json": {
       "config": {
        "plotlyServerURL": "https://plot.ly"
       },
       "data": [
        {
         "customdata": [
          [
           "2020-09-12",
           "Corona | Corona-Krise | Wirtschaft | Finanzminister | Geld | Steuererhöhungen | Leben | Unternehmen"
          ],
          [
           "2020-09-11",
           "Corona | Corona-Krise | Wirtschaft | Finanzminister | Geld | Steuererhöhungen | Leben | Unternehmen"
          ],
          [
           "2020-09-11",
           "Corona | Corona-Krise | Wirtschaft | Finanzminister | Geld | Steuererhöhungen | Leben | Unternehmen"
          ],
          [
           "2020-09-10",
           "Corona | Corona-Krise | Wirtschaft | Finanzminister | Geld | Steuererhöhungen | Leben | Unternehmen"
          ],
          [
           "2020-09-10",
           "Corona | Corona-Krise | Wirtschaft | Finanzminister | Geld | Steuererhöhungen | Leben | Unternehmen"
          ],
          [
           "2020-09-11",
           "Corona | Corona-Krise | Wirtschaft | Finanzminister | Geld | Steuererhöhungen | Leben | Unternehmen"
          ],
          [
           "2020-09-10",
           "Corona | Corona-Krise | Wirtschaft | Finanzminister | Geld | Steuererhöhungen | Leben | Unternehmen"
          ],
          [
           "2020-09-10",
           "Corona | Corona-Krise | Wirtschaft | Finanzminister | Geld | Steuererhöhungen | Leben | Unternehmen"
          ],
          [
           "2020-09-10",
           "Corona | Corona-Krise | Wirtschaft | Finanzminister | Geld | Steuererhöhungen | Leben | Unternehmen"
          ],
          [
           "2020-09-13",
           "Corona | Corona-Krise | Wirtschaft | Finanzminister | Geld | Steuererhöhungen | Leben | Unternehmen"
          ],
          [
           "2020-09-14",
           "Corona | Corona-Krise | Wirtschaft | Finanzminister | Geld | Steuererhöhungen | Leben | Unternehmen"
          ],
          [
           "2020-09-13",
           "Corona | Corona-Krise | Wirtschaft | Finanzminister | Geld | Steuererhöhungen | Leben | Unternehmen"
          ]
         ],
         "hovertemplate": "<b>%{hovertext}</b><br><br>TopWords=%{customdata[1]}<br>x=%{x}<br>y=%{y}<br>created_at=%{customdata[0]}<extra></extra>",
         "hovertext": [
          "Welche Versicherung muss sein, welche ist Quatsch?",
          "So lange müssen wir die Corona-Schulden abstottern",
          "50 Sparfochs-Tipps für ein sorgenfreieres Leben",
          "Steuererhöhungen Gift in der Corona-Krise",
          "So werden aus 10 000 Euro mit etwas Geduld 99 000 Euro!",
          "Neue Privatleasing-Schnäppchen",
          "Kassensturz: So groß ist das Corona-Steuerloch",
          "Spätestens im März wird es ein Massensterben geben",
          "Historischer Steuer-Einbruch in Bayern",
          "So weit geht die Renten-Schere auseinander",
          "Corona reißt Milliarden-Loch",
          "Wie stark belastet Corona unseren Geldbeutel?"
         ],
         "legendgroup": "Corona | Corona-Krise | Wirtschaft | Finanzminister | Geld | Steuererhöhungen | Leben | Unternehmen",
         "marker": {
          "color": "#636efa",
          "line": {
           "color": "DarkSlateGrey",
           "width": 0.15
          },
          "opacity": 0.8,
          "size": 9,
          "symbol": "circle"
         },
         "mode": "markers",
         "name": "Corona | Corona-Krise | Wirtschaft | Finanzminister | Geld | Steuererhöhungen | Leben | Unternehmen",
         "orientation": "v",
         "showlegend": true,
         "type": "scatter",
         "x": [
          8.307023048400879,
          8.301155090332031,
          8.477301597595215,
          8.690620422363281,
          8.568340301513672,
          8.394426345825195,
          8.804691314697266,
          8.591793060302734,
          8.846543312072754,
          8.67005443572998,
          8.561059951782227,
          8.576682090759277
         ],
         "xaxis": "x",
         "y": [
          12.25772476196289,
          12.1187105178833,
          12.049263954162598,
          12.245316505432129,
          11.705001831054688,
          11.882383346557617,
          12.151264190673828,
          12.401639938354492,
          12.128424644470215,
          11.929558753967285,
          12.346991539001465,
          12.351606369018555
         ],
         "yaxis": "y"
        },
        {
         "customdata": [
          [
           "2020-09-13",
           "Polizei | Hunde | Löwenbaby | Lotta | Welpen | Leipzig | Hund | Hündin"
          ],
          [
           "2020-09-10",
           "Polizei | Hunde | Löwenbaby | Lotta | Welpen | Leipzig | Hund | Hündin"
          ],
          [
           "2020-09-10",
           "Polizei | Hunde | Löwenbaby | Lotta | Welpen | Leipzig | Hund | Hündin"
          ],
          [
           "2020-09-11",
           "Polizei | Hunde | Löwenbaby | Lotta | Welpen | Leipzig | Hund | Hündin"
          ],
          [
           "2020-09-12",
           "Polizei | Hunde | Löwenbaby | Lotta | Welpen | Leipzig | Hund | Hündin"
          ],
          [
           "2020-09-14",
           "Polizei | Hunde | Löwenbaby | Lotta | Welpen | Leipzig | Hund | Hündin"
          ],
          [
           "2020-09-13",
           "Polizei | Hunde | Löwenbaby | Lotta | Welpen | Leipzig | Hund | Hündin"
          ],
          [
           "2020-09-09",
           "Polizei | Hunde | Löwenbaby | Lotta | Welpen | Leipzig | Hund | Hündin"
          ],
          [
           "2020-09-09",
           "Polizei | Hunde | Löwenbaby | Lotta | Welpen | Leipzig | Hund | Hündin"
          ]
         ],
         "hovertemplate": "<b>%{hovertext}</b><br><br>TopWords=%{customdata[1]}<br>x=%{x}<br>y=%{y}<br>created_at=%{customdata[0]}<extra></extra>",
         "hovertext": [
          "Tierschützer retten völlig verwahrloste Dackel",
          "Lotta von Entführerin befreit",
          "Entflogener Hornvogel eingefangen",
          "Zöllner retten Zwergspitz-Welpen",
          "Polizei rettet verwahrloste Welpen aus Wohnung",
          "Ist es wirklich schlecht, seinen Hund zu tragen?",
          "Polizei entdeckt vernachlässigte Pferde in Sachsen",
          "Lotta beim Einkaufen entführt!",
          "So läuft das miese Geschäft mit exotischen Tieren"
         ],
         "legendgroup": "Polizei | Hunde | Löwenbaby | Lotta | Welpen | Leipzig | Hund | Hündin",
         "marker": {
          "color": "#EF553B",
          "line": {
           "color": "DarkSlateGrey",
           "width": 0.15
          },
          "opacity": 0.8,
          "size": 9,
          "symbol": "circle"
         },
         "mode": "markers",
         "name": "Polizei | Hunde | Löwenbaby | Lotta | Welpen | Leipzig | Hund | Hündin",
         "orientation": "v",
         "showlegend": true,
         "type": "scatter",
         "x": [
          9.454608917236328,
          9.73563289642334,
          10.109898567199707,
          9.623092651367188,
          9.565361022949219,
          9.586726188659668,
          9.648630142211914,
          9.665287017822266,
          9.528602600097656
         ],
         "xaxis": "x",
         "y": [
          13.4915771484375,
          13.25642204284668,
          13.044001579284668,
          13.312211990356445,
          13.417572021484375,
          13.301606178283691,
          13.369515419006348,
          13.181175231933594,
          13.198875427246094
         ],
         "yaxis": "y"
        },
        {
         "customdata": [
          [
           "2020-09-10",
           "Moria | Lesbos | Kinder | Flüchtlinge | Flüchtlingslager | Politik | Menschen | Feuer"
          ],
          [
           "2020-09-12",
           "Moria | Lesbos | Kinder | Flüchtlinge | Flüchtlingslager | Politik | Menschen | Feuer"
          ],
          [
           "2020-09-11",
           "Moria | Lesbos | Kinder | Flüchtlinge | Flüchtlingslager | Politik | Menschen | Feuer"
          ],
          [
           "2020-09-09",
           "Moria | Lesbos | Kinder | Flüchtlinge | Flüchtlingslager | Politik | Menschen | Feuer"
          ],
          [
           "2020-09-11",
           "Moria | Lesbos | Kinder | Flüchtlinge | Flüchtlingslager | Politik | Menschen | Feuer"
          ],
          [
           "2020-09-09",
           "Moria | Lesbos | Kinder | Flüchtlinge | Flüchtlingslager | Politik | Menschen | Feuer"
          ],
          [
           "2020-09-11",
           "Moria | Lesbos | Kinder | Flüchtlinge | Flüchtlingslager | Politik | Menschen | Feuer"
          ],
          [
           "2020-09-14",
           "Moria | Lesbos | Kinder | Flüchtlinge | Flüchtlingslager | Politik | Menschen | Feuer"
          ],
          [
           "2020-09-12",
           "Moria | Lesbos | Kinder | Flüchtlinge | Flüchtlingslager | Politik | Menschen | Feuer"
          ],
          [
           "2020-09-11",
           "Moria | Lesbos | Kinder | Flüchtlinge | Flüchtlingslager | Politik | Menschen | Feuer"
          ],
          [
           "2020-09-14",
           "Moria | Lesbos | Kinder | Flüchtlinge | Flüchtlingslager | Politik | Menschen | Feuer"
          ],
          [
           "2020-09-10",
           "Moria | Lesbos | Kinder | Flüchtlinge | Flüchtlingslager | Politik | Menschen | Feuer"
          ],
          [
           "2020-09-13",
           "Moria | Lesbos | Kinder | Flüchtlinge | Flüchtlingslager | Politik | Menschen | Feuer"
          ],
          [
           "2020-09-12",
           "Moria | Lesbos | Kinder | Flüchtlinge | Flüchtlingslager | Politik | Menschen | Feuer"
          ],
          [
           "2020-09-10",
           "Moria | Lesbos | Kinder | Flüchtlinge | Flüchtlingslager | Politik | Menschen | Feuer"
          ],
          [
           "2020-09-14",
           "Moria | Lesbos | Kinder | Flüchtlinge | Flüchtlingslager | Politik | Menschen | Feuer"
          ],
          [
           "2020-09-10",
           "Moria | Lesbos | Kinder | Flüchtlinge | Flüchtlingslager | Politik | Menschen | Feuer"
          ],
          [
           "2020-09-14",
           "Moria | Lesbos | Kinder | Flüchtlinge | Flüchtlingslager | Politik | Menschen | Feuer"
          ],
          [
           "2020-09-13",
           "Moria | Lesbos | Kinder | Flüchtlinge | Flüchtlingslager | Politik | Menschen | Feuer"
          ],
          [
           "2020-09-11",
           "Moria | Lesbos | Kinder | Flüchtlinge | Flüchtlingslager | Politik | Menschen | Feuer"
          ],
          [
           "2020-09-12",
           "Moria | Lesbos | Kinder | Flüchtlinge | Flüchtlingslager | Politik | Menschen | Feuer"
          ],
          [
           "2020-09-10",
           "Moria | Lesbos | Kinder | Flüchtlinge | Flüchtlingslager | Politik | Menschen | Feuer"
          ],
          [
           "2020-09-14",
           "Moria | Lesbos | Kinder | Flüchtlinge | Flüchtlingslager | Politik | Menschen | Feuer"
          ],
          [
           "2020-09-10",
           "Moria | Lesbos | Kinder | Flüchtlinge | Flüchtlingslager | Politik | Menschen | Feuer"
          ]
         ],
         "hovertemplate": "<b>%{hovertext}</b><br><br>TopWords=%{customdata[1]}<br>x=%{x}<br>y=%{y}<br>created_at=%{customdata[0]}<extra></extra>",
         "hovertext": [
          "Die Kinder von Moria brauchen unsere Hilfe",
          "In dieser Hölle lebenrund 4000 Kinder",
          "Diese Missstände führten zur Schande von Moria",
          "Hunderte demonstrieren für Aufnahme von Flüchtlingen",
          "Deutschland nimmt 100 bis 150 Kinder aus Moria auf",
          "Zweites Feuer im Flüchtlingscamp Moria!",
          "Deutschland nimmt 100 bis 150 Minderjährige auf",
          "„Vorausgehen taugt nichts, wenn niemand mehr folgen will“",
          "Polizei setzt Tränengasgegen Migranten ein",
          "Die Kinder von Moria lernen weiter",
          "Merkel will mehr Moria-Flüchtlinge aufnehmen!",
          "Alle wussten, dass es passieren würde",
          "Niemand will ein zweites Moria",
          "Claudia Roth attackiert Seehofer",
          "10 deutsche Städte wollen Moria-Flüchtlinge aufnehmen",
          "Darum wollen sie nicht ins neue Camp",
          "Großbrand am Hafen von Beirut",
          "EU muss Chinas Firmen-„Einkaufstour“ stoppen!",
          "Werden Sie nicht zum Herzlos-Kanzler, Herr Kurz!",
          "Viele wollen nach „Germany“",
          "Kinder weinen, Politiker streiten",
          "Übernahme von 400 Kinder aus Moria in EU",
          "DRK-Hilfsflüge nach Lesbos",
          "Nach zweitem Feuer: Menschen schliefen auf der Straße"
         ],
         "legendgroup": "Moria | Lesbos | Kinder | Flüchtlinge | Flüchtlingslager | Politik | Menschen | Feuer",
         "marker": {
          "color": "#00cc96",
          "line": {
           "color": "DarkSlateGrey",
           "width": 0.15
          },
          "opacity": 0.8,
          "size": 9,
          "symbol": "circle"
         },
         "mode": "markers",
         "name": "Moria | Lesbos | Kinder | Flüchtlinge | Flüchtlingslager | Politik | Menschen | Feuer",
         "orientation": "v",
         "showlegend": true,
         "type": "scatter",
         "x": [
          8.19973373413086,
          8.106441497802734,
          8.142220497131348,
          8.13079833984375,
          8.046403884887695,
          8.2284574508667,
          8.043946266174316,
          8.097618103027344,
          8.050158500671387,
          8.416855812072754,
          8.261930465698242,
          8.27840518951416,
          7.954208850860596,
          8.286081314086914,
          8.228985786437988,
          7.921602725982666,
          8.229796409606934,
          8.83133316040039,
          8.206016540527344,
          8.233302116394043,
          8.015290260314941,
          8.136677742004395,
          8.236245155334473,
          8.268004417419434
         ],
         "xaxis": "x",
         "y": [
          14.116305351257324,
          13.826789855957031,
          14.293030738830566,
          14.159667015075684,
          13.889002799987793,
          13.79186725616455,
          13.63887882232666,
          13.88453483581543,
          14.326526641845703,
          14.174148559570312,
          13.773761749267578,
          14.212658882141113,
          14.043142318725586,
          13.719980239868164,
          13.998867988586426,
          13.902710914611816,
          13.729131698608398,
          13.325112342834473,
          13.752735137939453,
          13.971845626831055,
          14.007720947265625,
          13.795392036437988,
          13.958738327026367,
          13.845967292785645
         ],
         "yaxis": "y"
        },
        {
         "customdata": [
          [
           "2020-09-10",
           "Fortuna Düsseldorf | Trainer | Uwe Rösler | Fortuna | Pause | Platz | Liga | Sturm"
          ],
          [
           "2020-09-13",
           "Fortuna Düsseldorf | Trainer | Uwe Rösler | Fortuna | Pause | Platz | Liga | Sturm"
          ],
          [
           "2020-09-13",
           "Fortuna Düsseldorf | Trainer | Uwe Rösler | Fortuna | Pause | Platz | Liga | Sturm"
          ],
          [
           "2020-09-14",
           "Fortuna Düsseldorf | Trainer | Uwe Rösler | Fortuna | Pause | Platz | Liga | Sturm"
          ],
          [
           "2020-09-09",
           "Fortuna Düsseldorf | Trainer | Uwe Rösler | Fortuna | Pause | Platz | Liga | Sturm"
          ],
          [
           "2020-09-11",
           "Fortuna Düsseldorf | Trainer | Uwe Rösler | Fortuna | Pause | Platz | Liga | Sturm"
          ],
          [
           "2020-09-11",
           "Fortuna Düsseldorf | Trainer | Uwe Rösler | Fortuna | Pause | Platz | Liga | Sturm"
          ],
          [
           "2020-09-12",
           "Fortuna Düsseldorf | Trainer | Uwe Rösler | Fortuna | Pause | Platz | Liga | Sturm"
          ]
         ],
         "hovertemplate": "<b>%{hovertext}</b><br><br>TopWords=%{customdata[1]}<br>x=%{x}<br>y=%{y}<br>created_at=%{customdata[0]}<extra></extra>",
         "hovertext": [
          "Iyoha drohtlange Pause!",
          "Goldhändchen Rösler!",
          "Preußen-Doc beklagt Vertrauens-Verlust",
          "„Krieger” Sobottka zieht wieder die Strippen",
          "Kownacki wankt über den Platz",
          "Wolf bekommtdie Nr. 1",
          "Zum Pokal-Start nur Hennings da",
          "Nächstes Pokal-Spielvor Absage"
         ],
         "legendgroup": "Fortuna Düsseldorf | Trainer | Uwe Rösler | Fortuna | Pause | Platz | Liga | Sturm",
         "marker": {
          "color": "#ab63fa",
          "line": {
           "color": "DarkSlateGrey",
           "width": 0.15
          },
          "opacity": 0.8,
          "size": 9,
          "symbol": "circle"
         },
         "mode": "markers",
         "name": "Fortuna Düsseldorf | Trainer | Uwe Rösler | Fortuna | Pause | Platz | Liga | Sturm",
         "orientation": "v",
         "showlegend": true,
         "type": "scatter",
         "x": [
          10.199263572692871,
          9.736181259155273,
          10.292391777038574,
          10.138099670410156,
          10.193634986877441,
          10.07370662689209,
          9.987385749816895,
          9.657068252563477
         ],
         "xaxis": "x",
         "y": [
          11.845104217529297,
          11.547465324401855,
          11.655454635620117,
          10.933774948120117,
          11.61546516418457,
          11.438894271850586,
          11.22149658203125,
          11.880888938903809
         ],
         "yaxis": "y"
        },
        {
         "customdata": [
          [
           "2020-09-13",
           "Formel 1 | Mugello | Ferrari | Rennen | Sebastian Vettel | Vettel | Aston Martin | Massen-Crash"
          ],
          [
           "2020-09-11",
           "Formel 1 | Mugello | Ferrari | Rennen | Sebastian Vettel | Vettel | Aston Martin | Massen-Crash"
          ],
          [
           "2020-09-10",
           "Formel 1 | Mugello | Ferrari | Rennen | Sebastian Vettel | Vettel | Aston Martin | Massen-Crash"
          ],
          [
           "2020-09-11",
           "Formel 1 | Mugello | Ferrari | Rennen | Sebastian Vettel | Vettel | Aston Martin | Massen-Crash"
          ],
          [
           "2020-09-11",
           "Formel 1 | Mugello | Ferrari | Rennen | Sebastian Vettel | Vettel | Aston Martin | Massen-Crash"
          ],
          [
           "2020-09-14",
           "Formel 1 | Mugello | Ferrari | Rennen | Sebastian Vettel | Vettel | Aston Martin | Massen-Crash"
          ],
          [
           "2020-09-09",
           "Formel 1 | Mugello | Ferrari | Rennen | Sebastian Vettel | Vettel | Aston Martin | Massen-Crash"
          ],
          [
           "2020-09-10",
           "Formel 1 | Mugello | Ferrari | Rennen | Sebastian Vettel | Vettel | Aston Martin | Massen-Crash"
          ],
          [
           "2020-09-13",
           "Formel 1 | Mugello | Ferrari | Rennen | Sebastian Vettel | Vettel | Aston Martin | Massen-Crash"
          ],
          [
           "2020-09-12",
           "Formel 1 | Mugello | Ferrari | Rennen | Sebastian Vettel | Vettel | Aston Martin | Massen-Crash"
          ],
          [
           "2020-09-10",
           "Formel 1 | Mugello | Ferrari | Rennen | Sebastian Vettel | Vettel | Aston Martin | Massen-Crash"
          ],
          [
           "2020-09-13",
           "Formel 1 | Mugello | Ferrari | Rennen | Sebastian Vettel | Vettel | Aston Martin | Massen-Crash"
          ],
          [
           "2020-09-12",
           "Formel 1 | Mugello | Ferrari | Rennen | Sebastian Vettel | Vettel | Aston Martin | Massen-Crash"
          ],
          [
           "2020-09-12",
           "Formel 1 | Mugello | Ferrari | Rennen | Sebastian Vettel | Vettel | Aston Martin | Massen-Crash"
          ],
          [
           "2020-09-14",
           "Formel 1 | Mugello | Ferrari | Rennen | Sebastian Vettel | Vettel | Aston Martin | Massen-Crash"
          ],
          [
           "2020-09-14",
           "Formel 1 | Mugello | Ferrari | Rennen | Sebastian Vettel | Vettel | Aston Martin | Massen-Crash"
          ],
          [
           "2020-09-10",
           "Formel 1 | Mugello | Ferrari | Rennen | Sebastian Vettel | Vettel | Aston Martin | Massen-Crash"
          ],
          [
           "2020-09-13",
           "Formel 1 | Mugello | Ferrari | Rennen | Sebastian Vettel | Vettel | Aston Martin | Massen-Crash"
          ],
          [
           "2020-09-13",
           "Formel 1 | Mugello | Ferrari | Rennen | Sebastian Vettel | Vettel | Aston Martin | Massen-Crash"
          ],
          [
           "2020-09-12",
           "Formel 1 | Mugello | Ferrari | Rennen | Sebastian Vettel | Vettel | Aston Martin | Massen-Crash"
          ],
          [
           "2020-09-13",
           "Formel 1 | Mugello | Ferrari | Rennen | Sebastian Vettel | Vettel | Aston Martin | Massen-Crash"
          ],
          [
           "2020-09-09",
           "Formel 1 | Mugello | Ferrari | Rennen | Sebastian Vettel | Vettel | Aston Martin | Massen-Crash"
          ],
          [
           "2020-09-10",
           "Formel 1 | Mugello | Ferrari | Rennen | Sebastian Vettel | Vettel | Aston Martin | Massen-Crash"
          ],
          [
           "2020-09-11",
           "Formel 1 | Mugello | Ferrari | Rennen | Sebastian Vettel | Vettel | Aston Martin | Massen-Crash"
          ],
          [
           "2020-09-10",
           "Formel 1 | Mugello | Ferrari | Rennen | Sebastian Vettel | Vettel | Aston Martin | Massen-Crash"
          ]
         ],
         "hovertemplate": "<b>%{hovertext}</b><br><br>TopWords=%{customdata[1]}<br>x=%{x}<br>y=%{y}<br>created_at=%{customdata[0]}<extra></extra>",
         "hovertext": [
          "Mick fährt SchumisRekord-Ferrari",
          "Ernst August fährtzur Nervenklinik",
          "So wollte Vettel nicht aufhören",
          "Das ist der Milliardär hinter dem Vettel-Deal",
          "Formel 1 schenkt Ferrari ein Heim-Rennen",
          "Darum gibt's gerade soviele Crashs in der Formel 1",
          "Jetzt ist der Platz für Vettel frei",
          "BILD enthülltden Vettel-Vertrag",
          "Massen-Crash beim Neustart",
          "Vettel-Frust beim Ferrari-Fest",
          "FORMEL BOND",
          "„Wollen die uns töten, oder was!?“",
          "„Mein Vater hat eine Legende geschaffen“",
          "Moto-GP-Legende Rossi fährt mit Viagra-Helm",
          "So kam es zum Massen-Crash in der Formel 1",
          "Hamilton braucht noch 309,7 Kilometer bis zum Schumi-Rekord",
          "Offiziell! Vettelwechselt zu Aston Martin",
          "Hamilton fährt dem Chaos davon",
          "„Es gibt viel, dass ichvon Mick lernen kann“",
          "Ferraris Aufwärmrunde",
          "Hamilton mit Protest-Shirtauf dem Podium",
          "Mick fährtSchumis rote Göttin",
          "VETTEL Darum gehe ichzu Aston Martin",
          "Das erwartet Vettelbei Aston Martin",
          "Vettel hat schon einen neuen Dienstwagen"
         ],
         "legendgroup": "Formel 1 | Mugello | Ferrari | Rennen | Sebastian Vettel | Vettel | Aston Martin | Massen-Crash",
         "marker": {
          "color": "#FFA15A",
          "line": {
           "color": "DarkSlateGrey",
           "width": 0.15
          },
          "opacity": 0.8,
          "size": 9,
          "symbol": "circle"
         },
         "mode": "markers",
         "name": "Formel 1 | Mugello | Ferrari | Rennen | Sebastian Vettel | Vettel | Aston Martin | Massen-Crash",
         "orientation": "v",
         "showlegend": true,
         "type": "scatter",
         "x": [
          10.008240699768066,
          10.537980079650879,
          10.416972160339355,
          10.605173110961914,
          9.794785499572754,
          9.703561782836914,
          10.617143630981445,
          10.552396774291992,
          9.768805503845215,
          10.0703125,
          10.564512252807617,
          9.892363548278809,
          9.740726470947266,
          9.993769645690918,
          9.744473457336426,
          10.216181755065918,
          10.373119354248047,
          10.043807029724121,
          10.107232093811035,
          10.061918258666992,
          10.189685821533203,
          10.217568397521973,
          10.646742820739746,
          10.436261177062988,
          10.467480659484863
         ],
         "xaxis": "x",
         "y": [
          9.42972469329834,
          9.491579055786133,
          9.80251693725586,
          9.761334419250488,
          9.465127944946289,
          9.735087394714355,
          10.017708778381348,
          9.911993980407715,
          9.58586311340332,
          9.782835960388184,
          9.619953155517578,
          9.773685455322266,
          9.757999420166016,
          9.84395980834961,
          9.750205993652344,
          9.87037467956543,
          9.767510414123535,
          9.860299110412598,
          9.64248275756836,
          9.839548110961914,
          10.009195327758789,
          9.579788208007812,
          9.6742525100708,
          9.736977577209473,
          9.906649589538574
         ],
         "yaxis": "y"
        },
        {
         "customdata": [
          [
           "2020-09-10",
           "Leute | Star | Corona | Hollywood | Netflix | Stars | Instagram | TV"
          ],
          [
           "2020-09-11",
           "Leute | Star | Corona | Hollywood | Netflix | Stars | Instagram | TV"
          ],
          [
           "2020-09-09",
           "Leute | Star | Corona | Hollywood | Netflix | Stars | Instagram | TV"
          ],
          [
           "2020-09-13",
           "Leute | Star | Corona | Hollywood | Netflix | Stars | Instagram | TV"
          ],
          [
           "2020-09-14",
           "Leute | Star | Corona | Hollywood | Netflix | Stars | Instagram | TV"
          ],
          [
           "2020-09-12",
           "Leute | Star | Corona | Hollywood | Netflix | Stars | Instagram | TV"
          ],
          [
           "2020-09-11",
           "Leute | Star | Corona | Hollywood | Netflix | Stars | Instagram | TV"
          ],
          [
           "2020-09-10",
           "Leute | Star | Corona | Hollywood | Netflix | Stars | Instagram | TV"
          ],
          [
           "2020-09-12",
           "Leute | Star | Corona | Hollywood | Netflix | Stars | Instagram | TV"
          ],
          [
           "2020-09-11",
           "Leute | Star | Corona | Hollywood | Netflix | Stars | Instagram | TV"
          ],
          [
           "2020-09-14",
           "Leute | Star | Corona | Hollywood | Netflix | Stars | Instagram | TV"
          ],
          [
           "2020-09-12",
           "Leute | Star | Corona | Hollywood | Netflix | Stars | Instagram | TV"
          ],
          [
           "2020-09-10",
           "Leute | Star | Corona | Hollywood | Netflix | Stars | Instagram | TV"
          ],
          [
           "2020-09-10",
           "Leute | Star | Corona | Hollywood | Netflix | Stars | Instagram | TV"
          ],
          [
           "2020-09-09",
           "Leute | Star | Corona | Hollywood | Netflix | Stars | Instagram | TV"
          ],
          [
           "2020-09-10",
           "Leute | Star | Corona | Hollywood | Netflix | Stars | Instagram | TV"
          ],
          [
           "2020-09-12",
           "Leute | Star | Corona | Hollywood | Netflix | Stars | Instagram | TV"
          ],
          [
           "2020-09-11",
           "Leute | Star | Corona | Hollywood | Netflix | Stars | Instagram | TV"
          ],
          [
           "2020-09-13",
           "Leute | Star | Corona | Hollywood | Netflix | Stars | Instagram | TV"
          ],
          [
           "2020-09-14",
           "Leute | Star | Corona | Hollywood | Netflix | Stars | Instagram | TV"
          ],
          [
           "2020-09-11",
           "Leute | Star | Corona | Hollywood | Netflix | Stars | Instagram | TV"
          ],
          [
           "2020-09-09",
           "Leute | Star | Corona | Hollywood | Netflix | Stars | Instagram | TV"
          ],
          [
           "2020-09-09",
           "Leute | Star | Corona | Hollywood | Netflix | Stars | Instagram | TV"
          ],
          [
           "2020-09-13",
           "Leute | Star | Corona | Hollywood | Netflix | Stars | Instagram | TV"
          ],
          [
           "2020-09-09",
           "Leute | Star | Corona | Hollywood | Netflix | Stars | Instagram | TV"
          ],
          [
           "2020-09-11",
           "Leute | Star | Corona | Hollywood | Netflix | Stars | Instagram | TV"
          ],
          [
           "2020-09-10",
           "Leute | Star | Corona | Hollywood | Netflix | Stars | Instagram | TV"
          ],
          [
           "2020-09-10",
           "Leute | Star | Corona | Hollywood | Netflix | Stars | Instagram | TV"
          ],
          [
           "2020-09-11",
           "Leute | Star | Corona | Hollywood | Netflix | Stars | Instagram | TV"
          ],
          [
           "2020-09-12",
           "Leute | Star | Corona | Hollywood | Netflix | Stars | Instagram | TV"
          ],
          [
           "2020-09-12",
           "Leute | Star | Corona | Hollywood | Netflix | Stars | Instagram | TV"
          ],
          [
           "2020-09-11",
           "Leute | Star | Corona | Hollywood | Netflix | Stars | Instagram | TV"
          ],
          [
           "2020-09-14",
           "Leute | Star | Corona | Hollywood | Netflix | Stars | Instagram | TV"
          ],
          [
           "2020-09-10",
           "Leute | Star | Corona | Hollywood | Netflix | Stars | Instagram | TV"
          ],
          [
           "2020-09-12",
           "Leute | Star | Corona | Hollywood | Netflix | Stars | Instagram | TV"
          ],
          [
           "2020-09-13",
           "Leute | Star | Corona | Hollywood | Netflix | Stars | Instagram | TV"
          ],
          [
           "2020-09-10",
           "Leute | Star | Corona | Hollywood | Netflix | Stars | Instagram | TV"
          ],
          [
           "2020-09-11",
           "Leute | Star | Corona | Hollywood | Netflix | Stars | Instagram | TV"
          ],
          [
           "2020-09-12",
           "Leute | Star | Corona | Hollywood | Netflix | Stars | Instagram | TV"
          ],
          [
           "2020-09-12",
           "Leute | Star | Corona | Hollywood | Netflix | Stars | Instagram | TV"
          ],
          [
           "2020-09-09",
           "Leute | Star | Corona | Hollywood | Netflix | Stars | Instagram | TV"
          ],
          [
           "2020-09-13",
           "Leute | Star | Corona | Hollywood | Netflix | Stars | Instagram | TV"
          ],
          [
           "2020-09-11",
           "Leute | Star | Corona | Hollywood | Netflix | Stars | Instagram | TV"
          ],
          [
           "2020-09-11",
           "Leute | Star | Corona | Hollywood | Netflix | Stars | Instagram | TV"
          ],
          [
           "2020-09-13",
           "Leute | Star | Corona | Hollywood | Netflix | Stars | Instagram | TV"
          ],
          [
           "2020-09-10",
           "Leute | Star | Corona | Hollywood | Netflix | Stars | Instagram | TV"
          ],
          [
           "2020-09-10",
           "Leute | Star | Corona | Hollywood | Netflix | Stars | Instagram | TV"
          ],
          [
           "2020-09-13",
           "Leute | Star | Corona | Hollywood | Netflix | Stars | Instagram | TV"
          ],
          [
           "2020-09-14",
           "Leute | Star | Corona | Hollywood | Netflix | Stars | Instagram | TV"
          ],
          [
           "2020-09-13",
           "Leute | Star | Corona | Hollywood | Netflix | Stars | Instagram | TV"
          ],
          [
           "2020-09-10",
           "Leute | Star | Corona | Hollywood | Netflix | Stars | Instagram | TV"
          ],
          [
           "2020-09-14",
           "Leute | Star | Corona | Hollywood | Netflix | Stars | Instagram | TV"
          ],
          [
           "2020-09-13",
           "Leute | Star | Corona | Hollywood | Netflix | Stars | Instagram | TV"
          ],
          [
           "2020-09-09",
           "Leute | Star | Corona | Hollywood | Netflix | Stars | Instagram | TV"
          ],
          [
           "2020-09-10",
           "Leute | Star | Corona | Hollywood | Netflix | Stars | Instagram | TV"
          ],
          [
           "2020-09-09",
           "Leute | Star | Corona | Hollywood | Netflix | Stars | Instagram | TV"
          ],
          [
           "2020-09-13",
           "Leute | Star | Corona | Hollywood | Netflix | Stars | Instagram | TV"
          ],
          [
           "2020-09-12",
           "Leute | Star | Corona | Hollywood | Netflix | Stars | Instagram | TV"
          ],
          [
           "2020-09-10",
           "Leute | Star | Corona | Hollywood | Netflix | Stars | Instagram | TV"
          ],
          [
           "2020-09-10",
           "Leute | Star | Corona | Hollywood | Netflix | Stars | Instagram | TV"
          ],
          [
           "2020-09-14",
           "Leute | Star | Corona | Hollywood | Netflix | Stars | Instagram | TV"
          ]
         ],
         "hovertemplate": "<b>%{hovertext}</b><br><br>TopWords=%{customdata[1]}<br>x=%{x}<br>y=%{y}<br>created_at=%{customdata[0]}<extra></extra>",
         "hovertext": [
          "So stinkreich ist derKardashian-Clan",
          "Kleinwüchsiger Wrestler Stevie Lee stirbt mit 54 Jahren",
          "Queere Mega-Besetzung für neue Netflix-Serie",
          "Hollywood-König zeigt seine Prinzen-Familie",
          "SCHAUMhochzeit auf Schloss Bückeburg",
          "Hier sprießen nicht nur die Blumen",
          "Nach den Knutsch-Fotos servierte er seine Verlobte ab!",
          "Drama um Raabs Kult-Rentner Ingrid und Klaus",
          "Masturbieren Sie mal mit Ihrem Partner!",
          "Da glüht der Sand am Strand",
          "Liebt Pietro Lombardi diese Influencerin?",
          "„Er war einer der liebevollsten Menschen der Welt“",
          "„So etwas Asoziales habe ich noch nicht erlebt“",
          "Christine Neubauer spielt gegen Corona-Krise",
          "„Wir sind im Krankenhaus für Geisteskranke“",
          "Ruiniert das Virusunsere Kultur?",
          "Schlagabtausch der Dschungelnattern!",
          "Steffen Hensslerbricht TV-Dreh ab",
          "Sieht so der neue Feminismus aus?",
          "Ex-Porno-Star (24)stirbt im Schlaf",
          "Zac Efrons Neue ist Kellnerin",
          "Badesalz macht Radio",
          "Mein Freund macht mich verrückt",
          "8 Gründe, wieso Corona der Liebe gut tut!",
          "„Twin Peaks“- und „Fargo“- Fans bitte einschalten!",
          "Spahn-Auftritt bei BILD-Talk ist jetzt sogar Kunst",
          "Dieser Influencer-Kussheizte Venedig ein!",
          "„Wir sind kulturell unterzuckert“",
          "So heftig war dieTorten-Attacke wirklich",
          "Die Obert und ihr Liebesnest",
          "„Ich denke nicht an das Alter“",
          "Heidis Next Topmodel",
          "Urlaub in der Villa von „Der Prinz von Bel-Air“ gefällig?",
          "Der „Tatort“-Star musste Soforthilfe beantragen",
          "Darum ist böse besser als nett",
          "Wir sind das neue Traumpaar im TV",
          "Dschungelcamp-Star Elena Miras ist wieder solo",
          "Fan-Liebling André Dietzsteigt nach 14 Jahren aus!",
          "Jetzt beenden sie sogar die Familientherapie",
          "Kleider machen LEADER",
          "Falsche Tierliebe tut weh",
          "„Zwei, drei Maß schaffe ich schon“",
          "Pädophilie-Skandal um Netflix-Film „Cuties“!",
          "Auch in Beziehungen braucht es klare Worte",
          "DIESEN Job macht Laura Müller neben Bohlen und Co.",
          "Nachwuchs bei „Kampf der Realitystars“?",
          "Heidi Klums Prügel-Model: Drogen-Entzug im Kloster!",
          "„Meine tote Mutter hilft mir beim Songschreiben“",
          "Elena Carrière (23) zeigt ihre Cellulite",
          "Warum Hollywood vor China kuscht",
          "Rosige Rache an Brad Pitt",
          "Pietro Lombardi ist nicht mehr single!",
          "Raten Sie mal, wer hier auf Prince macht",
          "Diese Stars waren ihre großen Kinorollen ganz schnell los",
          "Natascha ist das Wiesn-Playmate 2020",
          "Wendlers Laura riskiert ’ne dicke Lippe",
          "Bei diesem Test hofft er auf ein positives Ergebnis",
          "Dann mit noch mehr Hexer-Sex?",
          "Bitte keine politischen Regeln für die Kunst!",
          "„Game of Thrones“-Star Diana Rigg gestorben",
          "Wie Raab hinter der Kamera die Fäden zieht"
         ],
         "legendgroup": "Leute | Star | Corona | Hollywood | Netflix | Stars | Instagram | TV",
         "marker": {
          "color": "#19d3f3",
          "line": {
           "color": "DarkSlateGrey",
           "width": 0.15
          },
          "opacity": 0.8,
          "size": 9,
          "symbol": "circle"
         },
         "mode": "markers",
         "name": "Leute | Star | Corona | Hollywood | Netflix | Stars | Instagram | TV",
         "orientation": "v",
         "showlegend": true,
         "type": "scatter",
         "x": [
          10.51047420501709,
          10.702692985534668,
          10.496563911437988,
          10.749751091003418,
          10.17269229888916,
          10.880534172058105,
          11.130653381347656,
          11.39404010772705,
          11.043980598449707,
          10.573311805725098,
          10.976943969726562,
          10.58704662322998,
          10.853099822998047,
          10.63145637512207,
          11.033803939819336,
          11.002982139587402,
          11.469111442565918,
          11.055488586425781,
          10.76474380493164,
          10.619538307189941,
          11.012831687927246,
          11.328495979309082,
          10.35205364227295,
          9.18531608581543,
          10.246989250183105,
          11.198280334472656,
          10.926436424255371,
          10.093127250671387,
          11.047317504882812,
          10.924864768981934,
          10.69970989227295,
          10.766329765319824,
          10.866044998168945,
          11.183599472045898,
          10.831417083740234,
          11.167740821838379,
          11.201323509216309,
          10.586617469787598,
          10.620530128479004,
          10.750332832336426,
          10.494771003723145,
          10.87240219116211,
          10.362064361572266,
          10.614496231079102,
          11.25662899017334,
          10.891919136047363,
          10.948770523071289,
          10.107806205749512,
          10.656204223632812,
          10.351244926452637,
          10.89121150970459,
          11.039813041687012,
          11.293246269226074,
          10.611846923828125,
          10.880576133728027,
          11.022744178771973,
          10.37224006652832,
          10.095878601074219,
          10.339106559753418,
          10.756096839904785,
          11.364358901977539
         ],
         "xaxis": "x",
         "y": [
          11.81224250793457,
          11.026823997497559,
          11.227429389953613,
          10.940347671508789,
          11.552387237548828,
          12.264666557312012,
          11.965034484863281,
          11.833077430725098,
          12.353289604187012,
          12.017104148864746,
          12.005548477172852,
          11.286202430725098,
          12.047663688659668,
          11.386723518371582,
          12.061999320983887,
          11.62491226196289,
          12.041152000427246,
          11.841452598571777,
          12.024996757507324,
          12.27926254272461,
          11.86664867401123,
          11.84003734588623,
          12.250014305114746,
          12.339570999145508,
          12.42667293548584,
          11.97696304321289,
          11.725653648376465,
          11.477982521057129,
          12.2608642578125,
          11.282920837402344,
          11.200273513793945,
          12.300942420959473,
          11.047636985778809,
          11.631495475769043,
          11.888188362121582,
          11.62600040435791,
          12.201435089111328,
          11.64829158782959,
          12.033509254455566,
          11.582112312316895,
          11.951692581176758,
          11.529397010803223,
          12.341784477233887,
          11.911922454833984,
          11.497679710388184,
          12.193249702453613,
          12.347185134887695,
          11.413368225097656,
          12.169220924377441,
          12.44615364074707,
          11.542238235473633,
          11.85374641418457,
          11.947541236877441,
          11.487247467041016,
          11.708356857299805,
          12.150530815124512,
          11.530125617980957,
          12.036478996276855,
          11.0911226272583,
          11.404210090637207,
          11.814168930053711
         ],
         "yaxis": "y"
        },
        {
         "customdata": [
          [
           "2020-09-12",
           "Kalifornien | Westküste | Brände | Feuer | Waldbrände | Smog | Flammen | US"
          ],
          [
           "2020-09-11",
           "Kalifornien | Westküste | Brände | Feuer | Waldbrände | Smog | Flammen | US"
          ],
          [
           "2020-09-10",
           "Kalifornien | Westküste | Brände | Feuer | Waldbrände | Smog | Flammen | US"
          ],
          [
           "2020-09-13",
           "Kalifornien | Westküste | Brände | Feuer | Waldbrände | Smog | Flammen | US"
          ],
          [
           "2020-09-14",
           "Kalifornien | Westküste | Brände | Feuer | Waldbrände | Smog | Flammen | US"
          ]
         ],
         "hovertemplate": "<b>%{hovertext}</b><br><br>TopWords=%{customdata[1]}<br>x=%{x}<br>y=%{y}<br>created_at=%{customdata[0]}<extra></extra>",
         "hovertext": [
          "Feuerexperte: „Eigentlich muss es noch mehr brennen!“",
          "Schon 15 Feuer-Opfer an der US-Westküste",
          "Eltern auf Flucht vor dem Feuer verletzt, Baby tot!",
          "Angst vor Smog und Plünderungen",
          "35 Tote durch Kalifornien-Brände"
         ],
         "legendgroup": "Kalifornien | Westküste | Brände | Feuer | Waldbrände | Smog | Flammen | US",
         "marker": {
          "color": "#FF6692",
          "line": {
           "color": "DarkSlateGrey",
           "width": 0.15
          },
          "opacity": 0.8,
          "size": 9,
          "symbol": "circle"
         },
         "mode": "markers",
         "name": "Kalifornien | Westküste | Brände | Feuer | Waldbrände | Smog | Flammen | US",
         "orientation": "v",
         "showlegend": true,
         "type": "scatter",
         "x": [
          8.756750106811523,
          8.628803253173828,
          8.597247123718262,
          8.535720825195312,
          8.707279205322266
         ],
         "xaxis": "x",
         "y": [
          12.899703979492188,
          13.019591331481934,
          13.089993476867676,
          13.176033973693848,
          12.934225082397461
         ],
         "yaxis": "y"
        },
        {
         "customdata": [
          [
           "2020-09-12",
           "Love Island | Politiker-Enkel | Henrik | Sex | Villa | Zoff | Sex-Proll | Aufnahmen"
          ],
          [
           "2020-09-09",
           "Love Island | Politiker-Enkel | Henrik | Sex | Villa | Zoff | Sex-Proll | Aufnahmen"
          ],
          [
           "2020-09-10",
           "Love Island | Politiker-Enkel | Henrik | Sex | Villa | Zoff | Sex-Proll | Aufnahmen"
          ],
          [
           "2020-09-14",
           "Love Island | Politiker-Enkel | Henrik | Sex | Villa | Zoff | Sex-Proll | Aufnahmen"
          ],
          [
           "2020-09-12",
           "Love Island | Politiker-Enkel | Henrik | Sex | Villa | Zoff | Sex-Proll | Aufnahmen"
          ],
          [
           "2020-09-11",
           "Love Island | Politiker-Enkel | Henrik | Sex | Villa | Zoff | Sex-Proll | Aufnahmen"
          ],
          [
           "2020-09-11",
           "Love Island | Politiker-Enkel | Henrik | Sex | Villa | Zoff | Sex-Proll | Aufnahmen"
          ],
          [
           "2020-09-11",
           "Love Island | Politiker-Enkel | Henrik | Sex | Villa | Zoff | Sex-Proll | Aufnahmen"
          ],
          [
           "2020-09-13",
           "Love Island | Politiker-Enkel | Henrik | Sex | Villa | Zoff | Sex-Proll | Aufnahmen"
          ],
          [
           "2020-09-10",
           "Love Island | Politiker-Enkel | Henrik | Sex | Villa | Zoff | Sex-Proll | Aufnahmen"
          ]
         ],
         "hovertemplate": "<b>%{hovertext}</b><br><br>TopWords=%{customdata[1]}<br>x=%{x}<br>y=%{y}<br>created_at=%{customdata[0]}<extra></extra>",
         "hovertext": [
          "Sex-Proll Henrik knutscht fremd",
          "Politiker-Enkel hat Sex bei „Love Island“!",
          "Politiker-Enkel wird zum Sex-Proll",
          "Penis-Protz Hendrik geht auf Luca los",
          "Micaela (36) ist scharf auf Gerhard Schröder (76)",
          "Was ein altes Video überden Sex-Proll verrät",
          "Heiße Poledance-Einlage inder „Love Island“-Villa",
          "Fummel-Premiere auf „Love Island“",
          "„Sexy Granaten“ sprengen die Paare auseinander",
          "Heiße Schaumparty in der „Love Island“-Villa"
         ],
         "legendgroup": "Love Island | Politiker-Enkel | Henrik | Sex | Villa | Zoff | Sex-Proll | Aufnahmen",
         "marker": {
          "color": "#B6E880",
          "line": {
           "color": "DarkSlateGrey",
           "width": 0.15
          },
          "opacity": 0.8,
          "size": 9,
          "symbol": "circle"
         },
         "mode": "markers",
         "name": "Love Island | Politiker-Enkel | Henrik | Sex | Villa | Zoff | Sex-Proll | Aufnahmen",
         "orientation": "v",
         "showlegend": true,
         "type": "scatter",
         "x": [
          11.262482643127441,
          11.541139602661133,
          11.448894500732422,
          10.970589637756348,
          11.333785057067871,
          11.096830368041992,
          11.31295108795166,
          11.346717834472656,
          11.501876831054688,
          11.405532836914062
         ],
         "xaxis": "x",
         "y": [
          12.274085998535156,
          12.016372680664062,
          11.90473461151123,
          12.50517749786377,
          12.216377258300781,
          11.66952896118164,
          12.024110794067383,
          12.177156448364258,
          11.792840957641602,
          11.959085464477539
         ],
         "yaxis": "y"
        },
        {
         "customdata": [
          [
           "2020-09-09",
           "NFL | Teams | Playbook | Brady | Vollmer | Tom Brady | alles | Nachfolger"
          ],
          [
           "2020-09-10",
           "NFL | Teams | Playbook | Brady | Vollmer | Tom Brady | alles | Nachfolger"
          ],
          [
           "2020-09-10",
           "NFL | Teams | Playbook | Brady | Vollmer | Tom Brady | alles | Nachfolger"
          ],
          [
           "2020-09-09",
           "NFL | Teams | Playbook | Brady | Vollmer | Tom Brady | alles | Nachfolger"
          ],
          [
           "2020-09-11",
           "NFL | Teams | Playbook | Brady | Vollmer | Tom Brady | alles | Nachfolger"
          ],
          [
           "2020-09-09",
           "NFL | Teams | Playbook | Brady | Vollmer | Tom Brady | alles | Nachfolger"
          ],
          [
           "2020-09-13",
           "NFL | Teams | Playbook | Brady | Vollmer | Tom Brady | alles | Nachfolger"
          ]
         ],
         "hovertemplate": "<b>%{hovertext}</b><br><br>TopWords=%{customdata[1]}<br>x=%{x}<br>y=%{y}<br>created_at=%{customdata[0]}<extra></extra>",
         "hovertext": [
          "Buccaneers lösen Versprechenvon Bradys Ex-Klub ein",
          "Das sind die Top-Duelledes ersten NFL-Spieltags",
          "Deshalb steht uns die härteste NFL-Saison aller Zeiten bevor",
          "Playbook ist„so wertvoll wie Gold“",
          "Pfiffe für Protestaktion bei NFL-Auftakt",
          "Brady muss für denTitel alles neu lernen",
          "Brady-Nachfolger mit Touchdown-Show"
         ],
         "legendgroup": "NFL | Teams | Playbook | Brady | Vollmer | Tom Brady | alles | Nachfolger",
         "marker": {
          "color": "#FF97FF",
          "line": {
           "color": "DarkSlateGrey",
           "width": 0.15
          },
          "opacity": 0.8,
          "size": 9,
          "symbol": "circle"
         },
         "mode": "markers",
         "name": "NFL | Teams | Playbook | Brady | Vollmer | Tom Brady | alles | Nachfolger",
         "orientation": "v",
         "showlegend": true,
         "type": "scatter",
         "x": [
          11.150649070739746,
          10.72168254852295,
          10.721485137939453,
          10.541762351989746,
          10.359469413757324,
          10.619433403015137,
          10.5740966796875
         ],
         "xaxis": "x",
         "y": [
          11.160110473632812,
          10.864217758178711,
          10.858553886413574,
          10.840944290161133,
          10.999122619628906,
          10.807994842529297,
          10.731215476989746
         ],
         "yaxis": "y"
        },
        {
         "customdata": [
          [
           "2020-09-13",
           "Autos | Unfall | Flammen | Polizei | Auto | Fahrer | Landkreis | Autobahn"
          ],
          [
           "2020-09-12",
           "Autos | Unfall | Flammen | Polizei | Auto | Fahrer | Landkreis | Autobahn"
          ],
          [
           "2020-09-10",
           "Autos | Unfall | Flammen | Polizei | Auto | Fahrer | Landkreis | Autobahn"
          ],
          [
           "2020-09-12",
           "Autos | Unfall | Flammen | Polizei | Auto | Fahrer | Landkreis | Autobahn"
          ],
          [
           "2020-09-12",
           "Autos | Unfall | Flammen | Polizei | Auto | Fahrer | Landkreis | Autobahn"
          ],
          [
           "2020-09-12",
           "Autos | Unfall | Flammen | Polizei | Auto | Fahrer | Landkreis | Autobahn"
          ],
          [
           "2020-09-10",
           "Autos | Unfall | Flammen | Polizei | Auto | Fahrer | Landkreis | Autobahn"
          ],
          [
           "2020-09-11",
           "Autos | Unfall | Flammen | Polizei | Auto | Fahrer | Landkreis | Autobahn"
          ],
          [
           "2020-09-11",
           "Autos | Unfall | Flammen | Polizei | Auto | Fahrer | Landkreis | Autobahn"
          ],
          [
           "2020-09-10",
           "Autos | Unfall | Flammen | Polizei | Auto | Fahrer | Landkreis | Autobahn"
          ],
          [
           "2020-09-13",
           "Autos | Unfall | Flammen | Polizei | Auto | Fahrer | Landkreis | Autobahn"
          ],
          [
           "2020-09-09",
           "Autos | Unfall | Flammen | Polizei | Auto | Fahrer | Landkreis | Autobahn"
          ],
          [
           "2020-09-10",
           "Autos | Unfall | Flammen | Polizei | Auto | Fahrer | Landkreis | Autobahn"
          ],
          [
           "2020-09-10",
           "Autos | Unfall | Flammen | Polizei | Auto | Fahrer | Landkreis | Autobahn"
          ],
          [
           "2020-09-13",
           "Autos | Unfall | Flammen | Polizei | Auto | Fahrer | Landkreis | Autobahn"
          ],
          [
           "2020-09-11",
           "Autos | Unfall | Flammen | Polizei | Auto | Fahrer | Landkreis | Autobahn"
          ],
          [
           "2020-09-12",
           "Autos | Unfall | Flammen | Polizei | Auto | Fahrer | Landkreis | Autobahn"
          ],
          [
           "2020-09-13",
           "Autos | Unfall | Flammen | Polizei | Auto | Fahrer | Landkreis | Autobahn"
          ],
          [
           "2020-09-14",
           "Autos | Unfall | Flammen | Polizei | Auto | Fahrer | Landkreis | Autobahn"
          ],
          [
           "2020-09-09",
           "Autos | Unfall | Flammen | Polizei | Auto | Fahrer | Landkreis | Autobahn"
          ]
         ],
         "hovertemplate": "<b>%{hovertext}</b><br><br>TopWords=%{customdata[1]}<br>x=%{x}<br>y=%{y}<br>created_at=%{customdata[0]}<extra></extra>",
         "hovertext": [
          "Todesfalle Oldtimer",
          "BMW fackelt auf A57 ab",
          "Fliege verursacht Unfall – zwei Schwerverletzte!",
          "Biker stirbt bei Crash mit Biker",
          "20-Jähriger liegt tot unter seinem Roller",
          "Motorrad-Werkstatt in Flammen",
          "Retter kracht gegen Baum",
          "Mercedes rammt Rollifahrer (78) von Landstraße - tot",
          "Liegender Laster legt Autobahn lahm",
          "Fußgängerin kollidiert mit drei Autos auf der Autobahn - tot",
          "Domino-Crash bei Oldenburg",
          "Motorradfahrer tödlich verunglückt",
          "Laster fackelt auf der A5 ab",
          "E-Bike-Fahrer stirbt nach Sturz",
          "Baum-Crash!Zwei Tote auf B 442",
          "Junger Biker (18) nach Motorrad-Crash schwer verletzt",
          "Feuerteufel treibt im Kölner Westen sein Unwesen",
          "Tödlicher Frontalzusammenstoß",
          "Lkw kollidieren auf der Autobahn 2",
          "510-PS-Flitzerkracht gegen Baum"
         ],
         "legendgroup": "Autos | Unfall | Flammen | Polizei | Auto | Fahrer | Landkreis | Autobahn",
         "marker": {
          "color": "#FECB52",
          "line": {
           "color": "DarkSlateGrey",
           "width": 0.15
          },
          "opacity": 0.8,
          "size": 9,
          "symbol": "circle"
         },
         "mode": "markers",
         "name": "Autos | Unfall | Flammen | Polizei | Auto | Fahrer | Landkreis | Autobahn",
         "orientation": "v",
         "showlegend": true,
         "type": "scatter",
         "x": [
          10.363287925720215,
          10.029905319213867,
          10.62085247039795,
          10.59542179107666,
          10.395207405090332,
          9.744558334350586,
          10.390388488769531,
          10.545482635498047,
          10.417549133300781,
          10.424031257629395,
          10.472417831420898,
          10.376977920532227,
          10.295144081115723,
          10.43414306640625,
          10.372262001037598,
          10.576068878173828,
          10.008137702941895,
          10.245975494384766,
          10.295809745788574,
          10.296249389648438
         ],
         "xaxis": "x",
         "y": [
          12.286434173583984,
          12.755892753601074,
          12.903886795043945,
          12.662177085876465,
          12.540519714355469,
          12.76793384552002,
          12.818145751953125,
          12.684514999389648,
          12.758561134338379,
          12.738911628723145,
          12.847951889038086,
          12.887312889099121,
          12.800028800964355,
          12.6884183883667,
          12.46117115020752,
          12.63442325592041,
          12.726495742797852,
          12.755558967590332,
          12.590241432189941,
          12.50113296508789
         ],
         "yaxis": "y"
        },
        {
         "customdata": [
          [
           "2020-09-11",
           "DTM | Nürburgring | Audi | Müller | MotoGP | Rast | Gottes | Frauen"
          ],
          [
           "2020-09-13",
           "DTM | Nürburgring | Audi | Müller | MotoGP | Rast | Gottes | Frauen"
          ],
          [
           "2020-09-12",
           "DTM | Nürburgring | Audi | Müller | MotoGP | Rast | Gottes | Frauen"
          ],
          [
           "2020-09-13",
           "DTM | Nürburgring | Audi | Müller | MotoGP | Rast | Gottes | Frauen"
          ],
          [
           "2020-09-13",
           "DTM | Nürburgring | Audi | Müller | MotoGP | Rast | Gottes | Frauen"
          ]
         ],
         "hovertemplate": "<b>%{hovertext}</b><br><br>TopWords=%{customdata[1]}<br>x=%{x}<br>y=%{y}<br>created_at=%{customdata[0]}<extra></extra>",
         "hovertext": [
          "Flotte Frauen machen Abts DTM-Stars schnell!",
          "MotoGP-Krimi! Last-Minute-Schock für Rossi",
          "Alles Müller, oder Rast?",
          "Audi ist das Mercedes der DTM",
          "Dieser Rennfahrer fährt mit Gottes Segen"
         ],
         "legendgroup": "DTM | Nürburgring | Audi | Müller | MotoGP | Rast | Gottes | Frauen",
         "marker": {
          "color": "#636efa",
          "line": {
           "color": "DarkSlateGrey",
           "width": 0.15
          },
          "opacity": 0.8,
          "size": 9,
          "symbol": "circle"
         },
         "mode": "markers",
         "name": "DTM | Nürburgring | Audi | Müller | MotoGP | Rast | Gottes | Frauen",
         "orientation": "v",
         "showlegend": true,
         "type": "scatter",
         "x": [
          10.334545135498047,
          9.803360939025879,
          9.968934059143066,
          9.935193061828613,
          10.403923988342285
         ],
         "xaxis": "x",
         "y": [
          9.82933521270752,
          9.458099365234375,
          9.70637321472168,
          9.610543251037598,
          9.51921272277832
         ],
         "yaxis": "y"
        },
        {
         "customdata": [
          [
           "2020-09-14",
           "Frauen | Proteste | Lukaschenko | Diktator | Menschen | Weißrussland | Politik | Hand"
          ],
          [
           "2020-09-14",
           "Frauen | Proteste | Lukaschenko | Diktator | Menschen | Weißrussland | Politik | Hand"
          ],
          [
           "2020-09-13",
           "Frauen | Proteste | Lukaschenko | Diktator | Menschen | Weißrussland | Politik | Hand"
          ],
          [
           "2020-09-13",
           "Frauen | Proteste | Lukaschenko | Diktator | Menschen | Weißrussland | Politik | Hand"
          ],
          [
           "2020-09-10",
           "Frauen | Proteste | Lukaschenko | Diktator | Menschen | Weißrussland | Politik | Hand"
          ]
         ],
         "hovertemplate": "<b>%{hovertext}</b><br><br>TopWords=%{customdata[1]}<br>x=%{x}<br>y=%{y}<br>created_at=%{customdata[0]}<extra></extra>",
         "hovertext": [
          "Besen-Oma vermöbelt Lukaschenkos Prügeltruppen",
          "Hat Putin Lukaschenko jetzt in der Hand?",
          "Lukaschenko läßt Dutzende Frauen festnehmen",
          "150 000 Menschen gegen Lukaschenko auf der Straße",
          "Kolesnikowa stellt Anzeige wegen Morddrohungen!"
         ],
         "legendgroup": "Frauen | Proteste | Lukaschenko | Diktator | Menschen | Weißrussland | Politik | Hand",
         "marker": {
          "color": "#EF553B",
          "line": {
           "color": "DarkSlateGrey",
           "width": 0.15
          },
          "opacity": 0.8,
          "size": 9,
          "symbol": "circle"
         },
         "mode": "markers",
         "name": "Frauen | Proteste | Lukaschenko | Diktator | Menschen | Weißrussland | Politik | Hand",
         "orientation": "v",
         "showlegend": true,
         "type": "scatter",
         "x": [
          9.495800018310547,
          10.661505699157715,
          9.549880981445312,
          9.266979217529297,
          9.921272277832031
         ],
         "xaxis": "x",
         "y": [
          13.665704727172852,
          12.221714973449707,
          13.72292709350586,
          13.807923316955566,
          13.500503540039062
         ],
         "yaxis": "y"
        },
        {
         "customdata": [
          [
           "2020-09-13",
           "US Open | Alexander Zverev | Zverev | Dominic Thiem | Halbfinale | Finale | Sieg | Bruder"
          ],
          [
           "2020-09-13",
           "US Open | Alexander Zverev | Zverev | Dominic Thiem | Halbfinale | Finale | Sieg | Bruder"
          ],
          [
           "2020-09-11",
           "US Open | Alexander Zverev | Zverev | Dominic Thiem | Halbfinale | Finale | Sieg | Bruder"
          ],
          [
           "2020-09-10",
           "US Open | Alexander Zverev | Zverev | Dominic Thiem | Halbfinale | Finale | Sieg | Bruder"
          ],
          [
           "2020-09-14",
           "US Open | Alexander Zverev | Zverev | Dominic Thiem | Halbfinale | Finale | Sieg | Bruder"
          ],
          [
           "2020-09-14",
           "US Open | Alexander Zverev | Zverev | Dominic Thiem | Halbfinale | Finale | Sieg | Bruder"
          ],
          [
           "2020-09-09",
           "US Open | Alexander Zverev | Zverev | Dominic Thiem | Halbfinale | Finale | Sieg | Bruder"
          ],
          [
           "2020-09-12",
           "US Open | Alexander Zverev | Zverev | Dominic Thiem | Halbfinale | Finale | Sieg | Bruder"
          ],
          [
           "2020-09-10",
           "US Open | Alexander Zverev | Zverev | Dominic Thiem | Halbfinale | Finale | Sieg | Bruder"
          ],
          [
           "2020-09-12",
           "US Open | Alexander Zverev | Zverev | Dominic Thiem | Halbfinale | Finale | Sieg | Bruder"
          ],
          [
           "2020-09-13",
           "US Open | Alexander Zverev | Zverev | Dominic Thiem | Halbfinale | Finale | Sieg | Bruder"
          ],
          [
           "2020-09-10",
           "US Open | Alexander Zverev | Zverev | Dominic Thiem | Halbfinale | Finale | Sieg | Bruder"
          ],
          [
           "2020-09-12",
           "US Open | Alexander Zverev | Zverev | Dominic Thiem | Halbfinale | Finale | Sieg | Bruder"
          ],
          [
           "2020-09-10",
           "US Open | Alexander Zverev | Zverev | Dominic Thiem | Halbfinale | Finale | Sieg | Bruder"
          ],
          [
           "2020-09-11",
           "US Open | Alexander Zverev | Zverev | Dominic Thiem | Halbfinale | Finale | Sieg | Bruder"
          ],
          [
           "2020-09-10",
           "US Open | Alexander Zverev | Zverev | Dominic Thiem | Halbfinale | Finale | Sieg | Bruder"
          ],
          [
           "2020-09-11",
           "US Open | Alexander Zverev | Zverev | Dominic Thiem | Halbfinale | Finale | Sieg | Bruder"
          ],
          [
           "2020-09-12",
           "US Open | Alexander Zverev | Zverev | Dominic Thiem | Halbfinale | Finale | Sieg | Bruder"
          ],
          [
           "2020-09-14",
           "US Open | Alexander Zverev | Zverev | Dominic Thiem | Halbfinale | Finale | Sieg | Bruder"
          ]
         ],
         "hovertemplate": "<b>%{hovertext}</b><br><br>TopWords=%{customdata[1]}<br>x=%{x}<br>y=%{y}<br>created_at=%{customdata[0]}<extra></extra>",
         "hovertext": [
          "Thiem gegen Zverev –das Kumpel-Duell!",
          "Thiem zittert vor Anrufbei Andy Murray",
          "Halbfinal-Aus fürSerena Williams",
          "Zverev setzt auf seinen Kracher-Aufschlag",
          "Zverevs Titel-Traum zerstört",
          "Als er seinen Eltern dankte, kamen ihm die Tränen",
          "„Djokovic fragte mich, wie er aus der Nummer rauskommen kann“",
          "„Der Top-Favorit für den Sieg ist für mich …“",
          "Zverev schlägt in Köln auf!",
          "Becker-Lob für Zverev nach Giganten-Comeback!",
          "Im TV! Zverevs Bruderkommen die Tränen",
          "6 Gründe, warum Zverev die US Open gewinnt",
          "FINALE statt BLAMAGE!",
          "Mischa leiht Sascha seinen Trainer",
          "Sorgerecht-Krieg! Ihren größten Sieg holte sie für ihn",
          "Dominic Thiem im Halbfinale",
          "Tennis-Sensation! Siegemund siegt im Doppel",
          "Als er mich nach dem Spiel anrief, sagte er…",
          "„Kopf hoch, mein Junge - du kommst zurück!“"
         ],
         "legendgroup": "US Open | Alexander Zverev | Zverev | Dominic Thiem | Halbfinale | Finale | Sieg | Bruder",
         "marker": {
          "color": "#00cc96",
          "line": {
           "color": "DarkSlateGrey",
           "width": 0.15
          },
          "opacity": 0.8,
          "size": 9,
          "symbol": "circle"
         },
         "mode": "markers",
         "name": "US Open | Alexander Zverev | Zverev | Dominic Thiem | Halbfinale | Finale | Sieg | Bruder",
         "orientation": "v",
         "showlegend": true,
         "type": "scatter",
         "x": [
          12.101924896240234,
          12.15554141998291,
          12.08984661102295,
          11.894227027893066,
          11.913714408874512,
          11.911869049072266,
          11.412346839904785,
          11.871495246887207,
          12.112832069396973,
          11.684795379638672,
          11.7634859085083,
          11.470834732055664,
          11.645685195922852,
          11.64358901977539,
          11.987469673156738,
          11.874831199645996,
          12.097994804382324,
          11.809918403625488,
          11.942959785461426
         ],
         "xaxis": "x",
         "y": [
          10.174330711364746,
          10.285700798034668,
          10.56550121307373,
          10.414870262145996,
          10.598295211791992,
          10.36229133605957,
          10.944883346557617,
          10.188501358032227,
          10.175230979919434,
          10.239598274230957,
          10.496106147766113,
          10.410518646240234,
          10.370829582214355,
          10.600749969482422,
          10.628960609436035,
          10.457767486572266,
          10.553184509277344,
          10.535282135009766,
          10.269111633300781
         ],
         "yaxis": "y"
        },
        {
         "customdata": [
          [
           "2020-09-14",
           "FIFA | Ratings | Spieler | Fußball-Stars | FIFA 21 | Rating | Thiago | EA Sports"
          ],
          [
           "2020-09-14",
           "FIFA | Ratings | Spieler | Fußball-Stars | FIFA 21 | Rating | Thiago | EA Sports"
          ],
          [
           "2020-09-11",
           "FIFA | Ratings | Spieler | Fußball-Stars | FIFA 21 | Rating | Thiago | EA Sports"
          ]
         ],
         "hovertemplate": "<b>%{hovertext}</b><br><br>TopWords=%{customdata[1]}<br>x=%{x}<br>y=%{y}<br>created_at=%{customdata[0]}<extra></extra>",
         "hovertext": [
          "Das sagen die deutscheneSport-Stars zu den Ratings!",
          "Diese Spieler solltetihr euch holen!",
          "Fußball-Stars motzen über FIFA-Wertungen"
         ],
         "legendgroup": "FIFA | Ratings | Spieler | Fußball-Stars | FIFA 21 | Rating | Thiago | EA Sports",
         "marker": {
          "color": "#ab63fa",
          "line": {
           "color": "DarkSlateGrey",
           "width": 0.15
          },
          "opacity": 0.8,
          "size": 9,
          "symbol": "circle"
         },
         "mode": "markers",
         "name": "FIFA | Ratings | Spieler | Fußball-Stars | FIFA 21 | Rating | Thiago | EA Sports",
         "orientation": "v",
         "showlegend": true,
         "type": "scatter",
         "x": [
          10.38259220123291,
          10.200236320495605,
          10.210437774658203
         ],
         "xaxis": "x",
         "y": [
          10.508756637573242,
          10.587241172790527,
          10.727073669433594
         ],
         "yaxis": "y"
        },
        {
         "customdata": [
          [
           "2020-09-09",
           "Schweinepest | Brandenburg | China | Verdacht | Afrikanische Schweinepest | Schweinefleisch | Menschen | Afrikanischen"
          ],
          [
           "2020-09-11",
           "Schweinepest | Brandenburg | China | Verdacht | Afrikanische Schweinepest | Schweinefleisch | Menschen | Afrikanischen"
          ],
          [
           "2020-09-12",
           "Schweinepest | Brandenburg | China | Verdacht | Afrikanische Schweinepest | Schweinefleisch | Menschen | Afrikanischen"
          ],
          [
           "2020-09-10",
           "Schweinepest | Brandenburg | China | Verdacht | Afrikanische Schweinepest | Schweinefleisch | Menschen | Afrikanischen"
          ],
          [
           "2020-09-10",
           "Schweinepest | Brandenburg | China | Verdacht | Afrikanische Schweinepest | Schweinefleisch | Menschen | Afrikanischen"
          ],
          [
           "2020-09-12",
           "Schweinepest | Brandenburg | China | Verdacht | Afrikanische Schweinepest | Schweinefleisch | Menschen | Afrikanischen"
          ]
         ],
         "hovertemplate": "<b>%{hovertext}</b><br><br>TopWords=%{customdata[1]}<br>x=%{x}<br>y=%{y}<br>created_at=%{customdata[0]}<extra></extra>",
         "hovertext": [
          "Verdacht auf Afrikanische Schweinepest",
          "Kleines ABC der Schweinepest",
          "So hart trifft uns der Exportstopp nach China",
          "Wie gefährlich ist die Afrikanische Schweinepest?",
          "Verdacht auf Schweinepest bestätigt!",
          "China verbietet Import von deutschem Schweinefleisch"
         ],
         "legendgroup": "Schweinepest | Brandenburg | China | Verdacht | Afrikanische Schweinepest | Schweinefleisch | Menschen | Afrikanischen",
         "marker": {
          "color": "#FFA15A",
          "line": {
           "color": "DarkSlateGrey",
           "width": 0.15
          },
          "opacity": 0.8,
          "size": 9,
          "symbol": "circle"
         },
         "mode": "markers",
         "name": "Schweinepest | Brandenburg | China | Verdacht | Afrikanische Schweinepest | Schweinefleisch | Menschen | Afrikanischen",
         "orientation": "v",
         "showlegend": true,
         "type": "scatter",
         "x": [
          9.507311820983887,
          9.312814712524414,
          9.584711074829102,
          9.161516189575195,
          9.645487785339355,
          9.405743598937988
         ],
         "xaxis": "x",
         "y": [
          12.902316093444824,
          12.841005325317383,
          12.8056001663208,
          12.962536811828613,
          13.01244068145752,
          12.767411231994629
         ],
         "yaxis": "y"
        },
        {
         "customdata": [
          [
           "2020-09-12",
           "Garmisch-Partenkirchen | Corona | Superspreaderin | Garmisch | Bars | Stadt | Quarantäne | Nachtleben"
          ],
          [
           "2020-09-11",
           "Garmisch-Partenkirchen | Corona | Superspreaderin | Garmisch | Bars | Stadt | Quarantäne | Nachtleben"
          ],
          [
           "2020-09-11",
           "Garmisch-Partenkirchen | Corona | Superspreaderin | Garmisch | Bars | Stadt | Quarantäne | Nachtleben"
          ],
          [
           "2020-09-13",
           "Garmisch-Partenkirchen | Corona | Superspreaderin | Garmisch | Bars | Stadt | Quarantäne | Nachtleben"
          ],
          [
           "2020-09-13",
           "Garmisch-Partenkirchen | Corona | Superspreaderin | Garmisch | Bars | Stadt | Quarantäne | Nachtleben"
          ],
          [
           "2020-09-13",
           "Garmisch-Partenkirchen | Corona | Superspreaderin | Garmisch | Bars | Stadt | Quarantäne | Nachtleben"
          ]
         ],
         "hovertemplate": "<b>%{hovertext}</b><br><br>TopWords=%{customdata[1]}<br>x=%{x}<br>y=%{y}<br>created_at=%{customdata[0]}<extra></extra>",
         "hovertext": [
          "Eine Stadt wartet auf Corona-Ergebnisse",
          "Superspreaderin (26) zieht hochinfektiös durch Bars",
          "Garmisch verschärft Corona-Maßnahmen",
          "Garmisch-Partenkirchen sauer auf die Superspreaderin",
          "Anwalt: Superspreaderin droht lange Haftstrafe",
          "Pub-Betreiber total fertig: „Das ist eine Katastrophe!“"
         ],
         "legendgroup": "Garmisch-Partenkirchen | Corona | Superspreaderin | Garmisch | Bars | Stadt | Quarantäne | Nachtleben",
         "marker": {
          "color": "#19d3f3",
          "line": {
           "color": "DarkSlateGrey",
           "width": 0.15
          },
          "opacity": 0.8,
          "size": 9,
          "symbol": "circle"
         },
         "mode": "markers",
         "name": "Garmisch-Partenkirchen | Corona | Superspreaderin | Garmisch | Bars | Stadt | Quarantäne | Nachtleben",
         "orientation": "v",
         "showlegend": true,
         "type": "scatter",
         "x": [
          9.434954643249512,
          9.691736221313477,
          9.344183921813965,
          9.610370635986328,
          9.685243606567383,
          9.669195175170898
         ],
         "xaxis": "x",
         "y": [
          12.668231964111328,
          12.705782890319824,
          12.643394470214844,
          12.688889503479004,
          12.486001014709473,
          12.543001174926758
         ],
         "yaxis": "y"
        },
        {
         "customdata": [
          [
           "2020-09-11",
           "Urlaub | Corona | Reisen | Risikogebiet | Land | Reisewarnungen | 2021 | Herbstferien"
          ],
          [
           "2020-09-10",
           "Urlaub | Corona | Reisen | Risikogebiet | Land | Reisewarnungen | 2021 | Herbstferien"
          ],
          [
           "2020-09-14",
           "Urlaub | Corona | Reisen | Risikogebiet | Land | Reisewarnungen | 2021 | Herbstferien"
          ],
          [
           "2020-09-10",
           "Urlaub | Corona | Reisen | Risikogebiet | Land | Reisewarnungen | 2021 | Herbstferien"
          ],
          [
           "2020-09-10",
           "Urlaub | Corona | Reisen | Risikogebiet | Land | Reisewarnungen | 2021 | Herbstferien"
          ],
          [
           "2020-09-14",
           "Urlaub | Corona | Reisen | Risikogebiet | Land | Reisewarnungen | 2021 | Herbstferien"
          ]
         ],
         "hovertemplate": "<b>%{hovertext}</b><br><br>TopWords=%{customdata[1]}<br>x=%{x}<br>y=%{y}<br>created_at=%{customdata[0]}<extra></extra>",
         "hovertext": [
          "Ab wann ist ein Land NICHT mehr Risikogebiet?",
          "Hier können Sie jetzt noch Herbsturlaub machen",
          "Wo kann ich jetzt noch Urlaub machen?",
          "Kann ich Reisen für nächstes Jahr schon SICHER buchen?",
          "BILD beantwortet Ihre Ferien-Fragen!",
          "Storno-Zoff mit FTI um Indien-Urlaub"
         ],
         "legendgroup": "Urlaub | Corona | Reisen | Risikogebiet | Land | Reisewarnungen | 2021 | Herbstferien",
         "marker": {
          "color": "#FF6692",
          "line": {
           "color": "DarkSlateGrey",
           "width": 0.15
          },
          "opacity": 0.8,
          "size": 9,
          "symbol": "circle"
         },
         "mode": "markers",
         "name": "Urlaub | Corona | Reisen | Risikogebiet | Land | Reisewarnungen | 2021 | Herbstferien",
         "orientation": "v",
         "showlegend": true,
         "type": "scatter",
         "x": [
          8.70583724975586,
          8.488999366760254,
          8.589911460876465,
          8.644635200500488,
          8.434500694274902,
          8.548129081726074
         ],
         "xaxis": "x",
         "y": [
          12.844794273376465,
          12.471793174743652,
          12.547229766845703,
          12.523171424865723,
          12.591591835021973,
          12.405937194824219
         ],
         "yaxis": "y"
        },
        {
         "customdata": [
          [
           "2020-09-10",
           "Nawalny | Fall | Kreml | Gift | Charité | Kritiker | Berlin | Bewusstsein"
          ],
          [
           "2020-09-10",
           "Nawalny | Fall | Kreml | Gift | Charité | Kritiker | Berlin | Bewusstsein"
          ],
          [
           "2020-09-10",
           "Nawalny | Fall | Kreml | Gift | Charité | Kritiker | Berlin | Bewusstsein"
          ],
          [
           "2020-09-14",
           "Nawalny | Fall | Kreml | Gift | Charité | Kritiker | Berlin | Bewusstsein"
          ],
          [
           "2020-09-14",
           "Nawalny | Fall | Kreml | Gift | Charité | Kritiker | Berlin | Bewusstsein"
          ],
          [
           "2020-09-11",
           "Nawalny | Fall | Kreml | Gift | Charité | Kritiker | Berlin | Bewusstsein"
          ]
         ],
         "hovertemplate": "<b>%{hovertext}</b><br><br>TopWords=%{customdata[1]}<br>x=%{x}<br>y=%{y}<br>created_at=%{customdata[0]}<extra></extra>",
         "hovertext": [
          "Er ist bei Bewusstsein! Er erinnert sich an die Ereignisse am Flughafen!",
          "Berlin und Moskau streiten über Nawalny-Treffen",
          "Trumps Top-Diplomat: Kreml steckt hinter Gift-Attacke",
          "Nawalny wird nicht mehr künstlich beatmet",
          "Wie viel vom Fall Nawalnysteckte in diesem „Tatort“?",
          "War das Gift auf der Unterwäsche Nawalnys?"
         ],
         "legendgroup": "Nawalny | Fall | Kreml | Gift | Charité | Kritiker | Berlin | Bewusstsein",
         "marker": {
          "color": "#B6E880",
          "line": {
           "color": "DarkSlateGrey",
           "width": 0.15
          },
          "opacity": 0.8,
          "size": 9,
          "symbol": "circle"
         },
         "mode": "markers",
         "name": "Nawalny | Fall | Kreml | Gift | Charité | Kritiker | Berlin | Bewusstsein",
         "orientation": "v",
         "showlegend": true,
         "type": "scatter",
         "x": [
          10.745338439941406,
          10.618228912353516,
          10.740395545959473,
          10.807787895202637,
          11.048542022705078,
          10.974699974060059
         ],
         "xaxis": "x",
         "y": [
          12.410722732543945,
          12.557746887207031,
          12.609829902648926,
          12.271034240722656,
          12.322640419006348,
          12.437771797180176
         ],
         "yaxis": "y"
        },
        {
         "customdata": [
          [
           "2020-09-14",
           "Reptil | Fluss | Experte | Unstrut-Krokodil | Männer | Unstrut | Patrouille | Kroko"
          ],
          [
           "2020-09-11",
           "Reptil | Fluss | Experte | Unstrut-Krokodil | Männer | Unstrut | Patrouille | Kroko"
          ]
         ],
         "hovertemplate": "<b>%{hovertext}</b><br><br>TopWords=%{customdata[1]}<br>x=%{x}<br>y=%{y}<br>created_at=%{customdata[0]}<extra></extra>",
         "hovertext": [
          "Experte soll nach Unstrut-Krokodil suchen",
          "Warten auf das Unstrut-Kroko"
         ],
         "legendgroup": "Reptil | Fluss | Experte | Unstrut-Krokodil | Männer | Unstrut | Patrouille | Kroko",
         "marker": {
          "color": "#FF97FF",
          "line": {
           "color": "DarkSlateGrey",
           "width": 0.15
          },
          "opacity": 0.8,
          "size": 9,
          "symbol": "circle"
         },
         "mode": "markers",
         "name": "Reptil | Fluss | Experte | Unstrut-Krokodil | Männer | Unstrut | Patrouille | Kroko",
         "orientation": "v",
         "showlegend": true,
         "type": "scatter",
         "x": [
          10.059518814086914,
          10.096527099609375
         ],
         "xaxis": "x",
         "y": [
          13.069790840148926,
          13.032273292541504
         ],
         "yaxis": "y"
        }
       ],
       "layout": {
        "autosize": true,
        "legend": {
         "title": {
          "text": "TopWords"
         },
         "tracegroupgap": 0
        },
        "margin": {
         "t": 60
        },
        "template": {
         "data": {
          "bar": [
           {
            "error_x": {
             "color": "#2a3f5f"
            },
            "error_y": {
             "color": "#2a3f5f"
            },
            "marker": {
             "line": {
              "color": "#E5ECF6",
              "width": 0.5
             }
            },
            "type": "bar"
           }
          ],
          "barpolar": [
           {
            "marker": {
             "line": {
              "color": "#E5ECF6",
              "width": 0.5
             }
            },
            "type": "barpolar"
           }
          ],
          "carpet": [
           {
            "aaxis": {
             "endlinecolor": "#2a3f5f",
             "gridcolor": "white",
             "linecolor": "white",
             "minorgridcolor": "white",
             "startlinecolor": "#2a3f5f"
            },
            "baxis": {
             "endlinecolor": "#2a3f5f",
             "gridcolor": "white",
             "linecolor": "white",
             "minorgridcolor": "white",
             "startlinecolor": "#2a3f5f"
            },
            "type": "carpet"
           }
          ],
          "choropleth": [
           {
            "colorbar": {
             "outlinewidth": 0,
             "ticks": ""
            },
            "type": "choropleth"
           }
          ],
          "contour": [
           {
            "colorbar": {
             "outlinewidth": 0,
             "ticks": ""
            },
            "colorscale": [
             [
              0,
              "#0d0887"
             ],
             [
              0.1111111111111111,
              "#46039f"
             ],
             [
              0.2222222222222222,
              "#7201a8"
             ],
             [
              0.3333333333333333,
              "#9c179e"
             ],
             [
              0.4444444444444444,
              "#bd3786"
             ],
             [
              0.5555555555555556,
              "#d8576b"
             ],
             [
              0.6666666666666666,
              "#ed7953"
             ],
             [
              0.7777777777777778,
              "#fb9f3a"
             ],
             [
              0.8888888888888888,
              "#fdca26"
             ],
             [
              1,
              "#f0f921"
             ]
            ],
            "type": "contour"
           }
          ],
          "contourcarpet": [
           {
            "colorbar": {
             "outlinewidth": 0,
             "ticks": ""
            },
            "type": "contourcarpet"
           }
          ],
          "heatmap": [
           {
            "colorbar": {
             "outlinewidth": 0,
             "ticks": ""
            },
            "colorscale": [
             [
              0,
              "#0d0887"
             ],
             [
              0.1111111111111111,
              "#46039f"
             ],
             [
              0.2222222222222222,
              "#7201a8"
             ],
             [
              0.3333333333333333,
              "#9c179e"
             ],
             [
              0.4444444444444444,
              "#bd3786"
             ],
             [
              0.5555555555555556,
              "#d8576b"
             ],
             [
              0.6666666666666666,
              "#ed7953"
             ],
             [
              0.7777777777777778,
              "#fb9f3a"
             ],
             [
              0.8888888888888888,
              "#fdca26"
             ],
             [
              1,
              "#f0f921"
             ]
            ],
            "type": "heatmap"
           }
          ],
          "heatmapgl": [
           {
            "colorbar": {
             "outlinewidth": 0,
             "ticks": ""
            },
            "colorscale": [
             [
              0,
              "#0d0887"
             ],
             [
              0.1111111111111111,
              "#46039f"
             ],
             [
              0.2222222222222222,
              "#7201a8"
             ],
             [
              0.3333333333333333,
              "#9c179e"
             ],
             [
              0.4444444444444444,
              "#bd3786"
             ],
             [
              0.5555555555555556,
              "#d8576b"
             ],
             [
              0.6666666666666666,
              "#ed7953"
             ],
             [
              0.7777777777777778,
              "#fb9f3a"
             ],
             [
              0.8888888888888888,
              "#fdca26"
             ],
             [
              1,
              "#f0f921"
             ]
            ],
            "type": "heatmapgl"
           }
          ],
          "histogram": [
           {
            "marker": {
             "colorbar": {
              "outlinewidth": 0,
              "ticks": ""
             }
            },
            "type": "histogram"
           }
          ],
          "histogram2d": [
           {
            "colorbar": {
             "outlinewidth": 0,
             "ticks": ""
            },
            "colorscale": [
             [
              0,
              "#0d0887"
             ],
             [
              0.1111111111111111,
              "#46039f"
             ],
             [
              0.2222222222222222,
              "#7201a8"
             ],
             [
              0.3333333333333333,
              "#9c179e"
             ],
             [
              0.4444444444444444,
              "#bd3786"
             ],
             [
              0.5555555555555556,
              "#d8576b"
             ],
             [
              0.6666666666666666,
              "#ed7953"
             ],
             [
              0.7777777777777778,
              "#fb9f3a"
             ],
             [
              0.8888888888888888,
              "#fdca26"
             ],
             [
              1,
              "#f0f921"
             ]
            ],
            "type": "histogram2d"
           }
          ],
          "histogram2dcontour": [
           {
            "colorbar": {
             "outlinewidth": 0,
             "ticks": ""
            },
            "colorscale": [
             [
              0,
              "#0d0887"
             ],
             [
              0.1111111111111111,
              "#46039f"
             ],
             [
              0.2222222222222222,
              "#7201a8"
             ],
             [
              0.3333333333333333,
              "#9c179e"
             ],
             [
              0.4444444444444444,
              "#bd3786"
             ],
             [
              0.5555555555555556,
              "#d8576b"
             ],
             [
              0.6666666666666666,
              "#ed7953"
             ],
             [
              0.7777777777777778,
              "#fb9f3a"
             ],
             [
              0.8888888888888888,
              "#fdca26"
             ],
             [
              1,
              "#f0f921"
             ]
            ],
            "type": "histogram2dcontour"
           }
          ],
          "mesh3d": [
           {
            "colorbar": {
             "outlinewidth": 0,
             "ticks": ""
            },
            "type": "mesh3d"
           }
          ],
          "parcoords": [
           {
            "line": {
             "colorbar": {
              "outlinewidth": 0,
              "ticks": ""
             }
            },
            "type": "parcoords"
           }
          ],
          "pie": [
           {
            "automargin": true,
            "type": "pie"
           }
          ],
          "scatter": [
           {
            "marker": {
             "colorbar": {
              "outlinewidth": 0,
              "ticks": ""
             }
            },
            "type": "scatter"
           }
          ],
          "scatter3d": [
           {
            "line": {
             "colorbar": {
              "outlinewidth": 0,
              "ticks": ""
             }
            },
            "marker": {
             "colorbar": {
              "outlinewidth": 0,
              "ticks": ""
             }
            },
            "type": "scatter3d"
           }
          ],
          "scattercarpet": [
           {
            "marker": {
             "colorbar": {
              "outlinewidth": 0,
              "ticks": ""
             }
            },
            "type": "scattercarpet"
           }
          ],
          "scattergeo": [
           {
            "marker": {
             "colorbar": {
              "outlinewidth": 0,
              "ticks": ""
             }
            },
            "type": "scattergeo"
           }
          ],
          "scattergl": [
           {
            "marker": {
             "colorbar": {
              "outlinewidth": 0,
              "ticks": ""
             }
            },
            "type": "scattergl"
           }
          ],
          "scattermapbox": [
           {
            "marker": {
             "colorbar": {
              "outlinewidth": 0,
              "ticks": ""
             }
            },
            "type": "scattermapbox"
           }
          ],
          "scatterpolar": [
           {
            "marker": {
             "colorbar": {
              "outlinewidth": 0,
              "ticks": ""
             }
            },
            "type": "scatterpolar"
           }
          ],
          "scatterpolargl": [
           {
            "marker": {
             "colorbar": {
              "outlinewidth": 0,
              "ticks": ""
             }
            },
            "type": "scatterpolargl"
           }
          ],
          "scatterternary": [
           {
            "marker": {
             "colorbar": {
              "outlinewidth": 0,
              "ticks": ""
             }
            },
            "type": "scatterternary"
           }
          ],
          "surface": [
           {
            "colorbar": {
             "outlinewidth": 0,
             "ticks": ""
            },
            "colorscale": [
             [
              0,
              "#0d0887"
             ],
             [
              0.1111111111111111,
              "#46039f"
             ],
             [
              0.2222222222222222,
              "#7201a8"
             ],
             [
              0.3333333333333333,
              "#9c179e"
             ],
             [
              0.4444444444444444,
              "#bd3786"
             ],
             [
              0.5555555555555556,
              "#d8576b"
             ],
             [
              0.6666666666666666,
              "#ed7953"
             ],
             [
              0.7777777777777778,
              "#fb9f3a"
             ],
             [
              0.8888888888888888,
              "#fdca26"
             ],
             [
              1,
              "#f0f921"
             ]
            ],
            "type": "surface"
           }
          ],
          "table": [
           {
            "cells": {
             "fill": {
              "color": "#EBF0F8"
             },
             "line": {
              "color": "white"
             }
            },
            "header": {
             "fill": {
              "color": "#C8D4E3"
             },
             "line": {
              "color": "white"
             }
            },
            "type": "table"
           }
          ]
         },
         "layout": {
          "annotationdefaults": {
           "arrowcolor": "#2a3f5f",
           "arrowhead": 0,
           "arrowwidth": 1
          },
          "coloraxis": {
           "colorbar": {
            "outlinewidth": 0,
            "ticks": ""
           }
          },
          "colorscale": {
           "diverging": [
            [
             0,
             "#8e0152"
            ],
            [
             0.1,
             "#c51b7d"
            ],
            [
             0.2,
             "#de77ae"
            ],
            [
             0.3,
             "#f1b6da"
            ],
            [
             0.4,
             "#fde0ef"
            ],
            [
             0.5,
             "#f7f7f7"
            ],
            [
             0.6,
             "#e6f5d0"
            ],
            [
             0.7,
             "#b8e186"
            ],
            [
             0.8,
             "#7fbc41"
            ],
            [
             0.9,
             "#4d9221"
            ],
            [
             1,
             "#276419"
            ]
           ],
           "sequential": [
            [
             0,
             "#0d0887"
            ],
            [
             0.1111111111111111,
             "#46039f"
            ],
            [
             0.2222222222222222,
             "#7201a8"
            ],
            [
             0.3333333333333333,
             "#9c179e"
            ],
            [
             0.4444444444444444,
             "#bd3786"
            ],
            [
             0.5555555555555556,
             "#d8576b"
            ],
            [
             0.6666666666666666,
             "#ed7953"
            ],
            [
             0.7777777777777778,
             "#fb9f3a"
            ],
            [
             0.8888888888888888,
             "#fdca26"
            ],
            [
             1,
             "#f0f921"
            ]
           ],
           "sequentialminus": [
            [
             0,
             "#0d0887"
            ],
            [
             0.1111111111111111,
             "#46039f"
            ],
            [
             0.2222222222222222,
             "#7201a8"
            ],
            [
             0.3333333333333333,
             "#9c179e"
            ],
            [
             0.4444444444444444,
             "#bd3786"
            ],
            [
             0.5555555555555556,
             "#d8576b"
            ],
            [
             0.6666666666666666,
             "#ed7953"
            ],
            [
             0.7777777777777778,
             "#fb9f3a"
            ],
            [
             0.8888888888888888,
             "#fdca26"
            ],
            [
             1,
             "#f0f921"
            ]
           ]
          },
          "colorway": [
           "#636efa",
           "#EF553B",
           "#00cc96",
           "#ab63fa",
           "#FFA15A",
           "#19d3f3",
           "#FF6692",
           "#B6E880",
           "#FF97FF",
           "#FECB52"
          ],
          "font": {
           "color": "#2a3f5f"
          },
          "geo": {
           "bgcolor": "white",
           "lakecolor": "white",
           "landcolor": "#E5ECF6",
           "showlakes": true,
           "showland": true,
           "subunitcolor": "white"
          },
          "hoverlabel": {
           "align": "left"
          },
          "hovermode": "closest",
          "mapbox": {
           "style": "light"
          },
          "paper_bgcolor": "white",
          "plot_bgcolor": "#E5ECF6",
          "polar": {
           "angularaxis": {
            "gridcolor": "white",
            "linecolor": "white",
            "ticks": ""
           },
           "bgcolor": "#E5ECF6",
           "radialaxis": {
            "gridcolor": "white",
            "linecolor": "white",
            "ticks": ""
           }
          },
          "scene": {
           "xaxis": {
            "backgroundcolor": "#E5ECF6",
            "gridcolor": "white",
            "gridwidth": 2,
            "linecolor": "white",
            "showbackground": true,
            "ticks": "",
            "zerolinecolor": "white"
           },
           "yaxis": {
            "backgroundcolor": "#E5ECF6",
            "gridcolor": "white",
            "gridwidth": 2,
            "linecolor": "white",
            "showbackground": true,
            "ticks": "",
            "zerolinecolor": "white"
           },
           "zaxis": {
            "backgroundcolor": "#E5ECF6",
            "gridcolor": "white",
            "gridwidth": 2,
            "linecolor": "white",
            "showbackground": true,
            "ticks": "",
            "zerolinecolor": "white"
           }
          },
          "shapedefaults": {
           "line": {
            "color": "#2a3f5f"
           }
          },
          "ternary": {
           "aaxis": {
            "gridcolor": "white",
            "linecolor": "white",
            "ticks": ""
           },
           "baxis": {
            "gridcolor": "white",
            "linecolor": "white",
            "ticks": ""
           },
           "bgcolor": "#E5ECF6",
           "caxis": {
            "gridcolor": "white",
            "linecolor": "white",
            "ticks": ""
           }
          },
          "title": {
           "x": 0.05
          },
          "xaxis": {
           "automargin": true,
           "gridcolor": "white",
           "linecolor": "white",
           "ticks": "",
           "title": {
            "standoff": 15
           },
           "zerolinecolor": "white",
           "zerolinewidth": 2
          },
          "yaxis": {
           "automargin": true,
           "gridcolor": "white",
           "linecolor": "white",
           "ticks": "",
           "title": {
            "standoff": 15
           },
           "zerolinecolor": "white",
           "zerolinewidth": 2
          }
         }
        },
        "xaxis": {
         "anchor": "y",
         "autorange": true,
         "domain": [
          0,
          1
         ],
         "range": [
          7.657934609173588,
          12.419209536791989
         ],
         "title": {
          "text": "x"
         },
         "type": "linear"
        },
        "yaxis": {
         "anchor": "x",
         "autorange": true,
         "domain": [
          0,
          1
         ],
         "range": [
          9.11755557530671,
          14.638695759837333
         ],
         "title": {
          "text": "y"
         },
         "type": "linear"
        }
       }
      },
      "image/png": "[encoded data removed]",
      "text/html": [
       "<div>                            <div id=\"f3c46907-8664-4d74-a025-4704bbbc5827\" class=\"plotly-graph-div\" style=\"height:1000px; width:100%;\"></div>            <script type=\"text/javascript\">                require([\"plotly\"], function(Plotly) {                    window.PLOTLYENV=window.PLOTLYENV || {};                                    if (document.getElementById(\"f3c46907-8664-4d74-a025-4704bbbc5827\")) {                    Plotly.newPlot(                        \"f3c46907-8664-4d74-a025-4704bbbc5827\",                        [{\"customdata\": [[\"2020-09-12\", \"Corona | Corona-Krise | Wirtschaft | Finanzminister | Geld | Steuererh\\u00f6hungen | Leben | Unternehmen\"], [\"2020-09-11\", \"Corona | Corona-Krise | Wirtschaft | Finanzminister | Geld | Steuererh\\u00f6hungen | Leben | Unternehmen\"], [\"2020-09-11\", \"Corona | Corona-Krise | Wirtschaft | Finanzminister | Geld | Steuererh\\u00f6hungen | Leben | Unternehmen\"], [\"2020-09-10\", \"Corona | Corona-Krise | Wirtschaft | Finanzminister | Geld | Steuererh\\u00f6hungen | Leben | Unternehmen\"], [\"2020-09-10\", \"Corona | Corona-Krise | Wirtschaft | Finanzminister | Geld | Steuererh\\u00f6hungen | Leben | Unternehmen\"], [\"2020-09-11\", \"Corona | Corona-Krise | Wirtschaft | Finanzminister | Geld | Steuererh\\u00f6hungen | Leben | Unternehmen\"], [\"2020-09-10\", \"Corona | Corona-Krise | Wirtschaft | Finanzminister | Geld | Steuererh\\u00f6hungen | Leben | Unternehmen\"], [\"2020-09-10\", \"Corona | Corona-Krise | Wirtschaft | Finanzminister | Geld | Steuererh\\u00f6hungen | Leben | Unternehmen\"], [\"2020-09-10\", \"Corona | Corona-Krise | Wirtschaft | Finanzminister | Geld | Steuererh\\u00f6hungen | Leben | Unternehmen\"], [\"2020-09-13\", \"Corona | Corona-Krise | Wirtschaft | Finanzminister | Geld | Steuererh\\u00f6hungen | Leben | Unternehmen\"], [\"2020-09-14\", \"Corona | Corona-Krise | Wirtschaft | Finanzminister | Geld | Steuererh\\u00f6hungen | Leben | Unternehmen\"], [\"2020-09-13\", \"Corona | Corona-Krise | Wirtschaft | Finanzminister | Geld | Steuererh\\u00f6hungen | Leben | Unternehmen\"]], \"hovertemplate\": \"<b>%{hovertext}</b><br><br>TopWords=%{customdata[1]}<br>x=%{x}<br>y=%{y}<br>created_at=%{customdata[0]}<extra></extra>\", \"hovertext\": [\"Welche Versicherung muss sein, welche ist Quatsch?\", \"So lange m\\u00fcssen wir die Corona-Schulden abstottern\", \"50 Sparfochs-Tipps f\\u00fcr ein sorgenfreieres Leben\", \"Steuererh\\u00f6hungen Gift in der Corona-Krise\", \"So werden aus 10\\u00a0000 Euro mit etwas Geduld 99\\u00a0000 Euro!\", \"Neue Privatleasing-Schn\\u00e4ppchen\", \"Kassensturz: So gro\\u00df ist das Corona-Steuerloch\", \"Sp\\u00e4testens im M\\u00e4rz wird es ein Massensterben geben\", \"Historischer Steuer-Einbruch in Bayern\", \"So weit geht die Renten-Schere auseinander\", \"Corona rei\\u00dft Milliarden-Loch\", \"Wie stark belastet Corona unseren Geldbeutel?\"], \"legendgroup\": \"Corona | Corona-Krise | Wirtschaft | Finanzminister | Geld | Steuererh\\u00f6hungen | Leben | Unternehmen\", \"marker\": {\"color\": \"#636efa\", \"line\": {\"color\": \"DarkSlateGrey\", \"width\": 0.15}, \"opacity\": 0.8, \"size\": 9, \"symbol\": \"circle\"}, \"mode\": \"markers\", \"name\": \"Corona | Corona-Krise | Wirtschaft | Finanzminister | Geld | Steuererh\\u00f6hungen | Leben | Unternehmen\", \"orientation\": \"v\", \"showlegend\": true, \"type\": \"scatter\", \"x\": [8.307023048400879, 8.301155090332031, 8.477301597595215, 8.690620422363281, 8.568340301513672, 8.394426345825195, 8.804691314697266, 8.591793060302734, 8.846543312072754, 8.67005443572998, 8.561059951782227, 8.576682090759277], \"xaxis\": \"x\", \"y\": [12.25772476196289, 12.1187105178833, 12.049263954162598, 12.245316505432129, 11.705001831054688, 11.882383346557617, 12.151264190673828, 12.401639938354492, 12.128424644470215, 11.929558753967285, 12.346991539001465, 12.351606369018555], \"yaxis\": \"y\"}, {\"customdata\": [[\"2020-09-13\", \"Polizei | Hunde | L\\u00f6wenbaby | Lotta | Welpen | Leipzig | Hund | H\\u00fcndin\"], [\"2020-09-10\", \"Polizei | Hunde | L\\u00f6wenbaby | Lotta | Welpen | Leipzig | Hund | H\\u00fcndin\"], [\"2020-09-10\", \"Polizei | Hunde | L\\u00f6wenbaby | Lotta | Welpen | Leipzig | Hund | H\\u00fcndin\"], [\"2020-09-11\", \"Polizei | Hunde | L\\u00f6wenbaby | Lotta | Welpen | Leipzig | Hund | H\\u00fcndin\"], [\"2020-09-12\", \"Polizei | Hunde | L\\u00f6wenbaby | Lotta | Welpen | Leipzig | Hund | H\\u00fcndin\"], [\"2020-09-14\", \"Polizei | Hunde | L\\u00f6wenbaby | Lotta | Welpen | Leipzig | Hund | H\\u00fcndin\"], [\"2020-09-13\", \"Polizei | Hunde | L\\u00f6wenbaby | Lotta | Welpen | Leipzig | Hund | H\\u00fcndin\"], [\"2020-09-09\", \"Polizei | Hunde | L\\u00f6wenbaby | Lotta | Welpen | Leipzig | Hund | H\\u00fcndin\"], [\"2020-09-09\", \"Polizei | Hunde | L\\u00f6wenbaby | Lotta | Welpen | Leipzig | Hund | H\\u00fcndin\"]], \"hovertemplate\": \"<b>%{hovertext}</b><br><br>TopWords=%{customdata[1]}<br>x=%{x}<br>y=%{y}<br>created_at=%{customdata[0]}<extra></extra>\", \"hovertext\": [\"Tiersch\\u00fctzer retten v\\u00f6llig verwahrloste Dackel\", \"Lotta von Entf\\u00fchrerin befreit\", \"Entflogener Hornvogel eingefangen\", \"Z\\u00f6llner retten Zwergspitz-Welpen\", \"Polizei rettet verwahrloste Welpen aus Wohnung\", \"Ist es wirklich schlecht, seinen Hund zu tragen?\", \"Polizei entdeckt vernachl\\u00e4ssigte Pferde in Sachsen\", \"Lotta beim Einkaufen entf\\u00fchrt!\", \"So l\\u00e4uft das miese Gesch\\u00e4ft mit exotischen Tieren\"], \"legendgroup\": \"Polizei | Hunde | L\\u00f6wenbaby | Lotta | Welpen | Leipzig | Hund | H\\u00fcndin\", \"marker\": {\"color\": \"#EF553B\", \"line\": {\"color\": \"DarkSlateGrey\", \"width\": 0.15}, \"opacity\": 0.8, \"size\": 9, \"symbol\": \"circle\"}, \"mode\": \"markers\", \"name\": \"Polizei | Hunde | L\\u00f6wenbaby | Lotta | Welpen | Leipzig | Hund | H\\u00fcndin\", \"orientation\": \"v\", \"showlegend\": true, \"type\": \"scatter\", \"x\": [9.454608917236328, 9.73563289642334, 10.109898567199707, 9.623092651367188, 9.565361022949219, 9.586726188659668, 9.648630142211914, 9.665287017822266, 9.528602600097656], \"xaxis\": \"x\", \"y\": [13.4915771484375, 13.25642204284668, 13.044001579284668, 13.312211990356445, 13.417572021484375, 13.301606178283691, 13.369515419006348, 13.181175231933594, 13.198875427246094], \"yaxis\": \"y\"}, {\"customdata\": [[\"2020-09-10\", \"Moria | Lesbos | Kinder | Fl\\u00fcchtlinge | Fl\\u00fcchtlingslager | Politik | Menschen | Feuer\"], [\"2020-09-12\", \"Moria | Lesbos | Kinder | Fl\\u00fcchtlinge | Fl\\u00fcchtlingslager | Politik | Menschen | Feuer\"], [\"2020-09-11\", \"Moria | Lesbos | Kinder | Fl\\u00fcchtlinge | Fl\\u00fcchtlingslager | Politik | Menschen | Feuer\"], [\"2020-09-09\", \"Moria | Lesbos | Kinder | Fl\\u00fcchtlinge | Fl\\u00fcchtlingslager | Politik | Menschen | Feuer\"], [\"2020-09-11\", \"Moria | Lesbos | Kinder | Fl\\u00fcchtlinge | Fl\\u00fcchtlingslager | Politik | Menschen | Feuer\"], [\"2020-09-09\", \"Moria | Lesbos | Kinder | Fl\\u00fcchtlinge | Fl\\u00fcchtlingslager | Politik | Menschen | Feuer\"], [\"2020-09-11\", \"Moria | Lesbos | Kinder | Fl\\u00fcchtlinge | Fl\\u00fcchtlingslager | Politik | Menschen | Feuer\"], [\"2020-09-14\", \"Moria | Lesbos | Kinder | Fl\\u00fcchtlinge | Fl\\u00fcchtlingslager | Politik | Menschen | Feuer\"], [\"2020-09-12\", \"Moria | Lesbos | Kinder | Fl\\u00fcchtlinge | Fl\\u00fcchtlingslager | Politik | Menschen | Feuer\"], [\"2020-09-11\", \"Moria | Lesbos | Kinder | Fl\\u00fcchtlinge | Fl\\u00fcchtlingslager | Politik | Menschen | Feuer\"], [\"2020-09-14\", \"Moria | Lesbos | Kinder | Fl\\u00fcchtlinge | Fl\\u00fcchtlingslager | Politik | Menschen | Feuer\"], [\"2020-09-10\", \"Moria | Lesbos | Kinder | Fl\\u00fcchtlinge | Fl\\u00fcchtlingslager | Politik | Menschen | Feuer\"], [\"2020-09-13\", \"Moria | Lesbos | Kinder | Fl\\u00fcchtlinge | Fl\\u00fcchtlingslager | Politik | Menschen | Feuer\"], [\"2020-09-12\", \"Moria | Lesbos | Kinder | Fl\\u00fcchtlinge | Fl\\u00fcchtlingslager | Politik | Menschen | Feuer\"], [\"2020-09-10\", \"Moria | Lesbos | Kinder | Fl\\u00fcchtlinge | Fl\\u00fcchtlingslager | Politik | Menschen | Feuer\"], [\"2020-09-14\", \"Moria | Lesbos | Kinder | Fl\\u00fcchtlinge | Fl\\u00fcchtlingslager | Politik | Menschen | Feuer\"], [\"2020-09-10\", \"Moria | Lesbos | Kinder | Fl\\u00fcchtlinge | Fl\\u00fcchtlingslager | Politik | Menschen | Feuer\"], [\"2020-09-14\", \"Moria | Lesbos | Kinder | Fl\\u00fcchtlinge | Fl\\u00fcchtlingslager | Politik | Menschen | Feuer\"], [\"2020-09-13\", \"Moria | Lesbos | Kinder | Fl\\u00fcchtlinge | Fl\\u00fcchtlingslager | Politik | Menschen | Feuer\"], [\"2020-09-11\", \"Moria | Lesbos | Kinder | Fl\\u00fcchtlinge | Fl\\u00fcchtlingslager | Politik | Menschen | Feuer\"], [\"2020-09-12\", \"Moria | Lesbos | Kinder | Fl\\u00fcchtlinge | Fl\\u00fcchtlingslager | Politik | Menschen | Feuer\"], [\"2020-09-10\", \"Moria | Lesbos | Kinder | Fl\\u00fcchtlinge | Fl\\u00fcchtlingslager | Politik | Menschen | Feuer\"], [\"2020-09-14\", \"Moria | Lesbos | Kinder | Fl\\u00fcchtlinge | Fl\\u00fcchtlingslager | Politik | Menschen | Feuer\"], [\"2020-09-10\", \"Moria | Lesbos | Kinder | Fl\\u00fcchtlinge | Fl\\u00fcchtlingslager | Politik | Menschen | Feuer\"]], \"hovertemplate\": \"<b>%{hovertext}</b><br><br>TopWords=%{customdata[1]}<br>x=%{x}<br>y=%{y}<br>created_at=%{customdata[0]}<extra></extra>\", \"hovertext\": [\"Die Kinder von Moria brauchen unsere Hilfe\", \"In dieser H\\u00f6lle lebenrund 4000 Kinder\", \"Diese Missst\\u00e4nde f\\u00fchrten zur Schande von Moria\", \"Hunderte demonstrieren f\\u00fcr Aufnahme von Fl\\u00fcchtlingen\", \"Deutschland nimmt 100 bis 150 Kinder aus Moria auf\", \"Zweites Feuer im Fl\\u00fcchtlingscamp Moria!\", \"Deutschland nimmt 100 bis 150 Minderj\\u00e4hrige auf\", \"\\u201eVorausgehen taugt nichts, wenn niemand mehr folgen will\\u201c\", \"Polizei setzt Tr\\u00e4nengasgegen Migranten ein\", \"Die Kinder von Moria lernen weiter\", \"Merkel will mehr Moria-Fl\\u00fcchtlinge aufnehmen!\", \"Alle wussten, dass es passieren w\\u00fcrde\", \"Niemand will ein zweites Moria\", \"Claudia Roth attackiert Seehofer\", \"10 deutsche St\\u00e4dte wollen Moria-Fl\\u00fcchtlinge aufnehmen\", \"Darum wollen sie nicht ins neue Camp\", \"Gro\\u00dfbrand am Hafen von Beirut\", \"EU muss Chinas Firmen-\\u201eEinkaufstour\\u201c stoppen!\", \"Werden Sie nicht zum Herzlos-Kanzler, Herr Kurz!\", \"Viele wollen nach \\u201eGermany\\u201c\", \"Kinder weinen, Politiker streiten\", \"\\u00dcbernahme von 400 Kinder aus Moria in EU\", \"DRK-Hilfsfl\\u00fcge nach Lesbos\", \"Nach zweitem Feuer: Menschen schliefen auf der Stra\\u00dfe\"], \"legendgroup\": \"Moria | Lesbos | Kinder | Fl\\u00fcchtlinge | Fl\\u00fcchtlingslager | Politik | Menschen | Feuer\", \"marker\": {\"color\": \"#00cc96\", \"line\": {\"color\": \"DarkSlateGrey\", \"width\": 0.15}, \"opacity\": 0.8, \"size\": 9, \"symbol\": \"circle\"}, \"mode\": \"markers\", \"name\": \"Moria | Lesbos | Kinder | Fl\\u00fcchtlinge | Fl\\u00fcchtlingslager | Politik | Menschen | Feuer\", \"orientation\": \"v\", \"showlegend\": true, \"type\": \"scatter\", \"x\": [8.19973373413086, 8.106441497802734, 8.142220497131348, 8.13079833984375, 8.046403884887695, 8.2284574508667, 8.043946266174316, 8.097618103027344, 8.050158500671387, 8.416855812072754, 8.261930465698242, 8.27840518951416, 7.954208850860596, 8.286081314086914, 8.228985786437988, 7.921602725982666, 8.229796409606934, 8.83133316040039, 8.206016540527344, 8.233302116394043, 8.015290260314941, 8.136677742004395, 8.236245155334473, 8.268004417419434], \"xaxis\": \"x\", \"y\": [14.116305351257324, 13.826789855957031, 14.293030738830566, 14.159667015075684, 13.889002799987793, 13.79186725616455, 13.63887882232666, 13.88453483581543, 14.326526641845703, 14.174148559570312, 13.773761749267578, 14.212658882141113, 14.043142318725586, 13.719980239868164, 13.998867988586426, 13.902710914611816, 13.729131698608398, 13.325112342834473, 13.752735137939453, 13.971845626831055, 14.007720947265625, 13.795392036437988, 13.958738327026367, 13.845967292785645], \"yaxis\": \"y\"}, {\"customdata\": [[\"2020-09-10\", \"Fortuna D\\u00fcsseldorf | Trainer | Uwe R\\u00f6sler | Fortuna | Pause | Platz | Liga | Sturm\"], [\"2020-09-13\", \"Fortuna D\\u00fcsseldorf | Trainer | Uwe R\\u00f6sler | Fortuna | Pause | Platz | Liga | Sturm\"], [\"2020-09-13\", \"Fortuna D\\u00fcsseldorf | Trainer | Uwe R\\u00f6sler | Fortuna | Pause | Platz | Liga | Sturm\"], [\"2020-09-14\", \"Fortuna D\\u00fcsseldorf | Trainer | Uwe R\\u00f6sler | Fortuna | Pause | Platz | Liga | Sturm\"], [\"2020-09-09\", \"Fortuna D\\u00fcsseldorf | Trainer | Uwe R\\u00f6sler | Fortuna | Pause | Platz | Liga | Sturm\"], [\"2020-09-11\", \"Fortuna D\\u00fcsseldorf | Trainer | Uwe R\\u00f6sler | Fortuna | Pause | Platz | Liga | Sturm\"], [\"2020-09-11\", \"Fortuna D\\u00fcsseldorf | Trainer | Uwe R\\u00f6sler | Fortuna | Pause | Platz | Liga | Sturm\"], [\"2020-09-12\", \"Fortuna D\\u00fcsseldorf | Trainer | Uwe R\\u00f6sler | Fortuna | Pause | Platz | Liga | Sturm\"]], \"hovertemplate\": \"<b>%{hovertext}</b><br><br>TopWords=%{customdata[1]}<br>x=%{x}<br>y=%{y}<br>created_at=%{customdata[0]}<extra></extra>\", \"hovertext\": [\"Iyoha drohtlange Pause!\", \"Goldh\\u00e4ndchen R\\u00f6sler!\", \"Preu\\u00dfen-Doc beklagt Vertrauens-Verlust\", \"\\u201eKrieger\\u201d Sobottka zieht wieder die Strippen\", \"Kownacki wankt \\u00fcber den Platz\", \"Wolf bekommtdie Nr. 1\", \"Zum Pokal-Start nur Hennings da\", \"N\\u00e4chstes Pokal-Spielvor Absage\"], \"legendgroup\": \"Fortuna D\\u00fcsseldorf | Trainer | Uwe R\\u00f6sler | Fortuna | Pause | Platz | Liga | Sturm\", \"marker\": {\"color\": \"#ab63fa\", \"line\": {\"color\": \"DarkSlateGrey\", \"width\": 0.15}, \"opacity\": 0.8, \"size\": 9, \"symbol\": \"circle\"}, \"mode\": \"markers\", \"name\": \"Fortuna D\\u00fcsseldorf | Trainer | Uwe R\\u00f6sler | Fortuna | Pause | Platz | Liga | Sturm\", \"orientation\": \"v\", \"showlegend\": true, \"type\": \"scatter\", \"x\": [10.199263572692871, 9.736181259155273, 10.292391777038574, 10.138099670410156, 10.193634986877441, 10.07370662689209, 9.987385749816895, 9.657068252563477], \"xaxis\": \"x\", \"y\": [11.845104217529297, 11.547465324401855, 11.655454635620117, 10.933774948120117, 11.61546516418457, 11.438894271850586, 11.22149658203125, 11.880888938903809], \"yaxis\": \"y\"}, {\"customdata\": [[\"2020-09-13\", \"Formel 1 | Mugello | Ferrari | Rennen | Sebastian Vettel | Vettel | Aston Martin | Massen-Crash\"], [\"2020-09-11\", \"Formel 1 | Mugello | Ferrari | Rennen | Sebastian Vettel | Vettel | Aston Martin | Massen-Crash\"], [\"2020-09-10\", \"Formel 1 | Mugello | Ferrari | Rennen | Sebastian Vettel | Vettel | Aston Martin | Massen-Crash\"], [\"2020-09-11\", \"Formel 1 | Mugello | Ferrari | Rennen | Sebastian Vettel | Vettel | Aston Martin | Massen-Crash\"], [\"2020-09-11\", \"Formel 1 | Mugello | Ferrari | Rennen | Sebastian Vettel | Vettel | Aston Martin | Massen-Crash\"], [\"2020-09-14\", \"Formel 1 | Mugello | Ferrari | Rennen | Sebastian Vettel | Vettel | Aston Martin | Massen-Crash\"], [\"2020-09-09\", \"Formel 1 | Mugello | Ferrari | Rennen | Sebastian Vettel | Vettel | Aston Martin | Massen-Crash\"], [\"2020-09-10\", \"Formel 1 | Mugello | Ferrari | Rennen | Sebastian Vettel | Vettel | Aston Martin | Massen-Crash\"], [\"2020-09-13\", \"Formel 1 | Mugello | Ferrari | Rennen | Sebastian Vettel | Vettel | Aston Martin | Massen-Crash\"], [\"2020-09-12\", \"Formel 1 | Mugello | Ferrari | Rennen | Sebastian Vettel | Vettel | Aston Martin | Massen-Crash\"], [\"2020-09-10\", \"Formel 1 | Mugello | Ferrari | Rennen | Sebastian Vettel | Vettel | Aston Martin | Massen-Crash\"], [\"2020-09-13\", \"Formel 1 | Mugello | Ferrari | Rennen | Sebastian Vettel | Vettel | Aston Martin | Massen-Crash\"], [\"2020-09-12\", \"Formel 1 | Mugello | Ferrari | Rennen | Sebastian Vettel | Vettel | Aston Martin | Massen-Crash\"], [\"2020-09-12\", \"Formel 1 | Mugello | Ferrari | Rennen | Sebastian Vettel | Vettel | Aston Martin | Massen-Crash\"], [\"2020-09-14\", \"Formel 1 | Mugello | Ferrari | Rennen | Sebastian Vettel | Vettel | Aston Martin | Massen-Crash\"], [\"2020-09-14\", \"Formel 1 | Mugello | Ferrari | Rennen | Sebastian Vettel | Vettel | Aston Martin | Massen-Crash\"], [\"2020-09-10\", \"Formel 1 | Mugello | Ferrari | Rennen | Sebastian Vettel | Vettel | Aston Martin | Massen-Crash\"], [\"2020-09-13\", \"Formel 1 | Mugello | Ferrari | Rennen | Sebastian Vettel | Vettel | Aston Martin | Massen-Crash\"], [\"2020-09-13\", \"Formel 1 | Mugello | Ferrari | Rennen | Sebastian Vettel | Vettel | Aston Martin | Massen-Crash\"], [\"2020-09-12\", \"Formel 1 | Mugello | Ferrari | Rennen | Sebastian Vettel | Vettel | Aston Martin | Massen-Crash\"], [\"2020-09-13\", \"Formel 1 | Mugello | Ferrari | Rennen | Sebastian Vettel | Vettel | Aston Martin | Massen-Crash\"], [\"2020-09-09\", \"Formel 1 | Mugello | Ferrari | Rennen | Sebastian Vettel | Vettel | Aston Martin | Massen-Crash\"], [\"2020-09-10\", \"Formel 1 | Mugello | Ferrari | Rennen | Sebastian Vettel | Vettel | Aston Martin | Massen-Crash\"], [\"2020-09-11\", \"Formel 1 | Mugello | Ferrari | Rennen | Sebastian Vettel | Vettel | Aston Martin | Massen-Crash\"], [\"2020-09-10\", \"Formel 1 | Mugello | Ferrari | Rennen | Sebastian Vettel | Vettel | Aston Martin | Massen-Crash\"]], \"hovertemplate\": \"<b>%{hovertext}</b><br><br>TopWords=%{customdata[1]}<br>x=%{x}<br>y=%{y}<br>created_at=%{customdata[0]}<extra></extra>\", \"hovertext\": [\"Mick f\\u00e4hrt SchumisRekord-Ferrari\", \"Ernst August f\\u00e4hrtzur Nervenklinik\", \"So wollte Vettel nicht aufh\\u00f6ren\", \"Das ist der Milliard\\u00e4r hinter dem Vettel-Deal\", \"Formel 1 schenkt Ferrari ein Heim-Rennen\", \"Darum gibt's gerade soviele Crashs in der Formel 1\", \"Jetzt ist der Platz f\\u00fcr Vettel frei\", \"BILD enth\\u00fclltden Vettel-Vertrag\", \"Massen-Crash beim Neustart\", \"Vettel-Frust beim Ferrari-Fest\", \"FORMEL BOND\", \"\\u201eWollen die uns t\\u00f6ten, oder was!?\\u201c\", \"\\u201eMein Vater hat eine Legende geschaffen\\u201c\", \"Moto-GP-Legende Rossi f\\u00e4hrt mit Viagra-Helm\", \"So kam es zum Massen-Crash in der Formel 1\", \"Hamilton braucht noch 309,7 Kilometer bis zum Schumi-Rekord\", \"Offiziell! Vettelwechselt zu Aston Martin\", \"Hamilton f\\u00e4hrt dem Chaos davon\", \"\\u201eEs gibt viel, dass ichvon Mick lernen kann\\u201c\", \"Ferraris Aufw\\u00e4rmrunde\", \"Hamilton mit Protest-Shirtauf dem Podium\", \"Mick f\\u00e4hrtSchumis rote G\\u00f6ttin\", \"VETTEL Darum gehe ichzu Aston Martin\", \"Das erwartet Vettelbei Aston Martin\", \"Vettel hat schon einen neuen Dienstwagen\"], \"legendgroup\": \"Formel 1 | Mugello | Ferrari | Rennen | Sebastian Vettel | Vettel | Aston Martin | Massen-Crash\", \"marker\": {\"color\": \"#FFA15A\", \"line\": {\"color\": \"DarkSlateGrey\", \"width\": 0.15}, \"opacity\": 0.8, \"size\": 9, \"symbol\": \"circle\"}, \"mode\": \"markers\", \"name\": \"Formel 1 | Mugello | Ferrari | Rennen | Sebastian Vettel | Vettel | Aston Martin | Massen-Crash\", \"orientation\": \"v\", \"showlegend\": true, \"type\": \"scatter\", \"x\": [10.008240699768066, 10.537980079650879, 10.416972160339355, 10.605173110961914, 9.794785499572754, 9.703561782836914, 10.617143630981445, 10.552396774291992, 9.768805503845215, 10.0703125, 10.564512252807617, 9.892363548278809, 9.740726470947266, 9.993769645690918, 9.744473457336426, 10.216181755065918, 10.373119354248047, 10.043807029724121, 10.107232093811035, 10.061918258666992, 10.189685821533203, 10.217568397521973, 10.646742820739746, 10.436261177062988, 10.467480659484863], \"xaxis\": \"x\", \"y\": [9.42972469329834, 9.491579055786133, 9.80251693725586, 9.761334419250488, 9.465127944946289, 9.735087394714355, 10.017708778381348, 9.911993980407715, 9.58586311340332, 9.782835960388184, 9.619953155517578, 9.773685455322266, 9.757999420166016, 9.84395980834961, 9.750205993652344, 9.87037467956543, 9.767510414123535, 9.860299110412598, 9.64248275756836, 9.839548110961914, 10.009195327758789, 9.579788208007812, 9.6742525100708, 9.736977577209473, 9.906649589538574], \"yaxis\": \"y\"}, {\"customdata\": [[\"2020-09-10\", \"Leute | Star | Corona | Hollywood | Netflix | Stars | Instagram | TV\"], [\"2020-09-11\", \"Leute | Star | Corona | Hollywood | Netflix | Stars | Instagram | TV\"], [\"2020-09-09\", \"Leute | Star | Corona | Hollywood | Netflix | Stars | Instagram | TV\"], [\"2020-09-13\", \"Leute | Star | Corona | Hollywood | Netflix | Stars | Instagram | TV\"], [\"2020-09-14\", \"Leute | Star | Corona | Hollywood | Netflix | Stars | Instagram | TV\"], [\"2020-09-12\", \"Leute | Star | Corona | Hollywood | Netflix | Stars | Instagram | TV\"], [\"2020-09-11\", \"Leute | Star | Corona | Hollywood | Netflix | Stars | Instagram | TV\"], [\"2020-09-10\", \"Leute | Star | Corona | Hollywood | Netflix | Stars | Instagram | TV\"], [\"2020-09-12\", \"Leute | Star | Corona | Hollywood | Netflix | Stars | Instagram | TV\"], [\"2020-09-11\", \"Leute | Star | Corona | Hollywood | Netflix | Stars | Instagram | TV\"], [\"2020-09-14\", \"Leute | Star | Corona | Hollywood | Netflix | Stars | Instagram | TV\"], [\"2020-09-12\", \"Leute | Star | Corona | Hollywood | Netflix | Stars | Instagram | TV\"], [\"2020-09-10\", \"Leute | Star | Corona | Hollywood | Netflix | Stars | Instagram | TV\"], [\"2020-09-10\", \"Leute | Star | Corona | Hollywood | Netflix | Stars | Instagram | TV\"], [\"2020-09-09\", \"Leute | Star | Corona | Hollywood | Netflix | Stars | Instagram | TV\"], [\"2020-09-10\", \"Leute | Star | Corona | Hollywood | Netflix | Stars | Instagram | TV\"], [\"2020-09-12\", \"Leute | Star | Corona | Hollywood | Netflix | Stars | Instagram | TV\"], [\"2020-09-11\", \"Leute | Star | Corona | Hollywood | Netflix | Stars | Instagram | TV\"], [\"2020-09-13\", \"Leute | Star | Corona | Hollywood | Netflix | Stars | Instagram | TV\"], [\"2020-09-14\", \"Leute | Star | Corona | Hollywood | Netflix | Stars | Instagram | TV\"], [\"2020-09-11\", \"Leute | Star | Corona | Hollywood | Netflix | Stars | Instagram | TV\"], [\"2020-09-09\", \"Leute | Star | Corona | Hollywood | Netflix | Stars | Instagram | TV\"], [\"2020-09-09\", \"Leute | Star | Corona | Hollywood | Netflix | Stars | Instagram | TV\"], [\"2020-09-13\", \"Leute | Star | Corona | Hollywood | Netflix | Stars | Instagram | TV\"], [\"2020-09-09\", \"Leute | Star | Corona | Hollywood | Netflix | Stars | Instagram | TV\"], [\"2020-09-11\", \"Leute | Star | Corona | Hollywood | Netflix | Stars | Instagram | TV\"], [\"2020-09-10\", \"Leute | Star | Corona | Hollywood | Netflix | Stars | Instagram | TV\"], [\"2020-09-10\", \"Leute | Star | Corona | Hollywood | Netflix | Stars | Instagram | TV\"], [\"2020-09-11\", \"Leute | Star | Corona | Hollywood | Netflix | Stars | Instagram | TV\"], [\"2020-09-12\", \"Leute | Star | Corona | Hollywood | Netflix | Stars | Instagram | TV\"], [\"2020-09-12\", \"Leute | Star | Corona | Hollywood | Netflix | Stars | Instagram | TV\"], [\"2020-09-11\", \"Leute | Star | Corona | Hollywood | Netflix | Stars | Instagram | TV\"], [\"2020-09-14\", \"Leute | Star | Corona | Hollywood | Netflix | Stars | Instagram | TV\"], [\"2020-09-10\", \"Leute | Star | Corona | Hollywood | Netflix | Stars | Instagram | TV\"], [\"2020-09-12\", \"Leute | Star | Corona | Hollywood | Netflix | Stars | Instagram | TV\"], [\"2020-09-13\", \"Leute | Star | Corona | Hollywood | Netflix | Stars | Instagram | TV\"], [\"2020-09-10\", \"Leute | Star | Corona | Hollywood | Netflix | Stars | Instagram | TV\"], [\"2020-09-11\", \"Leute | Star | Corona | Hollywood | Netflix | Stars | Instagram | TV\"], [\"2020-09-12\", \"Leute | Star | Corona | Hollywood | Netflix | Stars | Instagram | TV\"], [\"2020-09-12\", \"Leute | Star | Corona | Hollywood | Netflix | Stars | Instagram | TV\"], [\"2020-09-09\", \"Leute | Star | Corona | Hollywood | Netflix | Stars | Instagram | TV\"], [\"2020-09-13\", \"Leute | Star | Corona | Hollywood | Netflix | Stars | Instagram | TV\"], [\"2020-09-11\", \"Leute | Star | Corona | Hollywood | Netflix | Stars | Instagram | TV\"], [\"2020-09-11\", \"Leute | Star | Corona | Hollywood | Netflix | Stars | Instagram | TV\"], [\"2020-09-13\", \"Leute | Star | Corona | Hollywood | Netflix | Stars | Instagram | TV\"], [\"2020-09-10\", \"Leute | Star | Corona | Hollywood | Netflix | Stars | Instagram | TV\"], [\"2020-09-10\", \"Leute | Star | Corona | Hollywood | Netflix | Stars | Instagram | TV\"], [\"2020-09-13\", \"Leute | Star | Corona | Hollywood | Netflix | Stars | Instagram | TV\"], [\"2020-09-14\", \"Leute | Star | Corona | Hollywood | Netflix | Stars | Instagram | TV\"], [\"2020-09-13\", \"Leute | Star | Corona | Hollywood | Netflix | Stars | Instagram | TV\"], [\"2020-09-10\", \"Leute | Star | Corona | Hollywood | Netflix | Stars | Instagram | TV\"], [\"2020-09-14\", \"Leute | Star | Corona | Hollywood | Netflix | Stars | Instagram | TV\"], [\"2020-09-13\", \"Leute | Star | Corona | Hollywood | Netflix | Stars | Instagram | TV\"], [\"2020-09-09\", \"Leute | Star | Corona | Hollywood | Netflix | Stars | Instagram | TV\"], [\"2020-09-10\", \"Leute | Star | Corona | Hollywood | Netflix | Stars | Instagram | TV\"], [\"2020-09-09\", \"Leute | Star | Corona | Hollywood | Netflix | Stars | Instagram | TV\"], [\"2020-09-13\", \"Leute | Star | Corona | Hollywood | Netflix | Stars | Instagram | TV\"], [\"2020-09-12\", \"Leute | Star | Corona | Hollywood | Netflix | Stars | Instagram | TV\"], [\"2020-09-10\", \"Leute | Star | Corona | Hollywood | Netflix | Stars | Instagram | TV\"], [\"2020-09-10\", \"Leute | Star | Corona | Hollywood | Netflix | Stars | Instagram | TV\"], [\"2020-09-14\", \"Leute | Star | Corona | Hollywood | Netflix | Stars | Instagram | TV\"]], \"hovertemplate\": \"<b>%{hovertext}</b><br><br>TopWords=%{customdata[1]}<br>x=%{x}<br>y=%{y}<br>created_at=%{customdata[0]}<extra></extra>\", \"hovertext\": [\"So stinkreich ist derKardashian-Clan\", \"Kleinw\\u00fcchsiger Wrestler Stevie Lee stirbt mit 54 Jahren\", \"Queere Mega-Besetzung f\\u00fcr neue Netflix-Serie\", \"Hollywood-K\\u00f6nig zeigt seine Prinzen-Familie\", \"SCHAUMhochzeit auf Schloss B\\u00fcckeburg\", \"Hier sprie\\u00dfen nicht nur die Blumen\", \"Nach den Knutsch-Fotos servierte er seine Verlobte ab!\", \"Drama um Raabs Kult-Rentner Ingrid und Klaus\", \"Masturbieren Sie mal mit Ihrem Partner!\", \"Da gl\\u00fcht der Sand am Strand\", \"Liebt Pietro Lombardi diese Influencerin?\", \"\\u201eEr war einer der liebevollsten Menschen der Welt\\u201c\", \"\\u201eSo etwas Asoziales habe ich noch nicht erlebt\\u201c\", \"Christine Neubauer spielt gegen Corona-Krise\", \"\\u201eWir sind im Krankenhaus f\\u00fcr Geisteskranke\\u201c\", \"Ruiniert das Virusunsere Kultur?\", \"Schlagabtausch der Dschungelnattern!\", \"Steffen Hensslerbricht TV-Dreh ab\", \"Sieht so der neue Feminismus aus?\", \"Ex-Porno-Star (24)stirbt im Schlaf\", \"Zac Efrons Neue ist Kellnerin\", \"Badesalz macht Radio\", \"Mein Freund macht mich verr\\u00fcckt\", \"8 Gr\\u00fcnde, wieso Corona der Liebe gut tut!\", \"\\u201eTwin Peaks\\u201c- und \\u201eFargo\\u201c- Fans bitte einschalten!\", \"Spahn-Auftritt bei BILD-Talk ist jetzt sogar Kunst\", \"Dieser Influencer-Kussheizte Venedig ein!\", \"\\u201eWir sind kulturell unterzuckert\\u201c\", \"So heftig war dieTorten-Attacke wirklich\", \"Die Obert und ihr Liebesnest\", \"\\u201eIch denke nicht an das Alter\\u201c\", \"Heidis Next Topmodel\", \"Urlaub in der Villa von \\u201eDer Prinz von Bel-Air\\u201c gef\\u00e4llig?\", \"Der \\u201eTatort\\u201c-Star musste Soforthilfe beantragen\", \"Darum ist b\\u00f6se besser als nett\", \"Wir sind das neue Traumpaar im TV\", \"Dschungelcamp-Star Elena Miras ist wieder solo\", \"Fan-Liebling Andr\\u00e9 Dietzsteigt nach 14 Jahren aus!\", \"Jetzt beenden sie sogar die Familientherapie\", \"Kleider machen LEADER\", \"Falsche Tierliebe tut weh\", \"\\u201eZwei, drei Ma\\u00df schaffe ich schon\\u201c\", \"P\\u00e4dophilie-Skandal um Netflix-Film \\u201eCuties\\u201c!\", \"Auch in Beziehungen braucht es klare Worte\", \"DIESEN Job macht Laura M\\u00fcller neben Bohlen und Co.\", \"Nachwuchs bei \\u201eKampf der Realitystars\\u201c?\", \"Heidi Klums Pr\\u00fcgel-Model: Drogen-Entzug im Kloster!\", \"\\u201eMeine tote Mutter hilft mir beim Songschreiben\\u201c\", \"Elena Carri\\u00e8re (23) zeigt ihre Cellulite\", \"Warum Hollywood vor China kuscht\", \"Rosige Rache an Brad Pitt\", \"Pietro Lombardi ist nicht mehr single!\", \"Raten Sie mal, wer hier auf Prince macht\", \"Diese Stars waren ihre gro\\u00dfen Kinorollen ganz schnell los\", \"Natascha ist das Wiesn-Playmate 2020\", \"Wendlers Laura riskiert \\u2019ne dicke Lippe\", \"Bei diesem Test hofft er auf ein positives Ergebnis\", \"Dann mit noch mehr Hexer-Sex?\", \"Bitte keine politischen Regeln f\\u00fcr die Kunst!\", \"\\u201eGame of Thrones\\u201c-Star Diana Rigg gestorben\", \"Wie Raab hinter der Kamera die F\\u00e4den zieht\"], \"legendgroup\": \"Leute | Star | Corona | Hollywood | Netflix | Stars | Instagram | TV\", \"marker\": {\"color\": \"#19d3f3\", \"line\": {\"color\": \"DarkSlateGrey\", \"width\": 0.15}, \"opacity\": 0.8, \"size\": 9, \"symbol\": \"circle\"}, \"mode\": \"markers\", \"name\": \"Leute | Star | Corona | Hollywood | Netflix | Stars | Instagram | TV\", \"orientation\": \"v\", \"showlegend\": true, \"type\": \"scatter\", \"x\": [10.51047420501709, 10.702692985534668, 10.496563911437988, 10.749751091003418, 10.17269229888916, 10.880534172058105, 11.130653381347656, 11.39404010772705, 11.043980598449707, 10.573311805725098, 10.976943969726562, 10.58704662322998, 10.853099822998047, 10.63145637512207, 11.033803939819336, 11.002982139587402, 11.469111442565918, 11.055488586425781, 10.76474380493164, 10.619538307189941, 11.012831687927246, 11.328495979309082, 10.35205364227295, 9.18531608581543, 10.246989250183105, 11.198280334472656, 10.926436424255371, 10.093127250671387, 11.047317504882812, 10.924864768981934, 10.69970989227295, 10.766329765319824, 10.866044998168945, 11.183599472045898, 10.831417083740234, 11.167740821838379, 11.201323509216309, 10.586617469787598, 10.620530128479004, 10.750332832336426, 10.494771003723145, 10.87240219116211, 10.362064361572266, 10.614496231079102, 11.25662899017334, 10.891919136047363, 10.948770523071289, 10.107806205749512, 10.656204223632812, 10.351244926452637, 10.89121150970459, 11.039813041687012, 11.293246269226074, 10.611846923828125, 10.880576133728027, 11.022744178771973, 10.37224006652832, 10.095878601074219, 10.339106559753418, 10.756096839904785, 11.364358901977539], \"xaxis\": \"x\", \"y\": [11.81224250793457, 11.026823997497559, 11.227429389953613, 10.940347671508789, 11.552387237548828, 12.264666557312012, 11.965034484863281, 11.833077430725098, 12.353289604187012, 12.017104148864746, 12.005548477172852, 11.286202430725098, 12.047663688659668, 11.386723518371582, 12.061999320983887, 11.62491226196289, 12.041152000427246, 11.841452598571777, 12.024996757507324, 12.27926254272461, 11.86664867401123, 11.84003734588623, 12.250014305114746, 12.339570999145508, 12.42667293548584, 11.97696304321289, 11.725653648376465, 11.477982521057129, 12.2608642578125, 11.282920837402344, 11.200273513793945, 12.300942420959473, 11.047636985778809, 11.631495475769043, 11.888188362121582, 11.62600040435791, 12.201435089111328, 11.64829158782959, 12.033509254455566, 11.582112312316895, 11.951692581176758, 11.529397010803223, 12.341784477233887, 11.911922454833984, 11.497679710388184, 12.193249702453613, 12.347185134887695, 11.413368225097656, 12.169220924377441, 12.44615364074707, 11.542238235473633, 11.85374641418457, 11.947541236877441, 11.487247467041016, 11.708356857299805, 12.150530815124512, 11.530125617980957, 12.036478996276855, 11.0911226272583, 11.404210090637207, 11.814168930053711], \"yaxis\": \"y\"}, {\"customdata\": [[\"2020-09-12\", \"Kalifornien | Westk\\u00fcste | Br\\u00e4nde | Feuer | Waldbr\\u00e4nde | Smog | Flammen | US\"], [\"2020-09-11\", \"Kalifornien | Westk\\u00fcste | Br\\u00e4nde | Feuer | Waldbr\\u00e4nde | Smog | Flammen | US\"], [\"2020-09-10\", \"Kalifornien | Westk\\u00fcste | Br\\u00e4nde | Feuer | Waldbr\\u00e4nde | Smog | Flammen | US\"], [\"2020-09-13\", \"Kalifornien | Westk\\u00fcste | Br\\u00e4nde | Feuer | Waldbr\\u00e4nde | Smog | Flammen | US\"], [\"2020-09-14\", \"Kalifornien | Westk\\u00fcste | Br\\u00e4nde | Feuer | Waldbr\\u00e4nde | Smog | Flammen | US\"]], \"hovertemplate\": \"<b>%{hovertext}</b><br><br>TopWords=%{customdata[1]}<br>x=%{x}<br>y=%{y}<br>created_at=%{customdata[0]}<extra></extra>\", \"hovertext\": [\"Feuerexperte: \\u201eEigentlich muss es noch mehr brennen!\\u201c\", \"Schon 15 Feuer-Opfer an der US-Westk\\u00fcste\", \"Eltern auf Flucht vor dem Feuer verletzt, Baby tot!\", \"Angst vor Smog und Pl\\u00fcnderungen\", \"35 Tote durch Kalifornien-Br\\u00e4nde\"], \"legendgroup\": \"Kalifornien | Westk\\u00fcste | Br\\u00e4nde | Feuer | Waldbr\\u00e4nde | Smog | Flammen | US\", \"marker\": {\"color\": \"#FF6692\", \"line\": {\"color\": \"DarkSlateGrey\", \"width\": 0.15}, \"opacity\": 0.8, \"size\": 9, \"symbol\": \"circle\"}, \"mode\": \"markers\", \"name\": \"Kalifornien | Westk\\u00fcste | Br\\u00e4nde | Feuer | Waldbr\\u00e4nde | Smog | Flammen | US\", \"orientation\": \"v\", \"showlegend\": true, \"type\": \"scatter\", \"x\": [8.756750106811523, 8.628803253173828, 8.597247123718262, 8.535720825195312, 8.707279205322266], \"xaxis\": \"x\", \"y\": [12.899703979492188, 13.019591331481934, 13.089993476867676, 13.176033973693848, 12.934225082397461], \"yaxis\": \"y\"}, {\"customdata\": [[\"2020-09-12\", \"Love Island | Politiker-Enkel | Henrik | Sex | Villa | Zoff | Sex-Proll | Aufnahmen\"], [\"2020-09-09\", \"Love Island | Politiker-Enkel | Henrik | Sex | Villa | Zoff | Sex-Proll | Aufnahmen\"], [\"2020-09-10\", \"Love Island | Politiker-Enkel | Henrik | Sex | Villa | Zoff | Sex-Proll | Aufnahmen\"], [\"2020-09-14\", \"Love Island | Politiker-Enkel | Henrik | Sex | Villa | Zoff | Sex-Proll | Aufnahmen\"], [\"2020-09-12\", \"Love Island | Politiker-Enkel | Henrik | Sex | Villa | Zoff | Sex-Proll | Aufnahmen\"], [\"2020-09-11\", \"Love Island | Politiker-Enkel | Henrik | Sex | Villa | Zoff | Sex-Proll | Aufnahmen\"], [\"2020-09-11\", \"Love Island | Politiker-Enkel | Henrik | Sex | Villa | Zoff | Sex-Proll | Aufnahmen\"], [\"2020-09-11\", \"Love Island | Politiker-Enkel | Henrik | Sex | Villa | Zoff | Sex-Proll | Aufnahmen\"], [\"2020-09-13\", \"Love Island | Politiker-Enkel | Henrik | Sex | Villa | Zoff | Sex-Proll | Aufnahmen\"], [\"2020-09-10\", \"Love Island | Politiker-Enkel | Henrik | Sex | Villa | Zoff | Sex-Proll | Aufnahmen\"]], \"hovertemplate\": \"<b>%{hovertext}</b><br><br>TopWords=%{customdata[1]}<br>x=%{x}<br>y=%{y}<br>created_at=%{customdata[0]}<extra></extra>\", \"hovertext\": [\"Sex-Proll Henrik knutscht fremd\", \"Politiker-Enkel hat Sex bei \\u201eLove Island\\u201c!\", \"Politiker-Enkel wird zum Sex-Proll\", \"Penis-Protz Hendrik geht auf Luca los\", \"Micaela (36) ist scharf auf Gerhard Schr\\u00f6der (76)\", \"Was ein altes Video \\u00fcberden Sex-Proll verr\\u00e4t\", \"Hei\\u00dfe Poledance-Einlage inder \\u201eLove Island\\u201c-Villa\", \"Fummel-Premiere auf \\u201eLove Island\\u201c\", \"\\u201eSexy Granaten\\u201c sprengen die Paare auseinander\", \"Hei\\u00dfe Schaumparty in der \\u201eLove Island\\u201c-Villa\"], \"legendgroup\": \"Love Island | Politiker-Enkel | Henrik | Sex | Villa | Zoff | Sex-Proll | Aufnahmen\", \"marker\": {\"color\": \"#B6E880\", \"line\": {\"color\": \"DarkSlateGrey\", \"width\": 0.15}, \"opacity\": 0.8, \"size\": 9, \"symbol\": \"circle\"}, \"mode\": \"markers\", \"name\": \"Love Island | Politiker-Enkel | Henrik | Sex | Villa | Zoff | Sex-Proll | Aufnahmen\", \"orientation\": \"v\", \"showlegend\": true, \"type\": \"scatter\", \"x\": [11.262482643127441, 11.541139602661133, 11.448894500732422, 10.970589637756348, 11.333785057067871, 11.096830368041992, 11.31295108795166, 11.346717834472656, 11.501876831054688, 11.405532836914062], \"xaxis\": \"x\", \"y\": [12.274085998535156, 12.016372680664062, 11.90473461151123, 12.50517749786377, 12.216377258300781, 11.66952896118164, 12.024110794067383, 12.177156448364258, 11.792840957641602, 11.959085464477539], \"yaxis\": \"y\"}, {\"customdata\": [[\"2020-09-09\", \"NFL | Teams | Playbook | Brady | Vollmer | Tom Brady | alles | Nachfolger\"], [\"2020-09-10\", \"NFL | Teams | Playbook | Brady | Vollmer | Tom Brady | alles | Nachfolger\"], [\"2020-09-10\", \"NFL | Teams | Playbook | Brady | Vollmer | Tom Brady | alles | Nachfolger\"], [\"2020-09-09\", \"NFL | Teams | Playbook | Brady | Vollmer | Tom Brady | alles | Nachfolger\"], [\"2020-09-11\", \"NFL | Teams | Playbook | Brady | Vollmer | Tom Brady | alles | Nachfolger\"], [\"2020-09-09\", \"NFL | Teams | Playbook | Brady | Vollmer | Tom Brady | alles | Nachfolger\"], [\"2020-09-13\", \"NFL | Teams | Playbook | Brady | Vollmer | Tom Brady | alles | Nachfolger\"]], \"hovertemplate\": \"<b>%{hovertext}</b><br><br>TopWords=%{customdata[1]}<br>x=%{x}<br>y=%{y}<br>created_at=%{customdata[0]}<extra></extra>\", \"hovertext\": [\"Buccaneers l\\u00f6sen Versprechenvon Bradys Ex-Klub ein\", \"Das sind die Top-Duelledes ersten NFL-Spieltags\", \"Deshalb steht uns die h\\u00e4rteste NFL-Saison aller Zeiten bevor\", \"Playbook ist\\u201eso wertvoll wie Gold\\u201c\", \"Pfiffe f\\u00fcr Protestaktion bei NFL-Auftakt\", \"Brady muss f\\u00fcr denTitel alles neu lernen\", \"Brady-Nachfolger mit Touchdown-Show\"], \"legendgroup\": \"NFL | Teams | Playbook | Brady | Vollmer | Tom Brady | alles | Nachfolger\", \"marker\": {\"color\": \"#FF97FF\", \"line\": {\"color\": \"DarkSlateGrey\", \"width\": 0.15}, \"opacity\": 0.8, \"size\": 9, \"symbol\": \"circle\"}, \"mode\": \"markers\", \"name\": \"NFL | Teams | Playbook | Brady | Vollmer | Tom Brady | alles | Nachfolger\", \"orientation\": \"v\", \"showlegend\": true, \"type\": \"scatter\", \"x\": [11.150649070739746, 10.72168254852295, 10.721485137939453, 10.541762351989746, 10.359469413757324, 10.619433403015137, 10.5740966796875], \"xaxis\": \"x\", \"y\": [11.160110473632812, 10.864217758178711, 10.858553886413574, 10.840944290161133, 10.999122619628906, 10.807994842529297, 10.731215476989746], \"yaxis\": \"y\"}, {\"customdata\": [[\"2020-09-13\", \"Autos | Unfall | Flammen | Polizei | Auto | Fahrer | Landkreis | Autobahn\"], [\"2020-09-12\", \"Autos | Unfall | Flammen | Polizei | Auto | Fahrer | Landkreis | Autobahn\"], [\"2020-09-10\", \"Autos | Unfall | Flammen | Polizei | Auto | Fahrer | Landkreis | Autobahn\"], [\"2020-09-12\", \"Autos | Unfall | Flammen | Polizei | Auto | Fahrer | Landkreis | Autobahn\"], [\"2020-09-12\", \"Autos | Unfall | Flammen | Polizei | Auto | Fahrer | Landkreis | Autobahn\"], [\"2020-09-12\", \"Autos | Unfall | Flammen | Polizei | Auto | Fahrer | Landkreis | Autobahn\"], [\"2020-09-10\", \"Autos | Unfall | Flammen | Polizei | Auto | Fahrer | Landkreis | Autobahn\"], [\"2020-09-11\", \"Autos | Unfall | Flammen | Polizei | Auto | Fahrer | Landkreis | Autobahn\"], [\"2020-09-11\", \"Autos | Unfall | Flammen | Polizei | Auto | Fahrer | Landkreis | Autobahn\"], [\"2020-09-10\", \"Autos | Unfall | Flammen | Polizei | Auto | Fahrer | Landkreis | Autobahn\"], [\"2020-09-13\", \"Autos | Unfall | Flammen | Polizei | Auto | Fahrer | Landkreis | Autobahn\"], [\"2020-09-09\", \"Autos | Unfall | Flammen | Polizei | Auto | Fahrer | Landkreis | Autobahn\"], [\"2020-09-10\", \"Autos | Unfall | Flammen | Polizei | Auto | Fahrer | Landkreis | Autobahn\"], [\"2020-09-10\", \"Autos | Unfall | Flammen | Polizei | Auto | Fahrer | Landkreis | Autobahn\"], [\"2020-09-13\", \"Autos | Unfall | Flammen | Polizei | Auto | Fahrer | Landkreis | Autobahn\"], [\"2020-09-11\", \"Autos | Unfall | Flammen | Polizei | Auto | Fahrer | Landkreis | Autobahn\"], [\"2020-09-12\", \"Autos | Unfall | Flammen | Polizei | Auto | Fahrer | Landkreis | Autobahn\"], [\"2020-09-13\", \"Autos | Unfall | Flammen | Polizei | Auto | Fahrer | Landkreis | Autobahn\"], [\"2020-09-14\", \"Autos | Unfall | Flammen | Polizei | Auto | Fahrer | Landkreis | Autobahn\"], [\"2020-09-09\", \"Autos | Unfall | Flammen | Polizei | Auto | Fahrer | Landkreis | Autobahn\"]], \"hovertemplate\": \"<b>%{hovertext}</b><br><br>TopWords=%{customdata[1]}<br>x=%{x}<br>y=%{y}<br>created_at=%{customdata[0]}<extra></extra>\", \"hovertext\": [\"Todesfalle Oldtimer\", \"BMW fackelt auf A57 ab\", \"Fliege verursacht Unfall \\u2013 zwei Schwerverletzte!\", \"Biker stirbt bei Crash mit Biker\", \"20-J\\u00e4hriger liegt tot unter seinem Roller\", \"Motorrad-Werkstatt in Flammen\", \"Retter kracht gegen Baum\", \"Mercedes rammt Rollifahrer (78) von Landstra\\u00dfe - tot\", \"Liegender Laster legt Autobahn lahm\", \"Fu\\u00dfg\\u00e4ngerin kollidiert mit drei Autos auf der Autobahn - tot\", \"Domino-Crash bei Oldenburg\", \"Motorradfahrer t\\u00f6dlich verungl\\u00fcckt\", \"Laster fackelt auf der A5 ab\", \"E-Bike-Fahrer stirbt nach Sturz\", \"Baum-Crash!Zwei Tote auf B 442\", \"Junger Biker (18) nach Motorrad-Crash schwer verletzt\", \"Feuerteufel treibt im K\\u00f6lner Westen sein Unwesen\", \"T\\u00f6dlicher Frontalzusammensto\\u00df\", \"Lkw kollidieren auf der Autobahn\\u00a02\", \"510-PS-Flitzerkracht gegen Baum\"], \"legendgroup\": \"Autos | Unfall | Flammen | Polizei | Auto | Fahrer | Landkreis | Autobahn\", \"marker\": {\"color\": \"#FECB52\", \"line\": {\"color\": \"DarkSlateGrey\", \"width\": 0.15}, \"opacity\": 0.8, \"size\": 9, \"symbol\": \"circle\"}, \"mode\": \"markers\", \"name\": \"Autos | Unfall | Flammen | Polizei | Auto | Fahrer | Landkreis | Autobahn\", \"orientation\": \"v\", \"showlegend\": true, \"type\": \"scatter\", \"x\": [10.363287925720215, 10.029905319213867, 10.62085247039795, 10.59542179107666, 10.395207405090332, 9.744558334350586, 10.390388488769531, 10.545482635498047, 10.417549133300781, 10.424031257629395, 10.472417831420898, 10.376977920532227, 10.295144081115723, 10.43414306640625, 10.372262001037598, 10.576068878173828, 10.008137702941895, 10.245975494384766, 10.295809745788574, 10.296249389648438], \"xaxis\": \"x\", \"y\": [12.286434173583984, 12.755892753601074, 12.903886795043945, 12.662177085876465, 12.540519714355469, 12.76793384552002, 12.818145751953125, 12.684514999389648, 12.758561134338379, 12.738911628723145, 12.847951889038086, 12.887312889099121, 12.800028800964355, 12.6884183883667, 12.46117115020752, 12.63442325592041, 12.726495742797852, 12.755558967590332, 12.590241432189941, 12.50113296508789], \"yaxis\": \"y\"}, {\"customdata\": [[\"2020-09-11\", \"DTM | N\\u00fcrburgring | Audi | M\\u00fcller | MotoGP | Rast | Gottes | Frauen\"], [\"2020-09-13\", \"DTM | N\\u00fcrburgring | Audi | M\\u00fcller | MotoGP | Rast | Gottes | Frauen\"], [\"2020-09-12\", \"DTM | N\\u00fcrburgring | Audi | M\\u00fcller | MotoGP | Rast | Gottes | Frauen\"], [\"2020-09-13\", \"DTM | N\\u00fcrburgring | Audi | M\\u00fcller | MotoGP | Rast | Gottes | Frauen\"], [\"2020-09-13\", \"DTM | N\\u00fcrburgring | Audi | M\\u00fcller | MotoGP | Rast | Gottes | Frauen\"]], \"hovertemplate\": \"<b>%{hovertext}</b><br><br>TopWords=%{customdata[1]}<br>x=%{x}<br>y=%{y}<br>created_at=%{customdata[0]}<extra></extra>\", \"hovertext\": [\"Flotte Frauen machen Abts DTM-Stars schnell!\", \"MotoGP-Krimi! Last-Minute-Schock f\\u00fcr Rossi\", \"Alles M\\u00fcller, oder Rast?\", \"Audi ist das Mercedes der DTM\", \"Dieser Rennfahrer f\\u00e4hrt mit Gottes Segen\"], \"legendgroup\": \"DTM | N\\u00fcrburgring | Audi | M\\u00fcller | MotoGP | Rast | Gottes | Frauen\", \"marker\": {\"color\": \"#636efa\", \"line\": {\"color\": \"DarkSlateGrey\", \"width\": 0.15}, \"opacity\": 0.8, \"size\": 9, \"symbol\": \"circle\"}, \"mode\": \"markers\", \"name\": \"DTM | N\\u00fcrburgring | Audi | M\\u00fcller | MotoGP | Rast | Gottes | Frauen\", \"orientation\": \"v\", \"showlegend\": true, \"type\": \"scatter\", \"x\": [10.334545135498047, 9.803360939025879, 9.968934059143066, 9.935193061828613, 10.403923988342285], \"xaxis\": \"x\", \"y\": [9.82933521270752, 9.458099365234375, 9.70637321472168, 9.610543251037598, 9.51921272277832], \"yaxis\": \"y\"}, {\"customdata\": [[\"2020-09-14\", \"Frauen | Proteste | Lukaschenko | Diktator | Menschen | Wei\\u00dfrussland | Politik | Hand\"], [\"2020-09-14\", \"Frauen | Proteste | Lukaschenko | Diktator | Menschen | Wei\\u00dfrussland | Politik | Hand\"], [\"2020-09-13\", \"Frauen | Proteste | Lukaschenko | Diktator | Menschen | Wei\\u00dfrussland | Politik | Hand\"], [\"2020-09-13\", \"Frauen | Proteste | Lukaschenko | Diktator | Menschen | Wei\\u00dfrussland | Politik | Hand\"], [\"2020-09-10\", \"Frauen | Proteste | Lukaschenko | Diktator | Menschen | Wei\\u00dfrussland | Politik | Hand\"]], \"hovertemplate\": \"<b>%{hovertext}</b><br><br>TopWords=%{customdata[1]}<br>x=%{x}<br>y=%{y}<br>created_at=%{customdata[0]}<extra></extra>\", \"hovertext\": [\"Besen-Oma verm\\u00f6belt Lukaschenkos Pr\\u00fcgeltruppen\", \"Hat Putin Lukaschenko jetzt in der Hand?\", \"Lukaschenko l\\u00e4\\u00dft Dutzende Frauen festnehmen\", \"150 000 Menschen gegen Lukaschenko auf der Stra\\u00dfe\", \"Kolesnikowa stellt Anzeige wegen Morddrohungen!\"], \"legendgroup\": \"Frauen | Proteste | Lukaschenko | Diktator | Menschen | Wei\\u00dfrussland | Politik | Hand\", \"marker\": {\"color\": \"#EF553B\", \"line\": {\"color\": \"DarkSlateGrey\", \"width\": 0.15}, \"opacity\": 0.8, \"size\": 9, \"symbol\": \"circle\"}, \"mode\": \"markers\", \"name\": \"Frauen | Proteste | Lukaschenko | Diktator | Menschen | Wei\\u00dfrussland | Politik | Hand\", \"orientation\": \"v\", \"showlegend\": true, \"type\": \"scatter\", \"x\": [9.495800018310547, 10.661505699157715, 9.549880981445312, 9.266979217529297, 9.921272277832031], \"xaxis\": \"x\", \"y\": [13.665704727172852, 12.221714973449707, 13.72292709350586, 13.807923316955566, 13.500503540039062], \"yaxis\": \"y\"}, {\"customdata\": [[\"2020-09-13\", \"US Open | Alexander Zverev | Zverev | Dominic Thiem | Halbfinale | Finale | Sieg | Bruder\"], [\"2020-09-13\", \"US Open | Alexander Zverev | Zverev | Dominic Thiem | Halbfinale | Finale | Sieg | Bruder\"], [\"2020-09-11\", \"US Open | Alexander Zverev | Zverev | Dominic Thiem | Halbfinale | Finale | Sieg | Bruder\"], [\"2020-09-10\", \"US Open | Alexander Zverev | Zverev | Dominic Thiem | Halbfinale | Finale | Sieg | Bruder\"], [\"2020-09-14\", \"US Open | Alexander Zverev | Zverev | Dominic Thiem | Halbfinale | Finale | Sieg | Bruder\"], [\"2020-09-14\", \"US Open | Alexander Zverev | Zverev | Dominic Thiem | Halbfinale | Finale | Sieg | Bruder\"], [\"2020-09-09\", \"US Open | Alexander Zverev | Zverev | Dominic Thiem | Halbfinale | Finale | Sieg | Bruder\"], [\"2020-09-12\", \"US Open | Alexander Zverev | Zverev | Dominic Thiem | Halbfinale | Finale | Sieg | Bruder\"], [\"2020-09-10\", \"US Open | Alexander Zverev | Zverev | Dominic Thiem | Halbfinale | Finale | Sieg | Bruder\"], [\"2020-09-12\", \"US Open | Alexander Zverev | Zverev | Dominic Thiem | Halbfinale | Finale | Sieg | Bruder\"], [\"2020-09-13\", \"US Open | Alexander Zverev | Zverev | Dominic Thiem | Halbfinale | Finale | Sieg | Bruder\"], [\"2020-09-10\", \"US Open | Alexander Zverev | Zverev | Dominic Thiem | Halbfinale | Finale | Sieg | Bruder\"], [\"2020-09-12\", \"US Open | Alexander Zverev | Zverev | Dominic Thiem | Halbfinale | Finale | Sieg | Bruder\"], [\"2020-09-10\", \"US Open | Alexander Zverev | Zverev | Dominic Thiem | Halbfinale | Finale | Sieg | Bruder\"], [\"2020-09-11\", \"US Open | Alexander Zverev | Zverev | Dominic Thiem | Halbfinale | Finale | Sieg | Bruder\"], [\"2020-09-10\", \"US Open | Alexander Zverev | Zverev | Dominic Thiem | Halbfinale | Finale | Sieg | Bruder\"], [\"2020-09-11\", \"US Open | Alexander Zverev | Zverev | Dominic Thiem | Halbfinale | Finale | Sieg | Bruder\"], [\"2020-09-12\", \"US Open | Alexander Zverev | Zverev | Dominic Thiem | Halbfinale | Finale | Sieg | Bruder\"], [\"2020-09-14\", \"US Open | Alexander Zverev | Zverev | Dominic Thiem | Halbfinale | Finale | Sieg | Bruder\"]], \"hovertemplate\": \"<b>%{hovertext}</b><br><br>TopWords=%{customdata[1]}<br>x=%{x}<br>y=%{y}<br>created_at=%{customdata[0]}<extra></extra>\", \"hovertext\": [\"Thiem gegen Zverev \\u2013das Kumpel-Duell!\", \"Thiem zittert vor Anrufbei Andy Murray\", \"Halbfinal-Aus f\\u00fcrSerena Williams\", \"Zverev setzt auf seinen Kracher-Aufschlag\", \"Zverevs Titel-Traum zerst\\u00f6rt\", \"Als er seinen Eltern dankte, kamen ihm die Tr\\u00e4nen\", \"\\u201eDjokovic fragte mich, wie er aus der Nummer rauskommen kann\\u201c\", \"\\u201eDer Top-Favorit f\\u00fcr den Sieg ist f\\u00fcr mich \\u2026\\u201c\", \"Zverev schl\\u00e4gt in K\\u00f6ln auf!\", \"Becker-Lob f\\u00fcr Zverev nach Giganten-Comeback!\", \"Im TV! Zverevs Bruderkommen die Tr\\u00e4nen\", \"6 Gr\\u00fcnde, warum Zverev die US Open gewinnt\", \"FINALE statt BLAMAGE!\", \"Mischa leiht Sascha seinen Trainer\", \"Sorgerecht-Krieg! Ihren gr\\u00f6\\u00dften Sieg holte sie f\\u00fcr ihn\", \"Dominic Thiem im Halbfinale\", \"Tennis-Sensation! Siegemund siegt im Doppel\", \"Als er mich nach dem Spiel anrief, sagte er\\u2026\", \"\\u201eKopf hoch, mein Junge - du kommst zur\\u00fcck!\\u201c\"], \"legendgroup\": \"US Open | Alexander Zverev | Zverev | Dominic Thiem | Halbfinale | Finale | Sieg | Bruder\", \"marker\": {\"color\": \"#00cc96\", \"line\": {\"color\": \"DarkSlateGrey\", \"width\": 0.15}, \"opacity\": 0.8, \"size\": 9, \"symbol\": \"circle\"}, \"mode\": \"markers\", \"name\": \"US Open | Alexander Zverev | Zverev | Dominic Thiem | Halbfinale | Finale | Sieg | Bruder\", \"orientation\": \"v\", \"showlegend\": true, \"type\": \"scatter\", \"x\": [12.101924896240234, 12.15554141998291, 12.08984661102295, 11.894227027893066, 11.913714408874512, 11.911869049072266, 11.412346839904785, 11.871495246887207, 12.112832069396973, 11.684795379638672, 11.7634859085083, 11.470834732055664, 11.645685195922852, 11.64358901977539, 11.987469673156738, 11.874831199645996, 12.097994804382324, 11.809918403625488, 11.942959785461426], \"xaxis\": \"x\", \"y\": [10.174330711364746, 10.285700798034668, 10.56550121307373, 10.414870262145996, 10.598295211791992, 10.36229133605957, 10.944883346557617, 10.188501358032227, 10.175230979919434, 10.239598274230957, 10.496106147766113, 10.410518646240234, 10.370829582214355, 10.600749969482422, 10.628960609436035, 10.457767486572266, 10.553184509277344, 10.535282135009766, 10.269111633300781], \"yaxis\": \"y\"}, {\"customdata\": [[\"2020-09-14\", \"FIFA | Ratings | Spieler | Fu\\u00dfball-Stars | FIFA 21 | Rating | Thiago | EA Sports\"], [\"2020-09-14\", \"FIFA | Ratings | Spieler | Fu\\u00dfball-Stars | FIFA 21 | Rating | Thiago | EA Sports\"], [\"2020-09-11\", \"FIFA | Ratings | Spieler | Fu\\u00dfball-Stars | FIFA 21 | Rating | Thiago | EA Sports\"]], \"hovertemplate\": \"<b>%{hovertext}</b><br><br>TopWords=%{customdata[1]}<br>x=%{x}<br>y=%{y}<br>created_at=%{customdata[0]}<extra></extra>\", \"hovertext\": [\"Das sagen die deutscheneSport-Stars zu den Ratings!\", \"Diese Spieler solltetihr euch holen!\", \"Fu\\u00dfball-Stars motzen \\u00fcber FIFA-Wertungen\"], \"legendgroup\": \"FIFA | Ratings | Spieler | Fu\\u00dfball-Stars | FIFA 21 | Rating | Thiago | EA Sports\", \"marker\": {\"color\": \"#ab63fa\", \"line\": {\"color\": \"DarkSlateGrey\", \"width\": 0.15}, \"opacity\": 0.8, \"size\": 9, \"symbol\": \"circle\"}, \"mode\": \"markers\", \"name\": \"FIFA | Ratings | Spieler | Fu\\u00dfball-Stars | FIFA 21 | Rating | Thiago | EA Sports\", \"orientation\": \"v\", \"showlegend\": true, \"type\": \"scatter\", \"x\": [10.38259220123291, 10.200236320495605, 10.210437774658203], \"xaxis\": \"x\", \"y\": [10.508756637573242, 10.587241172790527, 10.727073669433594], \"yaxis\": \"y\"}, {\"customdata\": [[\"2020-09-09\", \"Schweinepest | Brandenburg | China | Verdacht | Afrikanische Schweinepest | Schweinefleisch | Menschen | Afrikanischen\"], [\"2020-09-11\", \"Schweinepest | Brandenburg | China | Verdacht | Afrikanische Schweinepest | Schweinefleisch | Menschen | Afrikanischen\"], [\"2020-09-12\", \"Schweinepest | Brandenburg | China | Verdacht | Afrikanische Schweinepest | Schweinefleisch | Menschen | Afrikanischen\"], [\"2020-09-10\", \"Schweinepest | Brandenburg | China | Verdacht | Afrikanische Schweinepest | Schweinefleisch | Menschen | Afrikanischen\"], [\"2020-09-10\", \"Schweinepest | Brandenburg | China | Verdacht | Afrikanische Schweinepest | Schweinefleisch | Menschen | Afrikanischen\"], [\"2020-09-12\", \"Schweinepest | Brandenburg | China | Verdacht | Afrikanische Schweinepest | Schweinefleisch | Menschen | Afrikanischen\"]], \"hovertemplate\": \"<b>%{hovertext}</b><br><br>TopWords=%{customdata[1]}<br>x=%{x}<br>y=%{y}<br>created_at=%{customdata[0]}<extra></extra>\", \"hovertext\": [\"Verdacht auf Afrikanische Schweinepest\", \"Kleines ABC der Schweinepest\", \"So hart trifft uns der Exportstopp nach China\", \"Wie gef\\u00e4hrlich ist die Afrikanische Schweinepest?\", \"Verdacht auf Schweinepest best\\u00e4tigt!\", \"China verbietet Import von deutschem Schweinefleisch\"], \"legendgroup\": \"Schweinepest | Brandenburg | China | Verdacht | Afrikanische Schweinepest | Schweinefleisch | Menschen | Afrikanischen\", \"marker\": {\"color\": \"#FFA15A\", \"line\": {\"color\": \"DarkSlateGrey\", \"width\": 0.15}, \"opacity\": 0.8, \"size\": 9, \"symbol\": \"circle\"}, \"mode\": \"markers\", \"name\": \"Schweinepest | Brandenburg | China | Verdacht | Afrikanische Schweinepest | Schweinefleisch | Menschen | Afrikanischen\", \"orientation\": \"v\", \"showlegend\": true, \"type\": \"scatter\", \"x\": [9.507311820983887, 9.312814712524414, 9.584711074829102, 9.161516189575195, 9.645487785339355, 9.405743598937988], \"xaxis\": \"x\", \"y\": [12.902316093444824, 12.841005325317383, 12.8056001663208, 12.962536811828613, 13.01244068145752, 12.767411231994629], \"yaxis\": \"y\"}, {\"customdata\": [[\"2020-09-12\", \"Garmisch-Partenkirchen | Corona | Superspreaderin | Garmisch | Bars | Stadt | Quarant\\u00e4ne | Nachtleben\"], [\"2020-09-11\", \"Garmisch-Partenkirchen | Corona | Superspreaderin | Garmisch | Bars | Stadt | Quarant\\u00e4ne | Nachtleben\"], [\"2020-09-11\", \"Garmisch-Partenkirchen | Corona | Superspreaderin | Garmisch | Bars | Stadt | Quarant\\u00e4ne | Nachtleben\"], [\"2020-09-13\", \"Garmisch-Partenkirchen | Corona | Superspreaderin | Garmisch | Bars | Stadt | Quarant\\u00e4ne | Nachtleben\"], [\"2020-09-13\", \"Garmisch-Partenkirchen | Corona | Superspreaderin | Garmisch | Bars | Stadt | Quarant\\u00e4ne | Nachtleben\"], [\"2020-09-13\", \"Garmisch-Partenkirchen | Corona | Superspreaderin | Garmisch | Bars | Stadt | Quarant\\u00e4ne | Nachtleben\"]], \"hovertemplate\": \"<b>%{hovertext}</b><br><br>TopWords=%{customdata[1]}<br>x=%{x}<br>y=%{y}<br>created_at=%{customdata[0]}<extra></extra>\", \"hovertext\": [\"Eine Stadt wartet auf Corona-Ergebnisse\", \"Superspreaderin (26) zieht hochinfekti\\u00f6s durch Bars\", \"Garmisch versch\\u00e4rft Corona-Ma\\u00dfnahmen\", \"Garmisch-Partenkirchen sauer auf die Superspreaderin\", \"Anwalt: Superspreaderin droht lange Haftstrafe\", \"Pub-Betreiber total fertig: \\u201eDas ist eine Katastrophe!\\u201c\"], \"legendgroup\": \"Garmisch-Partenkirchen | Corona | Superspreaderin | Garmisch | Bars | Stadt | Quarant\\u00e4ne | Nachtleben\", \"marker\": {\"color\": \"#19d3f3\", \"line\": {\"color\": \"DarkSlateGrey\", \"width\": 0.15}, \"opacity\": 0.8, \"size\": 9, \"symbol\": \"circle\"}, \"mode\": \"markers\", \"name\": \"Garmisch-Partenkirchen | Corona | Superspreaderin | Garmisch | Bars | Stadt | Quarant\\u00e4ne | Nachtleben\", \"orientation\": \"v\", \"showlegend\": true, \"type\": \"scatter\", \"x\": [9.434954643249512, 9.691736221313477, 9.344183921813965, 9.610370635986328, 9.685243606567383, 9.669195175170898], \"xaxis\": \"x\", \"y\": [12.668231964111328, 12.705782890319824, 12.643394470214844, 12.688889503479004, 12.486001014709473, 12.543001174926758], \"yaxis\": \"y\"}, {\"customdata\": [[\"2020-09-11\", \"Urlaub | Corona | Reisen | Risikogebiet | Land | Reisewarnungen | 2021 | Herbstferien\"], [\"2020-09-10\", \"Urlaub | Corona | Reisen | Risikogebiet | Land | Reisewarnungen | 2021 | Herbstferien\"], [\"2020-09-14\", \"Urlaub | Corona | Reisen | Risikogebiet | Land | Reisewarnungen | 2021 | Herbstferien\"], [\"2020-09-10\", \"Urlaub | Corona | Reisen | Risikogebiet | Land | Reisewarnungen | 2021 | Herbstferien\"], [\"2020-09-10\", \"Urlaub | Corona | Reisen | Risikogebiet | Land | Reisewarnungen | 2021 | Herbstferien\"], [\"2020-09-14\", \"Urlaub | Corona | Reisen | Risikogebiet | Land | Reisewarnungen | 2021 | Herbstferien\"]], \"hovertemplate\": \"<b>%{hovertext}</b><br><br>TopWords=%{customdata[1]}<br>x=%{x}<br>y=%{y}<br>created_at=%{customdata[0]}<extra></extra>\", \"hovertext\": [\"Ab wann ist ein Land NICHT mehr Risikogebiet?\", \"Hier k\\u00f6nnen Sie jetzt noch Herbsturlaub machen\", \"Wo kann ich jetzt noch Urlaub machen?\", \"Kann ich Reisen f\\u00fcr n\\u00e4chstes Jahr schon SICHER buchen?\", \"BILD beantwortet Ihre Ferien-Fragen!\", \"Storno-Zoff mit FTI um Indien-Urlaub\"], \"legendgroup\": \"Urlaub | Corona | Reisen | Risikogebiet | Land | Reisewarnungen | 2021 | Herbstferien\", \"marker\": {\"color\": \"#FF6692\", \"line\": {\"color\": \"DarkSlateGrey\", \"width\": 0.15}, \"opacity\": 0.8, \"size\": 9, \"symbol\": \"circle\"}, \"mode\": \"markers\", \"name\": \"Urlaub | Corona | Reisen | Risikogebiet | Land | Reisewarnungen | 2021 | Herbstferien\", \"orientation\": \"v\", \"showlegend\": true, \"type\": \"scatter\", \"x\": [8.70583724975586, 8.488999366760254, 8.589911460876465, 8.644635200500488, 8.434500694274902, 8.548129081726074], \"xaxis\": \"x\", \"y\": [12.844794273376465, 12.471793174743652, 12.547229766845703, 12.523171424865723, 12.591591835021973, 12.405937194824219], \"yaxis\": \"y\"}, {\"customdata\": [[\"2020-09-10\", \"Nawalny | Fall | Kreml | Gift | Charit\\u00e9 | Kritiker | Berlin | Bewusstsein\"], [\"2020-09-10\", \"Nawalny | Fall | Kreml | Gift | Charit\\u00e9 | Kritiker | Berlin | Bewusstsein\"], [\"2020-09-10\", \"Nawalny | Fall | Kreml | Gift | Charit\\u00e9 | Kritiker | Berlin | Bewusstsein\"], [\"2020-09-14\", \"Nawalny | Fall | Kreml | Gift | Charit\\u00e9 | Kritiker | Berlin | Bewusstsein\"], [\"2020-09-14\", \"Nawalny | Fall | Kreml | Gift | Charit\\u00e9 | Kritiker | Berlin | Bewusstsein\"], [\"2020-09-11\", \"Nawalny | Fall | Kreml | Gift | Charit\\u00e9 | Kritiker | Berlin | Bewusstsein\"]], \"hovertemplate\": \"<b>%{hovertext}</b><br><br>TopWords=%{customdata[1]}<br>x=%{x}<br>y=%{y}<br>created_at=%{customdata[0]}<extra></extra>\", \"hovertext\": [\"Er ist bei Bewusstsein! Er erinnert sich an die Ereignisse am Flughafen!\", \"Berlin und Moskau streiten \\u00fcber Nawalny-Treffen\", \"Trumps Top-Diplomat: Kreml steckt hinter Gift-Attacke\", \"Nawalny wird nicht mehr k\\u00fcnstlich beatmet\", \"Wie viel vom Fall Nawalnysteckte in diesem \\u201eTatort\\u201c?\", \"War das Gift auf der Unterw\\u00e4sche Nawalnys?\"], \"legendgroup\": \"Nawalny | Fall | Kreml | Gift | Charit\\u00e9 | Kritiker | Berlin | Bewusstsein\", \"marker\": {\"color\": \"#B6E880\", \"line\": {\"color\": \"DarkSlateGrey\", \"width\": 0.15}, \"opacity\": 0.8, \"size\": 9, \"symbol\": \"circle\"}, \"mode\": \"markers\", \"name\": \"Nawalny | Fall | Kreml | Gift | Charit\\u00e9 | Kritiker | Berlin | Bewusstsein\", \"orientation\": \"v\", \"showlegend\": true, \"type\": \"scatter\", \"x\": [10.745338439941406, 10.618228912353516, 10.740395545959473, 10.807787895202637, 11.048542022705078, 10.974699974060059], \"xaxis\": \"x\", \"y\": [12.410722732543945, 12.557746887207031, 12.609829902648926, 12.271034240722656, 12.322640419006348, 12.437771797180176], \"yaxis\": \"y\"}, {\"customdata\": [[\"2020-09-14\", \"Reptil | Fluss | Experte | Unstrut-Krokodil | M\\u00e4nner | Unstrut | Patrouille | Kroko\"], [\"2020-09-11\", \"Reptil | Fluss | Experte | Unstrut-Krokodil | M\\u00e4nner | Unstrut | Patrouille | Kroko\"]], \"hovertemplate\": \"<b>%{hovertext}</b><br><br>TopWords=%{customdata[1]}<br>x=%{x}<br>y=%{y}<br>created_at=%{customdata[0]}<extra></extra>\", \"hovertext\": [\"Experte soll nach Unstrut-Krokodil suchen\", \"Warten auf das Unstrut-Kroko\"], \"legendgroup\": \"Reptil | Fluss | Experte | Unstrut-Krokodil | M\\u00e4nner | Unstrut | Patrouille | Kroko\", \"marker\": {\"color\": \"#FF97FF\", \"line\": {\"color\": \"DarkSlateGrey\", \"width\": 0.15}, \"opacity\": 0.8, \"size\": 9, \"symbol\": \"circle\"}, \"mode\": \"markers\", \"name\": \"Reptil | Fluss | Experte | Unstrut-Krokodil | M\\u00e4nner | Unstrut | Patrouille | Kroko\", \"orientation\": \"v\", \"showlegend\": true, \"type\": \"scatter\", \"x\": [10.059518814086914, 10.096527099609375], \"xaxis\": \"x\", \"y\": [13.069790840148926, 13.032273292541504], \"yaxis\": \"y\"}],                        {\"height\": 1000, \"legend\": {\"title\": {\"text\": \"TopWords\"}, \"tracegroupgap\": 0}, \"margin\": {\"t\": 60}, \"template\": {\"data\": {\"bar\": [{\"error_x\": {\"color\": \"#2a3f5f\"}, \"error_y\": {\"color\": \"#2a3f5f\"}, \"marker\": {\"line\": {\"color\": \"#E5ECF6\", \"width\": 0.5}}, \"type\": \"bar\"}], \"barpolar\": [{\"marker\": {\"line\": {\"color\": \"#E5ECF6\", \"width\": 0.5}}, \"type\": \"barpolar\"}], \"carpet\": [{\"aaxis\": {\"endlinecolor\": \"#2a3f5f\", \"gridcolor\": \"white\", \"linecolor\": \"white\", \"minorgridcolor\": \"white\", \"startlinecolor\": \"#2a3f5f\"}, \"baxis\": {\"endlinecolor\": \"#2a3f5f\", \"gridcolor\": \"white\", \"linecolor\": \"white\", \"minorgridcolor\": \"white\", \"startlinecolor\": \"#2a3f5f\"}, \"type\": \"carpet\"}], \"choropleth\": [{\"colorbar\": {\"outlinewidth\": 0, \"ticks\": \"\"}, \"type\": \"choropleth\"}], \"contour\": [{\"colorbar\": {\"outlinewidth\": 0, \"ticks\": \"\"}, \"colorscale\": [[0.0, \"#0d0887\"], [0.1111111111111111, \"#46039f\"], [0.2222222222222222, \"#7201a8\"], [0.3333333333333333, \"#9c179e\"], [0.4444444444444444, \"#bd3786\"], [0.5555555555555556, \"#d8576b\"], [0.6666666666666666, \"#ed7953\"], [0.7777777777777778, \"#fb9f3a\"], [0.8888888888888888, \"#fdca26\"], [1.0, \"#f0f921\"]], \"type\": \"contour\"}], \"contourcarpet\": [{\"colorbar\": {\"outlinewidth\": 0, \"ticks\": \"\"}, \"type\": \"contourcarpet\"}], \"heatmap\": [{\"colorbar\": {\"outlinewidth\": 0, \"ticks\": \"\"}, \"colorscale\": [[0.0, \"#0d0887\"], [0.1111111111111111, \"#46039f\"], [0.2222222222222222, \"#7201a8\"], [0.3333333333333333, \"#9c179e\"], [0.4444444444444444, \"#bd3786\"], [0.5555555555555556, \"#d8576b\"], [0.6666666666666666, \"#ed7953\"], [0.7777777777777778, \"#fb9f3a\"], [0.8888888888888888, \"#fdca26\"], [1.0, \"#f0f921\"]], \"type\": \"heatmap\"}], \"heatmapgl\": [{\"colorbar\": {\"outlinewidth\": 0, \"ticks\": \"\"}, \"colorscale\": [[0.0, \"#0d0887\"], [0.1111111111111111, \"#46039f\"], [0.2222222222222222, \"#7201a8\"], [0.3333333333333333, \"#9c179e\"], [0.4444444444444444, \"#bd3786\"], [0.5555555555555556, \"#d8576b\"], [0.6666666666666666, \"#ed7953\"], [0.7777777777777778, \"#fb9f3a\"], [0.8888888888888888, \"#fdca26\"], [1.0, \"#f0f921\"]], \"type\": \"heatmapgl\"}], \"histogram\": [{\"marker\": {\"colorbar\": {\"outlinewidth\": 0, \"ticks\": \"\"}}, \"type\": \"histogram\"}], \"histogram2d\": [{\"colorbar\": {\"outlinewidth\": 0, \"ticks\": \"\"}, \"colorscale\": [[0.0, \"#0d0887\"], [0.1111111111111111, \"#46039f\"], [0.2222222222222222, \"#7201a8\"], [0.3333333333333333, \"#9c179e\"], [0.4444444444444444, \"#bd3786\"], [0.5555555555555556, \"#d8576b\"], [0.6666666666666666, \"#ed7953\"], [0.7777777777777778, \"#fb9f3a\"], [0.8888888888888888, \"#fdca26\"], [1.0, \"#f0f921\"]], \"type\": \"histogram2d\"}], \"histogram2dcontour\": [{\"colorbar\": {\"outlinewidth\": 0, \"ticks\": \"\"}, \"colorscale\": [[0.0, \"#0d0887\"], [0.1111111111111111, \"#46039f\"], [0.2222222222222222, \"#7201a8\"], [0.3333333333333333, \"#9c179e\"], [0.4444444444444444, \"#bd3786\"], [0.5555555555555556, \"#d8576b\"], [0.6666666666666666, \"#ed7953\"], [0.7777777777777778, \"#fb9f3a\"], [0.8888888888888888, \"#fdca26\"], [1.0, \"#f0f921\"]], \"type\": \"histogram2dcontour\"}], \"mesh3d\": [{\"colorbar\": {\"outlinewidth\": 0, \"ticks\": \"\"}, \"type\": \"mesh3d\"}], \"parcoords\": [{\"line\": {\"colorbar\": {\"outlinewidth\": 0, \"ticks\": \"\"}}, \"type\": \"parcoords\"}], \"pie\": [{\"automargin\": true, \"type\": \"pie\"}], \"scatter\": [{\"marker\": {\"colorbar\": {\"outlinewidth\": 0, \"ticks\": \"\"}}, \"type\": \"scatter\"}], \"scatter3d\": [{\"line\": {\"colorbar\": {\"outlinewidth\": 0, \"ticks\": \"\"}}, \"marker\": {\"colorbar\": {\"outlinewidth\": 0, \"ticks\": \"\"}}, \"type\": \"scatter3d\"}], \"scattercarpet\": [{\"marker\": {\"colorbar\": {\"outlinewidth\": 0, \"ticks\": \"\"}}, \"type\": \"scattercarpet\"}], \"scattergeo\": [{\"marker\": {\"colorbar\": {\"outlinewidth\": 0, \"ticks\": \"\"}}, \"type\": \"scattergeo\"}], \"scattergl\": [{\"marker\": {\"colorbar\": {\"outlinewidth\": 0, \"ticks\": \"\"}}, \"type\": \"scattergl\"}], \"scattermapbox\": [{\"marker\": {\"colorbar\": {\"outlinewidth\": 0, \"ticks\": \"\"}}, \"type\": \"scattermapbox\"}], \"scatterpolar\": [{\"marker\": {\"colorbar\": {\"outlinewidth\": 0, \"ticks\": \"\"}}, \"type\": \"scatterpolar\"}], \"scatterpolargl\": [{\"marker\": {\"colorbar\": {\"outlinewidth\": 0, \"ticks\": \"\"}}, \"type\": \"scatterpolargl\"}], \"scatterternary\": [{\"marker\": {\"colorbar\": {\"outlinewidth\": 0, \"ticks\": \"\"}}, \"type\": \"scatterternary\"}], \"surface\": [{\"colorbar\": {\"outlinewidth\": 0, \"ticks\": \"\"}, \"colorscale\": [[0.0, \"#0d0887\"], [0.1111111111111111, \"#46039f\"], [0.2222222222222222, \"#7201a8\"], [0.3333333333333333, \"#9c179e\"], [0.4444444444444444, \"#bd3786\"], [0.5555555555555556, \"#d8576b\"], [0.6666666666666666, \"#ed7953\"], [0.7777777777777778, \"#fb9f3a\"], [0.8888888888888888, \"#fdca26\"], [1.0, \"#f0f921\"]], \"type\": \"surface\"}], \"table\": [{\"cells\": {\"fill\": {\"color\": \"#EBF0F8\"}, \"line\": {\"color\": \"white\"}}, \"header\": {\"fill\": {\"color\": \"#C8D4E3\"}, \"line\": {\"color\": \"white\"}}, \"type\": \"table\"}]}, \"layout\": {\"annotationdefaults\": {\"arrowcolor\": \"#2a3f5f\", \"arrowhead\": 0, \"arrowwidth\": 1}, \"coloraxis\": {\"colorbar\": {\"outlinewidth\": 0, \"ticks\": \"\"}}, \"colorscale\": {\"diverging\": [[0, \"#8e0152\"], [0.1, \"#c51b7d\"], [0.2, \"#de77ae\"], [0.3, \"#f1b6da\"], [0.4, \"#fde0ef\"], [0.5, \"#f7f7f7\"], [0.6, \"#e6f5d0\"], [0.7, \"#b8e186\"], [0.8, \"#7fbc41\"], [0.9, \"#4d9221\"], [1, \"#276419\"]], \"sequential\": [[0.0, \"#0d0887\"], [0.1111111111111111, \"#46039f\"], [0.2222222222222222, \"#7201a8\"], [0.3333333333333333, \"#9c179e\"], [0.4444444444444444, \"#bd3786\"], [0.5555555555555556, \"#d8576b\"], [0.6666666666666666, \"#ed7953\"], [0.7777777777777778, \"#fb9f3a\"], [0.8888888888888888, \"#fdca26\"], [1.0, \"#f0f921\"]], \"sequentialminus\": [[0.0, \"#0d0887\"], [0.1111111111111111, \"#46039f\"], [0.2222222222222222, \"#7201a8\"], [0.3333333333333333, \"#9c179e\"], [0.4444444444444444, \"#bd3786\"], [0.5555555555555556, \"#d8576b\"], [0.6666666666666666, \"#ed7953\"], [0.7777777777777778, \"#fb9f3a\"], [0.8888888888888888, \"#fdca26\"], [1.0, \"#f0f921\"]]}, \"colorway\": [\"#636efa\", \"#EF553B\", \"#00cc96\", \"#ab63fa\", \"#FFA15A\", \"#19d3f3\", \"#FF6692\", \"#B6E880\", \"#FF97FF\", \"#FECB52\"], \"font\": {\"color\": \"#2a3f5f\"}, \"geo\": {\"bgcolor\": \"white\", \"lakecolor\": \"white\", \"landcolor\": \"#E5ECF6\", \"showlakes\": true, \"showland\": true, \"subunitcolor\": \"white\"}, \"hoverlabel\": {\"align\": \"left\"}, \"hovermode\": \"closest\", \"mapbox\": {\"style\": \"light\"}, \"paper_bgcolor\": \"white\", \"plot_bgcolor\": \"#E5ECF6\", \"polar\": {\"angularaxis\": {\"gridcolor\": \"white\", \"linecolor\": \"white\", \"ticks\": \"\"}, \"bgcolor\": \"#E5ECF6\", \"radialaxis\": {\"gridcolor\": \"white\", \"linecolor\": \"white\", \"ticks\": \"\"}}, \"scene\": {\"xaxis\": {\"backgroundcolor\": \"#E5ECF6\", \"gridcolor\": \"white\", \"gridwidth\": 2, \"linecolor\": \"white\", \"showbackground\": true, \"ticks\": \"\", \"zerolinecolor\": \"white\"}, \"yaxis\": {\"backgroundcolor\": \"#E5ECF6\", \"gridcolor\": \"white\", \"gridwidth\": 2, \"linecolor\": \"white\", \"showbackground\": true, \"ticks\": \"\", \"zerolinecolor\": \"white\"}, \"zaxis\": {\"backgroundcolor\": \"#E5ECF6\", \"gridcolor\": \"white\", \"gridwidth\": 2, \"linecolor\": \"white\", \"showbackground\": true, \"ticks\": \"\", \"zerolinecolor\": \"white\"}}, \"shapedefaults\": {\"line\": {\"color\": \"#2a3f5f\"}}, \"ternary\": {\"aaxis\": {\"gridcolor\": \"white\", \"linecolor\": \"white\", \"ticks\": \"\"}, \"baxis\": {\"gridcolor\": \"white\", \"linecolor\": \"white\", \"ticks\": \"\"}, \"bgcolor\": \"#E5ECF6\", \"caxis\": {\"gridcolor\": \"white\", \"linecolor\": \"white\", \"ticks\": \"\"}}, \"title\": {\"x\": 0.05}, \"xaxis\": {\"automargin\": true, \"gridcolor\": \"white\", \"linecolor\": \"white\", \"ticks\": \"\", \"title\": {\"standoff\": 15}, \"zerolinecolor\": \"white\", \"zerolinewidth\": 2}, \"yaxis\": {\"automargin\": true, \"gridcolor\": \"white\", \"linecolor\": \"white\", \"ticks\": \"\", \"title\": {\"standoff\": 15}, \"zerolinecolor\": \"white\", \"zerolinewidth\": 2}}}, \"xaxis\": {\"anchor\": \"y\", \"domain\": [0.0, 1.0], \"title\": {\"text\": \"x\"}}, \"yaxis\": {\"anchor\": \"x\", \"domain\": [0.0, 1.0], \"title\": {\"text\": \"y\"}}},                        {\"responsive\": true}                    ).then(function(){\n",
       "                            \n",
       "var gd = document.getElementById('f3c46907-8664-4d74-a025-4704bbbc5827');\n",
       "var x = new MutationObserver(function (mutations, observer) {{\n",
       "        var display = window.getComputedStyle(gd).display;\n",
       "        if (!display || display === 'none') {{\n",
       "            console.log([gd, 'removed!']);\n",
       "            Plotly.purge(gd);\n",
       "            observer.disconnect();\n",
       "        }}\n",
       "}});\n",
       "\n",
       "// Listen for the removal of the full notebook cells\n",
       "var notebookContainer = gd.closest('#notebook-container');\n",
       "if (notebookContainer) {{\n",
       "    x.observe(notebookContainer, {childList: true});\n",
       "}}\n",
       "\n",
       "// Listen for the clearing of the current output cell\n",
       "var outputEl = gd.closest('.output');\n",
       "if (outputEl) {{\n",
       "    x.observe(outputEl, {childList: true});\n",
       "}}\n",
       "\n",
       "                        })                };                });            </script>        </div>"
      ]
     },
     "metadata": {},
     "output_type": "display_data"
    }
   ],
   "source": [
    "results = utils.link_to_raw_data(results,X,y.values)\n",
    "                        \n",
    "results[\"labels\"] = results.labels.apply(int)\n",
    "results=pd.merge(results,cluster_labels_google.reset_index(),left_on=\"labels\",right_on = \"Topic\")\n",
    "fig = px.scatter(results, x=\"x\", y=\"y\", hover_name=\"headline\", hover_data=[\"created_at\",\"TopWords\"], color=\"TopWords\",\n",
    "                 opacity=0.8)\n",
    "fig.update_traces(marker=dict(size=9,\n",
    "                              line=dict(width=0.15,\n",
    "                                        color='DarkSlateGrey')),\n",
    "                  selector=dict(mode='markers'))\n",
    "fig[\"layout\"].pop(\"updatemenus\")\n",
    "\n",
    "fig.update_layout(height=1000)\n",
    "fig.show()"
   ]
  },
  {
   "cell_type": "code",
   "execution_count": null,
   "metadata": {},
   "outputs": [],
   "source": []
  },
  {
   "cell_type": "code",
   "execution_count": null,
   "metadata": {},
   "outputs": [],
   "source": []
  },
  {
   "cell_type": "code",
   "execution_count": null,
   "metadata": {},
   "outputs": [],
   "source": []
  }
 ],
 "metadata": {
  "kernelspec": {
   "display_name": "Python 3.8.12 ('py38')",
   "language": "python",
   "name": "python3812jvsc74a57bd064bcadabe4cd61f3d117ba0da9d14bf2f8e35582ff79e821f2e71056f2723d1e"
  },
  "language_info": {
   "codemirror_mode": {
    "name": "ipython",
    "version": 3
   },
   "file_extension": ".py",
   "mimetype": "text/x-python",
   "name": "python",
   "nbconvert_exporter": "python",
   "pygments_lexer": "ipython3",
   "version": "3.8.12"
  }
 },
 "nbformat": 4,
 "nbformat_minor": 4
}
