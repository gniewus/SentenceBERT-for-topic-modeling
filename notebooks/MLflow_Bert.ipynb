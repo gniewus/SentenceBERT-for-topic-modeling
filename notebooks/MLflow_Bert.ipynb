{
 "cells": [
  {
   "cell_type": "code",
   "execution_count": 1,
   "metadata": {},
   "outputs": [],
   "source": [
    "import nltk,re,time,umap,collections,os,string,sys,mlflow\n",
    "sys.path.append(os.path.abspath(\"..\"))\n",
    "from modules import utils,modeling\n",
    "\n",
    "from sentence_transformers import SentenceTransformer\n",
    "import plotly.express as px\n",
    "import pandas as pd\n",
    "\n",
    "from sklearn.metrics import completeness_score,homogeneity_score, v_measure_score,normalized_mutual_info_score,adjusted_mutual_info_score,silhouette_score\n",
    "from sklearn.feature_extraction.text import CountVectorizer\n",
    "import numpy as np\n",
    "\n",
    "\n",
    "from hdbscan import HDBSCAN\n",
    "from sentence_transformers import models\n",
    "from sklearn.preprocessing import normalize\n",
    "from transformers import AutoModel, AutoTokenizer\n",
    "from torch import nn\n",
    "import mlflow.sklearn\n",
    "from  mlflow.tracking import MlflowClient\n",
    "from sklearn.preprocessing import StandardScaler\n",
    "\n",
    "client = MlflowClient()\n",
    "\n",
    "\n",
    "%matplotlib inline\n",
    "%load_ext autoreload\n",
    "%autoreload 2\n",
    "\n",
    "%reload_ext utils\n",
    "%reload_ext modeling\n",
    "os.environ[\"MLFLOW_S3_ENDPOINT_URL\"]=\"http://s3.eu-central-1.amazonaws.com\"\n",
    "os.environ[\"MLFLOW_TRACKING_USERNAME\"]=\"mlflow\"\n",
    "os.environ[\"MLFLOW_TRACKING_PASSWORD\"]=\"mlflow\""
   ]
  },
  {
   "cell_type": "code",
   "execution_count": null,
   "metadata": {},
   "outputs": [],
   "source": []
  },
  {
   "cell_type": "code",
   "execution_count": 2,
   "metadata": {},
   "outputs": [
    {
     "data": {
      "text/html": [
       "<div>\n",
       "<style scoped>\n",
       "    .dataframe tbody tr th:only-of-type {\n",
       "        vertical-align: middle;\n",
       "    }\n",
       "\n",
       "    .dataframe tbody tr th {\n",
       "        vertical-align: top;\n",
       "    }\n",
       "\n",
       "    .dataframe thead th {\n",
       "        text-align: right;\n",
       "    }\n",
       "</style>\n",
       "<table border=\"1\" class=\"dataframe\">\n",
       "  <thead>\n",
       "    <tr style=\"text-align: right;\">\n",
       "      <th></th>\n",
       "      <th>headline</th>\n",
       "      <th>text</th>\n",
       "      <th>seo_title</th>\n",
       "      <th>created_at_date</th>\n",
       "      <th>created_at</th>\n",
       "    </tr>\n",
       "    <tr>\n",
       "      <th>article_uid</th>\n",
       "      <th></th>\n",
       "      <th></th>\n",
       "      <th></th>\n",
       "      <th></th>\n",
       "      <th></th>\n",
       "    </tr>\n",
       "  </thead>\n",
       "  <tbody>\n",
       "    <tr>\n",
       "      <th>5ed1398149006b863542719239e660f51f2bfb43eae5954d5a26b0596cbb54ae</th>\n",
       "      <td>US Open: Als Alexander Zverev seinen Eltern da...</td>\n",
       "      <td>Was für ein Drama! Was für Emotionen! Alexande...</td>\n",
       "      <td>Als er seinen Eltern dankte, kamen ihm die Tränen</td>\n",
       "      <td>9/14/20</td>\n",
       "      <td>2020-09-14 11:56:15</td>\n",
       "    </tr>\n",
       "  </tbody>\n",
       "</table>\n",
       "</div>"
      ],
      "text/plain": [
       "                                                                                             headline  \\\n",
       "article_uid                                                                                             \n",
       "5ed1398149006b863542719239e660f51f2bfb43eae5954...  US Open: Als Alexander Zverev seinen Eltern da...   \n",
       "\n",
       "                                                                                                 text  \\\n",
       "article_uid                                                                                             \n",
       "5ed1398149006b863542719239e660f51f2bfb43eae5954...  Was für ein Drama! Was für Emotionen! Alexande...   \n",
       "\n",
       "                                                                                            seo_title  \\\n",
       "article_uid                                                                                             \n",
       "5ed1398149006b863542719239e660f51f2bfb43eae5954...  Als er seinen Eltern dankte, kamen ihm die Tränen   \n",
       "\n",
       "                                                   created_at_date  \\\n",
       "article_uid                                                          \n",
       "5ed1398149006b863542719239e660f51f2bfb43eae5954...         9/14/20   \n",
       "\n",
       "                                                            created_at  \n",
       "article_uid                                                             \n",
       "5ed1398149006b863542719239e660f51f2bfb43eae5954... 2020-09-14 11:56:15  "
      ]
     },
     "execution_count": 2,
     "metadata": {},
     "output_type": "execute_result"
    }
   ],
   "source": [
    "X = utils.load_labeled_data()\n",
    "y= X[\"labels\"]\n",
    "X.drop([\"labels\",\"site\",\"entities_analyzed\",\"updated_at\"],inplace=True,axis=\"columns\")\n",
    "y_summarized_clusters = dict(collections.Counter(y))\n",
    "\n",
    "X.head(1)"
   ]
  },
  {
   "cell_type": "code",
   "execution_count": 3,
   "metadata": {},
   "outputs": [
    {
     "name": "stdout",
     "output_type": "stream",
     "text": [
      "(239, 9)\n"
     ]
    },
    {
     "data": {
      "text/plain": [
       "<AxesSubplot:xlabel='topic'>"
      ]
     },
     "execution_count": 3,
     "metadata": {},
     "output_type": "execute_result"
    },
    {
     "data": {
      "image/png": "[encoded data removed]",
      "text/plain": [
       "<Figure size 1728x216 with 1 Axes>"
      ]
     },
     "metadata": {
      "needs_background": "light"
     },
     "output_type": "display_data"
    }
   ],
   "source": [
    "X = utils.load_labeled_data()\n",
    "print(X.shape)\n",
    "pd.DataFrame(y_summarized_clusters.items(),columns=[\"topic\",'size']).set_index(\"topic\").sort_values(\"size\").plot(kind=\"bar\",figsize=(24,3))\n"
   ]
  },
  {
   "cell_type": "code",
   "execution_count": 7,
   "metadata": {},
   "outputs": [
    {
     "data": {
      "text/plain": [
       "article_uid\n",
       "5ed1398149006b863542719239e660f51f2bfb43eae5954d5a26b0596cbb54ae    us open als alexander zverev seinen eltern dan...\n",
       "f59166e70933714ac41d44a70ace1fe014dd59d957cfb3bdddf873d7561819fd    reaktionen auf zverevs tenniskrimi „kopf hoch ...\n",
       "5b5e70d73984da9cda4fb1606282e623b6f7c2cd7a7265cbde7bd11572c6474a    alexander zverev us open – titeltraum zerstört...\n",
       "922875e67c48b975a8a9f36c623f2ec118d25ae2389d0e326c7827b7f5e91fa5    tennis alexander zverev – bruder mischa kommen...\n",
       "190308d386d6b939c531f927c6d7b596c153b70cec95289988408770256912a6    us open alex zverev gegen dominic thiem – freu...\n",
       "                                                                                          ...                        \n",
       "ae9a4a5b99be78378d6c4708c442c38e8a618a73e2fbc1417557c7f8d312a018    „love island“ sexy poledanceaction in der show...\n",
       "94a42d1d85cda20adfcc0dba552969817dbf5433c477366ef0761a271a1a8dea    „festspiele der reality stars“ micaela schäfer...\n",
       "b29bb3863c32aa99f4029e1f07404aa98e0b19f699a619de67f0391bf2fcc495    „love island“ fummelpremiere bei ex„bachelor“b...\n",
       "b53453b226279e41acf7a2b9646f1d0a822d5d6feace03e18a5b7138bf06be43    „love island“ „sexy granaten“ sprengen die paa...\n",
       "8ec404c985afbb5fab60b0f93ae8f0a52e7f0518c6ef55d6c3125e683a9493a4    megazoff auf „love island“  penisprotz hendrik...\n",
       "Name: mix, Length: 239, dtype: object"
      ]
     },
     "execution_count": 7,
     "metadata": {},
     "output_type": "execute_result"
    }
   ],
   "source": [
    "#experiments = client.list_experiments() # returns a list of mlflow.entities.Experiment\n",
    "mlflow.set_experiment(\"eval-bert-german-dbmdz-uncased-sentence-stsb\")\n",
    "\n",
    "\n",
    "word_embedding_model = models.Transformer('T-Systems-onsite/bert-german-dbmdz-uncased-sentence-stsb',max_seq_length=512)\n",
    "__X =X.copy()\n",
    "__X[\"text\"] =__X['seo_title'].apply(lambda x: utils.remove_seo_title_marker(x,True))+\". \"+__X[\"text\"] \n",
    "pdf = utils.preprocess_articles_for_bert(__X,\"text\")\n",
    "\n",
    "X['mix'] =  X['headline'].apply(str.lower) +\" \"+ X[\"seo_title\"].apply(utils.remove_seo_title_marker) #+ df[\"text\"].apply(lambda x: \" \".join(x.split(\" \")[:150]))\n",
    "X[\"mix\"]=X[\"mix\"].apply(lambda x: x.translate(x.maketrans('', '', string.punctuation)))\n",
    "X['mix']"
   ]
  },
  {
   "cell_type": "code",
   "execution_count": 8,
   "metadata": {},
   "outputs": [
    {
     "data": {
      "application/vnd.jupyter.widget-view+json": {
       "model_id": "3669adcf29e54a52ae3e5d30d4cde241",
       "version_major": 2,
       "version_minor": 0
      },
      "text/plain": [
       "HBox(children=(FloatProgress(value=0.0, description='Batches', max=8.0, style=ProgressStyle(description_width=…"
      ]
     },
     "metadata": {},
     "output_type": "display_data"
    },
    {
     "name": "stdout",
     "output_type": "stream",
     "text": [
      "\n",
      "--- Embedding dimension 768\n",
      "--- 239 Documnets encoded 104.96177101135254 seconds ---\n"
     ]
    }
   ],
   "source": [
    "\n",
    "max_pooling = False\n",
    "\n",
    "embeddings = modeling.get_sentence_embeddings(pdf,word_embedding_model,max_pooling)\n",
    "\n",
    "mlflow.end_run()"
   ]
  },
  {
   "cell_type": "markdown",
   "metadata": {},
   "source": [
    "## MLflow Expriement for unfitted UMAP and HDBSCAN\n"
   ]
  },
  {
   "cell_type": "code",
   "execution_count": null,
   "metadata": {},
   "outputs": [],
   "source": [
    "alpha=0.85\n",
    "_embeddings = StandardScaler().fit_transform(embeddings)\n",
    "\n",
    "levels = [ [128,196,256,384],\n",
    "          [embeddings,_embeddings],\n",
    "         np.arange(0.1,.6,0.05),\n",
    "          range(2, 5),range(2, 5),[4,6,8,10,12]\n",
    "          \n",
    "         ]\n",
    "ctr=0\n",
    "total_iter = np.array([len(l) for l in levels]).prod()\n",
    "for N_COMPONENTS in levels[0]:\n",
    "    for ix_emb,emb in enumerate(levels[1]):\n",
    "        for epsilion in levels[2]:  \n",
    "            for min_cluster_size in levels[3]:\n",
    "                for min_samples in levels[4]:        \n",
    "                    for n_neighbors in levels[5]:\n",
    "                        print(\"{}/{}\".format(ctr,total_iter))\n",
    "                        with mlflow.start_run():\n",
    "                            #word_embedding_model.encode(\"pdf\")\n",
    "                            mlflow.log_param(\"Emebddings_normalized\",bool(ix_emb))\n",
    "                            mlflow.set_tag(\"Feature column\",\"headline+text_low_processed\")\n",
    "                            #ctr=0\n",
    "                            mlflow.log_param(key=\"max_pooling\",value=max_pooling)\n",
    "                            mlflow.log_param(key=\"min_cluster_size\",value=min_cluster_size)\n",
    "                            mlflow.log_param(key=\"N_COMPONENTS\",value=N_COMPONENTS)\n",
    "                            mlflow.log_param(key=\"cluster_selection_epsilon\",value=epsilion)\n",
    "                            mlflow.log_param(key=\"min_samples\",value=min_samples)\n",
    "                            mlflow.log_param(key=\"alpha\",value=alpha)\n",
    "\n",
    "                            mlflow.log_param(key=\"n_neighbors\",value=n_neighbors)\n",
    "                            results,cluster_labels = modeling.cluster_and_reduce(emb,n_components_clustering=N_COMPONENTS,\n",
    "                                                                                 min_cluster_size=min_cluster_size,n_neighbors=n_neighbors, \n",
    "                                                                                 min_samples= min_samples,alpha=alpha,cluster_selection_epsilon=float(epsilion))\n",
    "                            mlflow.log_metric(key=\"completeness_score\", value=completeness_score(cluster_labels,y.values))\n",
    "                            mlflow.log_metric(key=\"v_measure_score\", value=v_measure_score(cluster_labels,y.values))\n",
    "                            mlflow.log_metric(key=\"homogeneity_score\", value=homogeneity_score(cluster_labels,y.values))\n",
    "                            mlflow.log_metric(key=\"normalized_mutual_info_score\", value=v_measure_score(cluster_labels,y.values))\n",
    "\n",
    "                            summarized_clusters = dict(collections.Counter(cluster_labels))\n",
    "                            try:\n",
    "                                mlflow.log_metric(key=\"outliers_ratio\", value=(summarized_clusters[-1]/len(cluster_labels)))\n",
    "                            except Exception as err:\n",
    "                                mlflow.log_metric(key=\"outliers_ratio\", value=0)\n",
    "\n",
    "                            mlflow.log_metric(key=\"unique_cluters\", value=len(summarized_clusters.items()))\n",
    "                            mlflow.log_metric(key=\"clusters_ratio_to_GT\", value=(len(summarized_clusters.items())-1)/len(y_summarized_clusters.items()))\n",
    "                            mlflow.log_metric(key=\"silhuette_score\", value=silhouette_score(emb,cluster_labels))\n",
    "\n",
    "                            results = utils.link_to_raw_data(results,X,cluster_labels)\n",
    "                            if len(summarized_clusters.items()) < 25 and len(summarized_clusters.items()) > 15:\n",
    "                                try:\n",
    "                                    modeling.scatter_plot(results,save_fig=True)\n",
    "                                    mlflow.log_artifact(\"./tmp_scatter_plot.html\")\n",
    "                                except Exception as err:\n",
    "                                    print(err)\n",
    "                        \n",
    "                        ctr+=1\n",
    "\n",
    "\n"
   ]
  },
  {
   "cell_type": "code",
   "execution_count": null,
   "metadata": {},
   "outputs": [],
   "source": [
    "results,cluster_labels = modeling.cluster_and_reduce(embeddings,n_components_clustering=32,\n",
    "                                                     min_cluster_size=2, min_samples= 3,alpha= 1.0)\n",
    "completeness_score(cluster_labels,y.values), v_measure_score(cluster_labels,y.values)"
   ]
  },
  {
   "cell_type": "code",
   "execution_count": null,
   "metadata": {},
   "outputs": [],
   "source": []
  },
  {
   "cell_type": "code",
   "execution_count": null,
   "metadata": {},
   "outputs": [],
   "source": []
  },
  {
   "cell_type": "code",
   "execution_count": null,
   "metadata": {},
   "outputs": [],
   "source": [
    "cluster_labels"
   ]
  },
  {
   "cell_type": "code",
   "execution_count": null,
   "metadata": {},
   "outputs": [],
   "source": []
  },
  {
   "cell_type": "code",
   "execution_count": null,
   "metadata": {},
   "outputs": [],
   "source": [
    "def mlflow_run_model_eval(mlflow,embeddings,df,**kwargs):\n",
    "    with mlflow.start_run():\n",
    "\n",
    "        #mlflow.log_params(kwargs)\n",
    "\n",
    "        results,cluster_labels = modeling.c(embeddings,n_components_clustering=N_COMPONENTS,\n",
    "                                                             min_cluster_size=min_cluster_size,n_neighbors=n_neighbors, \n",
    "                                                             min_samples= min_samples,alpha=alpha)\n",
    "        mlflow.log_metric(key=\"completeness_score\", value=completeness_score(cluster_labels,y.values))\n",
    "        mlflow.log_metric(key=\"v_measure_score\", value=v_measure_score(cluster_labels,y.values))\n",
    "        mlflow.log_metric(key=\"homogeneity_score\", value=homogeneity_score(cluster_labels,y.values))\n",
    "        mlflow.log_metric(key=\"normalized_mutual_info_score\", value=v_measure_score(cluster_labels,y.values))\n",
    "\n",
    "        summarized_clusters = dict(collections.Counter(cluster_labels))\n",
    "        try:\n",
    "            mlflow.log_metric(key=\"outliers_ratio\", value=(summarized_clusters[-1]/len(cluster_labels)))\n",
    "        except Exception as err:\n",
    "            mlflow.log_metric(key=\"outliers_ratio\", value=0)\n",
    "\n",
    "        mlflow.log_metric(key=\"unique_cluters\", value=len(summarized_clusters.items()))\n",
    "        mlflow.log_metric(key=\"cluters_ratio_to_GT\", value=(len(summarized_clusters.items())-1)/len(y_summarized_clusters.items()))\n",
    "        #mlflow.log_metric(key=\"silhuette_score\", value=silhouette_score(_X,cluster_labels))\n",
    "\n",
    "        results = utils.link_to_raw_data(results,df,cluster_labels)\n",
    "\n",
    "        modeling.scatter_plot(results,save_fig=True)\n",
    "        mlflow.log_artifact(\"./tmp_scatter_plot.html\")\n",
    "    "
   ]
  },
  {
   "cell_type": "code",
   "execution_count": null,
   "metadata": {},
   "outputs": [],
   "source": []
  },
  {
   "cell_type": "code",
   "execution_count": null,
   "metadata": {},
   "outputs": [],
   "source": []
  },
  {
   "cell_type": "code",
   "execution_count": null,
   "metadata": {},
   "outputs": [],
   "source": []
  },
  {
   "cell_type": "code",
   "execution_count": null,
   "metadata": {},
   "outputs": [],
   "source": []
  },
  {
   "cell_type": "code",
   "execution_count": null,
   "metadata": {},
   "outputs": [],
   "source": [
    "\n"
   ]
  },
  {
   "cell_type": "code",
   "execution_count": null,
   "metadata": {},
   "outputs": [],
   "source": []
  },
  {
   "cell_type": "code",
   "execution_count": null,
   "metadata": {},
   "outputs": [],
   "source": [
    "    "
   ]
  },
  {
   "cell_type": "code",
   "execution_count": null,
   "metadata": {},
   "outputs": [],
   "source": []
  },
  {
   "cell_type": "code",
   "execution_count": 12,
   "metadata": {},
   "outputs": [
    {
     "data": {
      "text/html": [
       "<div>\n",
       "<style scoped>\n",
       "    .dataframe tbody tr th:only-of-type {\n",
       "        vertical-align: middle;\n",
       "    }\n",
       "\n",
       "    .dataframe tbody tr th {\n",
       "        vertical-align: top;\n",
       "    }\n",
       "\n",
       "    .dataframe thead th {\n",
       "        text-align: right;\n",
       "    }\n",
       "</style>\n",
       "<table border=\"1\" class=\"dataframe\">\n",
       "  <thead>\n",
       "    <tr style=\"text-align: right;\">\n",
       "      <th></th>\n",
       "      <th>labels</th>\n",
       "      <th>headline</th>\n",
       "      <th>seo_title</th>\n",
       "      <th>text</th>\n",
       "      <th>created_at_date</th>\n",
       "      <th>created_at</th>\n",
       "    </tr>\n",
       "    <tr>\n",
       "      <th>article_uid</th>\n",
       "      <th></th>\n",
       "      <th></th>\n",
       "      <th></th>\n",
       "      <th></th>\n",
       "      <th></th>\n",
       "      <th></th>\n",
       "    </tr>\n",
       "  </thead>\n",
       "  <tbody>\n",
       "    <tr>\n",
       "      <th>5ed1398149006b863542719239e660f51f2bfb43eae5954d5a26b0596cbb54ae</th>\n",
       "      <td>0</td>\n",
       "      <td>US Open: Als Alexander Zverev seinen Eltern da...</td>\n",
       "      <td>Als er seinen Eltern dankte, kamen ihm die Tränen</td>\n",
       "      <td>Was für ein Drama! Was für Emotionen! Alexande...</td>\n",
       "      <td>9/14/20</td>\n",
       "      <td>2020-09-14 11:56:15</td>\n",
       "    </tr>\n",
       "  </tbody>\n",
       "</table>\n",
       "</div>"
      ],
      "text/plain": [
       "                                                    labels  \\\n",
       "article_uid                                                  \n",
       "5ed1398149006b863542719239e660f51f2bfb43eae5954...       0   \n",
       "\n",
       "                                                                                             headline  \\\n",
       "article_uid                                                                                             \n",
       "5ed1398149006b863542719239e660f51f2bfb43eae5954...  US Open: Als Alexander Zverev seinen Eltern da...   \n",
       "\n",
       "                                                                                            seo_title  \\\n",
       "article_uid                                                                                             \n",
       "5ed1398149006b863542719239e660f51f2bfb43eae5954...  Als er seinen Eltern dankte, kamen ihm die Tränen   \n",
       "\n",
       "                                                                                                 text  \\\n",
       "article_uid                                                                                             \n",
       "5ed1398149006b863542719239e660f51f2bfb43eae5954...  Was für ein Drama! Was für Emotionen! Alexande...   \n",
       "\n",
       "                                                   created_at_date  \\\n",
       "article_uid                                                          \n",
       "5ed1398149006b863542719239e660f51f2bfb43eae5954...         9/14/20   \n",
       "\n",
       "                                                            created_at  \n",
       "article_uid                                                             \n",
       "5ed1398149006b863542719239e660f51f2bfb43eae5954... 2020-09-14 11:56:15  "
      ]
     },
     "execution_count": 12,
     "metadata": {},
     "output_type": "execute_result"
    }
   ],
   "source": [
    "X = utils.load_labeled_data()\n",
    "X.drop([\"site\",\"entities_analyzed\",\"updated_at\"],inplace=True,axis=\"columns\")\n",
    "y_summarized_clusters = dict(collections.Counter(y))\n",
    "\n",
    "X.head(1)"
   ]
  },
  {
   "cell_type": "code",
   "execution_count": 13,
   "metadata": {},
   "outputs": [
    {
     "data": {
      "text/html": [
       "<div>\n",
       "<style scoped>\n",
       "    .dataframe tbody tr th:only-of-type {\n",
       "        vertical-align: middle;\n",
       "    }\n",
       "\n",
       "    .dataframe tbody tr th {\n",
       "        vertical-align: top;\n",
       "    }\n",
       "\n",
       "    .dataframe thead th {\n",
       "        text-align: right;\n",
       "    }\n",
       "</style>\n",
       "<table border=\"1\" class=\"dataframe\">\n",
       "  <thead>\n",
       "    <tr style=\"text-align: right;\">\n",
       "      <th></th>\n",
       "      <th>labels</th>\n",
       "      <th>headline</th>\n",
       "      <th>seo_title</th>\n",
       "      <th>text</th>\n",
       "      <th>created_at_date</th>\n",
       "      <th>created_at</th>\n",
       "    </tr>\n",
       "    <tr>\n",
       "      <th>article_uid</th>\n",
       "      <th></th>\n",
       "      <th></th>\n",
       "      <th></th>\n",
       "      <th></th>\n",
       "      <th></th>\n",
       "      <th></th>\n",
       "    </tr>\n",
       "  </thead>\n",
       "  <tbody>\n",
       "    <tr>\n",
       "      <th>5ed1398149006b863542719239e660f51f2bfb43eae5954d5a26b0596cbb54ae</th>\n",
       "      <td>0</td>\n",
       "      <td>US Open: Als Alexander Zverev seinen Eltern da...</td>\n",
       "      <td>Als er seinen Eltern dankte, kamen ihm die Tränen</td>\n",
       "      <td>Was für ein Drama! Was für Emotionen! Alexande...</td>\n",
       "      <td>9/14/20</td>\n",
       "      <td>2020-09-14 11:56:15</td>\n",
       "    </tr>\n",
       "    <tr>\n",
       "      <th>f59166e70933714ac41d44a70ace1fe014dd59d957cfb3bdddf873d7561819fd</th>\n",
       "      <td>0</td>\n",
       "      <td>Reaktionen auf Zverevs Tennis-Krimi: „Kopf hoc...</td>\n",
       "      <td>„Kopf hoch, mein Junge - du kommst zurück!“</td>\n",
       "      <td>Was für ein Match. Nach dem Fünf-Satz-Krimi (6...</td>\n",
       "      <td>9/14/20</td>\n",
       "      <td>2020-09-14 05:03:15</td>\n",
       "    </tr>\n",
       "    <tr>\n",
       "      <th>5b5e70d73984da9cda4fb1606282e623b6f7c2cd7a7265cbde7bd11572c6474a</th>\n",
       "      <td>0</td>\n",
       "      <td>Alexander Zverev: US Open – Titeltraum zerstör...</td>\n",
       "      <td>Zverevs Titel-Traum zerstört</td>\n",
       "      <td>Er war so nah dran am ganz großen Triumph ... ...</td>\n",
       "      <td>9/14/20</td>\n",
       "      <td>2020-09-14 02:27:15</td>\n",
       "    </tr>\n",
       "    <tr>\n",
       "      <th>922875e67c48b975a8a9f36c623f2ec118d25ae2389d0e326c7827b7f5e91fa5</th>\n",
       "      <td>0</td>\n",
       "      <td>Tennis: Alexander Zverev – Bruder Mischa komme...</td>\n",
       "      <td>Im TV! Zverevs Bruderkommen die Tränen</td>\n",
       "      <td>Große Gefühle vorm großen Finale! Kurz vor dem...</td>\n",
       "      <td>9/13/20</td>\n",
       "      <td>2020-09-13 22:33:15</td>\n",
       "    </tr>\n",
       "    <tr>\n",
       "      <th>190308d386d6b939c531f927c6d7b596c153b70cec95289988408770256912a6</th>\n",
       "      <td>0</td>\n",
       "      <td>US Open: Alex Zverev gegen Dominic Thiem – Fre...</td>\n",
       "      <td>Thiem gegen Zverev –das Kumpel-Duell!</td>\n",
       "      <td>Jagd auf die Titel-Premiere! Wenn Alexander „S...</td>\n",
       "      <td>9/13/20</td>\n",
       "      <td>2020-09-13 17:07:16</td>\n",
       "    </tr>\n",
       "    <tr>\n",
       "      <th>...</th>\n",
       "      <td>...</td>\n",
       "      <td>...</td>\n",
       "      <td>...</td>\n",
       "      <td>...</td>\n",
       "      <td>...</td>\n",
       "      <td>...</td>\n",
       "    </tr>\n",
       "    <tr>\n",
       "      <th>ae9a4a5b99be78378d6c4708c442c38e8a618a73e2fbc1417557c7f8d312a018</th>\n",
       "      <td>45</td>\n",
       "      <td>„Love Island“: Sexy Poledance-Action in der Sh...</td>\n",
       "      <td>Heiße Poledance-Einlage inder „Love Island“-Villa</td>\n",
       "      <td>Ab an die Stange!  Eine Poledance-Einlage über...</td>\n",
       "      <td>9/11/20</td>\n",
       "      <td>2020-09-11 16:49:15</td>\n",
       "    </tr>\n",
       "    <tr>\n",
       "      <th>94a42d1d85cda20adfcc0dba552969817dbf5433c477366ef0761a271a1a8dea</th>\n",
       "      <td>45</td>\n",
       "      <td>„Festspiele der Reality Stars“: Micaela Schäfe...</td>\n",
       "      <td>Micaela (36) ist scharf auf Gerhard Schröder (76)</td>\n",
       "      <td>Dieses Lippenbekenntnis konnte keiner richtig ...</td>\n",
       "      <td>9/12/20</td>\n",
       "      <td>2020-09-12 10:56:15</td>\n",
       "    </tr>\n",
       "    <tr>\n",
       "      <th>b29bb3863c32aa99f4029e1f07404aa98e0b19f699a619de67f0391bf2fcc495</th>\n",
       "      <td>45</td>\n",
       "      <td>„Love Island“: Fummel-Premiere bei Ex-„Bachelo...</td>\n",
       "      <td>Fummel-Premiere auf „Love Island“</td>\n",
       "      <td>Nächster Hormon-Schub im Paradies! Nachdem Min...</td>\n",
       "      <td>9/11/20</td>\n",
       "      <td>2020-09-11 02:26:15</td>\n",
       "    </tr>\n",
       "    <tr>\n",
       "      <th>b53453b226279e41acf7a2b9646f1d0a822d5d6feace03e18a5b7138bf06be43</th>\n",
       "      <td>45</td>\n",
       "      <td>„Love Island“: „Sexy Granaten“ sprengen die Pa...</td>\n",
       "      <td>„Sexy Granaten“ sprengen die Paare auseinander</td>\n",
       "      <td>Massentrennung auf der Liebesinsel! RTLZWEI un...</td>\n",
       "      <td>9/13/20</td>\n",
       "      <td>2020-09-13 18:03:15</td>\n",
       "    </tr>\n",
       "    <tr>\n",
       "      <th>8ec404c985afbb5fab60b0f93ae8f0a52e7f0518c6ef55d6c3125e683a9493a4</th>\n",
       "      <td>45</td>\n",
       "      <td>Mega-Zoff auf „Love ISLAND“ - Penis-Protz Hend...</td>\n",
       "      <td>Penis-Protz Hendrik geht auf Luca los</td>\n",
       "      <td>Gewitterwolken über der Liebesinsel! Der Sonnt...</td>\n",
       "      <td>9/14/20</td>\n",
       "      <td>2020-09-14 02:19:15</td>\n",
       "    </tr>\n",
       "  </tbody>\n",
       "</table>\n",
       "<p>239 rows × 6 columns</p>\n",
       "</div>"
      ],
      "text/plain": [
       "                                                    labels  \\\n",
       "article_uid                                                  \n",
       "5ed1398149006b863542719239e660f51f2bfb43eae5954...       0   \n",
       "f59166e70933714ac41d44a70ace1fe014dd59d957cfb3b...       0   \n",
       "5b5e70d73984da9cda4fb1606282e623b6f7c2cd7a7265c...       0   \n",
       "922875e67c48b975a8a9f36c623f2ec118d25ae2389d0e3...       0   \n",
       "190308d386d6b939c531f927c6d7b596c153b70cec95289...       0   \n",
       "...                                                    ...   \n",
       "ae9a4a5b99be78378d6c4708c442c38e8a618a73e2fbc14...      45   \n",
       "94a42d1d85cda20adfcc0dba552969817dbf5433c477366...      45   \n",
       "b29bb3863c32aa99f4029e1f07404aa98e0b19f699a619d...      45   \n",
       "b53453b226279e41acf7a2b9646f1d0a822d5d6feace03e...      45   \n",
       "8ec404c985afbb5fab60b0f93ae8f0a52e7f0518c6ef55d...      45   \n",
       "\n",
       "                                                                                             headline  \\\n",
       "article_uid                                                                                             \n",
       "5ed1398149006b863542719239e660f51f2bfb43eae5954...  US Open: Als Alexander Zverev seinen Eltern da...   \n",
       "f59166e70933714ac41d44a70ace1fe014dd59d957cfb3b...  Reaktionen auf Zverevs Tennis-Krimi: „Kopf hoc...   \n",
       "5b5e70d73984da9cda4fb1606282e623b6f7c2cd7a7265c...  Alexander Zverev: US Open – Titeltraum zerstör...   \n",
       "922875e67c48b975a8a9f36c623f2ec118d25ae2389d0e3...  Tennis: Alexander Zverev – Bruder Mischa komme...   \n",
       "190308d386d6b939c531f927c6d7b596c153b70cec95289...  US Open: Alex Zverev gegen Dominic Thiem – Fre...   \n",
       "...                                                                                               ...   \n",
       "ae9a4a5b99be78378d6c4708c442c38e8a618a73e2fbc14...  „Love Island“: Sexy Poledance-Action in der Sh...   \n",
       "94a42d1d85cda20adfcc0dba552969817dbf5433c477366...  „Festspiele der Reality Stars“: Micaela Schäfe...   \n",
       "b29bb3863c32aa99f4029e1f07404aa98e0b19f699a619d...  „Love Island“: Fummel-Premiere bei Ex-„Bachelo...   \n",
       "b53453b226279e41acf7a2b9646f1d0a822d5d6feace03e...  „Love Island“: „Sexy Granaten“ sprengen die Pa...   \n",
       "8ec404c985afbb5fab60b0f93ae8f0a52e7f0518c6ef55d...  Mega-Zoff auf „Love ISLAND“ - Penis-Protz Hend...   \n",
       "\n",
       "                                                                                            seo_title  \\\n",
       "article_uid                                                                                             \n",
       "5ed1398149006b863542719239e660f51f2bfb43eae5954...  Als er seinen Eltern dankte, kamen ihm die Tränen   \n",
       "f59166e70933714ac41d44a70ace1fe014dd59d957cfb3b...        „Kopf hoch, mein Junge - du kommst zurück!“   \n",
       "5b5e70d73984da9cda4fb1606282e623b6f7c2cd7a7265c...                       Zverevs Titel-Traum zerstört   \n",
       "922875e67c48b975a8a9f36c623f2ec118d25ae2389d0e3...             Im TV! Zverevs Bruderkommen die Tränen   \n",
       "190308d386d6b939c531f927c6d7b596c153b70cec95289...              Thiem gegen Zverev –das Kumpel-Duell!   \n",
       "...                                                                                               ...   \n",
       "ae9a4a5b99be78378d6c4708c442c38e8a618a73e2fbc14...  Heiße Poledance-Einlage inder „Love Island“-Villa   \n",
       "94a42d1d85cda20adfcc0dba552969817dbf5433c477366...  Micaela (36) ist scharf auf Gerhard Schröder (76)   \n",
       "b29bb3863c32aa99f4029e1f07404aa98e0b19f699a619d...                  Fummel-Premiere auf „Love Island“   \n",
       "b53453b226279e41acf7a2b9646f1d0a822d5d6feace03e...     „Sexy Granaten“ sprengen die Paare auseinander   \n",
       "8ec404c985afbb5fab60b0f93ae8f0a52e7f0518c6ef55d...              Penis-Protz Hendrik geht auf Luca los   \n",
       "\n",
       "                                                                                                 text  \\\n",
       "article_uid                                                                                             \n",
       "5ed1398149006b863542719239e660f51f2bfb43eae5954...  Was für ein Drama! Was für Emotionen! Alexande...   \n",
       "f59166e70933714ac41d44a70ace1fe014dd59d957cfb3b...  Was für ein Match. Nach dem Fünf-Satz-Krimi (6...   \n",
       "5b5e70d73984da9cda4fb1606282e623b6f7c2cd7a7265c...  Er war so nah dran am ganz großen Triumph ... ...   \n",
       "922875e67c48b975a8a9f36c623f2ec118d25ae2389d0e3...  Große Gefühle vorm großen Finale! Kurz vor dem...   \n",
       "190308d386d6b939c531f927c6d7b596c153b70cec95289...  Jagd auf die Titel-Premiere! Wenn Alexander „S...   \n",
       "...                                                                                               ...   \n",
       "ae9a4a5b99be78378d6c4708c442c38e8a618a73e2fbc14...  Ab an die Stange!  Eine Poledance-Einlage über...   \n",
       "94a42d1d85cda20adfcc0dba552969817dbf5433c477366...  Dieses Lippenbekenntnis konnte keiner richtig ...   \n",
       "b29bb3863c32aa99f4029e1f07404aa98e0b19f699a619d...  Nächster Hormon-Schub im Paradies! Nachdem Min...   \n",
       "b53453b226279e41acf7a2b9646f1d0a822d5d6feace03e...  Massentrennung auf der Liebesinsel! RTLZWEI un...   \n",
       "8ec404c985afbb5fab60b0f93ae8f0a52e7f0518c6ef55d...  Gewitterwolken über der Liebesinsel! Der Sonnt...   \n",
       "\n",
       "                                                   created_at_date  \\\n",
       "article_uid                                                          \n",
       "5ed1398149006b863542719239e660f51f2bfb43eae5954...         9/14/20   \n",
       "f59166e70933714ac41d44a70ace1fe014dd59d957cfb3b...         9/14/20   \n",
       "5b5e70d73984da9cda4fb1606282e623b6f7c2cd7a7265c...         9/14/20   \n",
       "922875e67c48b975a8a9f36c623f2ec118d25ae2389d0e3...         9/13/20   \n",
       "190308d386d6b939c531f927c6d7b596c153b70cec95289...         9/13/20   \n",
       "...                                                            ...   \n",
       "ae9a4a5b99be78378d6c4708c442c38e8a618a73e2fbc14...         9/11/20   \n",
       "94a42d1d85cda20adfcc0dba552969817dbf5433c477366...         9/12/20   \n",
       "b29bb3863c32aa99f4029e1f07404aa98e0b19f699a619d...         9/11/20   \n",
       "b53453b226279e41acf7a2b9646f1d0a822d5d6feace03e...         9/13/20   \n",
       "8ec404c985afbb5fab60b0f93ae8f0a52e7f0518c6ef55d...         9/14/20   \n",
       "\n",
       "                                                            created_at  \n",
       "article_uid                                                             \n",
       "5ed1398149006b863542719239e660f51f2bfb43eae5954... 2020-09-14 11:56:15  \n",
       "f59166e70933714ac41d44a70ace1fe014dd59d957cfb3b... 2020-09-14 05:03:15  \n",
       "5b5e70d73984da9cda4fb1606282e623b6f7c2cd7a7265c... 2020-09-14 02:27:15  \n",
       "922875e67c48b975a8a9f36c623f2ec118d25ae2389d0e3... 2020-09-13 22:33:15  \n",
       "190308d386d6b939c531f927c6d7b596c153b70cec95289... 2020-09-13 17:07:16  \n",
       "...                                                                ...  \n",
       "ae9a4a5b99be78378d6c4708c442c38e8a618a73e2fbc14... 2020-09-11 16:49:15  \n",
       "94a42d1d85cda20adfcc0dba552969817dbf5433c477366... 2020-09-12 10:56:15  \n",
       "b29bb3863c32aa99f4029e1f07404aa98e0b19f699a619d... 2020-09-11 02:26:15  \n",
       "b53453b226279e41acf7a2b9646f1d0a822d5d6feace03e... 2020-09-13 18:03:15  \n",
       "8ec404c985afbb5fab60b0f93ae8f0a52e7f0518c6ef55d... 2020-09-14 02:19:15  \n",
       "\n",
       "[239 rows x 6 columns]"
      ]
     },
     "execution_count": 13,
     "metadata": {},
     "output_type": "execute_result"
    }
   ],
   "source": []
  },
  {
   "cell_type": "code",
   "execution_count": 129,
   "metadata": {},
   "outputs": [],
   "source": [
    "pd.options.plotting.backend = \"plotly\"\n"
   ]
  },
  {
   "cell_type": "code",
   "execution_count": 106,
   "metadata": {},
   "outputs": [
    {
     "data": {
      "application/vnd.plotly.v1+json": {
       "config": {
        "plotlyServerURL": "https://plot.ly"
       },
       "data": [
        {
         "dimensions": [
          {
           "label": "labels",
           "values": [
            0,
            0,
            0,
            0,
            0,
            0,
            0,
            0,
            0,
            0,
            0,
            0,
            0,
            0,
            0,
            0,
            0,
            0,
            0,
            1,
            1,
            1,
            1,
            1,
            18,
            18,
            18,
            18,
            18,
            18,
            10,
            10,
            10,
            10,
            10,
            10,
            10,
            10,
            10,
            10,
            10,
            10,
            10,
            10,
            10,
            10,
            10,
            10,
            10,
            10,
            10,
            10,
            10,
            10,
            10,
            9,
            9,
            9,
            9,
            9,
            9,
            9,
            9,
            9,
            9,
            9,
            9,
            9,
            9,
            9,
            9,
            9,
            9,
            9,
            9,
            14,
            14,
            14,
            14,
            14,
            14,
            16,
            16,
            30,
            30,
            30,
            30,
            30,
            30,
            29,
            29,
            29,
            29,
            29,
            29,
            17,
            17,
            17,
            17,
            17,
            17,
            17,
            17,
            17,
            2,
            2,
            2,
            2,
            2,
            2,
            2,
            2,
            2,
            2,
            2,
            2,
            2,
            2,
            2,
            2,
            2,
            2,
            2,
            2,
            2,
            2,
            2,
            2,
            4,
            4,
            4,
            4,
            4,
            4,
            4,
            23,
            23,
            23,
            23,
            23,
            23,
            23,
            23,
            50,
            50,
            50,
            51,
            51,
            51,
            51,
            51,
            53,
            53,
            53,
            53,
            53,
            22,
            22,
            22,
            22,
            22,
            22,
            22,
            22,
            22,
            22,
            22,
            22,
            44,
            44,
            44,
            44,
            44,
            44,
            44,
            44,
            44,
            44,
            44,
            44,
            44,
            44,
            44,
            44,
            44,
            44,
            44,
            44,
            44,
            44,
            44,
            44,
            44,
            44,
            44,
            44,
            44,
            44,
            44,
            44,
            44,
            44,
            44,
            44,
            44,
            44,
            44,
            44,
            44,
            44,
            44,
            44,
            44,
            44,
            44,
            44,
            44,
            44,
            44,
            44,
            44,
            44,
            44,
            44,
            44,
            44,
            44,
            44,
            44,
            45,
            45,
            45,
            45,
            45,
            45,
            45,
            45,
            45,
            45
           ]
          },
          {
           "label": "created_at_date",
           "values": [
            "9/14/20",
            "9/14/20",
            "9/14/20",
            "9/13/20",
            "9/13/20",
            "9/13/20",
            "9/12/20",
            "9/12/20",
            "9/12/20",
            "9/12/20",
            "9/11/20",
            "9/11/20",
            "9/11/20",
            "9/10/20",
            "9/10/20",
            "9/10/20",
            "9/10/20",
            "9/10/20",
            "9/9/20",
            "9/14/20",
            "9/13/20",
            "9/12/20",
            "9/11/20",
            "9/10/20",
            "9/14/20",
            "9/14/20",
            "9/11/20",
            "9/10/20",
            "9/10/20",
            "9/10/20",
            "9/14/20",
            "9/14/20",
            "9/14/20",
            "9/13/20",
            "9/13/20",
            "9/13/20",
            "9/13/20",
            "9/13/20",
            "9/13/20",
            "9/12/20",
            "9/12/20",
            "9/12/20",
            "9/12/20",
            "9/11/20",
            "9/11/20",
            "9/9/20",
            "9/11/20",
            "9/11/20",
            "9/10/20",
            "9/10/20",
            "9/10/20",
            "9/10/20",
            "9/10/20",
            "9/10/20",
            "9/9/20",
            "9/14/20",
            "9/13/20",
            "9/13/20",
            "9/13/20",
            "9/13/20",
            "9/12/20",
            "9/12/20",
            "9/12/20",
            "9/12/20",
            "9/12/20",
            "9/11/20",
            "9/11/20",
            "9/11/20",
            "9/10/20",
            "9/10/20",
            "9/10/20",
            "9/10/20",
            "9/10/20",
            "9/9/20",
            "9/9/20",
            "9/14/20",
            "9/14/20",
            "9/11/20",
            "9/10/20",
            "9/10/20",
            "9/10/20",
            "9/14/20",
            "9/11/20",
            "9/12/20",
            "9/12/20",
            "9/11/20",
            "9/10/20",
            "9/10/20",
            "9/9/20",
            "9/13/20",
            "9/13/20",
            "9/13/20",
            "9/12/20",
            "9/11/20",
            "9/11/20",
            "9/10/20",
            "9/14/20",
            "9/13/20",
            "9/13/20",
            "9/12/20",
            "9/11/20",
            "9/10/20",
            "9/9/20",
            "9/9/20",
            "9/14/20",
            "9/14/20",
            "9/14/20",
            "9/14/20",
            "9/14/20",
            "9/13/20",
            "9/13/20",
            "9/12/20",
            "9/12/20",
            "9/12/20",
            "9/12/20",
            "9/11/20",
            "9/11/20",
            "9/11/20",
            "9/11/20",
            "9/11/20",
            "9/10/20",
            "9/10/20",
            "9/10/20",
            "9/10/20",
            "9/10/20",
            "9/10/20",
            "9/9/20",
            "9/9/20",
            "9/10/20",
            "9/9/20",
            "9/13/20",
            "9/10/20",
            "9/9/20",
            "9/9/20",
            "9/11/20",
            "9/13/20",
            "9/13/20",
            "9/12/20",
            "9/11/20",
            "9/11/20",
            "9/10/20",
            "9/9/20",
            "9/14/20",
            "9/14/20",
            "9/11/20",
            "9/14/20",
            "9/11/20",
            "9/13/20",
            "9/12/20",
            "9/13/20",
            "9/13/20",
            "9/14/20",
            "9/13/20",
            "9/13/20",
            "9/14/20",
            "9/10/20",
            "9/13/20",
            "9/13/20",
            "9/12/20",
            "9/11/20",
            "9/11/20",
            "9/11/20",
            "9/10/20",
            "9/10/20",
            "9/10/20",
            "9/10/20",
            "9/10/20",
            "9/14/20",
            "9/12/20",
            "9/13/20",
            "9/14/20",
            "9/14/20",
            "9/14/20",
            "9/14/20",
            "9/14/20",
            "9/14/20",
            "9/14/20",
            "9/13/20",
            "9/13/20",
            "9/13/20",
            "9/13/20",
            "9/13/20",
            "9/13/20",
            "9/13/20",
            "9/13/20",
            "9/13/20",
            "9/12/20",
            "9/12/20",
            "9/12/20",
            "9/12/20",
            "9/12/20",
            "9/12/20",
            "9/12/20",
            "9/12/20",
            "9/12/20",
            "9/11/20",
            "9/11/20",
            "9/11/20",
            "9/11/20",
            "9/11/20",
            "9/11/20",
            "9/11/20",
            "9/11/20",
            "9/11/20",
            "9/11/20",
            "9/11/20",
            "9/10/20",
            "9/10/20",
            "9/10/20",
            "9/10/20",
            "9/10/20",
            "9/10/20",
            "9/10/20",
            "9/10/20",
            "9/10/20",
            "9/10/20",
            "9/10/20",
            "9/10/20",
            "9/10/20",
            "9/10/20",
            "9/10/20",
            "9/9/20",
            "9/9/20",
            "9/9/20",
            "9/9/20",
            "9/9/20",
            "9/9/20",
            "9/9/20",
            "9/9/20",
            "9/10/20",
            "9/9/20",
            "9/10/20",
            "9/12/20",
            "9/11/20",
            "9/11/20",
            "9/12/20",
            "9/11/20",
            "9/13/20",
            "9/14/20"
           ]
          }
         ],
         "domain": {
          "x": [
           0,
           1
          ],
          "y": [
           0,
           1
          ]
         },
         "name": "",
         "type": "parcats"
        }
       ],
       "layout": {
        "autosize": true,
        "legend": {
         "tracegroupgap": 0
        },
        "margin": {
         "t": 60
        },
        "template": {
         "data": {
          "bar": [
           {
            "error_x": {
             "color": "#2a3f5f"
            },
            "error_y": {
             "color": "#2a3f5f"
            },
            "marker": {
             "line": {
              "color": "#E5ECF6",
              "width": 0.5
             }
            },
            "type": "bar"
           }
          ],
          "barpolar": [
           {
            "marker": {
             "line": {
              "color": "#E5ECF6",
              "width": 0.5
             }
            },
            "type": "barpolar"
           }
          ],
          "carpet": [
           {
            "aaxis": {
             "endlinecolor": "#2a3f5f",
             "gridcolor": "white",
             "linecolor": "white",
             "minorgridcolor": "white",
             "startlinecolor": "#2a3f5f"
            },
            "baxis": {
             "endlinecolor": "#2a3f5f",
             "gridcolor": "white",
             "linecolor": "white",
             "minorgridcolor": "white",
             "startlinecolor": "#2a3f5f"
            },
            "type": "carpet"
           }
          ],
          "choropleth": [
           {
            "colorbar": {
             "outlinewidth": 0,
             "ticks": ""
            },
            "type": "choropleth"
           }
          ],
          "contour": [
           {
            "colorbar": {
             "outlinewidth": 0,
             "ticks": ""
            },
            "colorscale": [
             [
              0,
              "#0d0887"
             ],
             [
              0.1111111111111111,
              "#46039f"
             ],
             [
              0.2222222222222222,
              "#7201a8"
             ],
             [
              0.3333333333333333,
              "#9c179e"
             ],
             [
              0.4444444444444444,
              "#bd3786"
             ],
             [
              0.5555555555555556,
              "#d8576b"
             ],
             [
              0.6666666666666666,
              "#ed7953"
             ],
             [
              0.7777777777777778,
              "#fb9f3a"
             ],
             [
              0.8888888888888888,
              "#fdca26"
             ],
             [
              1,
              "#f0f921"
             ]
            ],
            "type": "contour"
           }
          ],
          "contourcarpet": [
           {
            "colorbar": {
             "outlinewidth": 0,
             "ticks": ""
            },
            "type": "contourcarpet"
           }
          ],
          "heatmap": [
           {
            "colorbar": {
             "outlinewidth": 0,
             "ticks": ""
            },
            "colorscale": [
             [
              0,
              "#0d0887"
             ],
             [
              0.1111111111111111,
              "#46039f"
             ],
             [
              0.2222222222222222,
              "#7201a8"
             ],
             [
              0.3333333333333333,
              "#9c179e"
             ],
             [
              0.4444444444444444,
              "#bd3786"
             ],
             [
              0.5555555555555556,
              "#d8576b"
             ],
             [
              0.6666666666666666,
              "#ed7953"
             ],
             [
              0.7777777777777778,
              "#fb9f3a"
             ],
             [
              0.8888888888888888,
              "#fdca26"
             ],
             [
              1,
              "#f0f921"
             ]
            ],
            "type": "heatmap"
           }
          ],
          "heatmapgl": [
           {
            "colorbar": {
             "outlinewidth": 0,
             "ticks": ""
            },
            "colorscale": [
             [
              0,
              "#0d0887"
             ],
             [
              0.1111111111111111,
              "#46039f"
             ],
             [
              0.2222222222222222,
              "#7201a8"
             ],
             [
              0.3333333333333333,
              "#9c179e"
             ],
             [
              0.4444444444444444,
              "#bd3786"
             ],
             [
              0.5555555555555556,
              "#d8576b"
             ],
             [
              0.6666666666666666,
              "#ed7953"
             ],
             [
              0.7777777777777778,
              "#fb9f3a"
             ],
             [
              0.8888888888888888,
              "#fdca26"
             ],
             [
              1,
              "#f0f921"
             ]
            ],
            "type": "heatmapgl"
           }
          ],
          "histogram": [
           {
            "marker": {
             "colorbar": {
              "outlinewidth": 0,
              "ticks": ""
             }
            },
            "type": "histogram"
           }
          ],
          "histogram2d": [
           {
            "colorbar": {
             "outlinewidth": 0,
             "ticks": ""
            },
            "colorscale": [
             [
              0,
              "#0d0887"
             ],
             [
              0.1111111111111111,
              "#46039f"
             ],
             [
              0.2222222222222222,
              "#7201a8"
             ],
             [
              0.3333333333333333,
              "#9c179e"
             ],
             [
              0.4444444444444444,
              "#bd3786"
             ],
             [
              0.5555555555555556,
              "#d8576b"
             ],
             [
              0.6666666666666666,
              "#ed7953"
             ],
             [
              0.7777777777777778,
              "#fb9f3a"
             ],
             [
              0.8888888888888888,
              "#fdca26"
             ],
             [
              1,
              "#f0f921"
             ]
            ],
            "type": "histogram2d"
           }
          ],
          "histogram2dcontour": [
           {
            "colorbar": {
             "outlinewidth": 0,
             "ticks": ""
            },
            "colorscale": [
             [
              0,
              "#0d0887"
             ],
             [
              0.1111111111111111,
              "#46039f"
             ],
             [
              0.2222222222222222,
              "#7201a8"
             ],
             [
              0.3333333333333333,
              "#9c179e"
             ],
             [
              0.4444444444444444,
              "#bd3786"
             ],
             [
              0.5555555555555556,
              "#d8576b"
             ],
             [
              0.6666666666666666,
              "#ed7953"
             ],
             [
              0.7777777777777778,
              "#fb9f3a"
             ],
             [
              0.8888888888888888,
              "#fdca26"
             ],
             [
              1,
              "#f0f921"
             ]
            ],
            "type": "histogram2dcontour"
           }
          ],
          "mesh3d": [
           {
            "colorbar": {
             "outlinewidth": 0,
             "ticks": ""
            },
            "type": "mesh3d"
           }
          ],
          "parcoords": [
           {
            "line": {
             "colorbar": {
              "outlinewidth": 0,
              "ticks": ""
             }
            },
            "type": "parcoords"
           }
          ],
          "pie": [
           {
            "automargin": true,
            "type": "pie"
           }
          ],
          "scatter": [
           {
            "marker": {
             "colorbar": {
              "outlinewidth": 0,
              "ticks": ""
             }
            },
            "type": "scatter"
           }
          ],
          "scatter3d": [
           {
            "line": {
             "colorbar": {
              "outlinewidth": 0,
              "ticks": ""
             }
            },
            "marker": {
             "colorbar": {
              "outlinewidth": 0,
              "ticks": ""
             }
            },
            "type": "scatter3d"
           }
          ],
          "scattercarpet": [
           {
            "marker": {
             "colorbar": {
              "outlinewidth": 0,
              "ticks": ""
             }
            },
            "type": "scattercarpet"
           }
          ],
          "scattergeo": [
           {
            "marker": {
             "colorbar": {
              "outlinewidth": 0,
              "ticks": ""
             }
            },
            "type": "scattergeo"
           }
          ],
          "scattergl": [
           {
            "marker": {
             "colorbar": {
              "outlinewidth": 0,
              "ticks": ""
             }
            },
            "type": "scattergl"
           }
          ],
          "scattermapbox": [
           {
            "marker": {
             "colorbar": {
              "outlinewidth": 0,
              "ticks": ""
             }
            },
            "type": "scattermapbox"
           }
          ],
          "scatterpolar": [
           {
            "marker": {
             "colorbar": {
              "outlinewidth": 0,
              "ticks": ""
             }
            },
            "type": "scatterpolar"
           }
          ],
          "scatterpolargl": [
           {
            "marker": {
             "colorbar": {
              "outlinewidth": 0,
              "ticks": ""
             }
            },
            "type": "scatterpolargl"
           }
          ],
          "scatterternary": [
           {
            "marker": {
             "colorbar": {
              "outlinewidth": 0,
              "ticks": ""
             }
            },
            "type": "scatterternary"
           }
          ],
          "surface": [
           {
            "colorbar": {
             "outlinewidth": 0,
             "ticks": ""
            },
            "colorscale": [
             [
              0,
              "#0d0887"
             ],
             [
              0.1111111111111111,
              "#46039f"
             ],
             [
              0.2222222222222222,
              "#7201a8"
             ],
             [
              0.3333333333333333,
              "#9c179e"
             ],
             [
              0.4444444444444444,
              "#bd3786"
             ],
             [
              0.5555555555555556,
              "#d8576b"
             ],
             [
              0.6666666666666666,
              "#ed7953"
             ],
             [
              0.7777777777777778,
              "#fb9f3a"
             ],
             [
              0.8888888888888888,
              "#fdca26"
             ],
             [
              1,
              "#f0f921"
             ]
            ],
            "type": "surface"
           }
          ],
          "table": [
           {
            "cells": {
             "fill": {
              "color": "#EBF0F8"
             },
             "line": {
              "color": "white"
             }
            },
            "header": {
             "fill": {
              "color": "#C8D4E3"
             },
             "line": {
              "color": "white"
             }
            },
            "type": "table"
           }
          ]
         },
         "layout": {
          "annotationdefaults": {
           "arrowcolor": "#2a3f5f",
           "arrowhead": 0,
           "arrowwidth": 1
          },
          "coloraxis": {
           "colorbar": {
            "outlinewidth": 0,
            "ticks": ""
           }
          },
          "colorscale": {
           "diverging": [
            [
             0,
             "#8e0152"
            ],
            [
             0.1,
             "#c51b7d"
            ],
            [
             0.2,
             "#de77ae"
            ],
            [
             0.3,
             "#f1b6da"
            ],
            [
             0.4,
             "#fde0ef"
            ],
            [
             0.5,
             "#f7f7f7"
            ],
            [
             0.6,
             "#e6f5d0"
            ],
            [
             0.7,
             "#b8e186"
            ],
            [
             0.8,
             "#7fbc41"
            ],
            [
             0.9,
             "#4d9221"
            ],
            [
             1,
             "#276419"
            ]
           ],
           "sequential": [
            [
             0,
             "#0d0887"
            ],
            [
             0.1111111111111111,
             "#46039f"
            ],
            [
             0.2222222222222222,
             "#7201a8"
            ],
            [
             0.3333333333333333,
             "#9c179e"
            ],
            [
             0.4444444444444444,
             "#bd3786"
            ],
            [
             0.5555555555555556,
             "#d8576b"
            ],
            [
             0.6666666666666666,
             "#ed7953"
            ],
            [
             0.7777777777777778,
             "#fb9f3a"
            ],
            [
             0.8888888888888888,
             "#fdca26"
            ],
            [
             1,
             "#f0f921"
            ]
           ],
           "sequentialminus": [
            [
             0,
             "#0d0887"
            ],
            [
             0.1111111111111111,
             "#46039f"
            ],
            [
             0.2222222222222222,
             "#7201a8"
            ],
            [
             0.3333333333333333,
             "#9c179e"
            ],
            [
             0.4444444444444444,
             "#bd3786"
            ],
            [
             0.5555555555555556,
             "#d8576b"
            ],
            [
             0.6666666666666666,
             "#ed7953"
            ],
            [
             0.7777777777777778,
             "#fb9f3a"
            ],
            [
             0.8888888888888888,
             "#fdca26"
            ],
            [
             1,
             "#f0f921"
            ]
           ]
          },
          "colorway": [
           "#636efa",
           "#EF553B",
           "#00cc96",
           "#ab63fa",
           "#FFA15A",
           "#19d3f3",
           "#FF6692",
           "#B6E880",
           "#FF97FF",
           "#FECB52"
          ],
          "font": {
           "color": "#2a3f5f"
          },
          "geo": {
           "bgcolor": "white",
           "lakecolor": "white",
           "landcolor": "#E5ECF6",
           "showlakes": true,
           "showland": true,
           "subunitcolor": "white"
          },
          "hoverlabel": {
           "align": "left"
          },
          "hovermode": "closest",
          "mapbox": {
           "style": "light"
          },
          "paper_bgcolor": "white",
          "plot_bgcolor": "#E5ECF6",
          "polar": {
           "angularaxis": {
            "gridcolor": "white",
            "linecolor": "white",
            "ticks": ""
           },
           "bgcolor": "#E5ECF6",
           "radialaxis": {
            "gridcolor": "white",
            "linecolor": "white",
            "ticks": ""
           }
          },
          "scene": {
           "xaxis": {
            "backgroundcolor": "#E5ECF6",
            "gridcolor": "white",
            "gridwidth": 2,
            "linecolor": "white",
            "showbackground": true,
            "ticks": "",
            "zerolinecolor": "white"
           },
           "yaxis": {
            "backgroundcolor": "#E5ECF6",
            "gridcolor": "white",
            "gridwidth": 2,
            "linecolor": "white",
            "showbackground": true,
            "ticks": "",
            "zerolinecolor": "white"
           },
           "zaxis": {
            "backgroundcolor": "#E5ECF6",
            "gridcolor": "white",
            "gridwidth": 2,
            "linecolor": "white",
            "showbackground": true,
            "ticks": "",
            "zerolinecolor": "white"
           }
          },
          "shapedefaults": {
           "line": {
            "color": "#2a3f5f"
           }
          },
          "ternary": {
           "aaxis": {
            "gridcolor": "white",
            "linecolor": "white",
            "ticks": ""
           },
           "baxis": {
            "gridcolor": "white",
            "linecolor": "white",
            "ticks": ""
           },
           "bgcolor": "#E5ECF6",
           "caxis": {
            "gridcolor": "white",
            "linecolor": "white",
            "ticks": ""
           }
          },
          "title": {
           "x": 0.05
          },
          "xaxis": {
           "automargin": true,
           "gridcolor": "white",
           "linecolor": "white",
           "ticks": "",
           "title": {
            "standoff": 15
           },
           "zerolinecolor": "white",
           "zerolinewidth": 2
          },
          "yaxis": {
           "automargin": true,
           "gridcolor": "white",
           "linecolor": "white",
           "ticks": "",
           "title": {
            "standoff": 15
           },
           "zerolinecolor": "white",
           "zerolinewidth": 2
          }
         }
        }
       }
      },
      "image/png": "[encoded data removed]",
      "text/html": [
       "<div>                            <div id=\"9a430704-7ffc-46aa-ac74-cd5978b4b867\" class=\"plotly-graph-div\" style=\"height:525px; width:100%;\"></div>            <script type=\"text/javascript\">                require([\"plotly\"], function(Plotly) {                    window.PLOTLYENV=window.PLOTLYENV || {};                                    if (document.getElementById(\"9a430704-7ffc-46aa-ac74-cd5978b4b867\")) {                    Plotly.newPlot(                        \"9a430704-7ffc-46aa-ac74-cd5978b4b867\",                        [{\"dimensions\": [{\"label\": \"labels\", \"values\": [0, 0, 0, 0, 0, 0, 0, 0, 0, 0, 0, 0, 0, 0, 0, 0, 0, 0, 0, 1, 1, 1, 1, 1, 18, 18, 18, 18, 18, 18, 10, 10, 10, 10, 10, 10, 10, 10, 10, 10, 10, 10, 10, 10, 10, 10, 10, 10, 10, 10, 10, 10, 10, 10, 10, 9, 9, 9, 9, 9, 9, 9, 9, 9, 9, 9, 9, 9, 9, 9, 9, 9, 9, 9, 9, 14, 14, 14, 14, 14, 14, 16, 16, 30, 30, 30, 30, 30, 30, 29, 29, 29, 29, 29, 29, 17, 17, 17, 17, 17, 17, 17, 17, 17, 2, 2, 2, 2, 2, 2, 2, 2, 2, 2, 2, 2, 2, 2, 2, 2, 2, 2, 2, 2, 2, 2, 2, 2, 4, 4, 4, 4, 4, 4, 4, 23, 23, 23, 23, 23, 23, 23, 23, 50, 50, 50, 51, 51, 51, 51, 51, 53, 53, 53, 53, 53, 22, 22, 22, 22, 22, 22, 22, 22, 22, 22, 22, 22, 44, 44, 44, 44, 44, 44, 44, 44, 44, 44, 44, 44, 44, 44, 44, 44, 44, 44, 44, 44, 44, 44, 44, 44, 44, 44, 44, 44, 44, 44, 44, 44, 44, 44, 44, 44, 44, 44, 44, 44, 44, 44, 44, 44, 44, 44, 44, 44, 44, 44, 44, 44, 44, 44, 44, 44, 44, 44, 44, 44, 44, 45, 45, 45, 45, 45, 45, 45, 45, 45, 45]}, {\"label\": \"created_at_date\", \"values\": [\"9/14/20\", \"9/14/20\", \"9/14/20\", \"9/13/20\", \"9/13/20\", \"9/13/20\", \"9/12/20\", \"9/12/20\", \"9/12/20\", \"9/12/20\", \"9/11/20\", \"9/11/20\", \"9/11/20\", \"9/10/20\", \"9/10/20\", \"9/10/20\", \"9/10/20\", \"9/10/20\", \"9/9/20\", \"9/14/20\", \"9/13/20\", \"9/12/20\", \"9/11/20\", \"9/10/20\", \"9/14/20\", \"9/14/20\", \"9/11/20\", \"9/10/20\", \"9/10/20\", \"9/10/20\", \"9/14/20\", \"9/14/20\", \"9/14/20\", \"9/13/20\", \"9/13/20\", \"9/13/20\", \"9/13/20\", \"9/13/20\", \"9/13/20\", \"9/12/20\", \"9/12/20\", \"9/12/20\", \"9/12/20\", \"9/11/20\", \"9/11/20\", \"9/9/20\", \"9/11/20\", \"9/11/20\", \"9/10/20\", \"9/10/20\", \"9/10/20\", \"9/10/20\", \"9/10/20\", \"9/10/20\", \"9/9/20\", \"9/14/20\", \"9/13/20\", \"9/13/20\", \"9/13/20\", \"9/13/20\", \"9/12/20\", \"9/12/20\", \"9/12/20\", \"9/12/20\", \"9/12/20\", \"9/11/20\", \"9/11/20\", \"9/11/20\", \"9/10/20\", \"9/10/20\", \"9/10/20\", \"9/10/20\", \"9/10/20\", \"9/9/20\", \"9/9/20\", \"9/14/20\", \"9/14/20\", \"9/11/20\", \"9/10/20\", \"9/10/20\", \"9/10/20\", \"9/14/20\", \"9/11/20\", \"9/12/20\", \"9/12/20\", \"9/11/20\", \"9/10/20\", \"9/10/20\", \"9/9/20\", \"9/13/20\", \"9/13/20\", \"9/13/20\", \"9/12/20\", \"9/11/20\", \"9/11/20\", \"9/10/20\", \"9/14/20\", \"9/13/20\", \"9/13/20\", \"9/12/20\", \"9/11/20\", \"9/10/20\", \"9/9/20\", \"9/9/20\", \"9/14/20\", \"9/14/20\", \"9/14/20\", \"9/14/20\", \"9/14/20\", \"9/13/20\", \"9/13/20\", \"9/12/20\", \"9/12/20\", \"9/12/20\", \"9/12/20\", \"9/11/20\", \"9/11/20\", \"9/11/20\", \"9/11/20\", \"9/11/20\", \"9/10/20\", \"9/10/20\", \"9/10/20\", \"9/10/20\", \"9/10/20\", \"9/10/20\", \"9/9/20\", \"9/9/20\", \"9/10/20\", \"9/9/20\", \"9/13/20\", \"9/10/20\", \"9/9/20\", \"9/9/20\", \"9/11/20\", \"9/13/20\", \"9/13/20\", \"9/12/20\", \"9/11/20\", \"9/11/20\", \"9/10/20\", \"9/9/20\", \"9/14/20\", \"9/14/20\", \"9/11/20\", \"9/14/20\", \"9/11/20\", \"9/13/20\", \"9/12/20\", \"9/13/20\", \"9/13/20\", \"9/14/20\", \"9/13/20\", \"9/13/20\", \"9/14/20\", \"9/10/20\", \"9/13/20\", \"9/13/20\", \"9/12/20\", \"9/11/20\", \"9/11/20\", \"9/11/20\", \"9/10/20\", \"9/10/20\", \"9/10/20\", \"9/10/20\", \"9/10/20\", \"9/14/20\", \"9/12/20\", \"9/13/20\", \"9/14/20\", \"9/14/20\", \"9/14/20\", \"9/14/20\", \"9/14/20\", \"9/14/20\", \"9/14/20\", \"9/13/20\", \"9/13/20\", \"9/13/20\", \"9/13/20\", \"9/13/20\", \"9/13/20\", \"9/13/20\", \"9/13/20\", \"9/13/20\", \"9/12/20\", \"9/12/20\", \"9/12/20\", \"9/12/20\", \"9/12/20\", \"9/12/20\", \"9/12/20\", \"9/12/20\", \"9/12/20\", \"9/11/20\", \"9/11/20\", \"9/11/20\", \"9/11/20\", \"9/11/20\", \"9/11/20\", \"9/11/20\", \"9/11/20\", \"9/11/20\", \"9/11/20\", \"9/11/20\", \"9/10/20\", \"9/10/20\", \"9/10/20\", \"9/10/20\", \"9/10/20\", \"9/10/20\", \"9/10/20\", \"9/10/20\", \"9/10/20\", \"9/10/20\", \"9/10/20\", \"9/10/20\", \"9/10/20\", \"9/10/20\", \"9/10/20\", \"9/9/20\", \"9/9/20\", \"9/9/20\", \"9/9/20\", \"9/9/20\", \"9/9/20\", \"9/9/20\", \"9/9/20\", \"9/10/20\", \"9/9/20\", \"9/10/20\", \"9/12/20\", \"9/11/20\", \"9/11/20\", \"9/12/20\", \"9/11/20\", \"9/13/20\", \"9/14/20\"]}], \"domain\": {\"x\": [0.0, 1.0], \"y\": [0.0, 1.0]}, \"name\": \"\", \"type\": \"parcats\"}],                        {\"legend\": {\"tracegroupgap\": 0}, \"margin\": {\"t\": 60}, \"template\": {\"data\": {\"bar\": [{\"error_x\": {\"color\": \"#2a3f5f\"}, \"error_y\": {\"color\": \"#2a3f5f\"}, \"marker\": {\"line\": {\"color\": \"#E5ECF6\", \"width\": 0.5}}, \"type\": \"bar\"}], \"barpolar\": [{\"marker\": {\"line\": {\"color\": \"#E5ECF6\", \"width\": 0.5}}, \"type\": \"barpolar\"}], \"carpet\": [{\"aaxis\": {\"endlinecolor\": \"#2a3f5f\", \"gridcolor\": \"white\", \"linecolor\": \"white\", \"minorgridcolor\": \"white\", \"startlinecolor\": \"#2a3f5f\"}, \"baxis\": {\"endlinecolor\": \"#2a3f5f\", \"gridcolor\": \"white\", \"linecolor\": \"white\", \"minorgridcolor\": \"white\", \"startlinecolor\": \"#2a3f5f\"}, \"type\": \"carpet\"}], \"choropleth\": [{\"colorbar\": {\"outlinewidth\": 0, \"ticks\": \"\"}, \"type\": \"choropleth\"}], \"contour\": [{\"colorbar\": {\"outlinewidth\": 0, \"ticks\": \"\"}, \"colorscale\": [[0.0, \"#0d0887\"], [0.1111111111111111, \"#46039f\"], [0.2222222222222222, \"#7201a8\"], [0.3333333333333333, \"#9c179e\"], [0.4444444444444444, \"#bd3786\"], [0.5555555555555556, \"#d8576b\"], [0.6666666666666666, \"#ed7953\"], [0.7777777777777778, \"#fb9f3a\"], [0.8888888888888888, \"#fdca26\"], [1.0, \"#f0f921\"]], \"type\": \"contour\"}], \"contourcarpet\": [{\"colorbar\": {\"outlinewidth\": 0, \"ticks\": \"\"}, \"type\": \"contourcarpet\"}], \"heatmap\": [{\"colorbar\": {\"outlinewidth\": 0, \"ticks\": \"\"}, \"colorscale\": [[0.0, \"#0d0887\"], [0.1111111111111111, \"#46039f\"], [0.2222222222222222, \"#7201a8\"], [0.3333333333333333, \"#9c179e\"], [0.4444444444444444, \"#bd3786\"], [0.5555555555555556, \"#d8576b\"], [0.6666666666666666, \"#ed7953\"], [0.7777777777777778, \"#fb9f3a\"], [0.8888888888888888, \"#fdca26\"], [1.0, \"#f0f921\"]], \"type\": \"heatmap\"}], \"heatmapgl\": [{\"colorbar\": {\"outlinewidth\": 0, \"ticks\": \"\"}, \"colorscale\": [[0.0, \"#0d0887\"], [0.1111111111111111, \"#46039f\"], [0.2222222222222222, \"#7201a8\"], [0.3333333333333333, \"#9c179e\"], [0.4444444444444444, \"#bd3786\"], [0.5555555555555556, \"#d8576b\"], [0.6666666666666666, \"#ed7953\"], [0.7777777777777778, \"#fb9f3a\"], [0.8888888888888888, \"#fdca26\"], [1.0, \"#f0f921\"]], \"type\": \"heatmapgl\"}], \"histogram\": [{\"marker\": {\"colorbar\": {\"outlinewidth\": 0, \"ticks\": \"\"}}, \"type\": \"histogram\"}], \"histogram2d\": [{\"colorbar\": {\"outlinewidth\": 0, \"ticks\": \"\"}, \"colorscale\": [[0.0, \"#0d0887\"], [0.1111111111111111, \"#46039f\"], [0.2222222222222222, \"#7201a8\"], [0.3333333333333333, \"#9c179e\"], [0.4444444444444444, \"#bd3786\"], [0.5555555555555556, \"#d8576b\"], [0.6666666666666666, \"#ed7953\"], [0.7777777777777778, \"#fb9f3a\"], [0.8888888888888888, \"#fdca26\"], [1.0, \"#f0f921\"]], \"type\": \"histogram2d\"}], \"histogram2dcontour\": [{\"colorbar\": {\"outlinewidth\": 0, \"ticks\": \"\"}, \"colorscale\": [[0.0, \"#0d0887\"], [0.1111111111111111, \"#46039f\"], [0.2222222222222222, \"#7201a8\"], [0.3333333333333333, \"#9c179e\"], [0.4444444444444444, \"#bd3786\"], [0.5555555555555556, \"#d8576b\"], [0.6666666666666666, \"#ed7953\"], [0.7777777777777778, \"#fb9f3a\"], [0.8888888888888888, \"#fdca26\"], [1.0, \"#f0f921\"]], \"type\": \"histogram2dcontour\"}], \"mesh3d\": [{\"colorbar\": {\"outlinewidth\": 0, \"ticks\": \"\"}, \"type\": \"mesh3d\"}], \"parcoords\": [{\"line\": {\"colorbar\": {\"outlinewidth\": 0, \"ticks\": \"\"}}, \"type\": \"parcoords\"}], \"pie\": [{\"automargin\": true, \"type\": \"pie\"}], \"scatter\": [{\"marker\": {\"colorbar\": {\"outlinewidth\": 0, \"ticks\": \"\"}}, \"type\": \"scatter\"}], \"scatter3d\": [{\"line\": {\"colorbar\": {\"outlinewidth\": 0, \"ticks\": \"\"}}, \"marker\": {\"colorbar\": {\"outlinewidth\": 0, \"ticks\": \"\"}}, \"type\": \"scatter3d\"}], \"scattercarpet\": [{\"marker\": {\"colorbar\": {\"outlinewidth\": 0, \"ticks\": \"\"}}, \"type\": \"scattercarpet\"}], \"scattergeo\": [{\"marker\": {\"colorbar\": {\"outlinewidth\": 0, \"ticks\": \"\"}}, \"type\": \"scattergeo\"}], \"scattergl\": [{\"marker\": {\"colorbar\": {\"outlinewidth\": 0, \"ticks\": \"\"}}, \"type\": \"scattergl\"}], \"scattermapbox\": [{\"marker\": {\"colorbar\": {\"outlinewidth\": 0, \"ticks\": \"\"}}, \"type\": \"scattermapbox\"}], \"scatterpolar\": [{\"marker\": {\"colorbar\": {\"outlinewidth\": 0, \"ticks\": \"\"}}, \"type\": \"scatterpolar\"}], \"scatterpolargl\": [{\"marker\": {\"colorbar\": {\"outlinewidth\": 0, \"ticks\": \"\"}}, \"type\": \"scatterpolargl\"}], \"scatterternary\": [{\"marker\": {\"colorbar\": {\"outlinewidth\": 0, \"ticks\": \"\"}}, \"type\": \"scatterternary\"}], \"surface\": [{\"colorbar\": {\"outlinewidth\": 0, \"ticks\": \"\"}, \"colorscale\": [[0.0, \"#0d0887\"], [0.1111111111111111, \"#46039f\"], [0.2222222222222222, \"#7201a8\"], [0.3333333333333333, \"#9c179e\"], [0.4444444444444444, \"#bd3786\"], [0.5555555555555556, \"#d8576b\"], [0.6666666666666666, \"#ed7953\"], [0.7777777777777778, \"#fb9f3a\"], [0.8888888888888888, \"#fdca26\"], [1.0, \"#f0f921\"]], \"type\": \"surface\"}], \"table\": [{\"cells\": {\"fill\": {\"color\": \"#EBF0F8\"}, \"line\": {\"color\": \"white\"}}, \"header\": {\"fill\": {\"color\": \"#C8D4E3\"}, \"line\": {\"color\": \"white\"}}, \"type\": \"table\"}]}, \"layout\": {\"annotationdefaults\": {\"arrowcolor\": \"#2a3f5f\", \"arrowhead\": 0, \"arrowwidth\": 1}, \"coloraxis\": {\"colorbar\": {\"outlinewidth\": 0, \"ticks\": \"\"}}, \"colorscale\": {\"diverging\": [[0, \"#8e0152\"], [0.1, \"#c51b7d\"], [0.2, \"#de77ae\"], [0.3, \"#f1b6da\"], [0.4, \"#fde0ef\"], [0.5, \"#f7f7f7\"], [0.6, \"#e6f5d0\"], [0.7, \"#b8e186\"], [0.8, \"#7fbc41\"], [0.9, \"#4d9221\"], [1, \"#276419\"]], \"sequential\": [[0.0, \"#0d0887\"], [0.1111111111111111, \"#46039f\"], [0.2222222222222222, \"#7201a8\"], [0.3333333333333333, \"#9c179e\"], [0.4444444444444444, \"#bd3786\"], [0.5555555555555556, \"#d8576b\"], [0.6666666666666666, \"#ed7953\"], [0.7777777777777778, \"#fb9f3a\"], [0.8888888888888888, \"#fdca26\"], [1.0, \"#f0f921\"]], \"sequentialminus\": [[0.0, \"#0d0887\"], [0.1111111111111111, \"#46039f\"], [0.2222222222222222, \"#7201a8\"], [0.3333333333333333, \"#9c179e\"], [0.4444444444444444, \"#bd3786\"], [0.5555555555555556, \"#d8576b\"], [0.6666666666666666, \"#ed7953\"], [0.7777777777777778, \"#fb9f3a\"], [0.8888888888888888, \"#fdca26\"], [1.0, \"#f0f921\"]]}, \"colorway\": [\"#636efa\", \"#EF553B\", \"#00cc96\", \"#ab63fa\", \"#FFA15A\", \"#19d3f3\", \"#FF6692\", \"#B6E880\", \"#FF97FF\", \"#FECB52\"], \"font\": {\"color\": \"#2a3f5f\"}, \"geo\": {\"bgcolor\": \"white\", \"lakecolor\": \"white\", \"landcolor\": \"#E5ECF6\", \"showlakes\": true, \"showland\": true, \"subunitcolor\": \"white\"}, \"hoverlabel\": {\"align\": \"left\"}, \"hovermode\": \"closest\", \"mapbox\": {\"style\": \"light\"}, \"paper_bgcolor\": \"white\", \"plot_bgcolor\": \"#E5ECF6\", \"polar\": {\"angularaxis\": {\"gridcolor\": \"white\", \"linecolor\": \"white\", \"ticks\": \"\"}, \"bgcolor\": \"#E5ECF6\", \"radialaxis\": {\"gridcolor\": \"white\", \"linecolor\": \"white\", \"ticks\": \"\"}}, \"scene\": {\"xaxis\": {\"backgroundcolor\": \"#E5ECF6\", \"gridcolor\": \"white\", \"gridwidth\": 2, \"linecolor\": \"white\", \"showbackground\": true, \"ticks\": \"\", \"zerolinecolor\": \"white\"}, \"yaxis\": {\"backgroundcolor\": \"#E5ECF6\", \"gridcolor\": \"white\", \"gridwidth\": 2, \"linecolor\": \"white\", \"showbackground\": true, \"ticks\": \"\", \"zerolinecolor\": \"white\"}, \"zaxis\": {\"backgroundcolor\": \"#E5ECF6\", \"gridcolor\": \"white\", \"gridwidth\": 2, \"linecolor\": \"white\", \"showbackground\": true, \"ticks\": \"\", \"zerolinecolor\": \"white\"}}, \"shapedefaults\": {\"line\": {\"color\": \"#2a3f5f\"}}, \"ternary\": {\"aaxis\": {\"gridcolor\": \"white\", \"linecolor\": \"white\", \"ticks\": \"\"}, \"baxis\": {\"gridcolor\": \"white\", \"linecolor\": \"white\", \"ticks\": \"\"}, \"bgcolor\": \"#E5ECF6\", \"caxis\": {\"gridcolor\": \"white\", \"linecolor\": \"white\", \"ticks\": \"\"}}, \"title\": {\"x\": 0.05}, \"xaxis\": {\"automargin\": true, \"gridcolor\": \"white\", \"linecolor\": \"white\", \"ticks\": \"\", \"title\": {\"standoff\": 15}, \"zerolinecolor\": \"white\", \"zerolinewidth\": 2}, \"yaxis\": {\"automargin\": true, \"gridcolor\": \"white\", \"linecolor\": \"white\", \"ticks\": \"\", \"title\": {\"standoff\": 15}, \"zerolinecolor\": \"white\", \"zerolinewidth\": 2}}}},                        {\"responsive\": true}                    ).then(function(){\n",
       "                            \n",
       "var gd = document.getElementById('9a430704-7ffc-46aa-ac74-cd5978b4b867');\n",
       "var x = new MutationObserver(function (mutations, observer) {{\n",
       "        var display = window.getComputedStyle(gd).display;\n",
       "        if (!display || display === 'none') {{\n",
       "            console.log([gd, 'removed!']);\n",
       "            Plotly.purge(gd);\n",
       "            observer.disconnect();\n",
       "        }}\n",
       "}});\n",
       "\n",
       "// Listen for the removal of the full notebook cells\n",
       "var notebookContainer = gd.closest('#notebook-container');\n",
       "if (notebookContainer) {{\n",
       "    x.observe(notebookContainer, {childList: true});\n",
       "}}\n",
       "\n",
       "// Listen for the clearing of the current output cell\n",
       "var outputEl = gd.closest('.output');\n",
       "if (outputEl) {{\n",
       "    x.observe(outputEl, {childList: true});\n",
       "}}\n",
       "\n",
       "                        })                };                });            </script>        </div>"
      ]
     },
     "metadata": {},
     "output_type": "display_data"
    }
   ],
   "source": [
    "df\n",
    "fig = px.parallel_categories(X,labels=\"created_at_date\", color_continuous_scale=px.colors.sequential.Inferno)\n",
    "fig.show()\n"
   ]
  },
  {
   "cell_type": "code",
   "execution_count": 134,
   "metadata": {},
   "outputs": [
    {
     "data": {
      "application/vnd.plotly.v1+json": {
       "config": {
        "plotlyServerURL": "https://plot.ly"
       },
       "data": [
        {
         "alignmentgroup": "True",
         "hovertemplate": "labels=0<br>created_at_date=%{x}<br>value=%{y}<extra></extra>",
         "legendgroup": "0",
         "marker": {
          "color": "#636efa"
         },
         "name": "0",
         "offsetgroup": "0",
         "orientation": "v",
         "showlegend": true,
         "textposition": "auto",
         "type": "bar",
         "x": [
          "9/10/20",
          "9/11/20",
          "9/12/20",
          "9/13/20",
          "9/14/20",
          "9/9/20"
         ],
         "xaxis": "x",
         "y": [
          5,
          3,
          4,
          3,
          3,
          1
         ],
         "yaxis": "y"
        },
        {
         "alignmentgroup": "True",
         "hovertemplate": "labels=1<br>created_at_date=%{x}<br>value=%{y}<extra></extra>",
         "legendgroup": "1",
         "marker": {
          "color": "#EF553B"
         },
         "name": "1",
         "offsetgroup": "1",
         "orientation": "v",
         "showlegend": true,
         "textposition": "auto",
         "type": "bar",
         "x": [
          "9/10/20",
          "9/11/20",
          "9/12/20",
          "9/13/20",
          "9/14/20",
          "9/9/20"
         ],
         "xaxis": "x",
         "y": [
          1,
          1,
          1,
          1,
          1,
          null
         ],
         "yaxis": "y"
        },
        {
         "alignmentgroup": "True",
         "hovertemplate": "labels=2<br>created_at_date=%{x}<br>value=%{y}<extra></extra>",
         "legendgroup": "2",
         "marker": {
          "color": "#00cc96"
         },
         "name": "2",
         "offsetgroup": "2",
         "orientation": "v",
         "showlegend": true,
         "textposition": "auto",
         "type": "bar",
         "x": [
          "9/10/20",
          "9/11/20",
          "9/12/20",
          "9/13/20",
          "9/14/20",
          "9/9/20"
         ],
         "xaxis": "x",
         "y": [
          6,
          5,
          4,
          2,
          5,
          2
         ],
         "yaxis": "y"
        },
        {
         "alignmentgroup": "True",
         "hovertemplate": "labels=4<br>created_at_date=%{x}<br>value=%{y}<extra></extra>",
         "legendgroup": "4",
         "marker": {
          "color": "#ab63fa"
         },
         "name": "4",
         "offsetgroup": "4",
         "orientation": "v",
         "showlegend": true,
         "textposition": "auto",
         "type": "bar",
         "x": [
          "9/10/20",
          "9/11/20",
          "9/12/20",
          "9/13/20",
          "9/14/20",
          "9/9/20"
         ],
         "xaxis": "x",
         "y": [
          2,
          1,
          null,
          1,
          null,
          3
         ],
         "yaxis": "y"
        },
        {
         "alignmentgroup": "True",
         "hovertemplate": "labels=9<br>created_at_date=%{x}<br>value=%{y}<extra></extra>",
         "legendgroup": "9",
         "marker": {
          "color": "#FFA15A"
         },
         "name": "9",
         "offsetgroup": "9",
         "orientation": "v",
         "showlegend": true,
         "textposition": "auto",
         "type": "bar",
         "x": [
          "9/10/20",
          "9/11/20",
          "9/12/20",
          "9/13/20",
          "9/14/20",
          "9/9/20"
         ],
         "xaxis": "x",
         "y": [
          5,
          3,
          5,
          4,
          1,
          2
         ],
         "yaxis": "y"
        },
        {
         "alignmentgroup": "True",
         "hovertemplate": "labels=10<br>created_at_date=%{x}<br>value=%{y}<extra></extra>",
         "legendgroup": "10",
         "marker": {
          "color": "#19d3f3"
         },
         "name": "10",
         "offsetgroup": "10",
         "orientation": "v",
         "showlegend": true,
         "textposition": "auto",
         "type": "bar",
         "x": [
          "9/10/20",
          "9/11/20",
          "9/12/20",
          "9/13/20",
          "9/14/20",
          "9/9/20"
         ],
         "xaxis": "x",
         "y": [
          6,
          4,
          4,
          6,
          3,
          2
         ],
         "yaxis": "y"
        },
        {
         "alignmentgroup": "True",
         "hovertemplate": "labels=14<br>created_at_date=%{x}<br>value=%{y}<extra></extra>",
         "legendgroup": "14",
         "marker": {
          "color": "#FF6692"
         },
         "name": "14",
         "offsetgroup": "14",
         "orientation": "v",
         "showlegend": true,
         "textposition": "auto",
         "type": "bar",
         "x": [
          "9/10/20",
          "9/11/20",
          "9/12/20",
          "9/13/20",
          "9/14/20",
          "9/9/20"
         ],
         "xaxis": "x",
         "y": [
          3,
          1,
          null,
          null,
          2,
          null
         ],
         "yaxis": "y"
        },
        {
         "alignmentgroup": "True",
         "hovertemplate": "labels=16<br>created_at_date=%{x}<br>value=%{y}<extra></extra>",
         "legendgroup": "16",
         "marker": {
          "color": "#B6E880"
         },
         "name": "16",
         "offsetgroup": "16",
         "orientation": "v",
         "showlegend": true,
         "textposition": "auto",
         "type": "bar",
         "x": [
          "9/10/20",
          "9/11/20",
          "9/12/20",
          "9/13/20",
          "9/14/20",
          "9/9/20"
         ],
         "xaxis": "x",
         "y": [
          null,
          1,
          null,
          null,
          1,
          null
         ],
         "yaxis": "y"
        },
        {
         "alignmentgroup": "True",
         "hovertemplate": "labels=17<br>created_at_date=%{x}<br>value=%{y}<extra></extra>",
         "legendgroup": "17",
         "marker": {
          "color": "#FF97FF"
         },
         "name": "17",
         "offsetgroup": "17",
         "orientation": "v",
         "showlegend": true,
         "textposition": "auto",
         "type": "bar",
         "x": [
          "9/10/20",
          "9/11/20",
          "9/12/20",
          "9/13/20",
          "9/14/20",
          "9/9/20"
         ],
         "xaxis": "x",
         "y": [
          2,
          1,
          1,
          2,
          1,
          2
         ],
         "yaxis": "y"
        },
        {
         "alignmentgroup": "True",
         "hovertemplate": "labels=18<br>created_at_date=%{x}<br>value=%{y}<extra></extra>",
         "legendgroup": "18",
         "marker": {
          "color": "#FECB52"
         },
         "name": "18",
         "offsetgroup": "18",
         "orientation": "v",
         "showlegend": true,
         "textposition": "auto",
         "type": "bar",
         "x": [
          "9/10/20",
          "9/11/20",
          "9/12/20",
          "9/13/20",
          "9/14/20",
          "9/9/20"
         ],
         "xaxis": "x",
         "y": [
          3,
          1,
          null,
          null,
          2,
          null
         ],
         "yaxis": "y"
        },
        {
         "alignmentgroup": "True",
         "hovertemplate": "labels=22<br>created_at_date=%{x}<br>value=%{y}<extra></extra>",
         "legendgroup": "22",
         "marker": {
          "color": "#636efa"
         },
         "name": "22",
         "offsetgroup": "22",
         "orientation": "v",
         "showlegend": true,
         "textposition": "auto",
         "type": "bar",
         "x": [
          "9/10/20",
          "9/11/20",
          "9/12/20",
          "9/13/20",
          "9/14/20",
          "9/9/20"
         ],
         "xaxis": "x",
         "y": [
          5,
          3,
          1,
          2,
          1,
          null
         ],
         "yaxis": "y"
        },
        {
         "alignmentgroup": "True",
         "hovertemplate": "labels=23<br>created_at_date=%{x}<br>value=%{y}<extra></extra>",
         "legendgroup": "23",
         "marker": {
          "color": "#EF553B"
         },
         "name": "23",
         "offsetgroup": "23",
         "orientation": "v",
         "showlegend": true,
         "textposition": "auto",
         "type": "bar",
         "x": [
          "9/10/20",
          "9/11/20",
          "9/12/20",
          "9/13/20",
          "9/14/20",
          "9/9/20"
         ],
         "xaxis": "x",
         "y": [
          1,
          2,
          1,
          2,
          1,
          1
         ],
         "yaxis": "y"
        },
        {
         "alignmentgroup": "True",
         "hovertemplate": "labels=29<br>created_at_date=%{x}<br>value=%{y}<extra></extra>",
         "legendgroup": "29",
         "marker": {
          "color": "#00cc96"
         },
         "name": "29",
         "offsetgroup": "29",
         "orientation": "v",
         "showlegend": true,
         "textposition": "auto",
         "type": "bar",
         "x": [
          "9/10/20",
          "9/11/20",
          "9/12/20",
          "9/13/20",
          "9/14/20",
          "9/9/20"
         ],
         "xaxis": "x",
         "y": [
          null,
          2,
          1,
          3,
          null,
          null
         ],
         "yaxis": "y"
        },
        {
         "alignmentgroup": "True",
         "hovertemplate": "labels=30<br>created_at_date=%{x}<br>value=%{y}<extra></extra>",
         "legendgroup": "30",
         "marker": {
          "color": "#ab63fa"
         },
         "name": "30",
         "offsetgroup": "30",
         "orientation": "v",
         "showlegend": true,
         "textposition": "auto",
         "type": "bar",
         "x": [
          "9/10/20",
          "9/11/20",
          "9/12/20",
          "9/13/20",
          "9/14/20",
          "9/9/20"
         ],
         "xaxis": "x",
         "y": [
          2,
          1,
          2,
          null,
          null,
          1
         ],
         "yaxis": "y"
        },
        {
         "alignmentgroup": "True",
         "hovertemplate": "labels=44<br>created_at_date=%{x}<br>value=%{y}<extra></extra>",
         "legendgroup": "44",
         "marker": {
          "color": "#FFA15A"
         },
         "name": "44",
         "offsetgroup": "44",
         "orientation": "v",
         "showlegend": true,
         "textposition": "auto",
         "type": "bar",
         "x": [
          "9/10/20",
          "9/11/20",
          "9/12/20",
          "9/13/20",
          "9/14/20",
          "9/9/20"
         ],
         "xaxis": "x",
         "y": [
          15,
          11,
          10,
          10,
          7,
          8
         ],
         "yaxis": "y"
        },
        {
         "alignmentgroup": "True",
         "hovertemplate": "labels=45<br>created_at_date=%{x}<br>value=%{y}<extra></extra>",
         "legendgroup": "45",
         "marker": {
          "color": "#19d3f3"
         },
         "name": "45",
         "offsetgroup": "45",
         "orientation": "v",
         "showlegend": true,
         "textposition": "auto",
         "type": "bar",
         "x": [
          "9/10/20",
          "9/11/20",
          "9/12/20",
          "9/13/20",
          "9/14/20",
          "9/9/20"
         ],
         "xaxis": "x",
         "y": [
          2,
          3,
          2,
          1,
          1,
          1
         ],
         "yaxis": "y"
        },
        {
         "alignmentgroup": "True",
         "hovertemplate": "labels=50<br>created_at_date=%{x}<br>value=%{y}<extra></extra>",
         "legendgroup": "50",
         "marker": {
          "color": "#FF6692"
         },
         "name": "50",
         "offsetgroup": "50",
         "orientation": "v",
         "showlegend": true,
         "textposition": "auto",
         "type": "bar",
         "x": [
          "9/10/20",
          "9/11/20",
          "9/12/20",
          "9/13/20",
          "9/14/20",
          "9/9/20"
         ],
         "xaxis": "x",
         "y": [
          null,
          1,
          null,
          null,
          2,
          null
         ],
         "yaxis": "y"
        },
        {
         "alignmentgroup": "True",
         "hovertemplate": "labels=51<br>created_at_date=%{x}<br>value=%{y}<extra></extra>",
         "legendgroup": "51",
         "marker": {
          "color": "#B6E880"
         },
         "name": "51",
         "offsetgroup": "51",
         "orientation": "v",
         "showlegend": true,
         "textposition": "auto",
         "type": "bar",
         "x": [
          "9/10/20",
          "9/11/20",
          "9/12/20",
          "9/13/20",
          "9/14/20",
          "9/9/20"
         ],
         "xaxis": "x",
         "y": [
          null,
          1,
          1,
          3,
          null,
          null
         ],
         "yaxis": "y"
        },
        {
         "alignmentgroup": "True",
         "hovertemplate": "labels=53<br>created_at_date=%{x}<br>value=%{y}<extra></extra>",
         "legendgroup": "53",
         "marker": {
          "color": "#FF97FF"
         },
         "name": "53",
         "offsetgroup": "53",
         "orientation": "v",
         "showlegend": true,
         "textposition": "auto",
         "type": "bar",
         "x": [
          "9/10/20",
          "9/11/20",
          "9/12/20",
          "9/13/20",
          "9/14/20",
          "9/9/20"
         ],
         "xaxis": "x",
         "y": [
          1,
          null,
          null,
          2,
          2,
          null
         ],
         "yaxis": "y"
        }
       ],
       "layout": {
        "autosize": true,
        "barmode": "relative",
        "legend": {
         "title": {
          "text": "labels"
         },
         "tracegroupgap": 0
        },
        "margin": {
         "t": 60
        },
        "template": {
         "data": {
          "bar": [
           {
            "error_x": {
             "color": "#2a3f5f"
            },
            "error_y": {
             "color": "#2a3f5f"
            },
            "marker": {
             "line": {
              "color": "#E5ECF6",
              "width": 0.5
             }
            },
            "type": "bar"
           }
          ],
          "barpolar": [
           {
            "marker": {
             "line": {
              "color": "#E5ECF6",
              "width": 0.5
             }
            },
            "type": "barpolar"
           }
          ],
          "carpet": [
           {
            "aaxis": {
             "endlinecolor": "#2a3f5f",
             "gridcolor": "white",
             "linecolor": "white",
             "minorgridcolor": "white",
             "startlinecolor": "#2a3f5f"
            },
            "baxis": {
             "endlinecolor": "#2a3f5f",
             "gridcolor": "white",
             "linecolor": "white",
             "minorgridcolor": "white",
             "startlinecolor": "#2a3f5f"
            },
            "type": "carpet"
           }
          ],
          "choropleth": [
           {
            "colorbar": {
             "outlinewidth": 0,
             "ticks": ""
            },
            "type": "choropleth"
           }
          ],
          "contour": [
           {
            "colorbar": {
             "outlinewidth": 0,
             "ticks": ""
            },
            "colorscale": [
             [
              0,
              "#0d0887"
             ],
             [
              0.1111111111111111,
              "#46039f"
             ],
             [
              0.2222222222222222,
              "#7201a8"
             ],
             [
              0.3333333333333333,
              "#9c179e"
             ],
             [
              0.4444444444444444,
              "#bd3786"
             ],
             [
              0.5555555555555556,
              "#d8576b"
             ],
             [
              0.6666666666666666,
              "#ed7953"
             ],
             [
              0.7777777777777778,
              "#fb9f3a"
             ],
             [
              0.8888888888888888,
              "#fdca26"
             ],
             [
              1,
              "#f0f921"
             ]
            ],
            "type": "contour"
           }
          ],
          "contourcarpet": [
           {
            "colorbar": {
             "outlinewidth": 0,
             "ticks": ""
            },
            "type": "contourcarpet"
           }
          ],
          "heatmap": [
           {
            "colorbar": {
             "outlinewidth": 0,
             "ticks": ""
            },
            "colorscale": [
             [
              0,
              "#0d0887"
             ],
             [
              0.1111111111111111,
              "#46039f"
             ],
             [
              0.2222222222222222,
              "#7201a8"
             ],
             [
              0.3333333333333333,
              "#9c179e"
             ],
             [
              0.4444444444444444,
              "#bd3786"
             ],
             [
              0.5555555555555556,
              "#d8576b"
             ],
             [
              0.6666666666666666,
              "#ed7953"
             ],
             [
              0.7777777777777778,
              "#fb9f3a"
             ],
             [
              0.8888888888888888,
              "#fdca26"
             ],
             [
              1,
              "#f0f921"
             ]
            ],
            "type": "heatmap"
           }
          ],
          "heatmapgl": [
           {
            "colorbar": {
             "outlinewidth": 0,
             "ticks": ""
            },
            "colorscale": [
             [
              0,
              "#0d0887"
             ],
             [
              0.1111111111111111,
              "#46039f"
             ],
             [
              0.2222222222222222,
              "#7201a8"
             ],
             [
              0.3333333333333333,
              "#9c179e"
             ],
             [
              0.4444444444444444,
              "#bd3786"
             ],
             [
              0.5555555555555556,
              "#d8576b"
             ],
             [
              0.6666666666666666,
              "#ed7953"
             ],
             [
              0.7777777777777778,
              "#fb9f3a"
             ],
             [
              0.8888888888888888,
              "#fdca26"
             ],
             [
              1,
              "#f0f921"
             ]
            ],
            "type": "heatmapgl"
           }
          ],
          "histogram": [
           {
            "marker": {
             "colorbar": {
              "outlinewidth": 0,
              "ticks": ""
             }
            },
            "type": "histogram"
           }
          ],
          "histogram2d": [
           {
            "colorbar": {
             "outlinewidth": 0,
             "ticks": ""
            },
            "colorscale": [
             [
              0,
              "#0d0887"
             ],
             [
              0.1111111111111111,
              "#46039f"
             ],
             [
              0.2222222222222222,
              "#7201a8"
             ],
             [
              0.3333333333333333,
              "#9c179e"
             ],
             [
              0.4444444444444444,
              "#bd3786"
             ],
             [
              0.5555555555555556,
              "#d8576b"
             ],
             [
              0.6666666666666666,
              "#ed7953"
             ],
             [
              0.7777777777777778,
              "#fb9f3a"
             ],
             [
              0.8888888888888888,
              "#fdca26"
             ],
             [
              1,
              "#f0f921"
             ]
            ],
            "type": "histogram2d"
           }
          ],
          "histogram2dcontour": [
           {
            "colorbar": {
             "outlinewidth": 0,
             "ticks": ""
            },
            "colorscale": [
             [
              0,
              "#0d0887"
             ],
             [
              0.1111111111111111,
              "#46039f"
             ],
             [
              0.2222222222222222,
              "#7201a8"
             ],
             [
              0.3333333333333333,
              "#9c179e"
             ],
             [
              0.4444444444444444,
              "#bd3786"
             ],
             [
              0.5555555555555556,
              "#d8576b"
             ],
             [
              0.6666666666666666,
              "#ed7953"
             ],
             [
              0.7777777777777778,
              "#fb9f3a"
             ],
             [
              0.8888888888888888,
              "#fdca26"
             ],
             [
              1,
              "#f0f921"
             ]
            ],
            "type": "histogram2dcontour"
           }
          ],
          "mesh3d": [
           {
            "colorbar": {
             "outlinewidth": 0,
             "ticks": ""
            },
            "type": "mesh3d"
           }
          ],
          "parcoords": [
           {
            "line": {
             "colorbar": {
              "outlinewidth": 0,
              "ticks": ""
             }
            },
            "type": "parcoords"
           }
          ],
          "pie": [
           {
            "automargin": true,
            "type": "pie"
           }
          ],
          "scatter": [
           {
            "marker": {
             "colorbar": {
              "outlinewidth": 0,
              "ticks": ""
             }
            },
            "type": "scatter"
           }
          ],
          "scatter3d": [
           {
            "line": {
             "colorbar": {
              "outlinewidth": 0,
              "ticks": ""
             }
            },
            "marker": {
             "colorbar": {
              "outlinewidth": 0,
              "ticks": ""
             }
            },
            "type": "scatter3d"
           }
          ],
          "scattercarpet": [
           {
            "marker": {
             "colorbar": {
              "outlinewidth": 0,
              "ticks": ""
             }
            },
            "type": "scattercarpet"
           }
          ],
          "scattergeo": [
           {
            "marker": {
             "colorbar": {
              "outlinewidth": 0,
              "ticks": ""
             }
            },
            "type": "scattergeo"
           }
          ],
          "scattergl": [
           {
            "marker": {
             "colorbar": {
              "outlinewidth": 0,
              "ticks": ""
             }
            },
            "type": "scattergl"
           }
          ],
          "scattermapbox": [
           {
            "marker": {
             "colorbar": {
              "outlinewidth": 0,
              "ticks": ""
             }
            },
            "type": "scattermapbox"
           }
          ],
          "scatterpolar": [
           {
            "marker": {
             "colorbar": {
              "outlinewidth": 0,
              "ticks": ""
             }
            },
            "type": "scatterpolar"
           }
          ],
          "scatterpolargl": [
           {
            "marker": {
             "colorbar": {
              "outlinewidth": 0,
              "ticks": ""
             }
            },
            "type": "scatterpolargl"
           }
          ],
          "scatterternary": [
           {
            "marker": {
             "colorbar": {
              "outlinewidth": 0,
              "ticks": ""
             }
            },
            "type": "scatterternary"
           }
          ],
          "surface": [
           {
            "colorbar": {
             "outlinewidth": 0,
             "ticks": ""
            },
            "colorscale": [
             [
              0,
              "#0d0887"
             ],
             [
              0.1111111111111111,
              "#46039f"
             ],
             [
              0.2222222222222222,
              "#7201a8"
             ],
             [
              0.3333333333333333,
              "#9c179e"
             ],
             [
              0.4444444444444444,
              "#bd3786"
             ],
             [
              0.5555555555555556,
              "#d8576b"
             ],
             [
              0.6666666666666666,
              "#ed7953"
             ],
             [
              0.7777777777777778,
              "#fb9f3a"
             ],
             [
              0.8888888888888888,
              "#fdca26"
             ],
             [
              1,
              "#f0f921"
             ]
            ],
            "type": "surface"
           }
          ],
          "table": [
           {
            "cells": {
             "fill": {
              "color": "#EBF0F8"
             },
             "line": {
              "color": "white"
             }
            },
            "header": {
             "fill": {
              "color": "#C8D4E3"
             },
             "line": {
              "color": "white"
             }
            },
            "type": "table"
           }
          ]
         },
         "layout": {
          "annotationdefaults": {
           "arrowcolor": "#2a3f5f",
           "arrowhead": 0,
           "arrowwidth": 1
          },
          "coloraxis": {
           "colorbar": {
            "outlinewidth": 0,
            "ticks": ""
           }
          },
          "colorscale": {
           "diverging": [
            [
             0,
             "#8e0152"
            ],
            [
             0.1,
             "#c51b7d"
            ],
            [
             0.2,
             "#de77ae"
            ],
            [
             0.3,
             "#f1b6da"
            ],
            [
             0.4,
             "#fde0ef"
            ],
            [
             0.5,
             "#f7f7f7"
            ],
            [
             0.6,
             "#e6f5d0"
            ],
            [
             0.7,
             "#b8e186"
            ],
            [
             0.8,
             "#7fbc41"
            ],
            [
             0.9,
             "#4d9221"
            ],
            [
             1,
             "#276419"
            ]
           ],
           "sequential": [
            [
             0,
             "#0d0887"
            ],
            [
             0.1111111111111111,
             "#46039f"
            ],
            [
             0.2222222222222222,
             "#7201a8"
            ],
            [
             0.3333333333333333,
             "#9c179e"
            ],
            [
             0.4444444444444444,
             "#bd3786"
            ],
            [
             0.5555555555555556,
             "#d8576b"
            ],
            [
             0.6666666666666666,
             "#ed7953"
            ],
            [
             0.7777777777777778,
             "#fb9f3a"
            ],
            [
             0.8888888888888888,
             "#fdca26"
            ],
            [
             1,
             "#f0f921"
            ]
           ],
           "sequentialminus": [
            [
             0,
             "#0d0887"
            ],
            [
             0.1111111111111111,
             "#46039f"
            ],
            [
             0.2222222222222222,
             "#7201a8"
            ],
            [
             0.3333333333333333,
             "#9c179e"
            ],
            [
             0.4444444444444444,
             "#bd3786"
            ],
            [
             0.5555555555555556,
             "#d8576b"
            ],
            [
             0.6666666666666666,
             "#ed7953"
            ],
            [
             0.7777777777777778,
             "#fb9f3a"
            ],
            [
             0.8888888888888888,
             "#fdca26"
            ],
            [
             1,
             "#f0f921"
            ]
           ]
          },
          "colorway": [
           "#636efa",
           "#EF553B",
           "#00cc96",
           "#ab63fa",
           "#FFA15A",
           "#19d3f3",
           "#FF6692",
           "#B6E880",
           "#FF97FF",
           "#FECB52"
          ],
          "font": {
           "color": "#2a3f5f"
          },
          "geo": {
           "bgcolor": "white",
           "lakecolor": "white",
           "landcolor": "#E5ECF6",
           "showlakes": true,
           "showland": true,
           "subunitcolor": "white"
          },
          "hoverlabel": {
           "align": "left"
          },
          "hovermode": "closest",
          "mapbox": {
           "style": "light"
          },
          "paper_bgcolor": "white",
          "plot_bgcolor": "#E5ECF6",
          "polar": {
           "angularaxis": {
            "gridcolor": "white",
            "linecolor": "white",
            "ticks": ""
           },
           "bgcolor": "#E5ECF6",
           "radialaxis": {
            "gridcolor": "white",
            "linecolor": "white",
            "ticks": ""
           }
          },
          "scene": {
           "xaxis": {
            "backgroundcolor": "#E5ECF6",
            "gridcolor": "white",
            "gridwidth": 2,
            "linecolor": "white",
            "showbackground": true,
            "ticks": "",
            "zerolinecolor": "white"
           },
           "yaxis": {
            "backgroundcolor": "#E5ECF6",
            "gridcolor": "white",
            "gridwidth": 2,
            "linecolor": "white",
            "showbackground": true,
            "ticks": "",
            "zerolinecolor": "white"
           },
           "zaxis": {
            "backgroundcolor": "#E5ECF6",
            "gridcolor": "white",
            "gridwidth": 2,
            "linecolor": "white",
            "showbackground": true,
            "ticks": "",
            "zerolinecolor": "white"
           }
          },
          "shapedefaults": {
           "line": {
            "color": "#2a3f5f"
           }
          },
          "ternary": {
           "aaxis": {
            "gridcolor": "white",
            "linecolor": "white",
            "ticks": ""
           },
           "baxis": {
            "gridcolor": "white",
            "linecolor": "white",
            "ticks": ""
           },
           "bgcolor": "#E5ECF6",
           "caxis": {
            "gridcolor": "white",
            "linecolor": "white",
            "ticks": ""
           }
          },
          "title": {
           "x": 0.05
          },
          "xaxis": {
           "automargin": true,
           "gridcolor": "white",
           "linecolor": "white",
           "ticks": "",
           "title": {
            "standoff": 15
           },
           "zerolinecolor": "white",
           "zerolinewidth": 2
          },
          "yaxis": {
           "automargin": true,
           "gridcolor": "white",
           "linecolor": "white",
           "ticks": "",
           "title": {
            "standoff": 15
           },
           "zerolinecolor": "white",
           "zerolinewidth": 2
          }
         }
        },
        "xaxis": {
         "anchor": "y",
         "autorange": true,
         "domain": [
          0,
          1
         ],
         "range": [
          -0.5,
          5.5
         ],
         "title": {
          "text": "created_at_date"
         },
         "type": "category"
        },
        "yaxis": {
         "anchor": "x",
         "autorange": true,
         "domain": [
          0,
          1
         ],
         "range": [
          0,
          62.10526315789474
         ],
         "title": {
          "text": "value"
         },
         "type": "linear"
        }
       }
      },
      "image/png": "[encoded data removed]",
      "text/html": [
       "<div>                            <div id=\"3071910a-00b5-407c-8040-701a0359c298\" class=\"plotly-graph-div\" style=\"height:525px; width:100%;\"></div>            <script type=\"text/javascript\">                require([\"plotly\"], function(Plotly) {                    window.PLOTLYENV=window.PLOTLYENV || {};                                    if (document.getElementById(\"3071910a-00b5-407c-8040-701a0359c298\")) {                    Plotly.newPlot(                        \"3071910a-00b5-407c-8040-701a0359c298\",                        [{\"alignmentgroup\": \"True\", \"hovertemplate\": \"labels=0<br>created_at_date=%{x}<br>value=%{y}<extra></extra>\", \"legendgroup\": \"0\", \"marker\": {\"color\": \"#636efa\"}, \"name\": \"0\", \"offsetgroup\": \"0\", \"orientation\": \"v\", \"showlegend\": true, \"textposition\": \"auto\", \"type\": \"bar\", \"x\": [\"9/10/20\", \"9/11/20\", \"9/12/20\", \"9/13/20\", \"9/14/20\", \"9/9/20\"], \"xaxis\": \"x\", \"y\": [5.0, 3.0, 4.0, 3.0, 3.0, 1.0], \"yaxis\": \"y\"}, {\"alignmentgroup\": \"True\", \"hovertemplate\": \"labels=1<br>created_at_date=%{x}<br>value=%{y}<extra></extra>\", \"legendgroup\": \"1\", \"marker\": {\"color\": \"#EF553B\"}, \"name\": \"1\", \"offsetgroup\": \"1\", \"orientation\": \"v\", \"showlegend\": true, \"textposition\": \"auto\", \"type\": \"bar\", \"x\": [\"9/10/20\", \"9/11/20\", \"9/12/20\", \"9/13/20\", \"9/14/20\", \"9/9/20\"], \"xaxis\": \"x\", \"y\": [1.0, 1.0, 1.0, 1.0, 1.0, null], \"yaxis\": \"y\"}, {\"alignmentgroup\": \"True\", \"hovertemplate\": \"labels=2<br>created_at_date=%{x}<br>value=%{y}<extra></extra>\", \"legendgroup\": \"2\", \"marker\": {\"color\": \"#00cc96\"}, \"name\": \"2\", \"offsetgroup\": \"2\", \"orientation\": \"v\", \"showlegend\": true, \"textposition\": \"auto\", \"type\": \"bar\", \"x\": [\"9/10/20\", \"9/11/20\", \"9/12/20\", \"9/13/20\", \"9/14/20\", \"9/9/20\"], \"xaxis\": \"x\", \"y\": [6.0, 5.0, 4.0, 2.0, 5.0, 2.0], \"yaxis\": \"y\"}, {\"alignmentgroup\": \"True\", \"hovertemplate\": \"labels=4<br>created_at_date=%{x}<br>value=%{y}<extra></extra>\", \"legendgroup\": \"4\", \"marker\": {\"color\": \"#ab63fa\"}, \"name\": \"4\", \"offsetgroup\": \"4\", \"orientation\": \"v\", \"showlegend\": true, \"textposition\": \"auto\", \"type\": \"bar\", \"x\": [\"9/10/20\", \"9/11/20\", \"9/12/20\", \"9/13/20\", \"9/14/20\", \"9/9/20\"], \"xaxis\": \"x\", \"y\": [2.0, 1.0, null, 1.0, null, 3.0], \"yaxis\": \"y\"}, {\"alignmentgroup\": \"True\", \"hovertemplate\": \"labels=9<br>created_at_date=%{x}<br>value=%{y}<extra></extra>\", \"legendgroup\": \"9\", \"marker\": {\"color\": \"#FFA15A\"}, \"name\": \"9\", \"offsetgroup\": \"9\", \"orientation\": \"v\", \"showlegend\": true, \"textposition\": \"auto\", \"type\": \"bar\", \"x\": [\"9/10/20\", \"9/11/20\", \"9/12/20\", \"9/13/20\", \"9/14/20\", \"9/9/20\"], \"xaxis\": \"x\", \"y\": [5.0, 3.0, 5.0, 4.0, 1.0, 2.0], \"yaxis\": \"y\"}, {\"alignmentgroup\": \"True\", \"hovertemplate\": \"labels=10<br>created_at_date=%{x}<br>value=%{y}<extra></extra>\", \"legendgroup\": \"10\", \"marker\": {\"color\": \"#19d3f3\"}, \"name\": \"10\", \"offsetgroup\": \"10\", \"orientation\": \"v\", \"showlegend\": true, \"textposition\": \"auto\", \"type\": \"bar\", \"x\": [\"9/10/20\", \"9/11/20\", \"9/12/20\", \"9/13/20\", \"9/14/20\", \"9/9/20\"], \"xaxis\": \"x\", \"y\": [6.0, 4.0, 4.0, 6.0, 3.0, 2.0], \"yaxis\": \"y\"}, {\"alignmentgroup\": \"True\", \"hovertemplate\": \"labels=14<br>created_at_date=%{x}<br>value=%{y}<extra></extra>\", \"legendgroup\": \"14\", \"marker\": {\"color\": \"#FF6692\"}, \"name\": \"14\", \"offsetgroup\": \"14\", \"orientation\": \"v\", \"showlegend\": true, \"textposition\": \"auto\", \"type\": \"bar\", \"x\": [\"9/10/20\", \"9/11/20\", \"9/12/20\", \"9/13/20\", \"9/14/20\", \"9/9/20\"], \"xaxis\": \"x\", \"y\": [3.0, 1.0, null, null, 2.0, null], \"yaxis\": \"y\"}, {\"alignmentgroup\": \"True\", \"hovertemplate\": \"labels=16<br>created_at_date=%{x}<br>value=%{y}<extra></extra>\", \"legendgroup\": \"16\", \"marker\": {\"color\": \"#B6E880\"}, \"name\": \"16\", \"offsetgroup\": \"16\", \"orientation\": \"v\", \"showlegend\": true, \"textposition\": \"auto\", \"type\": \"bar\", \"x\": [\"9/10/20\", \"9/11/20\", \"9/12/20\", \"9/13/20\", \"9/14/20\", \"9/9/20\"], \"xaxis\": \"x\", \"y\": [null, 1.0, null, null, 1.0, null], \"yaxis\": \"y\"}, {\"alignmentgroup\": \"True\", \"hovertemplate\": \"labels=17<br>created_at_date=%{x}<br>value=%{y}<extra></extra>\", \"legendgroup\": \"17\", \"marker\": {\"color\": \"#FF97FF\"}, \"name\": \"17\", \"offsetgroup\": \"17\", \"orientation\": \"v\", \"showlegend\": true, \"textposition\": \"auto\", \"type\": \"bar\", \"x\": [\"9/10/20\", \"9/11/20\", \"9/12/20\", \"9/13/20\", \"9/14/20\", \"9/9/20\"], \"xaxis\": \"x\", \"y\": [2.0, 1.0, 1.0, 2.0, 1.0, 2.0], \"yaxis\": \"y\"}, {\"alignmentgroup\": \"True\", \"hovertemplate\": \"labels=18<br>created_at_date=%{x}<br>value=%{y}<extra></extra>\", \"legendgroup\": \"18\", \"marker\": {\"color\": \"#FECB52\"}, \"name\": \"18\", \"offsetgroup\": \"18\", \"orientation\": \"v\", \"showlegend\": true, \"textposition\": \"auto\", \"type\": \"bar\", \"x\": [\"9/10/20\", \"9/11/20\", \"9/12/20\", \"9/13/20\", \"9/14/20\", \"9/9/20\"], \"xaxis\": \"x\", \"y\": [3.0, 1.0, null, null, 2.0, null], \"yaxis\": \"y\"}, {\"alignmentgroup\": \"True\", \"hovertemplate\": \"labels=22<br>created_at_date=%{x}<br>value=%{y}<extra></extra>\", \"legendgroup\": \"22\", \"marker\": {\"color\": \"#636efa\"}, \"name\": \"22\", \"offsetgroup\": \"22\", \"orientation\": \"v\", \"showlegend\": true, \"textposition\": \"auto\", \"type\": \"bar\", \"x\": [\"9/10/20\", \"9/11/20\", \"9/12/20\", \"9/13/20\", \"9/14/20\", \"9/9/20\"], \"xaxis\": \"x\", \"y\": [5.0, 3.0, 1.0, 2.0, 1.0, null], \"yaxis\": \"y\"}, {\"alignmentgroup\": \"True\", \"hovertemplate\": \"labels=23<br>created_at_date=%{x}<br>value=%{y}<extra></extra>\", \"legendgroup\": \"23\", \"marker\": {\"color\": \"#EF553B\"}, \"name\": \"23\", \"offsetgroup\": \"23\", \"orientation\": \"v\", \"showlegend\": true, \"textposition\": \"auto\", \"type\": \"bar\", \"x\": [\"9/10/20\", \"9/11/20\", \"9/12/20\", \"9/13/20\", \"9/14/20\", \"9/9/20\"], \"xaxis\": \"x\", \"y\": [1.0, 2.0, 1.0, 2.0, 1.0, 1.0], \"yaxis\": \"y\"}, {\"alignmentgroup\": \"True\", \"hovertemplate\": \"labels=29<br>created_at_date=%{x}<br>value=%{y}<extra></extra>\", \"legendgroup\": \"29\", \"marker\": {\"color\": \"#00cc96\"}, \"name\": \"29\", \"offsetgroup\": \"29\", \"orientation\": \"v\", \"showlegend\": true, \"textposition\": \"auto\", \"type\": \"bar\", \"x\": [\"9/10/20\", \"9/11/20\", \"9/12/20\", \"9/13/20\", \"9/14/20\", \"9/9/20\"], \"xaxis\": \"x\", \"y\": [null, 2.0, 1.0, 3.0, null, null], \"yaxis\": \"y\"}, {\"alignmentgroup\": \"True\", \"hovertemplate\": \"labels=30<br>created_at_date=%{x}<br>value=%{y}<extra></extra>\", \"legendgroup\": \"30\", \"marker\": {\"color\": \"#ab63fa\"}, \"name\": \"30\", \"offsetgroup\": \"30\", \"orientation\": \"v\", \"showlegend\": true, \"textposition\": \"auto\", \"type\": \"bar\", \"x\": [\"9/10/20\", \"9/11/20\", \"9/12/20\", \"9/13/20\", \"9/14/20\", \"9/9/20\"], \"xaxis\": \"x\", \"y\": [2.0, 1.0, 2.0, null, null, 1.0], \"yaxis\": \"y\"}, {\"alignmentgroup\": \"True\", \"hovertemplate\": \"labels=44<br>created_at_date=%{x}<br>value=%{y}<extra></extra>\", \"legendgroup\": \"44\", \"marker\": {\"color\": \"#FFA15A\"}, \"name\": \"44\", \"offsetgroup\": \"44\", \"orientation\": \"v\", \"showlegend\": true, \"textposition\": \"auto\", \"type\": \"bar\", \"x\": [\"9/10/20\", \"9/11/20\", \"9/12/20\", \"9/13/20\", \"9/14/20\", \"9/9/20\"], \"xaxis\": \"x\", \"y\": [15.0, 11.0, 10.0, 10.0, 7.0, 8.0], \"yaxis\": \"y\"}, {\"alignmentgroup\": \"True\", \"hovertemplate\": \"labels=45<br>created_at_date=%{x}<br>value=%{y}<extra></extra>\", \"legendgroup\": \"45\", \"marker\": {\"color\": \"#19d3f3\"}, \"name\": \"45\", \"offsetgroup\": \"45\", \"orientation\": \"v\", \"showlegend\": true, \"textposition\": \"auto\", \"type\": \"bar\", \"x\": [\"9/10/20\", \"9/11/20\", \"9/12/20\", \"9/13/20\", \"9/14/20\", \"9/9/20\"], \"xaxis\": \"x\", \"y\": [2.0, 3.0, 2.0, 1.0, 1.0, 1.0], \"yaxis\": \"y\"}, {\"alignmentgroup\": \"True\", \"hovertemplate\": \"labels=50<br>created_at_date=%{x}<br>value=%{y}<extra></extra>\", \"legendgroup\": \"50\", \"marker\": {\"color\": \"#FF6692\"}, \"name\": \"50\", \"offsetgroup\": \"50\", \"orientation\": \"v\", \"showlegend\": true, \"textposition\": \"auto\", \"type\": \"bar\", \"x\": [\"9/10/20\", \"9/11/20\", \"9/12/20\", \"9/13/20\", \"9/14/20\", \"9/9/20\"], \"xaxis\": \"x\", \"y\": [null, 1.0, null, null, 2.0, null], \"yaxis\": \"y\"}, {\"alignmentgroup\": \"True\", \"hovertemplate\": \"labels=51<br>created_at_date=%{x}<br>value=%{y}<extra></extra>\", \"legendgroup\": \"51\", \"marker\": {\"color\": \"#B6E880\"}, \"name\": \"51\", \"offsetgroup\": \"51\", \"orientation\": \"v\", \"showlegend\": true, \"textposition\": \"auto\", \"type\": \"bar\", \"x\": [\"9/10/20\", \"9/11/20\", \"9/12/20\", \"9/13/20\", \"9/14/20\", \"9/9/20\"], \"xaxis\": \"x\", \"y\": [null, 1.0, 1.0, 3.0, null, null], \"yaxis\": \"y\"}, {\"alignmentgroup\": \"True\", \"hovertemplate\": \"labels=53<br>created_at_date=%{x}<br>value=%{y}<extra></extra>\", \"legendgroup\": \"53\", \"marker\": {\"color\": \"#FF97FF\"}, \"name\": \"53\", \"offsetgroup\": \"53\", \"orientation\": \"v\", \"showlegend\": true, \"textposition\": \"auto\", \"type\": \"bar\", \"x\": [\"9/10/20\", \"9/11/20\", \"9/12/20\", \"9/13/20\", \"9/14/20\", \"9/9/20\"], \"xaxis\": \"x\", \"y\": [1.0, null, null, 2.0, 2.0, null], \"yaxis\": \"y\"}],                        {\"barmode\": \"relative\", \"legend\": {\"title\": {\"text\": \"labels\"}, \"tracegroupgap\": 0}, \"margin\": {\"t\": 60}, \"template\": {\"data\": {\"bar\": [{\"error_x\": {\"color\": \"#2a3f5f\"}, \"error_y\": {\"color\": \"#2a3f5f\"}, \"marker\": {\"line\": {\"color\": \"#E5ECF6\", \"width\": 0.5}}, \"type\": \"bar\"}], \"barpolar\": [{\"marker\": {\"line\": {\"color\": \"#E5ECF6\", \"width\": 0.5}}, \"type\": \"barpolar\"}], \"carpet\": [{\"aaxis\": {\"endlinecolor\": \"#2a3f5f\", \"gridcolor\": \"white\", \"linecolor\": \"white\", \"minorgridcolor\": \"white\", \"startlinecolor\": \"#2a3f5f\"}, \"baxis\": {\"endlinecolor\": \"#2a3f5f\", \"gridcolor\": \"white\", \"linecolor\": \"white\", \"minorgridcolor\": \"white\", \"startlinecolor\": \"#2a3f5f\"}, \"type\": \"carpet\"}], \"choropleth\": [{\"colorbar\": {\"outlinewidth\": 0, \"ticks\": \"\"}, \"type\": \"choropleth\"}], \"contour\": [{\"colorbar\": {\"outlinewidth\": 0, \"ticks\": \"\"}, \"colorscale\": [[0.0, \"#0d0887\"], [0.1111111111111111, \"#46039f\"], [0.2222222222222222, \"#7201a8\"], [0.3333333333333333, \"#9c179e\"], [0.4444444444444444, \"#bd3786\"], [0.5555555555555556, \"#d8576b\"], [0.6666666666666666, \"#ed7953\"], [0.7777777777777778, \"#fb9f3a\"], [0.8888888888888888, \"#fdca26\"], [1.0, \"#f0f921\"]], \"type\": \"contour\"}], \"contourcarpet\": [{\"colorbar\": {\"outlinewidth\": 0, \"ticks\": \"\"}, \"type\": \"contourcarpet\"}], \"heatmap\": [{\"colorbar\": {\"outlinewidth\": 0, \"ticks\": \"\"}, \"colorscale\": [[0.0, \"#0d0887\"], [0.1111111111111111, \"#46039f\"], [0.2222222222222222, \"#7201a8\"], [0.3333333333333333, \"#9c179e\"], [0.4444444444444444, \"#bd3786\"], [0.5555555555555556, \"#d8576b\"], [0.6666666666666666, \"#ed7953\"], [0.7777777777777778, \"#fb9f3a\"], [0.8888888888888888, \"#fdca26\"], [1.0, \"#f0f921\"]], \"type\": \"heatmap\"}], \"heatmapgl\": [{\"colorbar\": {\"outlinewidth\": 0, \"ticks\": \"\"}, \"colorscale\": [[0.0, \"#0d0887\"], [0.1111111111111111, \"#46039f\"], [0.2222222222222222, \"#7201a8\"], [0.3333333333333333, \"#9c179e\"], [0.4444444444444444, \"#bd3786\"], [0.5555555555555556, \"#d8576b\"], [0.6666666666666666, \"#ed7953\"], [0.7777777777777778, \"#fb9f3a\"], [0.8888888888888888, \"#fdca26\"], [1.0, \"#f0f921\"]], \"type\": \"heatmapgl\"}], \"histogram\": [{\"marker\": {\"colorbar\": {\"outlinewidth\": 0, \"ticks\": \"\"}}, \"type\": \"histogram\"}], \"histogram2d\": [{\"colorbar\": {\"outlinewidth\": 0, \"ticks\": \"\"}, \"colorscale\": [[0.0, \"#0d0887\"], [0.1111111111111111, \"#46039f\"], [0.2222222222222222, \"#7201a8\"], [0.3333333333333333, \"#9c179e\"], [0.4444444444444444, \"#bd3786\"], [0.5555555555555556, \"#d8576b\"], [0.6666666666666666, \"#ed7953\"], [0.7777777777777778, \"#fb9f3a\"], [0.8888888888888888, \"#fdca26\"], [1.0, \"#f0f921\"]], \"type\": \"histogram2d\"}], \"histogram2dcontour\": [{\"colorbar\": {\"outlinewidth\": 0, \"ticks\": \"\"}, \"colorscale\": [[0.0, \"#0d0887\"], [0.1111111111111111, \"#46039f\"], [0.2222222222222222, \"#7201a8\"], [0.3333333333333333, \"#9c179e\"], [0.4444444444444444, \"#bd3786\"], [0.5555555555555556, \"#d8576b\"], [0.6666666666666666, \"#ed7953\"], [0.7777777777777778, \"#fb9f3a\"], [0.8888888888888888, \"#fdca26\"], [1.0, \"#f0f921\"]], \"type\": \"histogram2dcontour\"}], \"mesh3d\": [{\"colorbar\": {\"outlinewidth\": 0, \"ticks\": \"\"}, \"type\": \"mesh3d\"}], \"parcoords\": [{\"line\": {\"colorbar\": {\"outlinewidth\": 0, \"ticks\": \"\"}}, \"type\": \"parcoords\"}], \"pie\": [{\"automargin\": true, \"type\": \"pie\"}], \"scatter\": [{\"marker\": {\"colorbar\": {\"outlinewidth\": 0, \"ticks\": \"\"}}, \"type\": \"scatter\"}], \"scatter3d\": [{\"line\": {\"colorbar\": {\"outlinewidth\": 0, \"ticks\": \"\"}}, \"marker\": {\"colorbar\": {\"outlinewidth\": 0, \"ticks\": \"\"}}, \"type\": \"scatter3d\"}], \"scattercarpet\": [{\"marker\": {\"colorbar\": {\"outlinewidth\": 0, \"ticks\": \"\"}}, \"type\": \"scattercarpet\"}], \"scattergeo\": [{\"marker\": {\"colorbar\": {\"outlinewidth\": 0, \"ticks\": \"\"}}, \"type\": \"scattergeo\"}], \"scattergl\": [{\"marker\": {\"colorbar\": {\"outlinewidth\": 0, \"ticks\": \"\"}}, \"type\": \"scattergl\"}], \"scattermapbox\": [{\"marker\": {\"colorbar\": {\"outlinewidth\": 0, \"ticks\": \"\"}}, \"type\": \"scattermapbox\"}], \"scatterpolar\": [{\"marker\": {\"colorbar\": {\"outlinewidth\": 0, \"ticks\": \"\"}}, \"type\": \"scatterpolar\"}], \"scatterpolargl\": [{\"marker\": {\"colorbar\": {\"outlinewidth\": 0, \"ticks\": \"\"}}, \"type\": \"scatterpolargl\"}], \"scatterternary\": [{\"marker\": {\"colorbar\": {\"outlinewidth\": 0, \"ticks\": \"\"}}, \"type\": \"scatterternary\"}], \"surface\": [{\"colorbar\": {\"outlinewidth\": 0, \"ticks\": \"\"}, \"colorscale\": [[0.0, \"#0d0887\"], [0.1111111111111111, \"#46039f\"], [0.2222222222222222, \"#7201a8\"], [0.3333333333333333, \"#9c179e\"], [0.4444444444444444, \"#bd3786\"], [0.5555555555555556, \"#d8576b\"], [0.6666666666666666, \"#ed7953\"], [0.7777777777777778, \"#fb9f3a\"], [0.8888888888888888, \"#fdca26\"], [1.0, \"#f0f921\"]], \"type\": \"surface\"}], \"table\": [{\"cells\": {\"fill\": {\"color\": \"#EBF0F8\"}, \"line\": {\"color\": \"white\"}}, \"header\": {\"fill\": {\"color\": \"#C8D4E3\"}, \"line\": {\"color\": \"white\"}}, \"type\": \"table\"}]}, \"layout\": {\"annotationdefaults\": {\"arrowcolor\": \"#2a3f5f\", \"arrowhead\": 0, \"arrowwidth\": 1}, \"coloraxis\": {\"colorbar\": {\"outlinewidth\": 0, \"ticks\": \"\"}}, \"colorscale\": {\"diverging\": [[0, \"#8e0152\"], [0.1, \"#c51b7d\"], [0.2, \"#de77ae\"], [0.3, \"#f1b6da\"], [0.4, \"#fde0ef\"], [0.5, \"#f7f7f7\"], [0.6, \"#e6f5d0\"], [0.7, \"#b8e186\"], [0.8, \"#7fbc41\"], [0.9, \"#4d9221\"], [1, \"#276419\"]], \"sequential\": [[0.0, \"#0d0887\"], [0.1111111111111111, \"#46039f\"], [0.2222222222222222, \"#7201a8\"], [0.3333333333333333, \"#9c179e\"], [0.4444444444444444, \"#bd3786\"], [0.5555555555555556, \"#d8576b\"], [0.6666666666666666, \"#ed7953\"], [0.7777777777777778, \"#fb9f3a\"], [0.8888888888888888, \"#fdca26\"], [1.0, \"#f0f921\"]], \"sequentialminus\": [[0.0, \"#0d0887\"], [0.1111111111111111, \"#46039f\"], [0.2222222222222222, \"#7201a8\"], [0.3333333333333333, \"#9c179e\"], [0.4444444444444444, \"#bd3786\"], [0.5555555555555556, \"#d8576b\"], [0.6666666666666666, \"#ed7953\"], [0.7777777777777778, \"#fb9f3a\"], [0.8888888888888888, \"#fdca26\"], [1.0, \"#f0f921\"]]}, \"colorway\": [\"#636efa\", \"#EF553B\", \"#00cc96\", \"#ab63fa\", \"#FFA15A\", \"#19d3f3\", \"#FF6692\", \"#B6E880\", \"#FF97FF\", \"#FECB52\"], \"font\": {\"color\": \"#2a3f5f\"}, \"geo\": {\"bgcolor\": \"white\", \"lakecolor\": \"white\", \"landcolor\": \"#E5ECF6\", \"showlakes\": true, \"showland\": true, \"subunitcolor\": \"white\"}, \"hoverlabel\": {\"align\": \"left\"}, \"hovermode\": \"closest\", \"mapbox\": {\"style\": \"light\"}, \"paper_bgcolor\": \"white\", \"plot_bgcolor\": \"#E5ECF6\", \"polar\": {\"angularaxis\": {\"gridcolor\": \"white\", \"linecolor\": \"white\", \"ticks\": \"\"}, \"bgcolor\": \"#E5ECF6\", \"radialaxis\": {\"gridcolor\": \"white\", \"linecolor\": \"white\", \"ticks\": \"\"}}, \"scene\": {\"xaxis\": {\"backgroundcolor\": \"#E5ECF6\", \"gridcolor\": \"white\", \"gridwidth\": 2, \"linecolor\": \"white\", \"showbackground\": true, \"ticks\": \"\", \"zerolinecolor\": \"white\"}, \"yaxis\": {\"backgroundcolor\": \"#E5ECF6\", \"gridcolor\": \"white\", \"gridwidth\": 2, \"linecolor\": \"white\", \"showbackground\": true, \"ticks\": \"\", \"zerolinecolor\": \"white\"}, \"zaxis\": {\"backgroundcolor\": \"#E5ECF6\", \"gridcolor\": \"white\", \"gridwidth\": 2, \"linecolor\": \"white\", \"showbackground\": true, \"ticks\": \"\", \"zerolinecolor\": \"white\"}}, \"shapedefaults\": {\"line\": {\"color\": \"#2a3f5f\"}}, \"ternary\": {\"aaxis\": {\"gridcolor\": \"white\", \"linecolor\": \"white\", \"ticks\": \"\"}, \"baxis\": {\"gridcolor\": \"white\", \"linecolor\": \"white\", \"ticks\": \"\"}, \"bgcolor\": \"#E5ECF6\", \"caxis\": {\"gridcolor\": \"white\", \"linecolor\": \"white\", \"ticks\": \"\"}}, \"title\": {\"x\": 0.05}, \"xaxis\": {\"automargin\": true, \"gridcolor\": \"white\", \"linecolor\": \"white\", \"ticks\": \"\", \"title\": {\"standoff\": 15}, \"zerolinecolor\": \"white\", \"zerolinewidth\": 2}, \"yaxis\": {\"automargin\": true, \"gridcolor\": \"white\", \"linecolor\": \"white\", \"ticks\": \"\", \"title\": {\"standoff\": 15}, \"zerolinecolor\": \"white\", \"zerolinewidth\": 2}}}, \"xaxis\": {\"anchor\": \"y\", \"domain\": [0.0, 1.0], \"title\": {\"text\": \"created_at_date\"}}, \"yaxis\": {\"anchor\": \"x\", \"domain\": [0.0, 1.0], \"title\": {\"text\": \"value\"}}},                        {\"responsive\": true}                    ).then(function(){\n",
       "                            \n",
       "var gd = document.getElementById('3071910a-00b5-407c-8040-701a0359c298');\n",
       "var x = new MutationObserver(function (mutations, observer) {{\n",
       "        var display = window.getComputedStyle(gd).display;\n",
       "        if (!display || display === 'none') {{\n",
       "            console.log([gd, 'removed!']);\n",
       "            Plotly.purge(gd);\n",
       "            observer.disconnect();\n",
       "        }}\n",
       "}});\n",
       "\n",
       "// Listen for the removal of the full notebook cells\n",
       "var notebookContainer = gd.closest('#notebook-container');\n",
       "if (notebookContainer) {{\n",
       "    x.observe(notebookContainer, {childList: true});\n",
       "}}\n",
       "\n",
       "// Listen for the clearing of the current output cell\n",
       "var outputEl = gd.closest('.output');\n",
       "if (outputEl) {{\n",
       "    x.observe(outputEl, {childList: true});\n",
       "}}\n",
       "\n",
       "                        })                };                });            </script>        </div>"
      ]
     },
     "metadata": {},
     "output_type": "display_data"
    }
   ],
   "source": [
    "X.groupby(['labels','created_at_date']).count().unstack()[\"text\"].T.plot(kind=\"bar\")"
   ]
  },
  {
   "cell_type": "code",
   "execution_count": 99,
   "metadata": {},
   "outputs": [
    {
     "data": {
      "text/html": [
       "<div>\n",
       "<style scoped>\n",
       "    .dataframe tbody tr th:only-of-type {\n",
       "        vertical-align: middle;\n",
       "    }\n",
       "\n",
       "    .dataframe tbody tr th {\n",
       "        vertical-align: top;\n",
       "    }\n",
       "\n",
       "    .dataframe thead th {\n",
       "        text-align: right;\n",
       "    }\n",
       "</style>\n",
       "<table border=\"1\" class=\"dataframe\">\n",
       "  <thead>\n",
       "    <tr style=\"text-align: right;\">\n",
       "      <th>created_at_date</th>\n",
       "      <th>9/10/20</th>\n",
       "      <th>9/11/20</th>\n",
       "      <th>9/12/20</th>\n",
       "      <th>9/13/20</th>\n",
       "      <th>9/14/20</th>\n",
       "      <th>9/9/20</th>\n",
       "    </tr>\n",
       "    <tr>\n",
       "      <th>labels</th>\n",
       "      <th></th>\n",
       "      <th></th>\n",
       "      <th></th>\n",
       "      <th></th>\n",
       "      <th></th>\n",
       "      <th></th>\n",
       "    </tr>\n",
       "  </thead>\n",
       "  <tbody>\n",
       "    <tr>\n",
       "      <th>0</th>\n",
       "      <td>5.0</td>\n",
       "      <td>3.0</td>\n",
       "      <td>4.0</td>\n",
       "      <td>3.0</td>\n",
       "      <td>3.0</td>\n",
       "      <td>1.0</td>\n",
       "    </tr>\n",
       "    <tr>\n",
       "      <th>1</th>\n",
       "      <td>1.0</td>\n",
       "      <td>1.0</td>\n",
       "      <td>1.0</td>\n",
       "      <td>1.0</td>\n",
       "      <td>1.0</td>\n",
       "      <td>NaN</td>\n",
       "    </tr>\n",
       "    <tr>\n",
       "      <th>2</th>\n",
       "      <td>6.0</td>\n",
       "      <td>5.0</td>\n",
       "      <td>4.0</td>\n",
       "      <td>2.0</td>\n",
       "      <td>5.0</td>\n",
       "      <td>2.0</td>\n",
       "    </tr>\n",
       "    <tr>\n",
       "      <th>4</th>\n",
       "      <td>2.0</td>\n",
       "      <td>1.0</td>\n",
       "      <td>NaN</td>\n",
       "      <td>1.0</td>\n",
       "      <td>NaN</td>\n",
       "      <td>3.0</td>\n",
       "    </tr>\n",
       "    <tr>\n",
       "      <th>9</th>\n",
       "      <td>5.0</td>\n",
       "      <td>3.0</td>\n",
       "      <td>5.0</td>\n",
       "      <td>4.0</td>\n",
       "      <td>1.0</td>\n",
       "      <td>2.0</td>\n",
       "    </tr>\n",
       "    <tr>\n",
       "      <th>10</th>\n",
       "      <td>6.0</td>\n",
       "      <td>4.0</td>\n",
       "      <td>4.0</td>\n",
       "      <td>6.0</td>\n",
       "      <td>3.0</td>\n",
       "      <td>2.0</td>\n",
       "    </tr>\n",
       "    <tr>\n",
       "      <th>14</th>\n",
       "      <td>3.0</td>\n",
       "      <td>1.0</td>\n",
       "      <td>NaN</td>\n",
       "      <td>NaN</td>\n",
       "      <td>2.0</td>\n",
       "      <td>NaN</td>\n",
       "    </tr>\n",
       "    <tr>\n",
       "      <th>16</th>\n",
       "      <td>NaN</td>\n",
       "      <td>1.0</td>\n",
       "      <td>NaN</td>\n",
       "      <td>NaN</td>\n",
       "      <td>1.0</td>\n",
       "      <td>NaN</td>\n",
       "    </tr>\n",
       "    <tr>\n",
       "      <th>17</th>\n",
       "      <td>2.0</td>\n",
       "      <td>1.0</td>\n",
       "      <td>1.0</td>\n",
       "      <td>2.0</td>\n",
       "      <td>1.0</td>\n",
       "      <td>2.0</td>\n",
       "    </tr>\n",
       "    <tr>\n",
       "      <th>18</th>\n",
       "      <td>3.0</td>\n",
       "      <td>1.0</td>\n",
       "      <td>NaN</td>\n",
       "      <td>NaN</td>\n",
       "      <td>2.0</td>\n",
       "      <td>NaN</td>\n",
       "    </tr>\n",
       "    <tr>\n",
       "      <th>22</th>\n",
       "      <td>5.0</td>\n",
       "      <td>3.0</td>\n",
       "      <td>1.0</td>\n",
       "      <td>2.0</td>\n",
       "      <td>1.0</td>\n",
       "      <td>NaN</td>\n",
       "    </tr>\n",
       "    <tr>\n",
       "      <th>23</th>\n",
       "      <td>1.0</td>\n",
       "      <td>2.0</td>\n",
       "      <td>1.0</td>\n",
       "      <td>2.0</td>\n",
       "      <td>1.0</td>\n",
       "      <td>1.0</td>\n",
       "    </tr>\n",
       "    <tr>\n",
       "      <th>29</th>\n",
       "      <td>NaN</td>\n",
       "      <td>2.0</td>\n",
       "      <td>1.0</td>\n",
       "      <td>3.0</td>\n",
       "      <td>NaN</td>\n",
       "      <td>NaN</td>\n",
       "    </tr>\n",
       "    <tr>\n",
       "      <th>30</th>\n",
       "      <td>2.0</td>\n",
       "      <td>1.0</td>\n",
       "      <td>2.0</td>\n",
       "      <td>NaN</td>\n",
       "      <td>NaN</td>\n",
       "      <td>1.0</td>\n",
       "    </tr>\n",
       "    <tr>\n",
       "      <th>44</th>\n",
       "      <td>15.0</td>\n",
       "      <td>11.0</td>\n",
       "      <td>10.0</td>\n",
       "      <td>10.0</td>\n",
       "      <td>7.0</td>\n",
       "      <td>8.0</td>\n",
       "    </tr>\n",
       "    <tr>\n",
       "      <th>45</th>\n",
       "      <td>2.0</td>\n",
       "      <td>3.0</td>\n",
       "      <td>2.0</td>\n",
       "      <td>1.0</td>\n",
       "      <td>1.0</td>\n",
       "      <td>1.0</td>\n",
       "    </tr>\n",
       "    <tr>\n",
       "      <th>50</th>\n",
       "      <td>NaN</td>\n",
       "      <td>1.0</td>\n",
       "      <td>NaN</td>\n",
       "      <td>NaN</td>\n",
       "      <td>2.0</td>\n",
       "      <td>NaN</td>\n",
       "    </tr>\n",
       "    <tr>\n",
       "      <th>51</th>\n",
       "      <td>NaN</td>\n",
       "      <td>1.0</td>\n",
       "      <td>1.0</td>\n",
       "      <td>3.0</td>\n",
       "      <td>NaN</td>\n",
       "      <td>NaN</td>\n",
       "    </tr>\n",
       "    <tr>\n",
       "      <th>53</th>\n",
       "      <td>1.0</td>\n",
       "      <td>NaN</td>\n",
       "      <td>NaN</td>\n",
       "      <td>2.0</td>\n",
       "      <td>2.0</td>\n",
       "      <td>NaN</td>\n",
       "    </tr>\n",
       "  </tbody>\n",
       "</table>\n",
       "</div>"
      ],
      "text/plain": [
       "created_at_date  9/10/20  9/11/20  9/12/20  9/13/20  9/14/20  9/9/20\n",
       "labels                                                              \n",
       "0                    5.0      3.0      4.0      3.0      3.0     1.0\n",
       "1                    1.0      1.0      1.0      1.0      1.0     NaN\n",
       "2                    6.0      5.0      4.0      2.0      5.0     2.0\n",
       "4                    2.0      1.0      NaN      1.0      NaN     3.0\n",
       "9                    5.0      3.0      5.0      4.0      1.0     2.0\n",
       "10                   6.0      4.0      4.0      6.0      3.0     2.0\n",
       "14                   3.0      1.0      NaN      NaN      2.0     NaN\n",
       "16                   NaN      1.0      NaN      NaN      1.0     NaN\n",
       "17                   2.0      1.0      1.0      2.0      1.0     2.0\n",
       "18                   3.0      1.0      NaN      NaN      2.0     NaN\n",
       "22                   5.0      3.0      1.0      2.0      1.0     NaN\n",
       "23                   1.0      2.0      1.0      2.0      1.0     1.0\n",
       "29                   NaN      2.0      1.0      3.0      NaN     NaN\n",
       "30                   2.0      1.0      2.0      NaN      NaN     1.0\n",
       "44                  15.0     11.0     10.0     10.0      7.0     8.0\n",
       "45                   2.0      3.0      2.0      1.0      1.0     1.0\n",
       "50                   NaN      1.0      NaN      NaN      2.0     NaN\n",
       "51                   NaN      1.0      1.0      3.0      NaN     NaN\n",
       "53                   1.0      NaN      NaN      2.0      2.0     NaN"
      ]
     },
     "execution_count": 99,
     "metadata": {},
     "output_type": "execute_result"
    }
   ],
   "source": [
    "X[['labels',\"created_at_date\",'headline']].groupby(['labels','created_at_date']).count().unstack()['headline']"
   ]
  },
  {
   "cell_type": "code",
   "execution_count": null,
   "metadata": {},
   "outputs": [],
   "source": []
  }
 ],
 "metadata": {
  "kernelspec": {
   "display_name": "Python 3.8.12 ('py38')",
   "language": "python",
   "name": "python3812jvsc74a57bd064bcadabe4cd61f3d117ba0da9d14bf2f8e35582ff79e821f2e71056f2723d1e"
  },
  "language_info": {
   "codemirror_mode": {
    "name": "ipython",
    "version": 3
   },
   "file_extension": ".py",
   "mimetype": "text/x-python",
   "name": "python",
   "nbconvert_exporter": "python",
   "pygments_lexer": "ipython3",
   "version": "3.8.12"
  }
 },
 "nbformat": 4,
 "nbformat_minor": 4
}
